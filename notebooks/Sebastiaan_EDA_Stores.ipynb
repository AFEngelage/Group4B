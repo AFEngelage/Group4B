{
 "cells": [
  {
   "cell_type": "markdown",
   "metadata": {},
   "source": [
    "# EXPLORATORY DATA ANALYSIS - SUPERMARKET CASE - DATASET STORES \n",
    "## Step 1 - Purely focusing on stores data\n",
    "\n",
    "The first step in EDA is to find out if we can find patterns in the isolated datafiles. We have the folling raw data files:\n",
    "1- Sales data (full as well as aggregated)\n",
    "2- Holiday data\n",
    "3- Items data\n",
    "4- Oil data\n",
    "5- Transaction data\n",
    "6- Stores data\n",
    "\n",
    "In this notebook we will dive deeper into the stores data\n",
    "\n",
    "Last edit: 27-05-2024 by Sebastiaan de Bruin"
   ]
  },
  {
   "cell_type": "code",
   "execution_count": null,
   "metadata": {},
   "outputs": [],
   "source": [
    "import pandas as pd\n",
    "import altair as alt\n",
    "import numpy as np\n",
    "\n",
    "file_path_stores = r'C:\\Users\\sebas\\OneDrive\\Documenten\\GitHub\\Supermarketcasegroupproject\\Group4B\\data\\raw\\stores.parquet'\n",
    "df_stores = pd.read_parquet(file_path_stores)\n",
    "\n",
    "file_path_citiescoordinates = r'C:\\Users\\sebas\\OneDrive\\Documenten\\GitHub\\Supermarketcasegroupproject\\Group4B\\data\\external\\ecuadorcities.csv'\n",
    "df_citiescoordinates = pd.read_csv(file_path_citiescoordinates)\n",
    "\n",
    "df_citiescoordinates['city'] = df_citiescoordinates['city'].replace(\"Santo Domingo de los Colorados\", \"Santo Domingo\")\n",
    "\n",
    "# Display the first few rows of the DataFrame\n",
    "df_stores.head()\n",
    "\n",
    "# Display the first few rows of the DataFrame\n",
    "df_citiescoordinates.head()\n",
    "\n",
    "merged_df = df_stores.merge(df_citiescoordinates[['city', 'lat', 'lng']], on='city', how='inner')\n",
    "\n",
    "df_stores.head()\n"
   ]
  },
  {
   "cell_type": "markdown",
   "metadata": {},
   "source": [
    "The dataset brings us 54 stores (identified by store_nr) that are labeled by city, state,type and cluster. "
   ]
  },
  {
   "cell_type": "code",
   "execution_count": null,
   "metadata": {},
   "outputs": [],
   "source": [
    "df_stores.info()"
   ]
  },
  {
   "cell_type": "markdown",
   "metadata": {},
   "source": [
    "SLAAT NERGENS OP heeft t emaken met ndarray functie van NumPy-> First observations from the data are that 1) the data is complete (no null values anywhere) and 2) we have some object datatypes (variable) while the columns are all filled with string values. \n",
    "Strictly speaking this is suboptimal (altough we might not bother since it's such a small table). However, due to our professionalism we will alter the dtypes to string.\n"
   ]
  },
  {
   "cell_type": "code",
   "execution_count": null,
   "metadata": {},
   "outputs": [],
   "source": [
    "df_stores_dtypedic = {'city': str,\n",
    "                      \"state\": str,\n",
    "                      \"type\": str}\n",
    "\n",
    "df_stores.astype(df_stores_dtypedic)\n",
    "\n",
    "df_stores.dtypes"
   ]
  },
  {
   "cell_type": "markdown",
   "metadata": {},
   "source": [
    "## Step 1.2 - Approximately 50% of all stores is located in just 2 cities (Quito and Guayaguil)\n",
    "\n",
    "When looking into the data, we first delved deeper into just the amount of stores per city. Here, we found that especially Quito is overrepresented by the amount of supermarkets located there."
   ]
  },
  {
   "cell_type": "code",
   "execution_count": null,
   "metadata": {},
   "outputs": [],
   "source": [
    "# Make a groupby on city and give the count of stores per city\n",
    "df_stores_groupedcountstores = df_stores.groupby(['city']).count().reset_index()\n",
    "\n",
    "# Sort the values \n",
    "df_stores_groupedcountstores.sort_values(by='store_nbr', ascending= False)\n",
    "\n",
    "# Rename the result of the count column to an actual count column\n",
    "df_stores_groupedcountstores = df_stores_groupedcountstores.rename(columns={'store_nbr':'Storecount'})\n",
    "\n",
    "# Calculate the percentage of stores of the city in relation to the total stores in Ecuador\n",
    "df_stores_groupedcountstores['Percentage'] = (df_stores_groupedcountstores['Storecount'] / df_stores_groupedcountstores['Storecount'].sum())*100\n",
    "\n",
    "# Sort values by count\n",
    "df_stores_groupedcountstores = df_stores_groupedcountstores.sort_values(by='Storecount', ascending= False)\n",
    "\n",
    "# Round the number up to 2 decimals\n",
    "df_stores_groupedcountstores['Percentage'] = df_stores_groupedcountstores['Percentage'].round(2)\n",
    "\n",
    "# Make a cumulative sum of the amount of stores\n",
    "df_stores_groupedcountstores['Cum_sum'] = df_stores_groupedcountstores['Storecount'].cumsum()\n",
    "\n",
    "# Make a cumulative percentage column\n",
    "df_stores_groupedcountstores['Cumulative Percentage'] = round(100*df_stores_groupedcountstores.Cum_sum/df_stores_groupedcountstores['Storecount'].sum(),2)\n",
    "\n",
    "# Select only the columns that give us information\n",
    "df_stores_groupedcountstores = df_stores_groupedcountstores[['city','Storecount','Percentage','Cum_sum','Cumulative Percentage']]\n",
    "\n",
    "# Format the table, just to make it look nice and use the gradient to show the effect of having a lot of stores in certain cities\n",
    "df_stores_groupedcountstoresinstyle = df_stores_groupedcountstores.style.background_gradient(subset=['Storecount', 'Percentage'], cmap='Blues')\\\n",
    "                                                                        .format({\"Percentage\": \"{:20,.1f}\",\n",
    "                                                                                 \"Cumulative Percentage\" : \"{:20,.1f}\"})\n",
    "# Print the table\n",
    "print(df_stores_groupedcountstoresinstyle)\n",
    "\n",
    "df_stores_groupedcountstoresinstyle"
   ]
  },
  {
   "cell_type": "code",
   "execution_count": null,
   "metadata": {},
   "outputs": [],
   "source": [
    "df_stores_groupedcountstores.info()"
   ]
  },
  {
   "cell_type": "code",
   "execution_count": null,
   "metadata": {},
   "outputs": [],
   "source": [
    "barchartstorecitycount = alt.Chart(df_stores_groupedcountstores).mark_bar().encode(\n",
    "    x='Storecount',\n",
    "    y='city',\n",
    ")\n",
    "barchartstorecitycountlabels = barchartstorecitycount.mark_text(\n",
    "    align= 'left',\n",
    "    baseline='middle',\n",
    "    dx=3\n",
    ").encode(\n",
    "    text='Storecount'\n",
    ")\n",
    "\n",
    "barchartstorecitycount + barchartstorecitycountlabels\n",
    "\n"
   ]
  },
  {
   "cell_type": "markdown",
   "metadata": {},
   "source": [
    "## Step 1.3 - Store type D might be most interesting as it is represented all over Ecuador (might be better for generalization)\n",
    "\n",
    "When looking into the data, we first delved deeper into just the amount of stores per city. Here, we found that especially Quito is overrepresented by the amount of supermarkets located there."
   ]
  },
  {
   "cell_type": "code",
   "execution_count": null,
   "metadata": {},
   "outputs": [],
   "source": [
    "# Stacked bargraph for each city per type of store\n",
    "\n",
    "#Group the data per city and type\n",
    "df_storesgroupedstorestype = df_stores.groupby(['city','type']).count().reset_index()\n",
    "\n",
    "#Add the storecount to each row as it might be needed for sorting the chart\n",
    "df_storesgroupedstorestypestorecount = df_storesgroupedstorestype.merge(df_stores_groupedcountstores, how = 'inner', on = 'city')\n",
    "\n",
    "#Select only the relevant columns\n",
    "df_storesgroupedstorestypestorecount = df_storesgroupedstorestypestorecount[['city','type','store_nbr','Storecount']]\n",
    "\n",
    "#Make the stacked bargraph on the amount of stores per type per city\n",
    "chartstorespercitytype = alt.Chart(df_storesgroupedstorestypestorecount).mark_bar().encode(\n",
    "    x=alt.X('store_nbr'),\n",
    "    y=alt.Y('city', sort='-x'),\n",
    "    color='type')\n",
    "\n",
    "chartstorespercitytype "
   ]
  },
  {
   "cell_type": "markdown",
   "metadata": {},
   "source": [
    "We can see that store type C and D seem most spread accross Ecuador. Also, if we look at the distribution of store count accross the types of stores we can see that C and D are dominant without considering sold units. Thus, D would potentially be a good candidate to focus our forecasting model on as it comes back in the first 5 biggest places (in terms of store count) in our analysis, representing 18 stores that most likely have some similarity for Corporacion Favorita. "
   ]
  },
  {
   "cell_type": "code",
   "execution_count": null,
   "metadata": {},
   "outputs": [],
   "source": [
    "df_storestypecountandpercentage =  df_stores.groupby(['type']).count().reset_index()\n",
    "df_storestypecountandpercentage = df_storestypecountandpercentage[['type' , 'city']]\n",
    "df_storestypecountandpercentage = df_storestypecountandpercentage.rename(columns={'city':'count'})\n",
    "df_storestypecountandpercentage['percentage'] = round((df_storestypecountandpercentage['count']/df_storestypecountandpercentage['count'].sum())*100,1)\n",
    "\n",
    "\n",
    "df_storestypecountandpercentage"
   ]
  },
  {
   "cell_type": "markdown",
   "metadata": {},
   "source": [
    "## Step 1.4 - Looking at clusters per type of store - Data issues most likely with cluster 10, normally all clusters belong to 1 storetype (thus it is a hierarchy)\n",
    "\n",
    "Delving into store type and cluster we found out except of cluster 10, all clusters belong to 1 storetype."
   ]
  },
  {
   "cell_type": "code",
   "execution_count": null,
   "metadata": {},
   "outputs": [],
   "source": [
    "import plotly.express as px\n",
    "\n",
    "df_storestypeclustercount = df_stores.groupby(['type','cluster']).count().reset_index()\n",
    "df_storestypeclustercount = df_storestypeclustercount.rename(columns={'city':'count'})\n",
    "\n",
    "\n",
    "Storessunburst1 = px.sunburst(df_storestypeclustercount, path=['type','cluster'], values='count',\n",
    "                               color = 'type',\n",
    "                                color_continuous_scale='RdBu',\n",
    "                                color_continuous_midpoint=np.average(df_storestypeclustercount['count'], weights=df_storestypeclustercount['count']))\n",
    "\n",
    "Storessunburst1.show()\n",
    "\n",
    "df_storestypeclustercount"
   ]
  },
  {
   "cell_type": "code",
   "execution_count": null,
   "metadata": {
    "vscode": {
     "languageId": "javascript"
    }
   },
   "outputs": [],
   "source": [
    "heatmap = alt.Chart(df_storestypeclustercount).mark_rect().encode(\n",
    "    x=alt.X('cluster:O', title='Cluster Number'),\n",
    "    y=alt.Y('type:O', title='Type of Store'),\n",
    "    color=alt.Color('count:Q', title='Count')\n",
    ").properties(\n",
    "    title='Count of stores per Type and Cluster',\n",
    "    width = 1000,\n",
    "    height = 400\n",
    ")\n",
    "\n",
    "\n",
    "text = heatmap.mark_text(baseline='middle').encode(\n",
    "    text='count:Q',\n",
    "    color=alt.condition(\n",
    "        alt.datum.count > 100,\n",
    "        alt.value('black'),\n",
    "        alt.value('white')\n",
    "    )\n",
    ")\n",
    "\n",
    "Chartstoretypesandcluster = alt.layer(heatmap, text).configure_title(\n",
    "    fontSize=30).configure_axis(\n",
    "    titleFontSize = 20, \n",
    "    labelFontSize=20).configure_legend(\n",
    "    titleFontSize=20)\n",
    "\n",
    "Chartstoretypesandcluster"
   ]
  },
  {
   "cell_type": "markdown",
   "metadata": {},
   "source": [
    "In the above chart, we find that most store type categories consist out of multiple clusters (3-4 or 7). Only type E cosists only of cluster 10 but as stated above, there seems to be something going on with cluster 10 (as it is the only cluster that is related to multiple types of stores)"
   ]
  },
  {
   "cell_type": "code",
   "execution_count": null,
   "metadata": {},
   "outputs": [],
   "source": [
    "import plotly.express as px\n",
    "\n",
    "fig = px.treemap(df_stores, path=[ 'type','cluster'], values='store_nbr', color_continuous_scale= 'rdbu')\n",
    "fig.show()"
   ]
  },
  {
   "cell_type": "code",
   "execution_count": null,
   "metadata": {},
   "outputs": [],
   "source": [
    "import folium\n",
    "\n",
    "# Create a map centered around Ecuador\n",
    "map_ecuador = folium.Map(location=[-1.8312, -78.1834], zoom_start=7)\n",
    "\n",
    "# Add markers for each coordinate\n",
    "# The for loop iterates over the rows of the DataFrame\n",
    "# The iterrows() method returns an iterator that yields pairs of index and row data as Series\n",
    "# The row data is a Series that contains the data of the row\n",
    "# The index is the index of the row\n",
    "for index, row in merged_df.iterrows():\n",
    "    folium.Marker([row['lat'], row['lng']], icon = folium.Icon(icon='leaf'), popup=row['city']).add_to(map_ecuador)\n",
    "\n",
    "\n",
    "# Display the map\n",
    "map_ecuador\n",
    "\n",
    "#plotlib\n"
   ]
  },
  {
   "cell_type": "code",
   "execution_count": 13,
   "metadata": {},
   "outputs": [],
   "source": [
    "#Altair\n",
    "#Plotlib"
   ]
  },
  {
   "cell_type": "code",
   "execution_count": null,
   "metadata": {},
   "outputs": [],
   "source": []
  },
  {
   "cell_type": "code",
   "execution_count": null,
   "metadata": {},
   "outputs": [],
   "source": [
    "import folium\n",
    "\n",
    "# Create a map centered around Ecuador\n",
    "map_ecuador = folium.Map(location=[-1.8312, -78.1834], zoom_start=7)\n",
    "\n",
    "# Add markers for each coordinate\n",
    "# The for loop iterates over the rows of the DataFrame\n",
    "# The iterrows() method returns an iterator that yields pairs of index and row data as Series\n",
    "# The row data is a Series that contains the data of the row\n",
    "# The index is the index of the row\n",
    "for index, row in merged_df.iterrows():\n",
    "    folium.Marker(\n",
    "        [row['lat'], row['lng']], \n",
    "        popup=row['city']\n",
    "        ).add_to(map_ecuador)\n",
    "\n",
    "\n",
    "# Display the map\n",
    "map_ecuador"
   ]
  }
 ],
 "metadata": {
  "kernelspec": {
   "display_name": ".venv",
   "language": "python",
   "name": "python3"
  },
  "language_info": {
   "codemirror_mode": {
    "name": "ipython",
    "version": 3
   },
   "file_extension": ".py",
   "mimetype": "text/x-python",
   "name": "python",
   "nbconvert_exporter": "python",
   "pygments_lexer": "ipython3",
   "version": "3.10.11"
  }
 },
 "nbformat": 4,
 "nbformat_minor": 2
}
