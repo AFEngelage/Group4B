{
 "cells": [
  {
   "cell_type": "markdown",
   "metadata": {},
   "source": [
    "# EXPLORATORY DATA ANALYSIS - SUPERMARKET CASE - DATASET STORES \n",
    "## Step 1 - Purely focusing on stores data\n",
    "\n",
    "The first step in EDA is to find out if we can find patterns in the isolated datafiles. We have the folling raw data files:\n",
    "1- Sales data (full as well as aggregated)\n",
    "2- Holiday data\n",
    "3- Items data\n",
    "4- Oil data\n",
    "5- Transaction data\n",
    "6- Stores data\n",
    "\n",
    "In this notebook we will dive deeper into the stores data\n",
    "\n",
    "Last edit: 27-05-2024 by Sebastiaan de Bruin"
   ]
  },
  {
   "cell_type": "code",
   "execution_count": 469,
   "metadata": {},
   "outputs": [
    {
     "data": {
      "text/html": [
       "<div>\n",
       "<style scoped>\n",
       "    .dataframe tbody tr th:only-of-type {\n",
       "        vertical-align: middle;\n",
       "    }\n",
       "\n",
       "    .dataframe tbody tr th {\n",
       "        vertical-align: top;\n",
       "    }\n",
       "\n",
       "    .dataframe thead th {\n",
       "        text-align: right;\n",
       "    }\n",
       "</style>\n",
       "<table border=\"1\" class=\"dataframe\">\n",
       "  <thead>\n",
       "    <tr style=\"text-align: right;\">\n",
       "      <th></th>\n",
       "      <th>store_nbr</th>\n",
       "      <th>city</th>\n",
       "      <th>state</th>\n",
       "      <th>type</th>\n",
       "      <th>cluster</th>\n",
       "    </tr>\n",
       "  </thead>\n",
       "  <tbody>\n",
       "    <tr>\n",
       "      <th>0</th>\n",
       "      <td>1</td>\n",
       "      <td>Quito</td>\n",
       "      <td>Pichincha</td>\n",
       "      <td>D</td>\n",
       "      <td>13</td>\n",
       "    </tr>\n",
       "    <tr>\n",
       "      <th>1</th>\n",
       "      <td>2</td>\n",
       "      <td>Quito</td>\n",
       "      <td>Pichincha</td>\n",
       "      <td>D</td>\n",
       "      <td>13</td>\n",
       "    </tr>\n",
       "    <tr>\n",
       "      <th>2</th>\n",
       "      <td>3</td>\n",
       "      <td>Quito</td>\n",
       "      <td>Pichincha</td>\n",
       "      <td>D</td>\n",
       "      <td>8</td>\n",
       "    </tr>\n",
       "    <tr>\n",
       "      <th>3</th>\n",
       "      <td>4</td>\n",
       "      <td>Quito</td>\n",
       "      <td>Pichincha</td>\n",
       "      <td>D</td>\n",
       "      <td>9</td>\n",
       "    </tr>\n",
       "    <tr>\n",
       "      <th>4</th>\n",
       "      <td>5</td>\n",
       "      <td>Santo Domingo</td>\n",
       "      <td>Santo Domingo de los Tsachilas</td>\n",
       "      <td>D</td>\n",
       "      <td>4</td>\n",
       "    </tr>\n",
       "  </tbody>\n",
       "</table>\n",
       "</div>"
      ],
      "text/plain": [
       "   store_nbr           city                           state type  cluster\n",
       "0          1          Quito                       Pichincha    D       13\n",
       "1          2          Quito                       Pichincha    D       13\n",
       "2          3          Quito                       Pichincha    D        8\n",
       "3          4          Quito                       Pichincha    D        9\n",
       "4          5  Santo Domingo  Santo Domingo de los Tsachilas    D        4"
      ]
     },
     "execution_count": 469,
     "metadata": {},
     "output_type": "execute_result"
    }
   ],
   "source": [
    "import pandas as pd\n",
    "import altair as alt\n",
    "import numpy as np\n",
    "\n",
    "file_path_stores = r'C:\\Users\\sebas\\OneDrive\\Documenten\\GitHub\\Supermarketcasegroupproject\\Group4B\\data\\raw\\stores.parquet'\n",
    "df_stores = pd.read_parquet(file_path_stores)\n",
    "\n",
    "file_path_citiescoordinates = r'C:\\Users\\sebas\\OneDrive\\Documenten\\GitHub\\Supermarketcasegroupproject\\Group4B\\data\\external\\ecuadorcities.csv'\n",
    "df_citiescoordinates = pd.read_csv(file_path_citiescoordinates)\n",
    "\n",
    "df_citiescoordinates['city'] = df_citiescoordinates['city'].replace(\"Santo Domingo de los Colorados\", \"Santo Domingo\")\n",
    "\n",
    "# Display the first few rows of the DataFrame\n",
    "df_stores.head()\n",
    "\n",
    "# Display the first few rows of the DataFrame\n",
    "df_citiescoordinates.head()\n",
    "\n",
    "merged_df = df_stores.merge(df_citiescoordinates[['city', 'lat', 'lng']], on='city', how='inner')\n",
    "\n",
    "df_stores.head()\n"
   ]
  },
  {
   "cell_type": "markdown",
   "metadata": {},
   "source": [
    "The dataset brings us 54 stores (identified by store_nr) that are labeled by city, state,type and cluster. "
   ]
  },
  {
   "cell_type": "code",
   "execution_count": 470,
   "metadata": {},
   "outputs": [
    {
     "name": "stdout",
     "output_type": "stream",
     "text": [
      "<class 'pandas.core.frame.DataFrame'>\n",
      "RangeIndex: 54 entries, 0 to 53\n",
      "Data columns (total 5 columns):\n",
      " #   Column     Non-Null Count  Dtype \n",
      "---  ------     --------------  ----- \n",
      " 0   store_nbr  54 non-null     int64 \n",
      " 1   city       54 non-null     object\n",
      " 2   state      54 non-null     object\n",
      " 3   type       54 non-null     object\n",
      " 4   cluster    54 non-null     int64 \n",
      "dtypes: int64(2), object(3)\n",
      "memory usage: 2.2+ KB\n"
     ]
    }
   ],
   "source": [
    "df_stores.info()"
   ]
  },
  {
   "cell_type": "markdown",
   "metadata": {},
   "source": [
    "SLAAT NERGENS OP heeft t emaken met ndarray functie van NumPy-> First observations from the data are that 1) the data is complete (no null values anywhere) and 2) we have some object datatypes (variable) while the columns are all filled with string values. \n",
    "Strictly speaking this is suboptimal (altough we might not bother since it's such a small table). However, due to our professionalism we will alter the dtypes to string.\n"
   ]
  },
  {
   "cell_type": "code",
   "execution_count": 471,
   "metadata": {},
   "outputs": [
    {
     "data": {
      "text/plain": [
       "store_nbr     int64\n",
       "city         object\n",
       "state        object\n",
       "type         object\n",
       "cluster       int64\n",
       "dtype: object"
      ]
     },
     "execution_count": 471,
     "metadata": {},
     "output_type": "execute_result"
    }
   ],
   "source": [
    "df_stores_dtypedic = {'city': str,\n",
    "                      \"state\": str,\n",
    "                      \"type\": str}\n",
    "\n",
    "df_stores.astype(df_stores_dtypedic)\n",
    "\n",
    "df_stores.dtypes"
   ]
  },
  {
   "cell_type": "markdown",
   "metadata": {},
   "source": [
    "## Step 1.2 - Approximately 50% of all stores is located in just 2 cities (Quito and Guayaguil)\n",
    "\n",
    "When looking into the data, we first delved deeper into just the amount of stores per city. Here, we found that especially Quito is overrepresented by the amount of supermarkets located there."
   ]
  },
  {
   "cell_type": "code",
   "execution_count": 472,
   "metadata": {},
   "outputs": [
    {
     "data": {
      "text/html": [
       "<style type=\"text/css\">\n",
       "#T_5c77b_row0_col1, #T_5c77b_row0_col2 {\n",
       "  background-color: #08306b;\n",
       "  color: #f1f1f1;\n",
       "}\n",
       "#T_5c77b_row1_col1, #T_5c77b_row1_col2 {\n",
       "  background-color: #8fc2de;\n",
       "  color: #000000;\n",
       "}\n",
       "#T_5c77b_row2_col1, #T_5c77b_row2_col2, #T_5c77b_row3_col1, #T_5c77b_row3_col2 {\n",
       "  background-color: #dfecf7;\n",
       "  color: #000000;\n",
       "}\n",
       "#T_5c77b_row4_col1, #T_5c77b_row4_col2, #T_5c77b_row5_col1, #T_5c77b_row5_col2, #T_5c77b_row6_col1, #T_5c77b_row6_col2, #T_5c77b_row7_col1, #T_5c77b_row7_col2 {\n",
       "  background-color: #ebf3fb;\n",
       "  color: #000000;\n",
       "}\n",
       "#T_5c77b_row8_col1, #T_5c77b_row8_col2, #T_5c77b_row9_col1, #T_5c77b_row9_col2, #T_5c77b_row10_col1, #T_5c77b_row10_col2, #T_5c77b_row11_col1, #T_5c77b_row11_col2, #T_5c77b_row12_col1, #T_5c77b_row12_col2, #T_5c77b_row13_col1, #T_5c77b_row13_col2, #T_5c77b_row14_col1, #T_5c77b_row14_col2, #T_5c77b_row15_col1, #T_5c77b_row15_col2, #T_5c77b_row16_col1, #T_5c77b_row16_col2, #T_5c77b_row17_col1, #T_5c77b_row17_col2, #T_5c77b_row18_col1, #T_5c77b_row18_col2, #T_5c77b_row19_col1, #T_5c77b_row19_col2, #T_5c77b_row20_col1, #T_5c77b_row20_col2, #T_5c77b_row21_col1, #T_5c77b_row21_col2 {\n",
       "  background-color: #f7fbff;\n",
       "  color: #000000;\n",
       "}\n",
       "</style>\n",
       "<table id=\"T_5c77b\">\n",
       "  <thead>\n",
       "    <tr>\n",
       "      <th class=\"blank level0\" >&nbsp;</th>\n",
       "      <th id=\"T_5c77b_level0_col0\" class=\"col_heading level0 col0\" >city</th>\n",
       "      <th id=\"T_5c77b_level0_col1\" class=\"col_heading level0 col1\" >Storecount</th>\n",
       "      <th id=\"T_5c77b_level0_col2\" class=\"col_heading level0 col2\" >Percentage</th>\n",
       "      <th id=\"T_5c77b_level0_col3\" class=\"col_heading level0 col3\" >Cum_sum</th>\n",
       "      <th id=\"T_5c77b_level0_col4\" class=\"col_heading level0 col4\" >Cumulative Percentage</th>\n",
       "    </tr>\n",
       "  </thead>\n",
       "  <tbody>\n",
       "    <tr>\n",
       "      <th id=\"T_5c77b_level0_row0\" class=\"row_heading level0 row0\" >18</th>\n",
       "      <td id=\"T_5c77b_row0_col0\" class=\"data row0 col0\" >Quito</td>\n",
       "      <td id=\"T_5c77b_row0_col1\" class=\"data row0 col1\" >18</td>\n",
       "      <td id=\"T_5c77b_row0_col2\" class=\"data row0 col2\" >                33.3</td>\n",
       "      <td id=\"T_5c77b_row0_col3\" class=\"data row0 col3\" >18</td>\n",
       "      <td id=\"T_5c77b_row0_col4\" class=\"data row0 col4\" >                33.3</td>\n",
       "    </tr>\n",
       "    <tr>\n",
       "      <th id=\"T_5c77b_level0_row1\" class=\"row_heading level0 row1\" >8</th>\n",
       "      <td id=\"T_5c77b_row1_col0\" class=\"data row1 col0\" >Guayaquil</td>\n",
       "      <td id=\"T_5c77b_row1_col1\" class=\"data row1 col1\" >8</td>\n",
       "      <td id=\"T_5c77b_row1_col2\" class=\"data row1 col2\" >                14.8</td>\n",
       "      <td id=\"T_5c77b_row1_col3\" class=\"data row1 col3\" >26</td>\n",
       "      <td id=\"T_5c77b_row1_col4\" class=\"data row1 col4\" >                48.1</td>\n",
       "    </tr>\n",
       "    <tr>\n",
       "      <th id=\"T_5c77b_level0_row2\" class=\"row_heading level0 row2\" >21</th>\n",
       "      <td id=\"T_5c77b_row2_col0\" class=\"data row2 col0\" >Santo Domingo</td>\n",
       "      <td id=\"T_5c77b_row2_col1\" class=\"data row2 col1\" >3</td>\n",
       "      <td id=\"T_5c77b_row2_col2\" class=\"data row2 col2\" >                 5.6</td>\n",
       "      <td id=\"T_5c77b_row2_col3\" class=\"data row2 col3\" >29</td>\n",
       "      <td id=\"T_5c77b_row2_col4\" class=\"data row2 col4\" >                53.7</td>\n",
       "    </tr>\n",
       "    <tr>\n",
       "      <th id=\"T_5c77b_level0_row3\" class=\"row_heading level0 row3\" >3</th>\n",
       "      <td id=\"T_5c77b_row3_col0\" class=\"data row3 col0\" >Cuenca</td>\n",
       "      <td id=\"T_5c77b_row3_col1\" class=\"data row3 col1\" >3</td>\n",
       "      <td id=\"T_5c77b_row3_col2\" class=\"data row3 col2\" >                 5.6</td>\n",
       "      <td id=\"T_5c77b_row3_col3\" class=\"data row3 col3\" >32</td>\n",
       "      <td id=\"T_5c77b_row3_col4\" class=\"data row3 col4\" >                59.3</td>\n",
       "    </tr>\n",
       "    <tr>\n",
       "      <th id=\"T_5c77b_level0_row4\" class=\"row_heading level0 row4\" >14</th>\n",
       "      <td id=\"T_5c77b_row4_col0\" class=\"data row4 col0\" >Manta</td>\n",
       "      <td id=\"T_5c77b_row4_col1\" class=\"data row4 col1\" >2</td>\n",
       "      <td id=\"T_5c77b_row4_col2\" class=\"data row4 col2\" >                 3.7</td>\n",
       "      <td id=\"T_5c77b_row4_col3\" class=\"data row4 col3\" >34</td>\n",
       "      <td id=\"T_5c77b_row4_col4\" class=\"data row4 col4\" >                63.0</td>\n",
       "    </tr>\n",
       "    <tr>\n",
       "      <th id=\"T_5c77b_level0_row5\" class=\"row_heading level0 row5\" >13</th>\n",
       "      <td id=\"T_5c77b_row5_col0\" class=\"data row5 col0\" >Machala</td>\n",
       "      <td id=\"T_5c77b_row5_col1\" class=\"data row5 col1\" >2</td>\n",
       "      <td id=\"T_5c77b_row5_col2\" class=\"data row5 col2\" >                 3.7</td>\n",
       "      <td id=\"T_5c77b_row5_col3\" class=\"data row5 col3\" >36</td>\n",
       "      <td id=\"T_5c77b_row5_col4\" class=\"data row5 col4\" >                66.7</td>\n",
       "    </tr>\n",
       "    <tr>\n",
       "      <th id=\"T_5c77b_level0_row6\" class=\"row_heading level0 row6\" >10</th>\n",
       "      <td id=\"T_5c77b_row6_col0\" class=\"data row6 col0\" >Latacunga</td>\n",
       "      <td id=\"T_5c77b_row6_col1\" class=\"data row6 col1\" >2</td>\n",
       "      <td id=\"T_5c77b_row6_col2\" class=\"data row6 col2\" >                 3.7</td>\n",
       "      <td id=\"T_5c77b_row6_col3\" class=\"data row6 col3\" >38</td>\n",
       "      <td id=\"T_5c77b_row6_col4\" class=\"data row6 col4\" >                70.4</td>\n",
       "    </tr>\n",
       "    <tr>\n",
       "      <th id=\"T_5c77b_level0_row7\" class=\"row_heading level0 row7\" >0</th>\n",
       "      <td id=\"T_5c77b_row7_col0\" class=\"data row7 col0\" >Ambato</td>\n",
       "      <td id=\"T_5c77b_row7_col1\" class=\"data row7 col1\" >2</td>\n",
       "      <td id=\"T_5c77b_row7_col2\" class=\"data row7 col2\" >                 3.7</td>\n",
       "      <td id=\"T_5c77b_row7_col3\" class=\"data row7 col3\" >40</td>\n",
       "      <td id=\"T_5c77b_row7_col4\" class=\"data row7 col4\" >                74.1</td>\n",
       "    </tr>\n",
       "    <tr>\n",
       "      <th id=\"T_5c77b_level0_row8\" class=\"row_heading level0 row8\" >7</th>\n",
       "      <td id=\"T_5c77b_row8_col0\" class=\"data row8 col0\" >Guaranda</td>\n",
       "      <td id=\"T_5c77b_row8_col1\" class=\"data row8 col1\" >1</td>\n",
       "      <td id=\"T_5c77b_row8_col2\" class=\"data row8 col2\" >                 1.9</td>\n",
       "      <td id=\"T_5c77b_row8_col3\" class=\"data row8 col3\" >41</td>\n",
       "      <td id=\"T_5c77b_row8_col4\" class=\"data row8 col4\" >                75.9</td>\n",
       "    </tr>\n",
       "    <tr>\n",
       "      <th id=\"T_5c77b_level0_row9\" class=\"row_heading level0 row9\" >9</th>\n",
       "      <td id=\"T_5c77b_row9_col0\" class=\"data row9 col0\" >Ibarra</td>\n",
       "      <td id=\"T_5c77b_row9_col1\" class=\"data row9 col1\" >1</td>\n",
       "      <td id=\"T_5c77b_row9_col2\" class=\"data row9 col2\" >                 1.9</td>\n",
       "      <td id=\"T_5c77b_row9_col3\" class=\"data row9 col3\" >42</td>\n",
       "      <td id=\"T_5c77b_row9_col4\" class=\"data row9 col4\" >                77.8</td>\n",
       "    </tr>\n",
       "    <tr>\n",
       "      <th id=\"T_5c77b_level0_row10\" class=\"row_heading level0 row10\" >6</th>\n",
       "      <td id=\"T_5c77b_row10_col0\" class=\"data row10 col0\" >Esmeraldas</td>\n",
       "      <td id=\"T_5c77b_row10_col1\" class=\"data row10 col1\" >1</td>\n",
       "      <td id=\"T_5c77b_row10_col2\" class=\"data row10 col2\" >                 1.9</td>\n",
       "      <td id=\"T_5c77b_row10_col3\" class=\"data row10 col3\" >43</td>\n",
       "      <td id=\"T_5c77b_row10_col4\" class=\"data row10 col4\" >                79.6</td>\n",
       "    </tr>\n",
       "    <tr>\n",
       "      <th id=\"T_5c77b_level0_row11\" class=\"row_heading level0 row11\" >1</th>\n",
       "      <td id=\"T_5c77b_row11_col0\" class=\"data row11 col0\" >Babahoyo</td>\n",
       "      <td id=\"T_5c77b_row11_col1\" class=\"data row11 col1\" >1</td>\n",
       "      <td id=\"T_5c77b_row11_col2\" class=\"data row11 col2\" >                 1.9</td>\n",
       "      <td id=\"T_5c77b_row11_col3\" class=\"data row11 col3\" >44</td>\n",
       "      <td id=\"T_5c77b_row11_col4\" class=\"data row11 col4\" >                81.5</td>\n",
       "    </tr>\n",
       "    <tr>\n",
       "      <th id=\"T_5c77b_level0_row12\" class=\"row_heading level0 row12\" >12</th>\n",
       "      <td id=\"T_5c77b_row12_col0\" class=\"data row12 col0\" >Loja</td>\n",
       "      <td id=\"T_5c77b_row12_col1\" class=\"data row12 col1\" >1</td>\n",
       "      <td id=\"T_5c77b_row12_col2\" class=\"data row12 col2\" >                 1.9</td>\n",
       "      <td id=\"T_5c77b_row12_col3\" class=\"data row12 col3\" >45</td>\n",
       "      <td id=\"T_5c77b_row12_col4\" class=\"data row12 col4\" >                83.3</td>\n",
       "    </tr>\n",
       "    <tr>\n",
       "      <th id=\"T_5c77b_level0_row13\" class=\"row_heading level0 row13\" >5</th>\n",
       "      <td id=\"T_5c77b_row13_col0\" class=\"data row13 col0\" >El Carmen</td>\n",
       "      <td id=\"T_5c77b_row13_col1\" class=\"data row13 col1\" >1</td>\n",
       "      <td id=\"T_5c77b_row13_col2\" class=\"data row13 col2\" >                 1.9</td>\n",
       "      <td id=\"T_5c77b_row13_col3\" class=\"data row13 col3\" >46</td>\n",
       "      <td id=\"T_5c77b_row13_col4\" class=\"data row13 col4\" >                85.2</td>\n",
       "    </tr>\n",
       "    <tr>\n",
       "      <th id=\"T_5c77b_level0_row14\" class=\"row_heading level0 row14\" >4</th>\n",
       "      <td id=\"T_5c77b_row14_col0\" class=\"data row14 col0\" >Daule</td>\n",
       "      <td id=\"T_5c77b_row14_col1\" class=\"data row14 col1\" >1</td>\n",
       "      <td id=\"T_5c77b_row14_col2\" class=\"data row14 col2\" >                 1.9</td>\n",
       "      <td id=\"T_5c77b_row14_col3\" class=\"data row14 col3\" >47</td>\n",
       "      <td id=\"T_5c77b_row14_col4\" class=\"data row14 col4\" >                87.0</td>\n",
       "    </tr>\n",
       "    <tr>\n",
       "      <th id=\"T_5c77b_level0_row15\" class=\"row_heading level0 row15\" >15</th>\n",
       "      <td id=\"T_5c77b_row15_col0\" class=\"data row15 col0\" >Playas</td>\n",
       "      <td id=\"T_5c77b_row15_col1\" class=\"data row15 col1\" >1</td>\n",
       "      <td id=\"T_5c77b_row15_col2\" class=\"data row15 col2\" >                 1.9</td>\n",
       "      <td id=\"T_5c77b_row15_col3\" class=\"data row15 col3\" >48</td>\n",
       "      <td id=\"T_5c77b_row15_col4\" class=\"data row15 col4\" >                88.9</td>\n",
       "    </tr>\n",
       "    <tr>\n",
       "      <th id=\"T_5c77b_level0_row16\" class=\"row_heading level0 row16\" >16</th>\n",
       "      <td id=\"T_5c77b_row16_col0\" class=\"data row16 col0\" >Puyo</td>\n",
       "      <td id=\"T_5c77b_row16_col1\" class=\"data row16 col1\" >1</td>\n",
       "      <td id=\"T_5c77b_row16_col2\" class=\"data row16 col2\" >                 1.9</td>\n",
       "      <td id=\"T_5c77b_row16_col3\" class=\"data row16 col3\" >49</td>\n",
       "      <td id=\"T_5c77b_row16_col4\" class=\"data row16 col4\" >                90.7</td>\n",
       "    </tr>\n",
       "    <tr>\n",
       "      <th id=\"T_5c77b_level0_row17\" class=\"row_heading level0 row17\" >17</th>\n",
       "      <td id=\"T_5c77b_row17_col0\" class=\"data row17 col0\" >Quevedo</td>\n",
       "      <td id=\"T_5c77b_row17_col1\" class=\"data row17 col1\" >1</td>\n",
       "      <td id=\"T_5c77b_row17_col2\" class=\"data row17 col2\" >                 1.9</td>\n",
       "      <td id=\"T_5c77b_row17_col3\" class=\"data row17 col3\" >50</td>\n",
       "      <td id=\"T_5c77b_row17_col4\" class=\"data row17 col4\" >                92.6</td>\n",
       "    </tr>\n",
       "    <tr>\n",
       "      <th id=\"T_5c77b_level0_row18\" class=\"row_heading level0 row18\" >2</th>\n",
       "      <td id=\"T_5c77b_row18_col0\" class=\"data row18 col0\" >Cayambe</td>\n",
       "      <td id=\"T_5c77b_row18_col1\" class=\"data row18 col1\" >1</td>\n",
       "      <td id=\"T_5c77b_row18_col2\" class=\"data row18 col2\" >                 1.9</td>\n",
       "      <td id=\"T_5c77b_row18_col3\" class=\"data row18 col3\" >51</td>\n",
       "      <td id=\"T_5c77b_row18_col4\" class=\"data row18 col4\" >                94.4</td>\n",
       "    </tr>\n",
       "    <tr>\n",
       "      <th id=\"T_5c77b_level0_row19\" class=\"row_heading level0 row19\" >19</th>\n",
       "      <td id=\"T_5c77b_row19_col0\" class=\"data row19 col0\" >Riobamba</td>\n",
       "      <td id=\"T_5c77b_row19_col1\" class=\"data row19 col1\" >1</td>\n",
       "      <td id=\"T_5c77b_row19_col2\" class=\"data row19 col2\" >                 1.9</td>\n",
       "      <td id=\"T_5c77b_row19_col3\" class=\"data row19 col3\" >52</td>\n",
       "      <td id=\"T_5c77b_row19_col4\" class=\"data row19 col4\" >                96.3</td>\n",
       "    </tr>\n",
       "    <tr>\n",
       "      <th id=\"T_5c77b_level0_row20\" class=\"row_heading level0 row20\" >20</th>\n",
       "      <td id=\"T_5c77b_row20_col0\" class=\"data row20 col0\" >Salinas</td>\n",
       "      <td id=\"T_5c77b_row20_col1\" class=\"data row20 col1\" >1</td>\n",
       "      <td id=\"T_5c77b_row20_col2\" class=\"data row20 col2\" >                 1.9</td>\n",
       "      <td id=\"T_5c77b_row20_col3\" class=\"data row20 col3\" >53</td>\n",
       "      <td id=\"T_5c77b_row20_col4\" class=\"data row20 col4\" >                98.2</td>\n",
       "    </tr>\n",
       "    <tr>\n",
       "      <th id=\"T_5c77b_level0_row21\" class=\"row_heading level0 row21\" >11</th>\n",
       "      <td id=\"T_5c77b_row21_col0\" class=\"data row21 col0\" >Libertad</td>\n",
       "      <td id=\"T_5c77b_row21_col1\" class=\"data row21 col1\" >1</td>\n",
       "      <td id=\"T_5c77b_row21_col2\" class=\"data row21 col2\" >                 1.9</td>\n",
       "      <td id=\"T_5c77b_row21_col3\" class=\"data row21 col3\" >54</td>\n",
       "      <td id=\"T_5c77b_row21_col4\" class=\"data row21 col4\" >               100.0</td>\n",
       "    </tr>\n",
       "  </tbody>\n",
       "</table>\n"
      ],
      "text/plain": [
       "<pandas.io.formats.style.Styler at 0x16570aa2110>"
      ]
     },
     "execution_count": 472,
     "metadata": {},
     "output_type": "execute_result"
    }
   ],
   "source": [
    "# Make a groupby on city and give the count of stores per city\n",
    "df_stores_groupedcountstores = df_stores.groupby(['city']).count().reset_index()\n",
    "\n",
    "# Sort the values \n",
    "df_stores_groupedcountstores.sort_values(by='store_nbr', ascending= False)\n",
    "\n",
    "# Rename the result of the count column to an actual count column\n",
    "df_stores_groupedcountstores = df_stores_groupedcountstores.rename(columns={'store_nbr':'Storecount'})\n",
    "\n",
    "# Calculate the percentage of stores of the city in relation to the total stores in Ecuador\n",
    "df_stores_groupedcountstores['Percentage'] = (df_stores_groupedcountstores['Storecount'] / df_stores_groupedcountstores['Storecount'].sum())*100\n",
    "\n",
    "# Sort values by count\n",
    "df_stores_groupedcountstores = df_stores_groupedcountstores.sort_values(by='Storecount', ascending= False)\n",
    "\n",
    "# Round the number up to 2 decimals\n",
    "df_stores_groupedcountstores['Percentage'] = df_stores_groupedcountstores['Percentage'].round(2)\n",
    "\n",
    "# Make a cumulative sum of the amount of stores\n",
    "df_stores_groupedcountstores['Cum_sum'] = df_stores_groupedcountstores['Storecount'].cumsum()\n",
    "\n",
    "# Make a cumulative percentage column\n",
    "df_stores_groupedcountstores['Cumulative Percentage'] = round(100*df_stores_groupedcountstores.Cum_sum/df_stores_groupedcountstores['Storecount'].sum(),2)\n",
    "\n",
    "# Select only the columns that give us information\n",
    "df_stores_groupedcountstores = df_stores_groupedcountstores[['city','Storecount','Percentage','Cum_sum','Cumulative Percentage']]\n",
    "\n",
    "# Format the table, just to make it look nice and use the gradient to show the effect of having a lot of stores in certain cities\n",
    "df_stores_groupedcountstoresinstyle = df_stores_groupedcountstores.style.background_gradient(subset=['Storecount', 'Percentage'], cmap='Blues')\\\n",
    "                                                                        .format({\"Percentage\": \"{:20,.1f}\",\n",
    "                                                                                 \"Cumulative Percentage\" : \"{:20,.1f}\"})\n",
    "# Print the table\n",
    "df_stores_groupedcountstoresinstyle"
   ]
  },
  {
   "cell_type": "code",
   "execution_count": 473,
   "metadata": {},
   "outputs": [
    {
     "name": "stdout",
     "output_type": "stream",
     "text": [
      "<class 'pandas.core.frame.DataFrame'>\n",
      "Index: 22 entries, 18 to 11\n",
      "Data columns (total 5 columns):\n",
      " #   Column                 Non-Null Count  Dtype  \n",
      "---  ------                 --------------  -----  \n",
      " 0   city                   22 non-null     object \n",
      " 1   Storecount             22 non-null     int64  \n",
      " 2   Percentage             22 non-null     float64\n",
      " 3   Cum_sum                22 non-null     int64  \n",
      " 4   Cumulative Percentage  22 non-null     float64\n",
      "dtypes: float64(2), int64(2), object(1)\n",
      "memory usage: 1.6+ KB\n"
     ]
    }
   ],
   "source": [
    "df_stores_groupedcountstores.info()"
   ]
  },
  {
   "cell_type": "code",
   "execution_count": 474,
   "metadata": {},
   "outputs": [
    {
     "name": "stderr",
     "output_type": "stream",
     "text": [
      "c:\\Users\\sebas\\OneDrive\\Documenten\\GitHub\\Supermarketcasegroupproject\\Group4B\\.venv\\lib\\site-packages\\altair\\utils\\core.py:410: FutureWarning:\n",
      "\n",
      "the convert_dtype parameter is deprecated and will be removed in a future version.  Do ``ser.astype(object).apply()`` instead if you want ``convert_dtype=False``.\n",
      "\n"
     ]
    },
    {
     "data": {
      "text/html": [
       "\n",
       "<style>\n",
       "  #altair-viz-a08125d600ba4fd9a19e7357fef91241.vega-embed {\n",
       "    width: 100%;\n",
       "    display: flex;\n",
       "  }\n",
       "\n",
       "  #altair-viz-a08125d600ba4fd9a19e7357fef91241.vega-embed details,\n",
       "  #altair-viz-a08125d600ba4fd9a19e7357fef91241.vega-embed details summary {\n",
       "    position: relative;\n",
       "  }\n",
       "</style>\n",
       "<div id=\"altair-viz-a08125d600ba4fd9a19e7357fef91241\"></div>\n",
       "<script type=\"text/javascript\">\n",
       "  var VEGA_DEBUG = (typeof VEGA_DEBUG == \"undefined\") ? {} : VEGA_DEBUG;\n",
       "  (function(spec, embedOpt){\n",
       "    let outputDiv = document.currentScript.previousElementSibling;\n",
       "    if (outputDiv.id !== \"altair-viz-a08125d600ba4fd9a19e7357fef91241\") {\n",
       "      outputDiv = document.getElementById(\"altair-viz-a08125d600ba4fd9a19e7357fef91241\");\n",
       "    }\n",
       "    const paths = {\n",
       "      \"vega\": \"https://cdn.jsdelivr.net/npm/vega@5?noext\",\n",
       "      \"vega-lib\": \"https://cdn.jsdelivr.net/npm/vega-lib?noext\",\n",
       "      \"vega-lite\": \"https://cdn.jsdelivr.net/npm/vega-lite@5.14.1?noext\",\n",
       "      \"vega-embed\": \"https://cdn.jsdelivr.net/npm/vega-embed@6?noext\",\n",
       "    };\n",
       "\n",
       "    function maybeLoadScript(lib, version) {\n",
       "      var key = `${lib.replace(\"-\", \"\")}_version`;\n",
       "      return (VEGA_DEBUG[key] == version) ?\n",
       "        Promise.resolve(paths[lib]) :\n",
       "        new Promise(function(resolve, reject) {\n",
       "          var s = document.createElement('script');\n",
       "          document.getElementsByTagName(\"head\")[0].appendChild(s);\n",
       "          s.async = true;\n",
       "          s.onload = () => {\n",
       "            VEGA_DEBUG[key] = version;\n",
       "            return resolve(paths[lib]);\n",
       "          };\n",
       "          s.onerror = () => reject(`Error loading script: ${paths[lib]}`);\n",
       "          s.src = paths[lib];\n",
       "        });\n",
       "    }\n",
       "\n",
       "    function showError(err) {\n",
       "      outputDiv.innerHTML = `<div class=\"error\" style=\"color:red;\">${err}</div>`;\n",
       "      throw err;\n",
       "    }\n",
       "\n",
       "    function displayChart(vegaEmbed) {\n",
       "      vegaEmbed(outputDiv, spec, embedOpt)\n",
       "        .catch(err => showError(`Javascript Error: ${err.message}<br>This usually means there's a typo in your chart specification. See the javascript console for the full traceback.`));\n",
       "    }\n",
       "\n",
       "    if(typeof define === \"function\" && define.amd) {\n",
       "      requirejs.config({paths});\n",
       "      require([\"vega-embed\"], displayChart, err => showError(`Error loading script: ${err.message}`));\n",
       "    } else {\n",
       "      maybeLoadScript(\"vega\", \"5\")\n",
       "        .then(() => maybeLoadScript(\"vega-lite\", \"5.14.1\"))\n",
       "        .then(() => maybeLoadScript(\"vega-embed\", \"6\"))\n",
       "        .catch(showError)\n",
       "        .then(() => displayChart(vegaEmbed));\n",
       "    }\n",
       "  })({\"config\": {\"view\": {\"continuousWidth\": 300, \"continuousHeight\": 300}}, \"layer\": [{\"mark\": {\"type\": \"bar\"}, \"encoding\": {\"x\": {\"field\": \"Storecount\", \"type\": \"quantitative\"}, \"y\": {\"field\": \"city\", \"type\": \"nominal\"}}}, {\"mark\": {\"type\": \"text\", \"align\": \"left\", \"baseline\": \"middle\", \"dx\": 3}, \"encoding\": {\"text\": {\"field\": \"Storecount\", \"type\": \"quantitative\"}, \"x\": {\"field\": \"Storecount\", \"type\": \"quantitative\"}, \"y\": {\"field\": \"city\", \"type\": \"nominal\"}}}], \"data\": {\"name\": \"data-b526fa5b5360b5309f6aa3e2e41cadfc\"}, \"$schema\": \"https://vega.github.io/schema/vega-lite/v5.14.1.json\", \"datasets\": {\"data-b526fa5b5360b5309f6aa3e2e41cadfc\": [{\"city\": \"Quito\", \"Storecount\": 18, \"Percentage\": 33.33, \"Cum_sum\": 18, \"Cumulative Percentage\": 33.33}, {\"city\": \"Guayaquil\", \"Storecount\": 8, \"Percentage\": 14.81, \"Cum_sum\": 26, \"Cumulative Percentage\": 48.15}, {\"city\": \"Santo Domingo\", \"Storecount\": 3, \"Percentage\": 5.56, \"Cum_sum\": 29, \"Cumulative Percentage\": 53.7}, {\"city\": \"Cuenca\", \"Storecount\": 3, \"Percentage\": 5.56, \"Cum_sum\": 32, \"Cumulative Percentage\": 59.26}, {\"city\": \"Manta\", \"Storecount\": 2, \"Percentage\": 3.7, \"Cum_sum\": 34, \"Cumulative Percentage\": 62.96}, {\"city\": \"Machala\", \"Storecount\": 2, \"Percentage\": 3.7, \"Cum_sum\": 36, \"Cumulative Percentage\": 66.67}, {\"city\": \"Latacunga\", \"Storecount\": 2, \"Percentage\": 3.7, \"Cum_sum\": 38, \"Cumulative Percentage\": 70.37}, {\"city\": \"Ambato\", \"Storecount\": 2, \"Percentage\": 3.7, \"Cum_sum\": 40, \"Cumulative Percentage\": 74.07}, {\"city\": \"Guaranda\", \"Storecount\": 1, \"Percentage\": 1.85, \"Cum_sum\": 41, \"Cumulative Percentage\": 75.93}, {\"city\": \"Ibarra\", \"Storecount\": 1, \"Percentage\": 1.85, \"Cum_sum\": 42, \"Cumulative Percentage\": 77.78}, {\"city\": \"Esmeraldas\", \"Storecount\": 1, \"Percentage\": 1.85, \"Cum_sum\": 43, \"Cumulative Percentage\": 79.63}, {\"city\": \"Babahoyo\", \"Storecount\": 1, \"Percentage\": 1.85, \"Cum_sum\": 44, \"Cumulative Percentage\": 81.48}, {\"city\": \"Loja\", \"Storecount\": 1, \"Percentage\": 1.85, \"Cum_sum\": 45, \"Cumulative Percentage\": 83.33}, {\"city\": \"El Carmen\", \"Storecount\": 1, \"Percentage\": 1.85, \"Cum_sum\": 46, \"Cumulative Percentage\": 85.19}, {\"city\": \"Daule\", \"Storecount\": 1, \"Percentage\": 1.85, \"Cum_sum\": 47, \"Cumulative Percentage\": 87.04}, {\"city\": \"Playas\", \"Storecount\": 1, \"Percentage\": 1.85, \"Cum_sum\": 48, \"Cumulative Percentage\": 88.89}, {\"city\": \"Puyo\", \"Storecount\": 1, \"Percentage\": 1.85, \"Cum_sum\": 49, \"Cumulative Percentage\": 90.74}, {\"city\": \"Quevedo\", \"Storecount\": 1, \"Percentage\": 1.85, \"Cum_sum\": 50, \"Cumulative Percentage\": 92.59}, {\"city\": \"Cayambe\", \"Storecount\": 1, \"Percentage\": 1.85, \"Cum_sum\": 51, \"Cumulative Percentage\": 94.44}, {\"city\": \"Riobamba\", \"Storecount\": 1, \"Percentage\": 1.85, \"Cum_sum\": 52, \"Cumulative Percentage\": 96.3}, {\"city\": \"Salinas\", \"Storecount\": 1, \"Percentage\": 1.85, \"Cum_sum\": 53, \"Cumulative Percentage\": 98.15}, {\"city\": \"Libertad\", \"Storecount\": 1, \"Percentage\": 1.85, \"Cum_sum\": 54, \"Cumulative Percentage\": 100.0}]}}, {\"mode\": \"vega-lite\"});\n",
       "</script>"
      ],
      "text/plain": [
       "alt.LayerChart(...)"
      ]
     },
     "execution_count": 474,
     "metadata": {},
     "output_type": "execute_result"
    }
   ],
   "source": [
    "barchartstorecitycount = alt.Chart(df_stores_groupedcountstores).mark_bar().encode(\n",
    "    x='Storecount',\n",
    "    y='city',\n",
    ")\n",
    "barchartstorecitycountlabels = barchartstorecitycount.mark_text(\n",
    "    align= 'left',\n",
    "    baseline='middle',\n",
    "    dx=3\n",
    ").encode(\n",
    "    text='Storecount'\n",
    ")\n",
    "\n",
    "barchartstorecitycount + barchartstorecitycountlabels\n",
    "\n"
   ]
  },
  {
   "cell_type": "markdown",
   "metadata": {},
   "source": [
    "## Step 1.3 - Store type D might be most interesting as it is represented all over Ecuador (might be better for generalization)\n",
    "\n",
    "When looking into the data, we first delved deeper into just the amount of stores per city. Here, we found that especially Quito is overrepresented by the amount of supermarkets located there."
   ]
  },
  {
   "cell_type": "code",
   "execution_count": 475,
   "metadata": {},
   "outputs": [
    {
     "name": "stderr",
     "output_type": "stream",
     "text": [
      "c:\\Users\\sebas\\OneDrive\\Documenten\\GitHub\\Supermarketcasegroupproject\\Group4B\\.venv\\lib\\site-packages\\altair\\utils\\core.py:410: FutureWarning:\n",
      "\n",
      "the convert_dtype parameter is deprecated and will be removed in a future version.  Do ``ser.astype(object).apply()`` instead if you want ``convert_dtype=False``.\n",
      "\n",
      "c:\\Users\\sebas\\OneDrive\\Documenten\\GitHub\\Supermarketcasegroupproject\\Group4B\\.venv\\lib\\site-packages\\altair\\utils\\core.py:410: FutureWarning:\n",
      "\n",
      "the convert_dtype parameter is deprecated and will be removed in a future version.  Do ``ser.astype(object).apply()`` instead if you want ``convert_dtype=False``.\n",
      "\n"
     ]
    },
    {
     "data": {
      "text/html": [
       "\n",
       "<style>\n",
       "  #altair-viz-7d60d195de894d9d8cd38f6ef9303126.vega-embed {\n",
       "    width: 100%;\n",
       "    display: flex;\n",
       "  }\n",
       "\n",
       "  #altair-viz-7d60d195de894d9d8cd38f6ef9303126.vega-embed details,\n",
       "  #altair-viz-7d60d195de894d9d8cd38f6ef9303126.vega-embed details summary {\n",
       "    position: relative;\n",
       "  }\n",
       "</style>\n",
       "<div id=\"altair-viz-7d60d195de894d9d8cd38f6ef9303126\"></div>\n",
       "<script type=\"text/javascript\">\n",
       "  var VEGA_DEBUG = (typeof VEGA_DEBUG == \"undefined\") ? {} : VEGA_DEBUG;\n",
       "  (function(spec, embedOpt){\n",
       "    let outputDiv = document.currentScript.previousElementSibling;\n",
       "    if (outputDiv.id !== \"altair-viz-7d60d195de894d9d8cd38f6ef9303126\") {\n",
       "      outputDiv = document.getElementById(\"altair-viz-7d60d195de894d9d8cd38f6ef9303126\");\n",
       "    }\n",
       "    const paths = {\n",
       "      \"vega\": \"https://cdn.jsdelivr.net/npm/vega@5?noext\",\n",
       "      \"vega-lib\": \"https://cdn.jsdelivr.net/npm/vega-lib?noext\",\n",
       "      \"vega-lite\": \"https://cdn.jsdelivr.net/npm/vega-lite@5.14.1?noext\",\n",
       "      \"vega-embed\": \"https://cdn.jsdelivr.net/npm/vega-embed@6?noext\",\n",
       "    };\n",
       "\n",
       "    function maybeLoadScript(lib, version) {\n",
       "      var key = `${lib.replace(\"-\", \"\")}_version`;\n",
       "      return (VEGA_DEBUG[key] == version) ?\n",
       "        Promise.resolve(paths[lib]) :\n",
       "        new Promise(function(resolve, reject) {\n",
       "          var s = document.createElement('script');\n",
       "          document.getElementsByTagName(\"head\")[0].appendChild(s);\n",
       "          s.async = true;\n",
       "          s.onload = () => {\n",
       "            VEGA_DEBUG[key] = version;\n",
       "            return resolve(paths[lib]);\n",
       "          };\n",
       "          s.onerror = () => reject(`Error loading script: ${paths[lib]}`);\n",
       "          s.src = paths[lib];\n",
       "        });\n",
       "    }\n",
       "\n",
       "    function showError(err) {\n",
       "      outputDiv.innerHTML = `<div class=\"error\" style=\"color:red;\">${err}</div>`;\n",
       "      throw err;\n",
       "    }\n",
       "\n",
       "    function displayChart(vegaEmbed) {\n",
       "      vegaEmbed(outputDiv, spec, embedOpt)\n",
       "        .catch(err => showError(`Javascript Error: ${err.message}<br>This usually means there's a typo in your chart specification. See the javascript console for the full traceback.`));\n",
       "    }\n",
       "\n",
       "    if(typeof define === \"function\" && define.amd) {\n",
       "      requirejs.config({paths});\n",
       "      require([\"vega-embed\"], displayChart, err => showError(`Error loading script: ${err.message}`));\n",
       "    } else {\n",
       "      maybeLoadScript(\"vega\", \"5\")\n",
       "        .then(() => maybeLoadScript(\"vega-lite\", \"5.14.1\"))\n",
       "        .then(() => maybeLoadScript(\"vega-embed\", \"6\"))\n",
       "        .catch(showError)\n",
       "        .then(() => displayChart(vegaEmbed));\n",
       "    }\n",
       "  })({\"config\": {\"view\": {\"continuousWidth\": 300, \"continuousHeight\": 300}}, \"data\": {\"name\": \"data-70ed67c86ef010cffc27d64e355366c4\"}, \"mark\": {\"type\": \"bar\"}, \"encoding\": {\"color\": {\"field\": \"type\", \"type\": \"nominal\"}, \"x\": {\"field\": \"store_nbr\", \"type\": \"quantitative\"}, \"y\": {\"field\": \"city\", \"sort\": \"-x\", \"type\": \"nominal\"}}, \"$schema\": \"https://vega.github.io/schema/vega-lite/v5.14.1.json\", \"datasets\": {\"data-70ed67c86ef010cffc27d64e355366c4\": [{\"city\": \"Ambato\", \"type\": \"A\", \"store_nbr\": 1, \"Storecount\": 2}, {\"city\": \"Ambato\", \"type\": \"D\", \"store_nbr\": 1, \"Storecount\": 2}, {\"city\": \"Babahoyo\", \"type\": \"B\", \"store_nbr\": 1, \"Storecount\": 1}, {\"city\": \"Cayambe\", \"type\": \"B\", \"store_nbr\": 1, \"Storecount\": 1}, {\"city\": \"Cuenca\", \"type\": \"B\", \"store_nbr\": 1, \"Storecount\": 3}, {\"city\": \"Cuenca\", \"type\": \"D\", \"store_nbr\": 2, \"Storecount\": 3}, {\"city\": \"Daule\", \"type\": \"D\", \"store_nbr\": 1, \"Storecount\": 1}, {\"city\": \"El Carmen\", \"type\": \"C\", \"store_nbr\": 1, \"Storecount\": 1}, {\"city\": \"Esmeraldas\", \"type\": \"E\", \"store_nbr\": 1, \"Storecount\": 1}, {\"city\": \"Guaranda\", \"type\": \"C\", \"store_nbr\": 1, \"Storecount\": 1}, {\"city\": \"Guayaquil\", \"type\": \"A\", \"store_nbr\": 1, \"Storecount\": 8}, {\"city\": \"Guayaquil\", \"type\": \"B\", \"store_nbr\": 1, \"Storecount\": 8}, {\"city\": \"Guayaquil\", \"type\": \"C\", \"store_nbr\": 2, \"Storecount\": 8}, {\"city\": \"Guayaquil\", \"type\": \"D\", \"store_nbr\": 2, \"Storecount\": 8}, {\"city\": \"Guayaquil\", \"type\": \"E\", \"store_nbr\": 2, \"Storecount\": 8}, {\"city\": \"Ibarra\", \"type\": \"C\", \"store_nbr\": 1, \"Storecount\": 1}, {\"city\": \"Latacunga\", \"type\": \"C\", \"store_nbr\": 2, \"Storecount\": 2}, {\"city\": \"Libertad\", \"type\": \"E\", \"store_nbr\": 1, \"Storecount\": 1}, {\"city\": \"Loja\", \"type\": \"D\", \"store_nbr\": 1, \"Storecount\": 1}, {\"city\": \"Machala\", \"type\": \"C\", \"store_nbr\": 1, \"Storecount\": 2}, {\"city\": \"Machala\", \"type\": \"D\", \"store_nbr\": 1, \"Storecount\": 2}, {\"city\": \"Manta\", \"type\": \"A\", \"store_nbr\": 1, \"Storecount\": 2}, {\"city\": \"Manta\", \"type\": \"D\", \"store_nbr\": 1, \"Storecount\": 2}, {\"city\": \"Playas\", \"type\": \"C\", \"store_nbr\": 1, \"Storecount\": 1}, {\"city\": \"Puyo\", \"type\": \"C\", \"store_nbr\": 1, \"Storecount\": 1}, {\"city\": \"Quevedo\", \"type\": \"C\", \"store_nbr\": 1, \"Storecount\": 1}, {\"city\": \"Quito\", \"type\": \"A\", \"store_nbr\": 6, \"Storecount\": 18}, {\"city\": \"Quito\", \"type\": \"B\", \"store_nbr\": 3, \"Storecount\": 18}, {\"city\": \"Quito\", \"type\": \"C\", \"store_nbr\": 2, \"Storecount\": 18}, {\"city\": \"Quito\", \"type\": \"D\", \"store_nbr\": 7, \"Storecount\": 18}, {\"city\": \"Riobamba\", \"type\": \"C\", \"store_nbr\": 1, \"Storecount\": 1}, {\"city\": \"Salinas\", \"type\": \"D\", \"store_nbr\": 1, \"Storecount\": 1}, {\"city\": \"Santo Domingo\", \"type\": \"B\", \"store_nbr\": 1, \"Storecount\": 3}, {\"city\": \"Santo Domingo\", \"type\": \"C\", \"store_nbr\": 1, \"Storecount\": 3}, {\"city\": \"Santo Domingo\", \"type\": \"D\", \"store_nbr\": 1, \"Storecount\": 3}]}}, {\"mode\": \"vega-lite\"});\n",
       "</script>"
      ],
      "text/plain": [
       "alt.Chart(...)"
      ]
     },
     "execution_count": 475,
     "metadata": {},
     "output_type": "execute_result"
    }
   ],
   "source": [
    "# Stacked bargraph for each city per type of store\n",
    "\n",
    "#Group the data per city and type\n",
    "df_storesgroupedstorestype = df_stores.groupby(['city','type']).count().reset_index()\n",
    "\n",
    "#Add the storecount to each row as it might be needed for sorting the chart\n",
    "df_storesgroupedstorestypestorecount = df_storesgroupedstorestype.merge(df_stores_groupedcountstores, how = 'inner', on = 'city')\n",
    "\n",
    "#Select only the relevant columns\n",
    "df_storesgroupedstorestypestorecount = df_storesgroupedstorestypestorecount[['city','type','store_nbr','Storecount']]\n",
    "\n",
    "#Make the stacked bargraph on the amount of stores per type per city\n",
    "chartstorespercitytype = alt.Chart(df_storesgroupedstorestypestorecount).mark_bar().encode(\n",
    "    x=alt.X('store_nbr'),\n",
    "    y=alt.Y('city', sort='-x'),\n",
    "    color='type')\n",
    "\n",
    "chartstorespercitytype "
   ]
  },
  {
   "cell_type": "markdown",
   "metadata": {},
   "source": [
    "We can see that store type C and D seem most spread accross Ecuador. Also, if we look at the distribution of store count accross the types of stores we can see that C and D are dominant without considering sold units. Thus, D would potentially be a good candidate to focus our forecasting model on as it comes back in the first 5 biggest places (in terms of store count) in our analysis, representing 18 stores that most likely have some similarity for Corporacion Favorita. "
   ]
  },
  {
   "cell_type": "code",
   "execution_count": 476,
   "metadata": {},
   "outputs": [
    {
     "data": {
      "text/html": [
       "<div>\n",
       "<style scoped>\n",
       "    .dataframe tbody tr th:only-of-type {\n",
       "        vertical-align: middle;\n",
       "    }\n",
       "\n",
       "    .dataframe tbody tr th {\n",
       "        vertical-align: top;\n",
       "    }\n",
       "\n",
       "    .dataframe thead th {\n",
       "        text-align: right;\n",
       "    }\n",
       "</style>\n",
       "<table border=\"1\" class=\"dataframe\">\n",
       "  <thead>\n",
       "    <tr style=\"text-align: right;\">\n",
       "      <th></th>\n",
       "      <th>type</th>\n",
       "      <th>count</th>\n",
       "      <th>percentage</th>\n",
       "    </tr>\n",
       "  </thead>\n",
       "  <tbody>\n",
       "    <tr>\n",
       "      <th>0</th>\n",
       "      <td>A</td>\n",
       "      <td>9</td>\n",
       "      <td>16.7</td>\n",
       "    </tr>\n",
       "    <tr>\n",
       "      <th>1</th>\n",
       "      <td>B</td>\n",
       "      <td>8</td>\n",
       "      <td>14.8</td>\n",
       "    </tr>\n",
       "    <tr>\n",
       "      <th>2</th>\n",
       "      <td>C</td>\n",
       "      <td>15</td>\n",
       "      <td>27.8</td>\n",
       "    </tr>\n",
       "    <tr>\n",
       "      <th>3</th>\n",
       "      <td>D</td>\n",
       "      <td>18</td>\n",
       "      <td>33.3</td>\n",
       "    </tr>\n",
       "    <tr>\n",
       "      <th>4</th>\n",
       "      <td>E</td>\n",
       "      <td>4</td>\n",
       "      <td>7.4</td>\n",
       "    </tr>\n",
       "  </tbody>\n",
       "</table>\n",
       "</div>"
      ],
      "text/plain": [
       "  type  count  percentage\n",
       "0    A      9        16.7\n",
       "1    B      8        14.8\n",
       "2    C     15        27.8\n",
       "3    D     18        33.3\n",
       "4    E      4         7.4"
      ]
     },
     "execution_count": 476,
     "metadata": {},
     "output_type": "execute_result"
    }
   ],
   "source": [
    "df_storestypecountandpercentage =  df_stores.groupby(['type']).count().reset_index()\n",
    "df_storestypecountandpercentage = df_storestypecountandpercentage[['type' , 'city']]\n",
    "df_storestypecountandpercentage = df_storestypecountandpercentage.rename(columns={'city':'count'})\n",
    "df_storestypecountandpercentage['percentage'] = round((df_storestypecountandpercentage['count']/df_storestypecountandpercentage['count'].sum())*100,1)\n",
    "\n",
    "\n",
    "df_storestypecountandpercentage"
   ]
  },
  {
   "cell_type": "markdown",
   "metadata": {},
   "source": [
    "## Step 1.4 - Looking at clusters per type of store - Data issues most likely with cluster 10, normally all clusters belong to 1 storetype (thus it is a hierarchy)\n",
    "\n",
    "Delving into store type and cluster we found out except of cluster 10, all clusters belong to 1 storetype."
   ]
  },
  {
   "cell_type": "code",
   "execution_count": 492,
   "metadata": {},
   "outputs": [
    {
     "data": {
      "application/vnd.plotly.v1+json": {
       "config": {
        "plotlyServerURL": "https://plot.ly"
       },
       "data": [
        {
         "branchvalues": "total",
         "customdata": [
          [
           "D"
          ],
          [
           "D"
          ],
          [
           "C"
          ],
          [
           "D"
          ],
          [
           "A"
          ],
          [
           "B"
          ],
          [
           "C"
          ],
          [
           "D"
          ],
          [
           "B"
          ],
          [
           "D"
          ],
          [
           "D"
          ],
          [
           "B"
          ],
          [
           "E"
          ],
          [
           "A"
          ],
          [
           "C"
          ],
          [
           "D"
          ],
          [
           "A"
          ],
          [
           "C"
          ],
          [
           "A"
          ],
          [
           "A"
          ],
          [
           "B"
          ],
          [
           "C"
          ],
          [
           "D"
          ],
          [
           "E"
          ]
         ],
         "domain": {
          "x": [
           0,
           1
          ],
          "y": [
           0,
           1
          ]
         },
         "hovertemplate": "labels=%{label}<br>count=%{value}<br>parent=%{parent}<br>id=%{id}<br>type=%{customdata[0]}<extra></extra>",
         "ids": [
          "D/1",
          "D/2",
          "C/3",
          "D/4",
          "A/5",
          "B/6",
          "C/7",
          "D/10",
          "B/10",
          "D/8",
          "D/9",
          "B/16",
          "E/10",
          "A/11",
          "C/12",
          "D/13",
          "A/14",
          "C/15",
          "A/17",
          "A",
          "B",
          "C",
          "D",
          "E"
         ],
         "labels": [
          "1",
          "2",
          "3",
          "4",
          "5",
          "6",
          "7",
          "10",
          "10",
          "8",
          "9",
          "16",
          "10",
          "11",
          "12",
          "13",
          "14",
          "15",
          "17",
          "A",
          "B",
          "C",
          "D",
          "E"
         ],
         "marker": {
          "colors": [
           "#636efa",
           "#636efa",
           "#EF553B",
           "#636efa",
           "#00cc96",
           "#ab63fa",
           "#EF553B",
           "#636efa",
           "#ab63fa",
           "#636efa",
           "#636efa",
           "#ab63fa",
           "#FFA15A",
           "#00cc96",
           "#EF553B",
           "#636efa",
           "#00cc96",
           "#EF553B",
           "#00cc96",
           "#00cc96",
           "#ab63fa",
           "#EF553B",
           "#636efa",
           "#FFA15A"
          ]
         },
         "name": "",
         "parents": [
          "D",
          "D",
          "C",
          "D",
          "A",
          "B",
          "C",
          "D",
          "B",
          "D",
          "D",
          "B",
          "E",
          "A",
          "C",
          "D",
          "A",
          "C",
          "A",
          "",
          "",
          "",
          "",
          ""
         ],
         "type": "sunburst",
         "values": [
          3,
          2,
          7,
          3,
          1,
          6,
          2,
          1,
          1,
          3,
          2,
          1,
          4,
          3,
          1,
          4,
          4,
          5,
          1,
          9,
          8,
          15,
          18,
          4
         ]
        }
       ],
       "layout": {
        "legend": {
         "tracegroupgap": 0
        },
        "margin": {
         "t": 60
        },
        "template": {
         "data": {
          "bar": [
           {
            "error_x": {
             "color": "#2a3f5f"
            },
            "error_y": {
             "color": "#2a3f5f"
            },
            "marker": {
             "line": {
              "color": "#E5ECF6",
              "width": 0.5
             },
             "pattern": {
              "fillmode": "overlay",
              "size": 10,
              "solidity": 0.2
             }
            },
            "type": "bar"
           }
          ],
          "barpolar": [
           {
            "marker": {
             "line": {
              "color": "#E5ECF6",
              "width": 0.5
             },
             "pattern": {
              "fillmode": "overlay",
              "size": 10,
              "solidity": 0.2
             }
            },
            "type": "barpolar"
           }
          ],
          "carpet": [
           {
            "aaxis": {
             "endlinecolor": "#2a3f5f",
             "gridcolor": "white",
             "linecolor": "white",
             "minorgridcolor": "white",
             "startlinecolor": "#2a3f5f"
            },
            "baxis": {
             "endlinecolor": "#2a3f5f",
             "gridcolor": "white",
             "linecolor": "white",
             "minorgridcolor": "white",
             "startlinecolor": "#2a3f5f"
            },
            "type": "carpet"
           }
          ],
          "choropleth": [
           {
            "colorbar": {
             "outlinewidth": 0,
             "ticks": ""
            },
            "type": "choropleth"
           }
          ],
          "contour": [
           {
            "colorbar": {
             "outlinewidth": 0,
             "ticks": ""
            },
            "colorscale": [
             [
              0,
              "#0d0887"
             ],
             [
              0.1111111111111111,
              "#46039f"
             ],
             [
              0.2222222222222222,
              "#7201a8"
             ],
             [
              0.3333333333333333,
              "#9c179e"
             ],
             [
              0.4444444444444444,
              "#bd3786"
             ],
             [
              0.5555555555555556,
              "#d8576b"
             ],
             [
              0.6666666666666666,
              "#ed7953"
             ],
             [
              0.7777777777777778,
              "#fb9f3a"
             ],
             [
              0.8888888888888888,
              "#fdca26"
             ],
             [
              1,
              "#f0f921"
             ]
            ],
            "type": "contour"
           }
          ],
          "contourcarpet": [
           {
            "colorbar": {
             "outlinewidth": 0,
             "ticks": ""
            },
            "type": "contourcarpet"
           }
          ],
          "heatmap": [
           {
            "colorbar": {
             "outlinewidth": 0,
             "ticks": ""
            },
            "colorscale": [
             [
              0,
              "#0d0887"
             ],
             [
              0.1111111111111111,
              "#46039f"
             ],
             [
              0.2222222222222222,
              "#7201a8"
             ],
             [
              0.3333333333333333,
              "#9c179e"
             ],
             [
              0.4444444444444444,
              "#bd3786"
             ],
             [
              0.5555555555555556,
              "#d8576b"
             ],
             [
              0.6666666666666666,
              "#ed7953"
             ],
             [
              0.7777777777777778,
              "#fb9f3a"
             ],
             [
              0.8888888888888888,
              "#fdca26"
             ],
             [
              1,
              "#f0f921"
             ]
            ],
            "type": "heatmap"
           }
          ],
          "heatmapgl": [
           {
            "colorbar": {
             "outlinewidth": 0,
             "ticks": ""
            },
            "colorscale": [
             [
              0,
              "#0d0887"
             ],
             [
              0.1111111111111111,
              "#46039f"
             ],
             [
              0.2222222222222222,
              "#7201a8"
             ],
             [
              0.3333333333333333,
              "#9c179e"
             ],
             [
              0.4444444444444444,
              "#bd3786"
             ],
             [
              0.5555555555555556,
              "#d8576b"
             ],
             [
              0.6666666666666666,
              "#ed7953"
             ],
             [
              0.7777777777777778,
              "#fb9f3a"
             ],
             [
              0.8888888888888888,
              "#fdca26"
             ],
             [
              1,
              "#f0f921"
             ]
            ],
            "type": "heatmapgl"
           }
          ],
          "histogram": [
           {
            "marker": {
             "pattern": {
              "fillmode": "overlay",
              "size": 10,
              "solidity": 0.2
             }
            },
            "type": "histogram"
           }
          ],
          "histogram2d": [
           {
            "colorbar": {
             "outlinewidth": 0,
             "ticks": ""
            },
            "colorscale": [
             [
              0,
              "#0d0887"
             ],
             [
              0.1111111111111111,
              "#46039f"
             ],
             [
              0.2222222222222222,
              "#7201a8"
             ],
             [
              0.3333333333333333,
              "#9c179e"
             ],
             [
              0.4444444444444444,
              "#bd3786"
             ],
             [
              0.5555555555555556,
              "#d8576b"
             ],
             [
              0.6666666666666666,
              "#ed7953"
             ],
             [
              0.7777777777777778,
              "#fb9f3a"
             ],
             [
              0.8888888888888888,
              "#fdca26"
             ],
             [
              1,
              "#f0f921"
             ]
            ],
            "type": "histogram2d"
           }
          ],
          "histogram2dcontour": [
           {
            "colorbar": {
             "outlinewidth": 0,
             "ticks": ""
            },
            "colorscale": [
             [
              0,
              "#0d0887"
             ],
             [
              0.1111111111111111,
              "#46039f"
             ],
             [
              0.2222222222222222,
              "#7201a8"
             ],
             [
              0.3333333333333333,
              "#9c179e"
             ],
             [
              0.4444444444444444,
              "#bd3786"
             ],
             [
              0.5555555555555556,
              "#d8576b"
             ],
             [
              0.6666666666666666,
              "#ed7953"
             ],
             [
              0.7777777777777778,
              "#fb9f3a"
             ],
             [
              0.8888888888888888,
              "#fdca26"
             ],
             [
              1,
              "#f0f921"
             ]
            ],
            "type": "histogram2dcontour"
           }
          ],
          "mesh3d": [
           {
            "colorbar": {
             "outlinewidth": 0,
             "ticks": ""
            },
            "type": "mesh3d"
           }
          ],
          "parcoords": [
           {
            "line": {
             "colorbar": {
              "outlinewidth": 0,
              "ticks": ""
             }
            },
            "type": "parcoords"
           }
          ],
          "pie": [
           {
            "automargin": true,
            "type": "pie"
           }
          ],
          "scatter": [
           {
            "fillpattern": {
             "fillmode": "overlay",
             "size": 10,
             "solidity": 0.2
            },
            "type": "scatter"
           }
          ],
          "scatter3d": [
           {
            "line": {
             "colorbar": {
              "outlinewidth": 0,
              "ticks": ""
             }
            },
            "marker": {
             "colorbar": {
              "outlinewidth": 0,
              "ticks": ""
             }
            },
            "type": "scatter3d"
           }
          ],
          "scattercarpet": [
           {
            "marker": {
             "colorbar": {
              "outlinewidth": 0,
              "ticks": ""
             }
            },
            "type": "scattercarpet"
           }
          ],
          "scattergeo": [
           {
            "marker": {
             "colorbar": {
              "outlinewidth": 0,
              "ticks": ""
             }
            },
            "type": "scattergeo"
           }
          ],
          "scattergl": [
           {
            "marker": {
             "colorbar": {
              "outlinewidth": 0,
              "ticks": ""
             }
            },
            "type": "scattergl"
           }
          ],
          "scattermapbox": [
           {
            "marker": {
             "colorbar": {
              "outlinewidth": 0,
              "ticks": ""
             }
            },
            "type": "scattermapbox"
           }
          ],
          "scatterpolar": [
           {
            "marker": {
             "colorbar": {
              "outlinewidth": 0,
              "ticks": ""
             }
            },
            "type": "scatterpolar"
           }
          ],
          "scatterpolargl": [
           {
            "marker": {
             "colorbar": {
              "outlinewidth": 0,
              "ticks": ""
             }
            },
            "type": "scatterpolargl"
           }
          ],
          "scatterternary": [
           {
            "marker": {
             "colorbar": {
              "outlinewidth": 0,
              "ticks": ""
             }
            },
            "type": "scatterternary"
           }
          ],
          "surface": [
           {
            "colorbar": {
             "outlinewidth": 0,
             "ticks": ""
            },
            "colorscale": [
             [
              0,
              "#0d0887"
             ],
             [
              0.1111111111111111,
              "#46039f"
             ],
             [
              0.2222222222222222,
              "#7201a8"
             ],
             [
              0.3333333333333333,
              "#9c179e"
             ],
             [
              0.4444444444444444,
              "#bd3786"
             ],
             [
              0.5555555555555556,
              "#d8576b"
             ],
             [
              0.6666666666666666,
              "#ed7953"
             ],
             [
              0.7777777777777778,
              "#fb9f3a"
             ],
             [
              0.8888888888888888,
              "#fdca26"
             ],
             [
              1,
              "#f0f921"
             ]
            ],
            "type": "surface"
           }
          ],
          "table": [
           {
            "cells": {
             "fill": {
              "color": "#EBF0F8"
             },
             "line": {
              "color": "white"
             }
            },
            "header": {
             "fill": {
              "color": "#C8D4E3"
             },
             "line": {
              "color": "white"
             }
            },
            "type": "table"
           }
          ]
         },
         "layout": {
          "annotationdefaults": {
           "arrowcolor": "#2a3f5f",
           "arrowhead": 0,
           "arrowwidth": 1
          },
          "autotypenumbers": "strict",
          "coloraxis": {
           "colorbar": {
            "outlinewidth": 0,
            "ticks": ""
           }
          },
          "colorscale": {
           "diverging": [
            [
             0,
             "#8e0152"
            ],
            [
             0.1,
             "#c51b7d"
            ],
            [
             0.2,
             "#de77ae"
            ],
            [
             0.3,
             "#f1b6da"
            ],
            [
             0.4,
             "#fde0ef"
            ],
            [
             0.5,
             "#f7f7f7"
            ],
            [
             0.6,
             "#e6f5d0"
            ],
            [
             0.7,
             "#b8e186"
            ],
            [
             0.8,
             "#7fbc41"
            ],
            [
             0.9,
             "#4d9221"
            ],
            [
             1,
             "#276419"
            ]
           ],
           "sequential": [
            [
             0,
             "#0d0887"
            ],
            [
             0.1111111111111111,
             "#46039f"
            ],
            [
             0.2222222222222222,
             "#7201a8"
            ],
            [
             0.3333333333333333,
             "#9c179e"
            ],
            [
             0.4444444444444444,
             "#bd3786"
            ],
            [
             0.5555555555555556,
             "#d8576b"
            ],
            [
             0.6666666666666666,
             "#ed7953"
            ],
            [
             0.7777777777777778,
             "#fb9f3a"
            ],
            [
             0.8888888888888888,
             "#fdca26"
            ],
            [
             1,
             "#f0f921"
            ]
           ],
           "sequentialminus": [
            [
             0,
             "#0d0887"
            ],
            [
             0.1111111111111111,
             "#46039f"
            ],
            [
             0.2222222222222222,
             "#7201a8"
            ],
            [
             0.3333333333333333,
             "#9c179e"
            ],
            [
             0.4444444444444444,
             "#bd3786"
            ],
            [
             0.5555555555555556,
             "#d8576b"
            ],
            [
             0.6666666666666666,
             "#ed7953"
            ],
            [
             0.7777777777777778,
             "#fb9f3a"
            ],
            [
             0.8888888888888888,
             "#fdca26"
            ],
            [
             1,
             "#f0f921"
            ]
           ]
          },
          "colorway": [
           "#636efa",
           "#EF553B",
           "#00cc96",
           "#ab63fa",
           "#FFA15A",
           "#19d3f3",
           "#FF6692",
           "#B6E880",
           "#FF97FF",
           "#FECB52"
          ],
          "font": {
           "color": "#2a3f5f"
          },
          "geo": {
           "bgcolor": "white",
           "lakecolor": "white",
           "landcolor": "#E5ECF6",
           "showlakes": true,
           "showland": true,
           "subunitcolor": "white"
          },
          "hoverlabel": {
           "align": "left"
          },
          "hovermode": "closest",
          "mapbox": {
           "style": "light"
          },
          "paper_bgcolor": "white",
          "plot_bgcolor": "#E5ECF6",
          "polar": {
           "angularaxis": {
            "gridcolor": "white",
            "linecolor": "white",
            "ticks": ""
           },
           "bgcolor": "#E5ECF6",
           "radialaxis": {
            "gridcolor": "white",
            "linecolor": "white",
            "ticks": ""
           }
          },
          "scene": {
           "xaxis": {
            "backgroundcolor": "#E5ECF6",
            "gridcolor": "white",
            "gridwidth": 2,
            "linecolor": "white",
            "showbackground": true,
            "ticks": "",
            "zerolinecolor": "white"
           },
           "yaxis": {
            "backgroundcolor": "#E5ECF6",
            "gridcolor": "white",
            "gridwidth": 2,
            "linecolor": "white",
            "showbackground": true,
            "ticks": "",
            "zerolinecolor": "white"
           },
           "zaxis": {
            "backgroundcolor": "#E5ECF6",
            "gridcolor": "white",
            "gridwidth": 2,
            "linecolor": "white",
            "showbackground": true,
            "ticks": "",
            "zerolinecolor": "white"
           }
          },
          "shapedefaults": {
           "line": {
            "color": "#2a3f5f"
           }
          },
          "ternary": {
           "aaxis": {
            "gridcolor": "white",
            "linecolor": "white",
            "ticks": ""
           },
           "baxis": {
            "gridcolor": "white",
            "linecolor": "white",
            "ticks": ""
           },
           "bgcolor": "#E5ECF6",
           "caxis": {
            "gridcolor": "white",
            "linecolor": "white",
            "ticks": ""
           }
          },
          "title": {
           "x": 0.05
          },
          "xaxis": {
           "automargin": true,
           "gridcolor": "white",
           "linecolor": "white",
           "ticks": "",
           "title": {
            "standoff": 15
           },
           "zerolinecolor": "white",
           "zerolinewidth": 2
          },
          "yaxis": {
           "automargin": true,
           "gridcolor": "white",
           "linecolor": "white",
           "ticks": "",
           "title": {
            "standoff": 15
           },
           "zerolinecolor": "white",
           "zerolinewidth": 2
          }
         }
        }
       }
      }
     },
     "metadata": {},
     "output_type": "display_data"
    },
    {
     "data": {
      "text/html": [
       "<div>\n",
       "<style scoped>\n",
       "    .dataframe tbody tr th:only-of-type {\n",
       "        vertical-align: middle;\n",
       "    }\n",
       "\n",
       "    .dataframe tbody tr th {\n",
       "        vertical-align: top;\n",
       "    }\n",
       "\n",
       "    .dataframe thead th {\n",
       "        text-align: right;\n",
       "    }\n",
       "</style>\n",
       "<table border=\"1\" class=\"dataframe\">\n",
       "  <thead>\n",
       "    <tr style=\"text-align: right;\">\n",
       "      <th></th>\n",
       "      <th>type</th>\n",
       "      <th>cluster</th>\n",
       "      <th>store_nbr</th>\n",
       "      <th>count</th>\n",
       "      <th>state</th>\n",
       "    </tr>\n",
       "  </thead>\n",
       "  <tbody>\n",
       "    <tr>\n",
       "      <th>0</th>\n",
       "      <td>A</td>\n",
       "      <td>5</td>\n",
       "      <td>1</td>\n",
       "      <td>1</td>\n",
       "      <td>1</td>\n",
       "    </tr>\n",
       "    <tr>\n",
       "      <th>1</th>\n",
       "      <td>A</td>\n",
       "      <td>11</td>\n",
       "      <td>3</td>\n",
       "      <td>3</td>\n",
       "      <td>3</td>\n",
       "    </tr>\n",
       "    <tr>\n",
       "      <th>2</th>\n",
       "      <td>A</td>\n",
       "      <td>14</td>\n",
       "      <td>4</td>\n",
       "      <td>4</td>\n",
       "      <td>4</td>\n",
       "    </tr>\n",
       "    <tr>\n",
       "      <th>3</th>\n",
       "      <td>A</td>\n",
       "      <td>17</td>\n",
       "      <td>1</td>\n",
       "      <td>1</td>\n",
       "      <td>1</td>\n",
       "    </tr>\n",
       "    <tr>\n",
       "      <th>4</th>\n",
       "      <td>B</td>\n",
       "      <td>6</td>\n",
       "      <td>6</td>\n",
       "      <td>6</td>\n",
       "      <td>6</td>\n",
       "    </tr>\n",
       "    <tr>\n",
       "      <th>5</th>\n",
       "      <td>B</td>\n",
       "      <td>10</td>\n",
       "      <td>1</td>\n",
       "      <td>1</td>\n",
       "      <td>1</td>\n",
       "    </tr>\n",
       "    <tr>\n",
       "      <th>6</th>\n",
       "      <td>B</td>\n",
       "      <td>16</td>\n",
       "      <td>1</td>\n",
       "      <td>1</td>\n",
       "      <td>1</td>\n",
       "    </tr>\n",
       "    <tr>\n",
       "      <th>7</th>\n",
       "      <td>C</td>\n",
       "      <td>3</td>\n",
       "      <td>7</td>\n",
       "      <td>7</td>\n",
       "      <td>7</td>\n",
       "    </tr>\n",
       "    <tr>\n",
       "      <th>8</th>\n",
       "      <td>C</td>\n",
       "      <td>7</td>\n",
       "      <td>2</td>\n",
       "      <td>2</td>\n",
       "      <td>2</td>\n",
       "    </tr>\n",
       "    <tr>\n",
       "      <th>9</th>\n",
       "      <td>C</td>\n",
       "      <td>12</td>\n",
       "      <td>1</td>\n",
       "      <td>1</td>\n",
       "      <td>1</td>\n",
       "    </tr>\n",
       "    <tr>\n",
       "      <th>10</th>\n",
       "      <td>C</td>\n",
       "      <td>15</td>\n",
       "      <td>5</td>\n",
       "      <td>5</td>\n",
       "      <td>5</td>\n",
       "    </tr>\n",
       "    <tr>\n",
       "      <th>11</th>\n",
       "      <td>D</td>\n",
       "      <td>1</td>\n",
       "      <td>3</td>\n",
       "      <td>3</td>\n",
       "      <td>3</td>\n",
       "    </tr>\n",
       "    <tr>\n",
       "      <th>12</th>\n",
       "      <td>D</td>\n",
       "      <td>2</td>\n",
       "      <td>2</td>\n",
       "      <td>2</td>\n",
       "      <td>2</td>\n",
       "    </tr>\n",
       "    <tr>\n",
       "      <th>13</th>\n",
       "      <td>D</td>\n",
       "      <td>4</td>\n",
       "      <td>3</td>\n",
       "      <td>3</td>\n",
       "      <td>3</td>\n",
       "    </tr>\n",
       "    <tr>\n",
       "      <th>14</th>\n",
       "      <td>D</td>\n",
       "      <td>8</td>\n",
       "      <td>3</td>\n",
       "      <td>3</td>\n",
       "      <td>3</td>\n",
       "    </tr>\n",
       "    <tr>\n",
       "      <th>15</th>\n",
       "      <td>D</td>\n",
       "      <td>9</td>\n",
       "      <td>2</td>\n",
       "      <td>2</td>\n",
       "      <td>2</td>\n",
       "    </tr>\n",
       "    <tr>\n",
       "      <th>16</th>\n",
       "      <td>D</td>\n",
       "      <td>10</td>\n",
       "      <td>1</td>\n",
       "      <td>1</td>\n",
       "      <td>1</td>\n",
       "    </tr>\n",
       "    <tr>\n",
       "      <th>17</th>\n",
       "      <td>D</td>\n",
       "      <td>13</td>\n",
       "      <td>4</td>\n",
       "      <td>4</td>\n",
       "      <td>4</td>\n",
       "    </tr>\n",
       "    <tr>\n",
       "      <th>18</th>\n",
       "      <td>E</td>\n",
       "      <td>10</td>\n",
       "      <td>4</td>\n",
       "      <td>4</td>\n",
       "      <td>4</td>\n",
       "    </tr>\n",
       "  </tbody>\n",
       "</table>\n",
       "</div>"
      ],
      "text/plain": [
       "   type  cluster  store_nbr  count  state\n",
       "0     A        5          1      1      1\n",
       "1     A       11          3      3      3\n",
       "2     A       14          4      4      4\n",
       "3     A       17          1      1      1\n",
       "4     B        6          6      6      6\n",
       "5     B       10          1      1      1\n",
       "6     B       16          1      1      1\n",
       "7     C        3          7      7      7\n",
       "8     C        7          2      2      2\n",
       "9     C       12          1      1      1\n",
       "10    C       15          5      5      5\n",
       "11    D        1          3      3      3\n",
       "12    D        2          2      2      2\n",
       "13    D        4          3      3      3\n",
       "14    D        8          3      3      3\n",
       "15    D        9          2      2      2\n",
       "16    D       10          1      1      1\n",
       "17    D       13          4      4      4\n",
       "18    E       10          4      4      4"
      ]
     },
     "execution_count": 492,
     "metadata": {},
     "output_type": "execute_result"
    }
   ],
   "source": [
    "import plotly.express as px\n",
    "\n",
    "df_storestypeclustercount = df_stores.groupby(['type','cluster']).count().reset_index()\n",
    "df_storestypeclustercount = df_storestypeclustercount.rename(columns={'city':'count'})\n",
    "\n",
    "\n",
    "Storessunburst1 = px.sunburst(df_storestypeclustercount, path=['type','cluster'], values='count',\n",
    "                               color = 'type',\n",
    "                                color_continuous_scale='RdBu',\n",
    "                                color_continuous_midpoint=np.average(df_storestypeclustercount['count'], weights=df_storestypeclustercount['count']))\n",
    "\n",
    "Storessunburst1.show()\n",
    "\n",
    "df_storestypeclustercount"
   ]
  },
  {
   "cell_type": "code",
   "execution_count": 478,
   "metadata": {
    "vscode": {
     "languageId": "javascript"
    }
   },
   "outputs": [
    {
     "name": "stderr",
     "output_type": "stream",
     "text": [
      "c:\\Users\\sebas\\OneDrive\\Documenten\\GitHub\\Supermarketcasegroupproject\\Group4B\\.venv\\lib\\site-packages\\altair\\utils\\core.py:410: FutureWarning:\n",
      "\n",
      "the convert_dtype parameter is deprecated and will be removed in a future version.  Do ``ser.astype(object).apply()`` instead if you want ``convert_dtype=False``.\n",
      "\n"
     ]
    },
    {
     "data": {
      "text/html": [
       "\n",
       "<style>\n",
       "  #altair-viz-1314db1ee84b4db1be0847294b271939.vega-embed {\n",
       "    width: 100%;\n",
       "    display: flex;\n",
       "  }\n",
       "\n",
       "  #altair-viz-1314db1ee84b4db1be0847294b271939.vega-embed details,\n",
       "  #altair-viz-1314db1ee84b4db1be0847294b271939.vega-embed details summary {\n",
       "    position: relative;\n",
       "  }\n",
       "</style>\n",
       "<div id=\"altair-viz-1314db1ee84b4db1be0847294b271939\"></div>\n",
       "<script type=\"text/javascript\">\n",
       "  var VEGA_DEBUG = (typeof VEGA_DEBUG == \"undefined\") ? {} : VEGA_DEBUG;\n",
       "  (function(spec, embedOpt){\n",
       "    let outputDiv = document.currentScript.previousElementSibling;\n",
       "    if (outputDiv.id !== \"altair-viz-1314db1ee84b4db1be0847294b271939\") {\n",
       "      outputDiv = document.getElementById(\"altair-viz-1314db1ee84b4db1be0847294b271939\");\n",
       "    }\n",
       "    const paths = {\n",
       "      \"vega\": \"https://cdn.jsdelivr.net/npm/vega@5?noext\",\n",
       "      \"vega-lib\": \"https://cdn.jsdelivr.net/npm/vega-lib?noext\",\n",
       "      \"vega-lite\": \"https://cdn.jsdelivr.net/npm/vega-lite@5.14.1?noext\",\n",
       "      \"vega-embed\": \"https://cdn.jsdelivr.net/npm/vega-embed@6?noext\",\n",
       "    };\n",
       "\n",
       "    function maybeLoadScript(lib, version) {\n",
       "      var key = `${lib.replace(\"-\", \"\")}_version`;\n",
       "      return (VEGA_DEBUG[key] == version) ?\n",
       "        Promise.resolve(paths[lib]) :\n",
       "        new Promise(function(resolve, reject) {\n",
       "          var s = document.createElement('script');\n",
       "          document.getElementsByTagName(\"head\")[0].appendChild(s);\n",
       "          s.async = true;\n",
       "          s.onload = () => {\n",
       "            VEGA_DEBUG[key] = version;\n",
       "            return resolve(paths[lib]);\n",
       "          };\n",
       "          s.onerror = () => reject(`Error loading script: ${paths[lib]}`);\n",
       "          s.src = paths[lib];\n",
       "        });\n",
       "    }\n",
       "\n",
       "    function showError(err) {\n",
       "      outputDiv.innerHTML = `<div class=\"error\" style=\"color:red;\">${err}</div>`;\n",
       "      throw err;\n",
       "    }\n",
       "\n",
       "    function displayChart(vegaEmbed) {\n",
       "      vegaEmbed(outputDiv, spec, embedOpt)\n",
       "        .catch(err => showError(`Javascript Error: ${err.message}<br>This usually means there's a typo in your chart specification. See the javascript console for the full traceback.`));\n",
       "    }\n",
       "\n",
       "    if(typeof define === \"function\" && define.amd) {\n",
       "      requirejs.config({paths});\n",
       "      require([\"vega-embed\"], displayChart, err => showError(`Error loading script: ${err.message}`));\n",
       "    } else {\n",
       "      maybeLoadScript(\"vega\", \"5\")\n",
       "        .then(() => maybeLoadScript(\"vega-lite\", \"5.14.1\"))\n",
       "        .then(() => maybeLoadScript(\"vega-embed\", \"6\"))\n",
       "        .catch(showError)\n",
       "        .then(() => displayChart(vegaEmbed));\n",
       "    }\n",
       "  })({\"config\": {\"view\": {\"continuousWidth\": 300, \"continuousHeight\": 300}, \"axis\": {\"labelFontSize\": 20, \"titleFontSize\": 20}, \"legend\": {\"titleFontSize\": 20}, \"title\": {\"fontSize\": 30}}, \"layer\": [{\"mark\": {\"type\": \"rect\"}, \"encoding\": {\"color\": {\"field\": \"count\", \"title\": \"Count\", \"type\": \"quantitative\"}, \"x\": {\"field\": \"cluster\", \"title\": \"Cluster Number\", \"type\": \"ordinal\"}, \"y\": {\"field\": \"type\", \"title\": \"Type of Store\", \"type\": \"ordinal\"}}, \"title\": \"Count of stores per Type and Cluster\"}, {\"mark\": {\"type\": \"text\", \"baseline\": \"middle\"}, \"encoding\": {\"color\": {\"condition\": {\"test\": \"(datum.count > 100)\", \"value\": \"black\"}, \"value\": \"white\"}, \"text\": {\"field\": \"count\", \"type\": \"quantitative\"}, \"x\": {\"field\": \"cluster\", \"title\": \"Cluster Number\", \"type\": \"ordinal\"}, \"y\": {\"field\": \"type\", \"title\": \"Type of Store\", \"type\": \"ordinal\"}}, \"title\": \"Count of stores per Type and Cluster\"}], \"data\": {\"name\": \"data-321dbd953ea811262f53981be11d34d8\"}, \"height\": 400, \"width\": 1000, \"$schema\": \"https://vega.github.io/schema/vega-lite/v5.14.1.json\", \"datasets\": {\"data-321dbd953ea811262f53981be11d34d8\": [{\"type\": \"A\", \"cluster\": 5, \"store_nbr\": 1, \"count\": 1, \"state\": 1}, {\"type\": \"A\", \"cluster\": 11, \"store_nbr\": 3, \"count\": 3, \"state\": 3}, {\"type\": \"A\", \"cluster\": 14, \"store_nbr\": 4, \"count\": 4, \"state\": 4}, {\"type\": \"A\", \"cluster\": 17, \"store_nbr\": 1, \"count\": 1, \"state\": 1}, {\"type\": \"B\", \"cluster\": 6, \"store_nbr\": 6, \"count\": 6, \"state\": 6}, {\"type\": \"B\", \"cluster\": 10, \"store_nbr\": 1, \"count\": 1, \"state\": 1}, {\"type\": \"B\", \"cluster\": 16, \"store_nbr\": 1, \"count\": 1, \"state\": 1}, {\"type\": \"C\", \"cluster\": 3, \"store_nbr\": 7, \"count\": 7, \"state\": 7}, {\"type\": \"C\", \"cluster\": 7, \"store_nbr\": 2, \"count\": 2, \"state\": 2}, {\"type\": \"C\", \"cluster\": 12, \"store_nbr\": 1, \"count\": 1, \"state\": 1}, {\"type\": \"C\", \"cluster\": 15, \"store_nbr\": 5, \"count\": 5, \"state\": 5}, {\"type\": \"D\", \"cluster\": 1, \"store_nbr\": 3, \"count\": 3, \"state\": 3}, {\"type\": \"D\", \"cluster\": 2, \"store_nbr\": 2, \"count\": 2, \"state\": 2}, {\"type\": \"D\", \"cluster\": 4, \"store_nbr\": 3, \"count\": 3, \"state\": 3}, {\"type\": \"D\", \"cluster\": 8, \"store_nbr\": 3, \"count\": 3, \"state\": 3}, {\"type\": \"D\", \"cluster\": 9, \"store_nbr\": 2, \"count\": 2, \"state\": 2}, {\"type\": \"D\", \"cluster\": 10, \"store_nbr\": 1, \"count\": 1, \"state\": 1}, {\"type\": \"D\", \"cluster\": 13, \"store_nbr\": 4, \"count\": 4, \"state\": 4}, {\"type\": \"E\", \"cluster\": 10, \"store_nbr\": 4, \"count\": 4, \"state\": 4}]}}, {\"mode\": \"vega-lite\"});\n",
       "</script>"
      ],
      "text/plain": [
       "alt.LayerChart(...)"
      ]
     },
     "execution_count": 478,
     "metadata": {},
     "output_type": "execute_result"
    }
   ],
   "source": [
    "heatmap = alt.Chart(df_storestypeclustercount).mark_rect().encode(\n",
    "    x=alt.X('cluster:O', title='Cluster Number'),\n",
    "    y=alt.Y('type:O', title='Type of Store'),\n",
    "    color=alt.Color('count:Q', title='Count')\n",
    ").properties(\n",
    "    title='Count of stores per Type and Cluster',\n",
    "    width = 1000,\n",
    "    height = 400\n",
    ")\n",
    "\n",
    "\n",
    "text = heatmap.mark_text(baseline='middle').encode(\n",
    "    text='count:Q',\n",
    "    color=alt.condition(\n",
    "        alt.datum.count > 100,\n",
    "        alt.value('black'),\n",
    "        alt.value('white')\n",
    "    )\n",
    ")\n",
    "\n",
    "Chartstoretypesandcluster = alt.layer(heatmap, text).configure_title(\n",
    "    fontSize=30).configure_axis(\n",
    "    titleFontSize = 20, \n",
    "    labelFontSize=20).configure_legend(\n",
    "    titleFontSize=20)\n",
    "\n",
    "Chartstoretypesandcluster"
   ]
  },
  {
   "cell_type": "markdown",
   "metadata": {},
   "source": [
    "In the above chart, we find that most store type categories consist out of multiple clusters (3-4 or 7). Only type E cosists only of cluster 10 but as stated above, there seems to be something going on with cluster 10 (as it is the only cluster that is related to multiple types of stores)"
   ]
  },
  {
   "cell_type": "code",
   "execution_count": 480,
   "metadata": {},
   "outputs": [
    {
     "data": {
      "application/vnd.plotly.v1+json": {
       "config": {
        "plotlyServerURL": "https://plot.ly"
       },
       "data": [
        {
         "branchvalues": "total",
         "domain": {
          "x": [
           0,
           1
          ],
          "y": [
           0,
           1
          ]
         },
         "hovertemplate": "labels=%{label}<br>store_nbr=%{value}<br>parent=%{parent}<br>id=%{id}<extra></extra>",
         "ids": [
          "D/1",
          "D/2",
          "C/3",
          "D/4",
          "A/5",
          "B/6",
          "C/7",
          "D/8",
          "D/9",
          "B/10",
          "D/10",
          "E/10",
          "A/11",
          "C/12",
          "D/13",
          "A/14",
          "C/15",
          "B/16",
          "A/17",
          "A",
          "B",
          "C",
          "D",
          "E"
         ],
         "labels": [
          "1",
          "2",
          "3",
          "4",
          "5",
          "6",
          "7",
          "8",
          "9",
          "10",
          "10",
          "10",
          "11",
          "12",
          "13",
          "14",
          "15",
          "16",
          "17",
          "A",
          "B",
          "C",
          "D",
          "E"
         ],
         "name": "",
         "parents": [
          "D",
          "D",
          "C",
          "D",
          "A",
          "B",
          "C",
          "D",
          "D",
          "B",
          "D",
          "E",
          "A",
          "C",
          "D",
          "A",
          "C",
          "B",
          "A",
          "",
          "",
          "",
          "",
          ""
         ],
         "type": "treemap",
         "values": [
          76,
          79,
          240,
          84,
          44,
          134,
          36,
          18,
          27,
          31,
          26,
          136,
          146,
          17,
          62,
          191,
          69,
          18,
          51,
          432,
          183,
          362,
          372,
          136
         ]
        }
       ],
       "layout": {
        "legend": {
         "tracegroupgap": 0
        },
        "margin": {
         "t": 60
        },
        "template": {
         "data": {
          "bar": [
           {
            "error_x": {
             "color": "#2a3f5f"
            },
            "error_y": {
             "color": "#2a3f5f"
            },
            "marker": {
             "line": {
              "color": "#E5ECF6",
              "width": 0.5
             },
             "pattern": {
              "fillmode": "overlay",
              "size": 10,
              "solidity": 0.2
             }
            },
            "type": "bar"
           }
          ],
          "barpolar": [
           {
            "marker": {
             "line": {
              "color": "#E5ECF6",
              "width": 0.5
             },
             "pattern": {
              "fillmode": "overlay",
              "size": 10,
              "solidity": 0.2
             }
            },
            "type": "barpolar"
           }
          ],
          "carpet": [
           {
            "aaxis": {
             "endlinecolor": "#2a3f5f",
             "gridcolor": "white",
             "linecolor": "white",
             "minorgridcolor": "white",
             "startlinecolor": "#2a3f5f"
            },
            "baxis": {
             "endlinecolor": "#2a3f5f",
             "gridcolor": "white",
             "linecolor": "white",
             "minorgridcolor": "white",
             "startlinecolor": "#2a3f5f"
            },
            "type": "carpet"
           }
          ],
          "choropleth": [
           {
            "colorbar": {
             "outlinewidth": 0,
             "ticks": ""
            },
            "type": "choropleth"
           }
          ],
          "contour": [
           {
            "colorbar": {
             "outlinewidth": 0,
             "ticks": ""
            },
            "colorscale": [
             [
              0,
              "#0d0887"
             ],
             [
              0.1111111111111111,
              "#46039f"
             ],
             [
              0.2222222222222222,
              "#7201a8"
             ],
             [
              0.3333333333333333,
              "#9c179e"
             ],
             [
              0.4444444444444444,
              "#bd3786"
             ],
             [
              0.5555555555555556,
              "#d8576b"
             ],
             [
              0.6666666666666666,
              "#ed7953"
             ],
             [
              0.7777777777777778,
              "#fb9f3a"
             ],
             [
              0.8888888888888888,
              "#fdca26"
             ],
             [
              1,
              "#f0f921"
             ]
            ],
            "type": "contour"
           }
          ],
          "contourcarpet": [
           {
            "colorbar": {
             "outlinewidth": 0,
             "ticks": ""
            },
            "type": "contourcarpet"
           }
          ],
          "heatmap": [
           {
            "colorbar": {
             "outlinewidth": 0,
             "ticks": ""
            },
            "colorscale": [
             [
              0,
              "#0d0887"
             ],
             [
              0.1111111111111111,
              "#46039f"
             ],
             [
              0.2222222222222222,
              "#7201a8"
             ],
             [
              0.3333333333333333,
              "#9c179e"
             ],
             [
              0.4444444444444444,
              "#bd3786"
             ],
             [
              0.5555555555555556,
              "#d8576b"
             ],
             [
              0.6666666666666666,
              "#ed7953"
             ],
             [
              0.7777777777777778,
              "#fb9f3a"
             ],
             [
              0.8888888888888888,
              "#fdca26"
             ],
             [
              1,
              "#f0f921"
             ]
            ],
            "type": "heatmap"
           }
          ],
          "heatmapgl": [
           {
            "colorbar": {
             "outlinewidth": 0,
             "ticks": ""
            },
            "colorscale": [
             [
              0,
              "#0d0887"
             ],
             [
              0.1111111111111111,
              "#46039f"
             ],
             [
              0.2222222222222222,
              "#7201a8"
             ],
             [
              0.3333333333333333,
              "#9c179e"
             ],
             [
              0.4444444444444444,
              "#bd3786"
             ],
             [
              0.5555555555555556,
              "#d8576b"
             ],
             [
              0.6666666666666666,
              "#ed7953"
             ],
             [
              0.7777777777777778,
              "#fb9f3a"
             ],
             [
              0.8888888888888888,
              "#fdca26"
             ],
             [
              1,
              "#f0f921"
             ]
            ],
            "type": "heatmapgl"
           }
          ],
          "histogram": [
           {
            "marker": {
             "pattern": {
              "fillmode": "overlay",
              "size": 10,
              "solidity": 0.2
             }
            },
            "type": "histogram"
           }
          ],
          "histogram2d": [
           {
            "colorbar": {
             "outlinewidth": 0,
             "ticks": ""
            },
            "colorscale": [
             [
              0,
              "#0d0887"
             ],
             [
              0.1111111111111111,
              "#46039f"
             ],
             [
              0.2222222222222222,
              "#7201a8"
             ],
             [
              0.3333333333333333,
              "#9c179e"
             ],
             [
              0.4444444444444444,
              "#bd3786"
             ],
             [
              0.5555555555555556,
              "#d8576b"
             ],
             [
              0.6666666666666666,
              "#ed7953"
             ],
             [
              0.7777777777777778,
              "#fb9f3a"
             ],
             [
              0.8888888888888888,
              "#fdca26"
             ],
             [
              1,
              "#f0f921"
             ]
            ],
            "type": "histogram2d"
           }
          ],
          "histogram2dcontour": [
           {
            "colorbar": {
             "outlinewidth": 0,
             "ticks": ""
            },
            "colorscale": [
             [
              0,
              "#0d0887"
             ],
             [
              0.1111111111111111,
              "#46039f"
             ],
             [
              0.2222222222222222,
              "#7201a8"
             ],
             [
              0.3333333333333333,
              "#9c179e"
             ],
             [
              0.4444444444444444,
              "#bd3786"
             ],
             [
              0.5555555555555556,
              "#d8576b"
             ],
             [
              0.6666666666666666,
              "#ed7953"
             ],
             [
              0.7777777777777778,
              "#fb9f3a"
             ],
             [
              0.8888888888888888,
              "#fdca26"
             ],
             [
              1,
              "#f0f921"
             ]
            ],
            "type": "histogram2dcontour"
           }
          ],
          "mesh3d": [
           {
            "colorbar": {
             "outlinewidth": 0,
             "ticks": ""
            },
            "type": "mesh3d"
           }
          ],
          "parcoords": [
           {
            "line": {
             "colorbar": {
              "outlinewidth": 0,
              "ticks": ""
             }
            },
            "type": "parcoords"
           }
          ],
          "pie": [
           {
            "automargin": true,
            "type": "pie"
           }
          ],
          "scatter": [
           {
            "fillpattern": {
             "fillmode": "overlay",
             "size": 10,
             "solidity": 0.2
            },
            "type": "scatter"
           }
          ],
          "scatter3d": [
           {
            "line": {
             "colorbar": {
              "outlinewidth": 0,
              "ticks": ""
             }
            },
            "marker": {
             "colorbar": {
              "outlinewidth": 0,
              "ticks": ""
             }
            },
            "type": "scatter3d"
           }
          ],
          "scattercarpet": [
           {
            "marker": {
             "colorbar": {
              "outlinewidth": 0,
              "ticks": ""
             }
            },
            "type": "scattercarpet"
           }
          ],
          "scattergeo": [
           {
            "marker": {
             "colorbar": {
              "outlinewidth": 0,
              "ticks": ""
             }
            },
            "type": "scattergeo"
           }
          ],
          "scattergl": [
           {
            "marker": {
             "colorbar": {
              "outlinewidth": 0,
              "ticks": ""
             }
            },
            "type": "scattergl"
           }
          ],
          "scattermapbox": [
           {
            "marker": {
             "colorbar": {
              "outlinewidth": 0,
              "ticks": ""
             }
            },
            "type": "scattermapbox"
           }
          ],
          "scatterpolar": [
           {
            "marker": {
             "colorbar": {
              "outlinewidth": 0,
              "ticks": ""
             }
            },
            "type": "scatterpolar"
           }
          ],
          "scatterpolargl": [
           {
            "marker": {
             "colorbar": {
              "outlinewidth": 0,
              "ticks": ""
             }
            },
            "type": "scatterpolargl"
           }
          ],
          "scatterternary": [
           {
            "marker": {
             "colorbar": {
              "outlinewidth": 0,
              "ticks": ""
             }
            },
            "type": "scatterternary"
           }
          ],
          "surface": [
           {
            "colorbar": {
             "outlinewidth": 0,
             "ticks": ""
            },
            "colorscale": [
             [
              0,
              "#0d0887"
             ],
             [
              0.1111111111111111,
              "#46039f"
             ],
             [
              0.2222222222222222,
              "#7201a8"
             ],
             [
              0.3333333333333333,
              "#9c179e"
             ],
             [
              0.4444444444444444,
              "#bd3786"
             ],
             [
              0.5555555555555556,
              "#d8576b"
             ],
             [
              0.6666666666666666,
              "#ed7953"
             ],
             [
              0.7777777777777778,
              "#fb9f3a"
             ],
             [
              0.8888888888888888,
              "#fdca26"
             ],
             [
              1,
              "#f0f921"
             ]
            ],
            "type": "surface"
           }
          ],
          "table": [
           {
            "cells": {
             "fill": {
              "color": "#EBF0F8"
             },
             "line": {
              "color": "white"
             }
            },
            "header": {
             "fill": {
              "color": "#C8D4E3"
             },
             "line": {
              "color": "white"
             }
            },
            "type": "table"
           }
          ]
         },
         "layout": {
          "annotationdefaults": {
           "arrowcolor": "#2a3f5f",
           "arrowhead": 0,
           "arrowwidth": 1
          },
          "autotypenumbers": "strict",
          "coloraxis": {
           "colorbar": {
            "outlinewidth": 0,
            "ticks": ""
           }
          },
          "colorscale": {
           "diverging": [
            [
             0,
             "#8e0152"
            ],
            [
             0.1,
             "#c51b7d"
            ],
            [
             0.2,
             "#de77ae"
            ],
            [
             0.3,
             "#f1b6da"
            ],
            [
             0.4,
             "#fde0ef"
            ],
            [
             0.5,
             "#f7f7f7"
            ],
            [
             0.6,
             "#e6f5d0"
            ],
            [
             0.7,
             "#b8e186"
            ],
            [
             0.8,
             "#7fbc41"
            ],
            [
             0.9,
             "#4d9221"
            ],
            [
             1,
             "#276419"
            ]
           ],
           "sequential": [
            [
             0,
             "#0d0887"
            ],
            [
             0.1111111111111111,
             "#46039f"
            ],
            [
             0.2222222222222222,
             "#7201a8"
            ],
            [
             0.3333333333333333,
             "#9c179e"
            ],
            [
             0.4444444444444444,
             "#bd3786"
            ],
            [
             0.5555555555555556,
             "#d8576b"
            ],
            [
             0.6666666666666666,
             "#ed7953"
            ],
            [
             0.7777777777777778,
             "#fb9f3a"
            ],
            [
             0.8888888888888888,
             "#fdca26"
            ],
            [
             1,
             "#f0f921"
            ]
           ],
           "sequentialminus": [
            [
             0,
             "#0d0887"
            ],
            [
             0.1111111111111111,
             "#46039f"
            ],
            [
             0.2222222222222222,
             "#7201a8"
            ],
            [
             0.3333333333333333,
             "#9c179e"
            ],
            [
             0.4444444444444444,
             "#bd3786"
            ],
            [
             0.5555555555555556,
             "#d8576b"
            ],
            [
             0.6666666666666666,
             "#ed7953"
            ],
            [
             0.7777777777777778,
             "#fb9f3a"
            ],
            [
             0.8888888888888888,
             "#fdca26"
            ],
            [
             1,
             "#f0f921"
            ]
           ]
          },
          "colorway": [
           "#636efa",
           "#EF553B",
           "#00cc96",
           "#ab63fa",
           "#FFA15A",
           "#19d3f3",
           "#FF6692",
           "#B6E880",
           "#FF97FF",
           "#FECB52"
          ],
          "font": {
           "color": "#2a3f5f"
          },
          "geo": {
           "bgcolor": "white",
           "lakecolor": "white",
           "landcolor": "#E5ECF6",
           "showlakes": true,
           "showland": true,
           "subunitcolor": "white"
          },
          "hoverlabel": {
           "align": "left"
          },
          "hovermode": "closest",
          "mapbox": {
           "style": "light"
          },
          "paper_bgcolor": "white",
          "plot_bgcolor": "#E5ECF6",
          "polar": {
           "angularaxis": {
            "gridcolor": "white",
            "linecolor": "white",
            "ticks": ""
           },
           "bgcolor": "#E5ECF6",
           "radialaxis": {
            "gridcolor": "white",
            "linecolor": "white",
            "ticks": ""
           }
          },
          "scene": {
           "xaxis": {
            "backgroundcolor": "#E5ECF6",
            "gridcolor": "white",
            "gridwidth": 2,
            "linecolor": "white",
            "showbackground": true,
            "ticks": "",
            "zerolinecolor": "white"
           },
           "yaxis": {
            "backgroundcolor": "#E5ECF6",
            "gridcolor": "white",
            "gridwidth": 2,
            "linecolor": "white",
            "showbackground": true,
            "ticks": "",
            "zerolinecolor": "white"
           },
           "zaxis": {
            "backgroundcolor": "#E5ECF6",
            "gridcolor": "white",
            "gridwidth": 2,
            "linecolor": "white",
            "showbackground": true,
            "ticks": "",
            "zerolinecolor": "white"
           }
          },
          "shapedefaults": {
           "line": {
            "color": "#2a3f5f"
           }
          },
          "ternary": {
           "aaxis": {
            "gridcolor": "white",
            "linecolor": "white",
            "ticks": ""
           },
           "baxis": {
            "gridcolor": "white",
            "linecolor": "white",
            "ticks": ""
           },
           "bgcolor": "#E5ECF6",
           "caxis": {
            "gridcolor": "white",
            "linecolor": "white",
            "ticks": ""
           }
          },
          "title": {
           "x": 0.05
          },
          "xaxis": {
           "automargin": true,
           "gridcolor": "white",
           "linecolor": "white",
           "ticks": "",
           "title": {
            "standoff": 15
           },
           "zerolinecolor": "white",
           "zerolinewidth": 2
          },
          "yaxis": {
           "automargin": true,
           "gridcolor": "white",
           "linecolor": "white",
           "ticks": "",
           "title": {
            "standoff": 15
           },
           "zerolinecolor": "white",
           "zerolinewidth": 2
          }
         }
        }
       }
      }
     },
     "metadata": {},
     "output_type": "display_data"
    }
   ],
   "source": [
    "import plotly.express as px\n",
    "\n",
    "fig = px.treemap(df_stores, path=[ 'type','cluster'], values='store_nbr', color_continuous_scale= 'rdbu')\n",
    "fig.show()"
   ]
  },
  {
   "cell_type": "code",
   "execution_count": 491,
   "metadata": {},
   "outputs": [
    {
     "data": {
      "text/html": [
       "<div style=\"width:100%;\"><div style=\"position:relative;width:100%;height:0;padding-bottom:60%;\"><span style=\"color:#565656\">Make this Notebook Trusted to load map: File -> Trust Notebook</span><iframe srcdoc=\"&lt;!DOCTYPE html&gt;\n",
       "&lt;html&gt;\n",
       "&lt;head&gt;\n",
       "    \n",
       "    &lt;meta http-equiv=&quot;content-type&quot; content=&quot;text/html; charset=UTF-8&quot; /&gt;\n",
       "    \n",
       "        &lt;script&gt;\n",
       "            L_NO_TOUCH = false;\n",
       "            L_DISABLE_3D = false;\n",
       "        &lt;/script&gt;\n",
       "    \n",
       "    &lt;style&gt;html, body {width: 100%;height: 100%;margin: 0;padding: 0;}&lt;/style&gt;\n",
       "    &lt;style&gt;#map {position:absolute;top:0;bottom:0;right:0;left:0;}&lt;/style&gt;\n",
       "    &lt;script src=&quot;https://cdn.jsdelivr.net/npm/leaflet@1.9.3/dist/leaflet.js&quot;&gt;&lt;/script&gt;\n",
       "    &lt;script src=&quot;https://code.jquery.com/jquery-3.7.1.min.js&quot;&gt;&lt;/script&gt;\n",
       "    &lt;script src=&quot;https://cdn.jsdelivr.net/npm/bootstrap@5.2.2/dist/js/bootstrap.bundle.min.js&quot;&gt;&lt;/script&gt;\n",
       "    &lt;script src=&quot;https://cdnjs.cloudflare.com/ajax/libs/Leaflet.awesome-markers/2.0.2/leaflet.awesome-markers.js&quot;&gt;&lt;/script&gt;\n",
       "    &lt;link rel=&quot;stylesheet&quot; href=&quot;https://cdn.jsdelivr.net/npm/leaflet@1.9.3/dist/leaflet.css&quot;/&gt;\n",
       "    &lt;link rel=&quot;stylesheet&quot; href=&quot;https://cdn.jsdelivr.net/npm/bootstrap@5.2.2/dist/css/bootstrap.min.css&quot;/&gt;\n",
       "    &lt;link rel=&quot;stylesheet&quot; href=&quot;https://netdna.bootstrapcdn.com/bootstrap/3.0.0/css/bootstrap.min.css&quot;/&gt;\n",
       "    &lt;link rel=&quot;stylesheet&quot; href=&quot;https://cdn.jsdelivr.net/npm/@fortawesome/fontawesome-free@6.2.0/css/all.min.css&quot;/&gt;\n",
       "    &lt;link rel=&quot;stylesheet&quot; href=&quot;https://cdnjs.cloudflare.com/ajax/libs/Leaflet.awesome-markers/2.0.2/leaflet.awesome-markers.css&quot;/&gt;\n",
       "    &lt;link rel=&quot;stylesheet&quot; href=&quot;https://cdn.jsdelivr.net/gh/python-visualization/folium/folium/templates/leaflet.awesome.rotate.min.css&quot;/&gt;\n",
       "    \n",
       "            &lt;meta name=&quot;viewport&quot; content=&quot;width=device-width,\n",
       "                initial-scale=1.0, maximum-scale=1.0, user-scalable=no&quot; /&gt;\n",
       "            &lt;style&gt;\n",
       "                #map_dc9d16926369863c012a8eae76921049 {\n",
       "                    position: relative;\n",
       "                    width: 100.0%;\n",
       "                    height: 100.0%;\n",
       "                    left: 0.0%;\n",
       "                    top: 0.0%;\n",
       "                }\n",
       "                .leaflet-container { font-size: 1rem; }\n",
       "            &lt;/style&gt;\n",
       "        \n",
       "&lt;/head&gt;\n",
       "&lt;body&gt;\n",
       "    \n",
       "    \n",
       "            &lt;div class=&quot;folium-map&quot; id=&quot;map_dc9d16926369863c012a8eae76921049&quot; &gt;&lt;/div&gt;\n",
       "        \n",
       "&lt;/body&gt;\n",
       "&lt;script&gt;\n",
       "    \n",
       "    \n",
       "            var map_dc9d16926369863c012a8eae76921049 = L.map(\n",
       "                &quot;map_dc9d16926369863c012a8eae76921049&quot;,\n",
       "                {\n",
       "                    center: [-1.8312, -78.1834],\n",
       "                    crs: L.CRS.EPSG3857,\n",
       "                    zoom: 7,\n",
       "                    zoomControl: true,\n",
       "                    preferCanvas: false,\n",
       "                }\n",
       "            );\n",
       "\n",
       "            \n",
       "\n",
       "        \n",
       "    \n",
       "            var tile_layer_f408e3f00cb83f070667617fdb4dcd6d = L.tileLayer(\n",
       "                &quot;https://tile.openstreetmap.org/{z}/{x}/{y}.png&quot;,\n",
       "                {&quot;attribution&quot;: &quot;\\u0026copy; \\u003ca href=\\&quot;https://www.openstreetmap.org/copyright\\&quot;\\u003eOpenStreetMap\\u003c/a\\u003e contributors&quot;, &quot;detectRetina&quot;: false, &quot;maxNativeZoom&quot;: 19, &quot;maxZoom&quot;: 19, &quot;minZoom&quot;: 0, &quot;noWrap&quot;: false, &quot;opacity&quot;: 1, &quot;subdomains&quot;: &quot;abc&quot;, &quot;tms&quot;: false}\n",
       "            );\n",
       "        \n",
       "    \n",
       "            tile_layer_f408e3f00cb83f070667617fdb4dcd6d.addTo(map_dc9d16926369863c012a8eae76921049);\n",
       "        \n",
       "    \n",
       "            var marker_4a2ace03209a14d8a78fb8c9d18a76b9 = L.marker(\n",
       "                [-0.22, -78.5125],\n",
       "                {}\n",
       "            ).addTo(map_dc9d16926369863c012a8eae76921049);\n",
       "        \n",
       "    \n",
       "            var icon_81ff0660d7223c55d78206b8f6ebeb21 = L.AwesomeMarkers.icon(\n",
       "                {&quot;extraClasses&quot;: &quot;fa-rotate-0&quot;, &quot;icon&quot;: &quot;leaf&quot;, &quot;iconColor&quot;: &quot;white&quot;, &quot;markerColor&quot;: &quot;blue&quot;, &quot;prefix&quot;: &quot;glyphicon&quot;}\n",
       "            );\n",
       "            marker_4a2ace03209a14d8a78fb8c9d18a76b9.setIcon(icon_81ff0660d7223c55d78206b8f6ebeb21);\n",
       "        \n",
       "    \n",
       "        var popup_e60c4e1f9509f86ffedd2553c713af0a = L.popup({&quot;maxWidth&quot;: &quot;100%&quot;});\n",
       "\n",
       "        \n",
       "            \n",
       "                var html_03dfbba75fcd8a7156e6a271d10edf52 = $(`&lt;div id=&quot;html_03dfbba75fcd8a7156e6a271d10edf52&quot; style=&quot;width: 100.0%; height: 100.0%;&quot;&gt;Quito&lt;/div&gt;`)[0];\n",
       "                popup_e60c4e1f9509f86ffedd2553c713af0a.setContent(html_03dfbba75fcd8a7156e6a271d10edf52);\n",
       "            \n",
       "        \n",
       "\n",
       "        marker_4a2ace03209a14d8a78fb8c9d18a76b9.bindPopup(popup_e60c4e1f9509f86ffedd2553c713af0a)\n",
       "        ;\n",
       "\n",
       "        \n",
       "    \n",
       "    \n",
       "            var marker_7644b66b5d2cbc03a5e1fde95b9f8508 = L.marker(\n",
       "                [-0.22, -78.5125],\n",
       "                {}\n",
       "            ).addTo(map_dc9d16926369863c012a8eae76921049);\n",
       "        \n",
       "    \n",
       "            var icon_2fac008fa11b1a8d4e6d176dae476aa0 = L.AwesomeMarkers.icon(\n",
       "                {&quot;extraClasses&quot;: &quot;fa-rotate-0&quot;, &quot;icon&quot;: &quot;leaf&quot;, &quot;iconColor&quot;: &quot;white&quot;, &quot;markerColor&quot;: &quot;blue&quot;, &quot;prefix&quot;: &quot;glyphicon&quot;}\n",
       "            );\n",
       "            marker_7644b66b5d2cbc03a5e1fde95b9f8508.setIcon(icon_2fac008fa11b1a8d4e6d176dae476aa0);\n",
       "        \n",
       "    \n",
       "        var popup_f17f39bb7afb9c776d25ac9a653ea481 = L.popup({&quot;maxWidth&quot;: &quot;100%&quot;});\n",
       "\n",
       "        \n",
       "            \n",
       "                var html_e23e948f8d3057336984af800a14e769 = $(`&lt;div id=&quot;html_e23e948f8d3057336984af800a14e769&quot; style=&quot;width: 100.0%; height: 100.0%;&quot;&gt;Quito&lt;/div&gt;`)[0];\n",
       "                popup_f17f39bb7afb9c776d25ac9a653ea481.setContent(html_e23e948f8d3057336984af800a14e769);\n",
       "            \n",
       "        \n",
       "\n",
       "        marker_7644b66b5d2cbc03a5e1fde95b9f8508.bindPopup(popup_f17f39bb7afb9c776d25ac9a653ea481)\n",
       "        ;\n",
       "\n",
       "        \n",
       "    \n",
       "    \n",
       "            var marker_fc99e650cc045c3e1b6c11f790c03967 = L.marker(\n",
       "                [-0.22, -78.5125],\n",
       "                {}\n",
       "            ).addTo(map_dc9d16926369863c012a8eae76921049);\n",
       "        \n",
       "    \n",
       "            var icon_a2c7a6647ef0ef6e90db824f63efd5b0 = L.AwesomeMarkers.icon(\n",
       "                {&quot;extraClasses&quot;: &quot;fa-rotate-0&quot;, &quot;icon&quot;: &quot;leaf&quot;, &quot;iconColor&quot;: &quot;white&quot;, &quot;markerColor&quot;: &quot;blue&quot;, &quot;prefix&quot;: &quot;glyphicon&quot;}\n",
       "            );\n",
       "            marker_fc99e650cc045c3e1b6c11f790c03967.setIcon(icon_a2c7a6647ef0ef6e90db824f63efd5b0);\n",
       "        \n",
       "    \n",
       "        var popup_383aeb9b7d80b605e4d011c94858886a = L.popup({&quot;maxWidth&quot;: &quot;100%&quot;});\n",
       "\n",
       "        \n",
       "            \n",
       "                var html_623aa4a2d1507333571bd555f294f575 = $(`&lt;div id=&quot;html_623aa4a2d1507333571bd555f294f575&quot; style=&quot;width: 100.0%; height: 100.0%;&quot;&gt;Quito&lt;/div&gt;`)[0];\n",
       "                popup_383aeb9b7d80b605e4d011c94858886a.setContent(html_623aa4a2d1507333571bd555f294f575);\n",
       "            \n",
       "        \n",
       "\n",
       "        marker_fc99e650cc045c3e1b6c11f790c03967.bindPopup(popup_383aeb9b7d80b605e4d011c94858886a)\n",
       "        ;\n",
       "\n",
       "        \n",
       "    \n",
       "    \n",
       "            var marker_0aa89a4a7e6a387b4804e7f80af0d0cc = L.marker(\n",
       "                [-0.22, -78.5125],\n",
       "                {}\n",
       "            ).addTo(map_dc9d16926369863c012a8eae76921049);\n",
       "        \n",
       "    \n",
       "            var icon_2fee53a3723535816f9dcd147230645d = L.AwesomeMarkers.icon(\n",
       "                {&quot;extraClasses&quot;: &quot;fa-rotate-0&quot;, &quot;icon&quot;: &quot;leaf&quot;, &quot;iconColor&quot;: &quot;white&quot;, &quot;markerColor&quot;: &quot;blue&quot;, &quot;prefix&quot;: &quot;glyphicon&quot;}\n",
       "            );\n",
       "            marker_0aa89a4a7e6a387b4804e7f80af0d0cc.setIcon(icon_2fee53a3723535816f9dcd147230645d);\n",
       "        \n",
       "    \n",
       "        var popup_0183690e070b762c35a48a951f388b0e = L.popup({&quot;maxWidth&quot;: &quot;100%&quot;});\n",
       "\n",
       "        \n",
       "            \n",
       "                var html_ba3bc141d048b350c20fb6878070e108 = $(`&lt;div id=&quot;html_ba3bc141d048b350c20fb6878070e108&quot; style=&quot;width: 100.0%; height: 100.0%;&quot;&gt;Quito&lt;/div&gt;`)[0];\n",
       "                popup_0183690e070b762c35a48a951f388b0e.setContent(html_ba3bc141d048b350c20fb6878070e108);\n",
       "            \n",
       "        \n",
       "\n",
       "        marker_0aa89a4a7e6a387b4804e7f80af0d0cc.bindPopup(popup_0183690e070b762c35a48a951f388b0e)\n",
       "        ;\n",
       "\n",
       "        \n",
       "    \n",
       "    \n",
       "            var marker_fe37d1eaf13a61a428eb442dc9f0928c = L.marker(\n",
       "                [-0.2542, -79.1719],\n",
       "                {}\n",
       "            ).addTo(map_dc9d16926369863c012a8eae76921049);\n",
       "        \n",
       "    \n",
       "            var icon_2625a5553519d4594a12fc20fa5f1fa0 = L.AwesomeMarkers.icon(\n",
       "                {&quot;extraClasses&quot;: &quot;fa-rotate-0&quot;, &quot;icon&quot;: &quot;leaf&quot;, &quot;iconColor&quot;: &quot;white&quot;, &quot;markerColor&quot;: &quot;blue&quot;, &quot;prefix&quot;: &quot;glyphicon&quot;}\n",
       "            );\n",
       "            marker_fe37d1eaf13a61a428eb442dc9f0928c.setIcon(icon_2625a5553519d4594a12fc20fa5f1fa0);\n",
       "        \n",
       "    \n",
       "        var popup_2ea347fca145f5086eac286011df4fe8 = L.popup({&quot;maxWidth&quot;: &quot;100%&quot;});\n",
       "\n",
       "        \n",
       "            \n",
       "                var html_bc16ef48caaa8b28bc13aa6b3e099f14 = $(`&lt;div id=&quot;html_bc16ef48caaa8b28bc13aa6b3e099f14&quot; style=&quot;width: 100.0%; height: 100.0%;&quot;&gt;Santo Domingo&lt;/div&gt;`)[0];\n",
       "                popup_2ea347fca145f5086eac286011df4fe8.setContent(html_bc16ef48caaa8b28bc13aa6b3e099f14);\n",
       "            \n",
       "        \n",
       "\n",
       "        marker_fe37d1eaf13a61a428eb442dc9f0928c.bindPopup(popup_2ea347fca145f5086eac286011df4fe8)\n",
       "        ;\n",
       "\n",
       "        \n",
       "    \n",
       "    \n",
       "            var marker_b20cf50b681574883b1601bb5e9d3bf4 = L.marker(\n",
       "                [-0.22, -78.5125],\n",
       "                {}\n",
       "            ).addTo(map_dc9d16926369863c012a8eae76921049);\n",
       "        \n",
       "    \n",
       "            var icon_f9c7e13ca75182d254d3ed241370d149 = L.AwesomeMarkers.icon(\n",
       "                {&quot;extraClasses&quot;: &quot;fa-rotate-0&quot;, &quot;icon&quot;: &quot;leaf&quot;, &quot;iconColor&quot;: &quot;white&quot;, &quot;markerColor&quot;: &quot;blue&quot;, &quot;prefix&quot;: &quot;glyphicon&quot;}\n",
       "            );\n",
       "            marker_b20cf50b681574883b1601bb5e9d3bf4.setIcon(icon_f9c7e13ca75182d254d3ed241370d149);\n",
       "        \n",
       "    \n",
       "        var popup_48af0b786c30b32aa56e4e44c01f862d = L.popup({&quot;maxWidth&quot;: &quot;100%&quot;});\n",
       "\n",
       "        \n",
       "            \n",
       "                var html_263971865749826def319c08328285b1 = $(`&lt;div id=&quot;html_263971865749826def319c08328285b1&quot; style=&quot;width: 100.0%; height: 100.0%;&quot;&gt;Quito&lt;/div&gt;`)[0];\n",
       "                popup_48af0b786c30b32aa56e4e44c01f862d.setContent(html_263971865749826def319c08328285b1);\n",
       "            \n",
       "        \n",
       "\n",
       "        marker_b20cf50b681574883b1601bb5e9d3bf4.bindPopup(popup_48af0b786c30b32aa56e4e44c01f862d)\n",
       "        ;\n",
       "\n",
       "        \n",
       "    \n",
       "    \n",
       "            var marker_b009a6ca74d4e3bbea5116608fd8c158 = L.marker(\n",
       "                [-0.22, -78.5125],\n",
       "                {}\n",
       "            ).addTo(map_dc9d16926369863c012a8eae76921049);\n",
       "        \n",
       "    \n",
       "            var icon_ddc144dc3325d0b573ca416324ad1c95 = L.AwesomeMarkers.icon(\n",
       "                {&quot;extraClasses&quot;: &quot;fa-rotate-0&quot;, &quot;icon&quot;: &quot;leaf&quot;, &quot;iconColor&quot;: &quot;white&quot;, &quot;markerColor&quot;: &quot;blue&quot;, &quot;prefix&quot;: &quot;glyphicon&quot;}\n",
       "            );\n",
       "            marker_b009a6ca74d4e3bbea5116608fd8c158.setIcon(icon_ddc144dc3325d0b573ca416324ad1c95);\n",
       "        \n",
       "    \n",
       "        var popup_4f2a0faea502f6fd8965a8b96c4c6158 = L.popup({&quot;maxWidth&quot;: &quot;100%&quot;});\n",
       "\n",
       "        \n",
       "            \n",
       "                var html_ba45a4b57c2577a089bd7206e0b64de3 = $(`&lt;div id=&quot;html_ba45a4b57c2577a089bd7206e0b64de3&quot; style=&quot;width: 100.0%; height: 100.0%;&quot;&gt;Quito&lt;/div&gt;`)[0];\n",
       "                popup_4f2a0faea502f6fd8965a8b96c4c6158.setContent(html_ba45a4b57c2577a089bd7206e0b64de3);\n",
       "            \n",
       "        \n",
       "\n",
       "        marker_b009a6ca74d4e3bbea5116608fd8c158.bindPopup(popup_4f2a0faea502f6fd8965a8b96c4c6158)\n",
       "        ;\n",
       "\n",
       "        \n",
       "    \n",
       "    \n",
       "            var marker_c8ae366574a061b9057f849f3676d759 = L.marker(\n",
       "                [-0.22, -78.5125],\n",
       "                {}\n",
       "            ).addTo(map_dc9d16926369863c012a8eae76921049);\n",
       "        \n",
       "    \n",
       "            var icon_6a49a75d188deb1f7d06f59293367e27 = L.AwesomeMarkers.icon(\n",
       "                {&quot;extraClasses&quot;: &quot;fa-rotate-0&quot;, &quot;icon&quot;: &quot;leaf&quot;, &quot;iconColor&quot;: &quot;white&quot;, &quot;markerColor&quot;: &quot;blue&quot;, &quot;prefix&quot;: &quot;glyphicon&quot;}\n",
       "            );\n",
       "            marker_c8ae366574a061b9057f849f3676d759.setIcon(icon_6a49a75d188deb1f7d06f59293367e27);\n",
       "        \n",
       "    \n",
       "        var popup_8d619d3a8f99ea28bf18f41a9aa82049 = L.popup({&quot;maxWidth&quot;: &quot;100%&quot;});\n",
       "\n",
       "        \n",
       "            \n",
       "                var html_9045355212b45f9e678b8a4f963e2f56 = $(`&lt;div id=&quot;html_9045355212b45f9e678b8a4f963e2f56&quot; style=&quot;width: 100.0%; height: 100.0%;&quot;&gt;Quito&lt;/div&gt;`)[0];\n",
       "                popup_8d619d3a8f99ea28bf18f41a9aa82049.setContent(html_9045355212b45f9e678b8a4f963e2f56);\n",
       "            \n",
       "        \n",
       "\n",
       "        marker_c8ae366574a061b9057f849f3676d759.bindPopup(popup_8d619d3a8f99ea28bf18f41a9aa82049)\n",
       "        ;\n",
       "\n",
       "        \n",
       "    \n",
       "    \n",
       "            var marker_e73bef226789f999e86b394a44970899 = L.marker(\n",
       "                [-0.22, -78.5125],\n",
       "                {}\n",
       "            ).addTo(map_dc9d16926369863c012a8eae76921049);\n",
       "        \n",
       "    \n",
       "            var icon_c49ac6078b444128f9c220be77a3f0d5 = L.AwesomeMarkers.icon(\n",
       "                {&quot;extraClasses&quot;: &quot;fa-rotate-0&quot;, &quot;icon&quot;: &quot;leaf&quot;, &quot;iconColor&quot;: &quot;white&quot;, &quot;markerColor&quot;: &quot;blue&quot;, &quot;prefix&quot;: &quot;glyphicon&quot;}\n",
       "            );\n",
       "            marker_e73bef226789f999e86b394a44970899.setIcon(icon_c49ac6078b444128f9c220be77a3f0d5);\n",
       "        \n",
       "    \n",
       "        var popup_db70359be3c9766b69dbc2d3cfc974b1 = L.popup({&quot;maxWidth&quot;: &quot;100%&quot;});\n",
       "\n",
       "        \n",
       "            \n",
       "                var html_4c2579d6692f7b0e02ee0321d80f0f1f = $(`&lt;div id=&quot;html_4c2579d6692f7b0e02ee0321d80f0f1f&quot; style=&quot;width: 100.0%; height: 100.0%;&quot;&gt;Quito&lt;/div&gt;`)[0];\n",
       "                popup_db70359be3c9766b69dbc2d3cfc974b1.setContent(html_4c2579d6692f7b0e02ee0321d80f0f1f);\n",
       "            \n",
       "        \n",
       "\n",
       "        marker_e73bef226789f999e86b394a44970899.bindPopup(popup_db70359be3c9766b69dbc2d3cfc974b1)\n",
       "        ;\n",
       "\n",
       "        \n",
       "    \n",
       "    \n",
       "            var marker_273dbc3788c7700861d6e42bc9157319 = L.marker(\n",
       "                [-0.22, -78.5125],\n",
       "                {}\n",
       "            ).addTo(map_dc9d16926369863c012a8eae76921049);\n",
       "        \n",
       "    \n",
       "            var icon_3a3a7cd3699908e5b2c68e4aa01f8bd8 = L.AwesomeMarkers.icon(\n",
       "                {&quot;extraClasses&quot;: &quot;fa-rotate-0&quot;, &quot;icon&quot;: &quot;leaf&quot;, &quot;iconColor&quot;: &quot;white&quot;, &quot;markerColor&quot;: &quot;blue&quot;, &quot;prefix&quot;: &quot;glyphicon&quot;}\n",
       "            );\n",
       "            marker_273dbc3788c7700861d6e42bc9157319.setIcon(icon_3a3a7cd3699908e5b2c68e4aa01f8bd8);\n",
       "        \n",
       "    \n",
       "        var popup_dca91dbe5627c1684365a8eaf83bc1d3 = L.popup({&quot;maxWidth&quot;: &quot;100%&quot;});\n",
       "\n",
       "        \n",
       "            \n",
       "                var html_6d3c43e6565b0bfccf01d3c2386ccb87 = $(`&lt;div id=&quot;html_6d3c43e6565b0bfccf01d3c2386ccb87&quot; style=&quot;width: 100.0%; height: 100.0%;&quot;&gt;Quito&lt;/div&gt;`)[0];\n",
       "                popup_dca91dbe5627c1684365a8eaf83bc1d3.setContent(html_6d3c43e6565b0bfccf01d3c2386ccb87);\n",
       "            \n",
       "        \n",
       "\n",
       "        marker_273dbc3788c7700861d6e42bc9157319.bindPopup(popup_dca91dbe5627c1684365a8eaf83bc1d3)\n",
       "        ;\n",
       "\n",
       "        \n",
       "    \n",
       "    \n",
       "            var marker_0d9a2d12facf7bd372b8c2b2e662767f = L.marker(\n",
       "                [0.04084, -78.14524],\n",
       "                {}\n",
       "            ).addTo(map_dc9d16926369863c012a8eae76921049);\n",
       "        \n",
       "    \n",
       "            var icon_f82886b67d611a296fdb81b782041d35 = L.AwesomeMarkers.icon(\n",
       "                {&quot;extraClasses&quot;: &quot;fa-rotate-0&quot;, &quot;icon&quot;: &quot;leaf&quot;, &quot;iconColor&quot;: &quot;white&quot;, &quot;markerColor&quot;: &quot;blue&quot;, &quot;prefix&quot;: &quot;glyphicon&quot;}\n",
       "            );\n",
       "            marker_0d9a2d12facf7bd372b8c2b2e662767f.setIcon(icon_f82886b67d611a296fdb81b782041d35);\n",
       "        \n",
       "    \n",
       "        var popup_2a22fdf0041f2dcfcc9d8fd3be32aaa3 = L.popup({&quot;maxWidth&quot;: &quot;100%&quot;});\n",
       "\n",
       "        \n",
       "            \n",
       "                var html_4322d903c3c4822c7f468902594686b5 = $(`&lt;div id=&quot;html_4322d903c3c4822c7f468902594686b5&quot; style=&quot;width: 100.0%; height: 100.0%;&quot;&gt;Cayambe&lt;/div&gt;`)[0];\n",
       "                popup_2a22fdf0041f2dcfcc9d8fd3be32aaa3.setContent(html_4322d903c3c4822c7f468902594686b5);\n",
       "            \n",
       "        \n",
       "\n",
       "        marker_0d9a2d12facf7bd372b8c2b2e662767f.bindPopup(popup_2a22fdf0041f2dcfcc9d8fd3be32aaa3)\n",
       "        ;\n",
       "\n",
       "        \n",
       "    \n",
       "    \n",
       "            var marker_d9ead3bd4156deade7d3100bb923e197 = L.marker(\n",
       "                [-0.9319, -78.6161],\n",
       "                {}\n",
       "            ).addTo(map_dc9d16926369863c012a8eae76921049);\n",
       "        \n",
       "    \n",
       "            var icon_5451f1810faaa462db220affd4852825 = L.AwesomeMarkers.icon(\n",
       "                {&quot;extraClasses&quot;: &quot;fa-rotate-0&quot;, &quot;icon&quot;: &quot;leaf&quot;, &quot;iconColor&quot;: &quot;white&quot;, &quot;markerColor&quot;: &quot;blue&quot;, &quot;prefix&quot;: &quot;glyphicon&quot;}\n",
       "            );\n",
       "            marker_d9ead3bd4156deade7d3100bb923e197.setIcon(icon_5451f1810faaa462db220affd4852825);\n",
       "        \n",
       "    \n",
       "        var popup_701cd4c082cd6002b60a091fd0e8ed75 = L.popup({&quot;maxWidth&quot;: &quot;100%&quot;});\n",
       "\n",
       "        \n",
       "            \n",
       "                var html_383850e7352965a4a2aa71a525870d52 = $(`&lt;div id=&quot;html_383850e7352965a4a2aa71a525870d52&quot; style=&quot;width: 100.0%; height: 100.0%;&quot;&gt;Latacunga&lt;/div&gt;`)[0];\n",
       "                popup_701cd4c082cd6002b60a091fd0e8ed75.setContent(html_383850e7352965a4a2aa71a525870d52);\n",
       "            \n",
       "        \n",
       "\n",
       "        marker_d9ead3bd4156deade7d3100bb923e197.bindPopup(popup_701cd4c082cd6002b60a091fd0e8ed75)\n",
       "        ;\n",
       "\n",
       "        \n",
       "    \n",
       "    \n",
       "            var marker_cba0c23ed13f2c706caf4e8c90375068 = L.marker(\n",
       "                [-0.9319, -78.6161],\n",
       "                {}\n",
       "            ).addTo(map_dc9d16926369863c012a8eae76921049);\n",
       "        \n",
       "    \n",
       "            var icon_626e9bdd3576d4d5bc03290a97d20c53 = L.AwesomeMarkers.icon(\n",
       "                {&quot;extraClasses&quot;: &quot;fa-rotate-0&quot;, &quot;icon&quot;: &quot;leaf&quot;, &quot;iconColor&quot;: &quot;white&quot;, &quot;markerColor&quot;: &quot;blue&quot;, &quot;prefix&quot;: &quot;glyphicon&quot;}\n",
       "            );\n",
       "            marker_cba0c23ed13f2c706caf4e8c90375068.setIcon(icon_626e9bdd3576d4d5bc03290a97d20c53);\n",
       "        \n",
       "    \n",
       "        var popup_784c0071ec66291f8f4c80a076a9208d = L.popup({&quot;maxWidth&quot;: &quot;100%&quot;});\n",
       "\n",
       "        \n",
       "            \n",
       "                var html_e9b8142cb39db25145e0a889805d6c53 = $(`&lt;div id=&quot;html_e9b8142cb39db25145e0a889805d6c53&quot; style=&quot;width: 100.0%; height: 100.0%;&quot;&gt;Latacunga&lt;/div&gt;`)[0];\n",
       "                popup_784c0071ec66291f8f4c80a076a9208d.setContent(html_e9b8142cb39db25145e0a889805d6c53);\n",
       "            \n",
       "        \n",
       "\n",
       "        marker_cba0c23ed13f2c706caf4e8c90375068.bindPopup(popup_784c0071ec66291f8f4c80a076a9208d)\n",
       "        ;\n",
       "\n",
       "        \n",
       "    \n",
       "    \n",
       "            var marker_f7a681a7c5e59b2ce17bab66ba59b0a1 = L.marker(\n",
       "                [-1.6731, -78.6483],\n",
       "                {}\n",
       "            ).addTo(map_dc9d16926369863c012a8eae76921049);\n",
       "        \n",
       "    \n",
       "            var icon_4bf5e74823012d021605ec01d1531050 = L.AwesomeMarkers.icon(\n",
       "                {&quot;extraClasses&quot;: &quot;fa-rotate-0&quot;, &quot;icon&quot;: &quot;leaf&quot;, &quot;iconColor&quot;: &quot;white&quot;, &quot;markerColor&quot;: &quot;blue&quot;, &quot;prefix&quot;: &quot;glyphicon&quot;}\n",
       "            );\n",
       "            marker_f7a681a7c5e59b2ce17bab66ba59b0a1.setIcon(icon_4bf5e74823012d021605ec01d1531050);\n",
       "        \n",
       "    \n",
       "        var popup_fc310a981adf27cffd48f081a7ba8626 = L.popup({&quot;maxWidth&quot;: &quot;100%&quot;});\n",
       "\n",
       "        \n",
       "            \n",
       "                var html_a0119879c078cbd726a96a21db788a95 = $(`&lt;div id=&quot;html_a0119879c078cbd726a96a21db788a95&quot; style=&quot;width: 100.0%; height: 100.0%;&quot;&gt;Riobamba&lt;/div&gt;`)[0];\n",
       "                popup_fc310a981adf27cffd48f081a7ba8626.setContent(html_a0119879c078cbd726a96a21db788a95);\n",
       "            \n",
       "        \n",
       "\n",
       "        marker_f7a681a7c5e59b2ce17bab66ba59b0a1.bindPopup(popup_fc310a981adf27cffd48f081a7ba8626)\n",
       "        ;\n",
       "\n",
       "        \n",
       "    \n",
       "    \n",
       "            var marker_8cc1eb21f598b0899958bbe14b109449 = L.marker(\n",
       "                [0.3627, -78.1307],\n",
       "                {}\n",
       "            ).addTo(map_dc9d16926369863c012a8eae76921049);\n",
       "        \n",
       "    \n",
       "            var icon_ebcf7f4f025b30f02a4df562bae89fdb = L.AwesomeMarkers.icon(\n",
       "                {&quot;extraClasses&quot;: &quot;fa-rotate-0&quot;, &quot;icon&quot;: &quot;leaf&quot;, &quot;iconColor&quot;: &quot;white&quot;, &quot;markerColor&quot;: &quot;blue&quot;, &quot;prefix&quot;: &quot;glyphicon&quot;}\n",
       "            );\n",
       "            marker_8cc1eb21f598b0899958bbe14b109449.setIcon(icon_ebcf7f4f025b30f02a4df562bae89fdb);\n",
       "        \n",
       "    \n",
       "        var popup_3815535963b45d19e3e6dc48e92cf928 = L.popup({&quot;maxWidth&quot;: &quot;100%&quot;});\n",
       "\n",
       "        \n",
       "            \n",
       "                var html_255958e5b05a677d3214f5f78f3998e9 = $(`&lt;div id=&quot;html_255958e5b05a677d3214f5f78f3998e9&quot; style=&quot;width: 100.0%; height: 100.0%;&quot;&gt;Ibarra&lt;/div&gt;`)[0];\n",
       "                popup_3815535963b45d19e3e6dc48e92cf928.setContent(html_255958e5b05a677d3214f5f78f3998e9);\n",
       "            \n",
       "        \n",
       "\n",
       "        marker_8cc1eb21f598b0899958bbe14b109449.bindPopup(popup_3815535963b45d19e3e6dc48e92cf928)\n",
       "        ;\n",
       "\n",
       "        \n",
       "    \n",
       "    \n",
       "            var marker_933c8016479649b3a38b68c3b22d1eb0 = L.marker(\n",
       "                [-0.2542, -79.1719],\n",
       "                {}\n",
       "            ).addTo(map_dc9d16926369863c012a8eae76921049);\n",
       "        \n",
       "    \n",
       "            var icon_a4efe79aa3076982bc27601b5c7c1355 = L.AwesomeMarkers.icon(\n",
       "                {&quot;extraClasses&quot;: &quot;fa-rotate-0&quot;, &quot;icon&quot;: &quot;leaf&quot;, &quot;iconColor&quot;: &quot;white&quot;, &quot;markerColor&quot;: &quot;blue&quot;, &quot;prefix&quot;: &quot;glyphicon&quot;}\n",
       "            );\n",
       "            marker_933c8016479649b3a38b68c3b22d1eb0.setIcon(icon_a4efe79aa3076982bc27601b5c7c1355);\n",
       "        \n",
       "    \n",
       "        var popup_e3c6cacb4a6dc959da0c0081fa063e6f = L.popup({&quot;maxWidth&quot;: &quot;100%&quot;});\n",
       "\n",
       "        \n",
       "            \n",
       "                var html_b95a54b984058ccb21edf684bfbee241 = $(`&lt;div id=&quot;html_b95a54b984058ccb21edf684bfbee241&quot; style=&quot;width: 100.0%; height: 100.0%;&quot;&gt;Santo Domingo&lt;/div&gt;`)[0];\n",
       "                popup_e3c6cacb4a6dc959da0c0081fa063e6f.setContent(html_b95a54b984058ccb21edf684bfbee241);\n",
       "            \n",
       "        \n",
       "\n",
       "        marker_933c8016479649b3a38b68c3b22d1eb0.bindPopup(popup_e3c6cacb4a6dc959da0c0081fa063e6f)\n",
       "        ;\n",
       "\n",
       "        \n",
       "    \n",
       "    \n",
       "            var marker_0690b73660f4dbc22f43f6b6f50b236f = L.marker(\n",
       "                [-0.22, -78.5125],\n",
       "                {}\n",
       "            ).addTo(map_dc9d16926369863c012a8eae76921049);\n",
       "        \n",
       "    \n",
       "            var icon_5a16f2ecca66797a6388cfe84b31e0e6 = L.AwesomeMarkers.icon(\n",
       "                {&quot;extraClasses&quot;: &quot;fa-rotate-0&quot;, &quot;icon&quot;: &quot;leaf&quot;, &quot;iconColor&quot;: &quot;white&quot;, &quot;markerColor&quot;: &quot;blue&quot;, &quot;prefix&quot;: &quot;glyphicon&quot;}\n",
       "            );\n",
       "            marker_0690b73660f4dbc22f43f6b6f50b236f.setIcon(icon_5a16f2ecca66797a6388cfe84b31e0e6);\n",
       "        \n",
       "    \n",
       "        var popup_e8afb6f63477d9317fb010864604a89a = L.popup({&quot;maxWidth&quot;: &quot;100%&quot;});\n",
       "\n",
       "        \n",
       "            \n",
       "                var html_29d909bc1f4495839b6c77cb013d5517 = $(`&lt;div id=&quot;html_29d909bc1f4495839b6c77cb013d5517&quot; style=&quot;width: 100.0%; height: 100.0%;&quot;&gt;Quito&lt;/div&gt;`)[0];\n",
       "                popup_e8afb6f63477d9317fb010864604a89a.setContent(html_29d909bc1f4495839b6c77cb013d5517);\n",
       "            \n",
       "        \n",
       "\n",
       "        marker_0690b73660f4dbc22f43f6b6f50b236f.bindPopup(popup_e8afb6f63477d9317fb010864604a89a)\n",
       "        ;\n",
       "\n",
       "        \n",
       "    \n",
       "    \n",
       "            var marker_12f4323cb90a0392aa31053edf5a4790 = L.marker(\n",
       "                [-0.22, -78.5125],\n",
       "                {}\n",
       "            ).addTo(map_dc9d16926369863c012a8eae76921049);\n",
       "        \n",
       "    \n",
       "            var icon_969eff0ae932e9f080d752c82455fee3 = L.AwesomeMarkers.icon(\n",
       "                {&quot;extraClasses&quot;: &quot;fa-rotate-0&quot;, &quot;icon&quot;: &quot;leaf&quot;, &quot;iconColor&quot;: &quot;white&quot;, &quot;markerColor&quot;: &quot;blue&quot;, &quot;prefix&quot;: &quot;glyphicon&quot;}\n",
       "            );\n",
       "            marker_12f4323cb90a0392aa31053edf5a4790.setIcon(icon_969eff0ae932e9f080d752c82455fee3);\n",
       "        \n",
       "    \n",
       "        var popup_122524cf8703bacfb090c07b7c6965c9 = L.popup({&quot;maxWidth&quot;: &quot;100%&quot;});\n",
       "\n",
       "        \n",
       "            \n",
       "                var html_86b2afc8d1371823ab1680db4993a0c6 = $(`&lt;div id=&quot;html_86b2afc8d1371823ab1680db4993a0c6&quot; style=&quot;width: 100.0%; height: 100.0%;&quot;&gt;Quito&lt;/div&gt;`)[0];\n",
       "                popup_122524cf8703bacfb090c07b7c6965c9.setContent(html_86b2afc8d1371823ab1680db4993a0c6);\n",
       "            \n",
       "        \n",
       "\n",
       "        marker_12f4323cb90a0392aa31053edf5a4790.bindPopup(popup_122524cf8703bacfb090c07b7c6965c9)\n",
       "        ;\n",
       "\n",
       "        \n",
       "    \n",
       "    \n",
       "            var marker_046df633624200596f3e5ba10e92104f = L.marker(\n",
       "                [-1.6, -79.0],\n",
       "                {}\n",
       "            ).addTo(map_dc9d16926369863c012a8eae76921049);\n",
       "        \n",
       "    \n",
       "            var icon_7cffae5d850225885a55a7186491afdf = L.AwesomeMarkers.icon(\n",
       "                {&quot;extraClasses&quot;: &quot;fa-rotate-0&quot;, &quot;icon&quot;: &quot;leaf&quot;, &quot;iconColor&quot;: &quot;white&quot;, &quot;markerColor&quot;: &quot;blue&quot;, &quot;prefix&quot;: &quot;glyphicon&quot;}\n",
       "            );\n",
       "            marker_046df633624200596f3e5ba10e92104f.setIcon(icon_7cffae5d850225885a55a7186491afdf);\n",
       "        \n",
       "    \n",
       "        var popup_0e52cd8fc1d1e21638bc660ba5139ab3 = L.popup({&quot;maxWidth&quot;: &quot;100%&quot;});\n",
       "\n",
       "        \n",
       "            \n",
       "                var html_de733fed94d2a83eb9622701cee7537d = $(`&lt;div id=&quot;html_de733fed94d2a83eb9622701cee7537d&quot; style=&quot;width: 100.0%; height: 100.0%;&quot;&gt;Guaranda&lt;/div&gt;`)[0];\n",
       "                popup_0e52cd8fc1d1e21638bc660ba5139ab3.setContent(html_de733fed94d2a83eb9622701cee7537d);\n",
       "            \n",
       "        \n",
       "\n",
       "        marker_046df633624200596f3e5ba10e92104f.bindPopup(popup_0e52cd8fc1d1e21638bc660ba5139ab3)\n",
       "        ;\n",
       "\n",
       "        \n",
       "    \n",
       "    \n",
       "            var marker_3d407a907f909dcd904de5421cc87ef0 = L.marker(\n",
       "                [-0.22, -78.5125],\n",
       "                {}\n",
       "            ).addTo(map_dc9d16926369863c012a8eae76921049);\n",
       "        \n",
       "    \n",
       "            var icon_47cc5d65e915aa7cf8ab4c5d30d689c7 = L.AwesomeMarkers.icon(\n",
       "                {&quot;extraClasses&quot;: &quot;fa-rotate-0&quot;, &quot;icon&quot;: &quot;leaf&quot;, &quot;iconColor&quot;: &quot;white&quot;, &quot;markerColor&quot;: &quot;blue&quot;, &quot;prefix&quot;: &quot;glyphicon&quot;}\n",
       "            );\n",
       "            marker_3d407a907f909dcd904de5421cc87ef0.setIcon(icon_47cc5d65e915aa7cf8ab4c5d30d689c7);\n",
       "        \n",
       "    \n",
       "        var popup_077dfafff5f0db6248d21545cf360b3a = L.popup({&quot;maxWidth&quot;: &quot;100%&quot;});\n",
       "\n",
       "        \n",
       "            \n",
       "                var html_d5cfa50f1b67224729fd54df541ed034 = $(`&lt;div id=&quot;html_d5cfa50f1b67224729fd54df541ed034&quot; style=&quot;width: 100.0%; height: 100.0%;&quot;&gt;Quito&lt;/div&gt;`)[0];\n",
       "                popup_077dfafff5f0db6248d21545cf360b3a.setContent(html_d5cfa50f1b67224729fd54df541ed034);\n",
       "            \n",
       "        \n",
       "\n",
       "        marker_3d407a907f909dcd904de5421cc87ef0.bindPopup(popup_077dfafff5f0db6248d21545cf360b3a)\n",
       "        ;\n",
       "\n",
       "        \n",
       "    \n",
       "    \n",
       "            var marker_a558036ae23cc260115643c798927962 = L.marker(\n",
       "                [-0.2542, -79.1719],\n",
       "                {}\n",
       "            ).addTo(map_dc9d16926369863c012a8eae76921049);\n",
       "        \n",
       "    \n",
       "            var icon_7539e7142865c9c9a82d3c5214c3c882 = L.AwesomeMarkers.icon(\n",
       "                {&quot;extraClasses&quot;: &quot;fa-rotate-0&quot;, &quot;icon&quot;: &quot;leaf&quot;, &quot;iconColor&quot;: &quot;white&quot;, &quot;markerColor&quot;: &quot;blue&quot;, &quot;prefix&quot;: &quot;glyphicon&quot;}\n",
       "            );\n",
       "            marker_a558036ae23cc260115643c798927962.setIcon(icon_7539e7142865c9c9a82d3c5214c3c882);\n",
       "        \n",
       "    \n",
       "        var popup_64140aa3399758a567bd1446f245e951 = L.popup({&quot;maxWidth&quot;: &quot;100%&quot;});\n",
       "\n",
       "        \n",
       "            \n",
       "                var html_13e70e4ed4751608e4de5cc0a3357bb0 = $(`&lt;div id=&quot;html_13e70e4ed4751608e4de5cc0a3357bb0&quot; style=&quot;width: 100.0%; height: 100.0%;&quot;&gt;Santo Domingo&lt;/div&gt;`)[0];\n",
       "                popup_64140aa3399758a567bd1446f245e951.setContent(html_13e70e4ed4751608e4de5cc0a3357bb0);\n",
       "            \n",
       "        \n",
       "\n",
       "        marker_a558036ae23cc260115643c798927962.bindPopup(popup_64140aa3399758a567bd1446f245e951)\n",
       "        ;\n",
       "\n",
       "        \n",
       "    \n",
       "    \n",
       "            var marker_81d897dc38b0187b5729fb45457b957c = L.marker(\n",
       "                [-1.4861, -78.0028],\n",
       "                {}\n",
       "            ).addTo(map_dc9d16926369863c012a8eae76921049);\n",
       "        \n",
       "    \n",
       "            var icon_ba24eb54f4c4bbe5284af816b8560723 = L.AwesomeMarkers.icon(\n",
       "                {&quot;extraClasses&quot;: &quot;fa-rotate-0&quot;, &quot;icon&quot;: &quot;leaf&quot;, &quot;iconColor&quot;: &quot;white&quot;, &quot;markerColor&quot;: &quot;blue&quot;, &quot;prefix&quot;: &quot;glyphicon&quot;}\n",
       "            );\n",
       "            marker_81d897dc38b0187b5729fb45457b957c.setIcon(icon_ba24eb54f4c4bbe5284af816b8560723);\n",
       "        \n",
       "    \n",
       "        var popup_a3d143f2fc535b9268067183cc66f0d5 = L.popup({&quot;maxWidth&quot;: &quot;100%&quot;});\n",
       "\n",
       "        \n",
       "            \n",
       "                var html_05a46e13ec4d7ee151548b28ef5a712c = $(`&lt;div id=&quot;html_05a46e13ec4d7ee151548b28ef5a712c&quot; style=&quot;width: 100.0%; height: 100.0%;&quot;&gt;Puyo&lt;/div&gt;`)[0];\n",
       "                popup_a3d143f2fc535b9268067183cc66f0d5.setContent(html_05a46e13ec4d7ee151548b28ef5a712c);\n",
       "            \n",
       "        \n",
       "\n",
       "        marker_81d897dc38b0187b5729fb45457b957c.bindPopup(popup_a3d143f2fc535b9268067183cc66f0d5)\n",
       "        ;\n",
       "\n",
       "        \n",
       "    \n",
       "    \n",
       "            var marker_728ab93a216d123bcde83042bc330d9f = L.marker(\n",
       "                [-1.2417, -78.6197],\n",
       "                {}\n",
       "            ).addTo(map_dc9d16926369863c012a8eae76921049);\n",
       "        \n",
       "    \n",
       "            var icon_7ca8e859251b929449f962037c342a25 = L.AwesomeMarkers.icon(\n",
       "                {&quot;extraClasses&quot;: &quot;fa-rotate-0&quot;, &quot;icon&quot;: &quot;leaf&quot;, &quot;iconColor&quot;: &quot;white&quot;, &quot;markerColor&quot;: &quot;blue&quot;, &quot;prefix&quot;: &quot;glyphicon&quot;}\n",
       "            );\n",
       "            marker_728ab93a216d123bcde83042bc330d9f.setIcon(icon_7ca8e859251b929449f962037c342a25);\n",
       "        \n",
       "    \n",
       "        var popup_11518854f666659d6fe9f983aacd199a = L.popup({&quot;maxWidth&quot;: &quot;100%&quot;});\n",
       "\n",
       "        \n",
       "            \n",
       "                var html_931b4e14e6b0ae26c933594f8b756f32 = $(`&lt;div id=&quot;html_931b4e14e6b0ae26c933594f8b756f32&quot; style=&quot;width: 100.0%; height: 100.0%;&quot;&gt;Ambato&lt;/div&gt;`)[0];\n",
       "                popup_11518854f666659d6fe9f983aacd199a.setContent(html_931b4e14e6b0ae26c933594f8b756f32);\n",
       "            \n",
       "        \n",
       "\n",
       "        marker_728ab93a216d123bcde83042bc330d9f.bindPopup(popup_11518854f666659d6fe9f983aacd199a)\n",
       "        ;\n",
       "\n",
       "        \n",
       "    \n",
       "    \n",
       "            var marker_58adc47747d26aa71eccae7a6901abac = L.marker(\n",
       "                [-2.19, -79.8875],\n",
       "                {}\n",
       "            ).addTo(map_dc9d16926369863c012a8eae76921049);\n",
       "        \n",
       "    \n",
       "            var icon_818c24e6faaf6ba1d543d148cf9bece8 = L.AwesomeMarkers.icon(\n",
       "                {&quot;extraClasses&quot;: &quot;fa-rotate-0&quot;, &quot;icon&quot;: &quot;leaf&quot;, &quot;iconColor&quot;: &quot;white&quot;, &quot;markerColor&quot;: &quot;blue&quot;, &quot;prefix&quot;: &quot;glyphicon&quot;}\n",
       "            );\n",
       "            marker_58adc47747d26aa71eccae7a6901abac.setIcon(icon_818c24e6faaf6ba1d543d148cf9bece8);\n",
       "        \n",
       "    \n",
       "        var popup_d42d8366d64275eb1bb294ebb513b2c8 = L.popup({&quot;maxWidth&quot;: &quot;100%&quot;});\n",
       "\n",
       "        \n",
       "            \n",
       "                var html_1d3c4c6c55cdccd81629d2c7a246fa53 = $(`&lt;div id=&quot;html_1d3c4c6c55cdccd81629d2c7a246fa53&quot; style=&quot;width: 100.0%; height: 100.0%;&quot;&gt;Guayaquil&lt;/div&gt;`)[0];\n",
       "                popup_d42d8366d64275eb1bb294ebb513b2c8.setContent(html_1d3c4c6c55cdccd81629d2c7a246fa53);\n",
       "            \n",
       "        \n",
       "\n",
       "        marker_58adc47747d26aa71eccae7a6901abac.bindPopup(popup_d42d8366d64275eb1bb294ebb513b2c8)\n",
       "        ;\n",
       "\n",
       "        \n",
       "    \n",
       "    \n",
       "            var marker_7b50e7aae5768a516a11b62fbbb6084b = L.marker(\n",
       "                [-2.2167, -80.9501],\n",
       "                {}\n",
       "            ).addTo(map_dc9d16926369863c012a8eae76921049);\n",
       "        \n",
       "    \n",
       "            var icon_96d6c653483b87c6d796bd02004a42e4 = L.AwesomeMarkers.icon(\n",
       "                {&quot;extraClasses&quot;: &quot;fa-rotate-0&quot;, &quot;icon&quot;: &quot;leaf&quot;, &quot;iconColor&quot;: &quot;white&quot;, &quot;markerColor&quot;: &quot;blue&quot;, &quot;prefix&quot;: &quot;glyphicon&quot;}\n",
       "            );\n",
       "            marker_7b50e7aae5768a516a11b62fbbb6084b.setIcon(icon_96d6c653483b87c6d796bd02004a42e4);\n",
       "        \n",
       "    \n",
       "        var popup_2a719f0a53c1f855aaef7accf223f125 = L.popup({&quot;maxWidth&quot;: &quot;100%&quot;});\n",
       "\n",
       "        \n",
       "            \n",
       "                var html_c092f8207de6fd8cf1f6310de82984b3 = $(`&lt;div id=&quot;html_c092f8207de6fd8cf1f6310de82984b3&quot; style=&quot;width: 100.0%; height: 100.0%;&quot;&gt;Salinas&lt;/div&gt;`)[0];\n",
       "                popup_2a719f0a53c1f855aaef7accf223f125.setContent(html_c092f8207de6fd8cf1f6310de82984b3);\n",
       "            \n",
       "        \n",
       "\n",
       "        marker_7b50e7aae5768a516a11b62fbbb6084b.bindPopup(popup_2a719f0a53c1f855aaef7accf223f125)\n",
       "        ;\n",
       "\n",
       "        \n",
       "    \n",
       "    \n",
       "            var marker_709e6e834293f6088fbd5e1939ea3adc = L.marker(\n",
       "                [-2.19, -79.8875],\n",
       "                {}\n",
       "            ).addTo(map_dc9d16926369863c012a8eae76921049);\n",
       "        \n",
       "    \n",
       "            var icon_d04c6002f713717babf866fc9d8d5881 = L.AwesomeMarkers.icon(\n",
       "                {&quot;extraClasses&quot;: &quot;fa-rotate-0&quot;, &quot;icon&quot;: &quot;leaf&quot;, &quot;iconColor&quot;: &quot;white&quot;, &quot;markerColor&quot;: &quot;blue&quot;, &quot;prefix&quot;: &quot;glyphicon&quot;}\n",
       "            );\n",
       "            marker_709e6e834293f6088fbd5e1939ea3adc.setIcon(icon_d04c6002f713717babf866fc9d8d5881);\n",
       "        \n",
       "    \n",
       "        var popup_93f5c1ce9c7d1741254225637031a174 = L.popup({&quot;maxWidth&quot;: &quot;100%&quot;});\n",
       "\n",
       "        \n",
       "            \n",
       "                var html_9f8f551193d88edbed573a0eb1cdebe7 = $(`&lt;div id=&quot;html_9f8f551193d88edbed573a0eb1cdebe7&quot; style=&quot;width: 100.0%; height: 100.0%;&quot;&gt;Guayaquil&lt;/div&gt;`)[0];\n",
       "                popup_93f5c1ce9c7d1741254225637031a174.setContent(html_9f8f551193d88edbed573a0eb1cdebe7);\n",
       "            \n",
       "        \n",
       "\n",
       "        marker_709e6e834293f6088fbd5e1939ea3adc.bindPopup(popup_93f5c1ce9c7d1741254225637031a174)\n",
       "        ;\n",
       "\n",
       "        \n",
       "    \n",
       "    \n",
       "            var marker_e40ef6bb7c109d11b778c37de158f3f9 = L.marker(\n",
       "                [-1.8667, -79.9833],\n",
       "                {}\n",
       "            ).addTo(map_dc9d16926369863c012a8eae76921049);\n",
       "        \n",
       "    \n",
       "            var icon_c78b90ea688061445416fc967381b1c8 = L.AwesomeMarkers.icon(\n",
       "                {&quot;extraClasses&quot;: &quot;fa-rotate-0&quot;, &quot;icon&quot;: &quot;leaf&quot;, &quot;iconColor&quot;: &quot;white&quot;, &quot;markerColor&quot;: &quot;blue&quot;, &quot;prefix&quot;: &quot;glyphicon&quot;}\n",
       "            );\n",
       "            marker_e40ef6bb7c109d11b778c37de158f3f9.setIcon(icon_c78b90ea688061445416fc967381b1c8);\n",
       "        \n",
       "    \n",
       "        var popup_366e4aa68faf086a52e9b5ebfbe2ab57 = L.popup({&quot;maxWidth&quot;: &quot;100%&quot;});\n",
       "\n",
       "        \n",
       "            \n",
       "                var html_b7ff95bb503cc3c2cd27f49c363a7b8b = $(`&lt;div id=&quot;html_b7ff95bb503cc3c2cd27f49c363a7b8b&quot; style=&quot;width: 100.0%; height: 100.0%;&quot;&gt;Daule&lt;/div&gt;`)[0];\n",
       "                popup_366e4aa68faf086a52e9b5ebfbe2ab57.setContent(html_b7ff95bb503cc3c2cd27f49c363a7b8b);\n",
       "            \n",
       "        \n",
       "\n",
       "        marker_e40ef6bb7c109d11b778c37de158f3f9.bindPopup(popup_366e4aa68faf086a52e9b5ebfbe2ab57)\n",
       "        ;\n",
       "\n",
       "        \n",
       "    \n",
       "    \n",
       "            var marker_4f87ebae090675b1d38a91d0fb100c5b = L.marker(\n",
       "                [-2.19, -79.8875],\n",
       "                {}\n",
       "            ).addTo(map_dc9d16926369863c012a8eae76921049);\n",
       "        \n",
       "    \n",
       "            var icon_702ebf0ed6a4cadea5d7c69896bd3ef3 = L.AwesomeMarkers.icon(\n",
       "                {&quot;extraClasses&quot;: &quot;fa-rotate-0&quot;, &quot;icon&quot;: &quot;leaf&quot;, &quot;iconColor&quot;: &quot;white&quot;, &quot;markerColor&quot;: &quot;blue&quot;, &quot;prefix&quot;: &quot;glyphicon&quot;}\n",
       "            );\n",
       "            marker_4f87ebae090675b1d38a91d0fb100c5b.setIcon(icon_702ebf0ed6a4cadea5d7c69896bd3ef3);\n",
       "        \n",
       "    \n",
       "        var popup_87f7fa0af467fdd7d4674a63450f94f6 = L.popup({&quot;maxWidth&quot;: &quot;100%&quot;});\n",
       "\n",
       "        \n",
       "            \n",
       "                var html_801dbecad80348ea1fbb7c82a67b6404 = $(`&lt;div id=&quot;html_801dbecad80348ea1fbb7c82a67b6404&quot; style=&quot;width: 100.0%; height: 100.0%;&quot;&gt;Guayaquil&lt;/div&gt;`)[0];\n",
       "                popup_87f7fa0af467fdd7d4674a63450f94f6.setContent(html_801dbecad80348ea1fbb7c82a67b6404);\n",
       "            \n",
       "        \n",
       "\n",
       "        marker_4f87ebae090675b1d38a91d0fb100c5b.bindPopup(popup_87f7fa0af467fdd7d4674a63450f94f6)\n",
       "        ;\n",
       "\n",
       "        \n",
       "    \n",
       "    \n",
       "            var marker_2e7611ec80eac089dcb5fb4c869e3775 = L.marker(\n",
       "                [-2.19, -79.8875],\n",
       "                {}\n",
       "            ).addTo(map_dc9d16926369863c012a8eae76921049);\n",
       "        \n",
       "    \n",
       "            var icon_0e2a6f1f14e6cae0daa995a6675aa6df = L.AwesomeMarkers.icon(\n",
       "                {&quot;extraClasses&quot;: &quot;fa-rotate-0&quot;, &quot;icon&quot;: &quot;leaf&quot;, &quot;iconColor&quot;: &quot;white&quot;, &quot;markerColor&quot;: &quot;blue&quot;, &quot;prefix&quot;: &quot;glyphicon&quot;}\n",
       "            );\n",
       "            marker_2e7611ec80eac089dcb5fb4c869e3775.setIcon(icon_0e2a6f1f14e6cae0daa995a6675aa6df);\n",
       "        \n",
       "    \n",
       "        var popup_c4a413dbfb0361fd38c62822258f8d35 = L.popup({&quot;maxWidth&quot;: &quot;100%&quot;});\n",
       "\n",
       "        \n",
       "            \n",
       "                var html_1cd94c13143503fae17908f6848ea7bb = $(`&lt;div id=&quot;html_1cd94c13143503fae17908f6848ea7bb&quot; style=&quot;width: 100.0%; height: 100.0%;&quot;&gt;Guayaquil&lt;/div&gt;`)[0];\n",
       "                popup_c4a413dbfb0361fd38c62822258f8d35.setContent(html_1cd94c13143503fae17908f6848ea7bb);\n",
       "            \n",
       "        \n",
       "\n",
       "        marker_2e7611ec80eac089dcb5fb4c869e3775.bindPopup(popup_c4a413dbfb0361fd38c62822258f8d35)\n",
       "        ;\n",
       "\n",
       "        \n",
       "    \n",
       "    \n",
       "            var marker_0f70d32953d0346354cd6bfc9e8f170f = L.marker(\n",
       "                [-2.19, -79.8875],\n",
       "                {}\n",
       "            ).addTo(map_dc9d16926369863c012a8eae76921049);\n",
       "        \n",
       "    \n",
       "            var icon_e14600db3c68d7a91c537d895f351134 = L.AwesomeMarkers.icon(\n",
       "                {&quot;extraClasses&quot;: &quot;fa-rotate-0&quot;, &quot;icon&quot;: &quot;leaf&quot;, &quot;iconColor&quot;: &quot;white&quot;, &quot;markerColor&quot;: &quot;blue&quot;, &quot;prefix&quot;: &quot;glyphicon&quot;}\n",
       "            );\n",
       "            marker_0f70d32953d0346354cd6bfc9e8f170f.setIcon(icon_e14600db3c68d7a91c537d895f351134);\n",
       "        \n",
       "    \n",
       "        var popup_a51c1ac58b56190eb72596ae81c65185 = L.popup({&quot;maxWidth&quot;: &quot;100%&quot;});\n",
       "\n",
       "        \n",
       "            \n",
       "                var html_b5de33c83e58cdba6f5c9bc660833006 = $(`&lt;div id=&quot;html_b5de33c83e58cdba6f5c9bc660833006&quot; style=&quot;width: 100.0%; height: 100.0%;&quot;&gt;Guayaquil&lt;/div&gt;`)[0];\n",
       "                popup_a51c1ac58b56190eb72596ae81c65185.setContent(html_b5de33c83e58cdba6f5c9bc660833006);\n",
       "            \n",
       "        \n",
       "\n",
       "        marker_0f70d32953d0346354cd6bfc9e8f170f.bindPopup(popup_a51c1ac58b56190eb72596ae81c65185)\n",
       "        ;\n",
       "\n",
       "        \n",
       "    \n",
       "    \n",
       "            var marker_ef2622e41f6b84e0749120b1c637a4a1 = L.marker(\n",
       "                [-1.8167, -79.5167],\n",
       "                {}\n",
       "            ).addTo(map_dc9d16926369863c012a8eae76921049);\n",
       "        \n",
       "    \n",
       "            var icon_0c16cdd01b25e1643c11c0e3824cdf38 = L.AwesomeMarkers.icon(\n",
       "                {&quot;extraClasses&quot;: &quot;fa-rotate-0&quot;, &quot;icon&quot;: &quot;leaf&quot;, &quot;iconColor&quot;: &quot;white&quot;, &quot;markerColor&quot;: &quot;blue&quot;, &quot;prefix&quot;: &quot;glyphicon&quot;}\n",
       "            );\n",
       "            marker_ef2622e41f6b84e0749120b1c637a4a1.setIcon(icon_0c16cdd01b25e1643c11c0e3824cdf38);\n",
       "        \n",
       "    \n",
       "        var popup_0bff84562eb75390c8e4be7029eb839e = L.popup({&quot;maxWidth&quot;: &quot;100%&quot;});\n",
       "\n",
       "        \n",
       "            \n",
       "                var html_7544d2c065b0b48e91a5eaaeb86ea3ae = $(`&lt;div id=&quot;html_7544d2c065b0b48e91a5eaaeb86ea3ae&quot; style=&quot;width: 100.0%; height: 100.0%;&quot;&gt;Babahoyo&lt;/div&gt;`)[0];\n",
       "                popup_0bff84562eb75390c8e4be7029eb839e.setContent(html_7544d2c065b0b48e91a5eaaeb86ea3ae);\n",
       "            \n",
       "        \n",
       "\n",
       "        marker_ef2622e41f6b84e0749120b1c637a4a1.bindPopup(popup_0bff84562eb75390c8e4be7029eb839e)\n",
       "        ;\n",
       "\n",
       "        \n",
       "    \n",
       "    \n",
       "            var marker_1d9e0e3129f611037cf48f6b5740b857 = L.marker(\n",
       "                [-2.19, -79.8875],\n",
       "                {}\n",
       "            ).addTo(map_dc9d16926369863c012a8eae76921049);\n",
       "        \n",
       "    \n",
       "            var icon_012d997651562452932d2e9a297163ac = L.AwesomeMarkers.icon(\n",
       "                {&quot;extraClasses&quot;: &quot;fa-rotate-0&quot;, &quot;icon&quot;: &quot;leaf&quot;, &quot;iconColor&quot;: &quot;white&quot;, &quot;markerColor&quot;: &quot;blue&quot;, &quot;prefix&quot;: &quot;glyphicon&quot;}\n",
       "            );\n",
       "            marker_1d9e0e3129f611037cf48f6b5740b857.setIcon(icon_012d997651562452932d2e9a297163ac);\n",
       "        \n",
       "    \n",
       "        var popup_bb78caa9cafafa2d8326001eae50e024 = L.popup({&quot;maxWidth&quot;: &quot;100%&quot;});\n",
       "\n",
       "        \n",
       "            \n",
       "                var html_23a3c7267a1e50bb223331305925d2b4 = $(`&lt;div id=&quot;html_23a3c7267a1e50bb223331305925d2b4&quot; style=&quot;width: 100.0%; height: 100.0%;&quot;&gt;Guayaquil&lt;/div&gt;`)[0];\n",
       "                popup_bb78caa9cafafa2d8326001eae50e024.setContent(html_23a3c7267a1e50bb223331305925d2b4);\n",
       "            \n",
       "        \n",
       "\n",
       "        marker_1d9e0e3129f611037cf48f6b5740b857.bindPopup(popup_bb78caa9cafafa2d8326001eae50e024)\n",
       "        ;\n",
       "\n",
       "        \n",
       "    \n",
       "    \n",
       "            var marker_ff0933f52327a1b67c8914b690277789 = L.marker(\n",
       "                [-1.0333, -79.45],\n",
       "                {}\n",
       "            ).addTo(map_dc9d16926369863c012a8eae76921049);\n",
       "        \n",
       "    \n",
       "            var icon_af1b88d0b219964253661708990a094c = L.AwesomeMarkers.icon(\n",
       "                {&quot;extraClasses&quot;: &quot;fa-rotate-0&quot;, &quot;icon&quot;: &quot;leaf&quot;, &quot;iconColor&quot;: &quot;white&quot;, &quot;markerColor&quot;: &quot;blue&quot;, &quot;prefix&quot;: &quot;glyphicon&quot;}\n",
       "            );\n",
       "            marker_ff0933f52327a1b67c8914b690277789.setIcon(icon_af1b88d0b219964253661708990a094c);\n",
       "        \n",
       "    \n",
       "        var popup_f601f22a8f1ac6f4e23ec7a1cdeac211 = L.popup({&quot;maxWidth&quot;: &quot;100%&quot;});\n",
       "\n",
       "        \n",
       "            \n",
       "                var html_27014ee4c2cdc8f5c6725a558b4e4ab2 = $(`&lt;div id=&quot;html_27014ee4c2cdc8f5c6725a558b4e4ab2&quot; style=&quot;width: 100.0%; height: 100.0%;&quot;&gt;Quevedo&lt;/div&gt;`)[0];\n",
       "                popup_f601f22a8f1ac6f4e23ec7a1cdeac211.setContent(html_27014ee4c2cdc8f5c6725a558b4e4ab2);\n",
       "            \n",
       "        \n",
       "\n",
       "        marker_ff0933f52327a1b67c8914b690277789.bindPopup(popup_f601f22a8f1ac6f4e23ec7a1cdeac211)\n",
       "        ;\n",
       "\n",
       "        \n",
       "    \n",
       "    \n",
       "            var marker_90583b1d0c383c3dc405e15976b1726d = L.marker(\n",
       "                [-2.19, -79.8875],\n",
       "                {}\n",
       "            ).addTo(map_dc9d16926369863c012a8eae76921049);\n",
       "        \n",
       "    \n",
       "            var icon_007f5695a0af9fcd9bd5e6198b6ec3b4 = L.AwesomeMarkers.icon(\n",
       "                {&quot;extraClasses&quot;: &quot;fa-rotate-0&quot;, &quot;icon&quot;: &quot;leaf&quot;, &quot;iconColor&quot;: &quot;white&quot;, &quot;markerColor&quot;: &quot;blue&quot;, &quot;prefix&quot;: &quot;glyphicon&quot;}\n",
       "            );\n",
       "            marker_90583b1d0c383c3dc405e15976b1726d.setIcon(icon_007f5695a0af9fcd9bd5e6198b6ec3b4);\n",
       "        \n",
       "    \n",
       "        var popup_de7a9e361056ada72890d8467eaad766 = L.popup({&quot;maxWidth&quot;: &quot;100%&quot;});\n",
       "\n",
       "        \n",
       "            \n",
       "                var html_abaafb41ee479c11bac19b2a6da26352 = $(`&lt;div id=&quot;html_abaafb41ee479c11bac19b2a6da26352&quot; style=&quot;width: 100.0%; height: 100.0%;&quot;&gt;Guayaquil&lt;/div&gt;`)[0];\n",
       "                popup_de7a9e361056ada72890d8467eaad766.setContent(html_abaafb41ee479c11bac19b2a6da26352);\n",
       "            \n",
       "        \n",
       "\n",
       "        marker_90583b1d0c383c3dc405e15976b1726d.bindPopup(popup_de7a9e361056ada72890d8467eaad766)\n",
       "        ;\n",
       "\n",
       "        \n",
       "    \n",
       "    \n",
       "            var marker_2405605f2f80cfaae2b1da00b8559318 = L.marker(\n",
       "                [-2.63199, -80.38808],\n",
       "                {}\n",
       "            ).addTo(map_dc9d16926369863c012a8eae76921049);\n",
       "        \n",
       "    \n",
       "            var icon_c4e9d57be8d52164808a1907142044e3 = L.AwesomeMarkers.icon(\n",
       "                {&quot;extraClasses&quot;: &quot;fa-rotate-0&quot;, &quot;icon&quot;: &quot;leaf&quot;, &quot;iconColor&quot;: &quot;white&quot;, &quot;markerColor&quot;: &quot;blue&quot;, &quot;prefix&quot;: &quot;glyphicon&quot;}\n",
       "            );\n",
       "            marker_2405605f2f80cfaae2b1da00b8559318.setIcon(icon_c4e9d57be8d52164808a1907142044e3);\n",
       "        \n",
       "    \n",
       "        var popup_d260bdfc04d6f5db108e016d499c5af4 = L.popup({&quot;maxWidth&quot;: &quot;100%&quot;});\n",
       "\n",
       "        \n",
       "            \n",
       "                var html_ec7c187933acc1bc71ff429473329c28 = $(`&lt;div id=&quot;html_ec7c187933acc1bc71ff429473329c28&quot; style=&quot;width: 100.0%; height: 100.0%;&quot;&gt;Playas&lt;/div&gt;`)[0];\n",
       "                popup_d260bdfc04d6f5db108e016d499c5af4.setContent(html_ec7c187933acc1bc71ff429473329c28);\n",
       "            \n",
       "        \n",
       "\n",
       "        marker_2405605f2f80cfaae2b1da00b8559318.bindPopup(popup_d260bdfc04d6f5db108e016d499c5af4)\n",
       "        ;\n",
       "\n",
       "        \n",
       "    \n",
       "    \n",
       "            var marker_1a3e260649aaaa5a8aafefe9f22e403f = L.marker(\n",
       "                [-2.2333, -80.91039],\n",
       "                {}\n",
       "            ).addTo(map_dc9d16926369863c012a8eae76921049);\n",
       "        \n",
       "    \n",
       "            var icon_e56689950723327e91e974a7fe242937 = L.AwesomeMarkers.icon(\n",
       "                {&quot;extraClasses&quot;: &quot;fa-rotate-0&quot;, &quot;icon&quot;: &quot;leaf&quot;, &quot;iconColor&quot;: &quot;white&quot;, &quot;markerColor&quot;: &quot;blue&quot;, &quot;prefix&quot;: &quot;glyphicon&quot;}\n",
       "            );\n",
       "            marker_1a3e260649aaaa5a8aafefe9f22e403f.setIcon(icon_e56689950723327e91e974a7fe242937);\n",
       "        \n",
       "    \n",
       "        var popup_bafe6c61c7b704ab7ffc3850eb4532c0 = L.popup({&quot;maxWidth&quot;: &quot;100%&quot;});\n",
       "\n",
       "        \n",
       "            \n",
       "                var html_287a4da183d0d29b24c47925967ee385 = $(`&lt;div id=&quot;html_287a4da183d0d29b24c47925967ee385&quot; style=&quot;width: 100.0%; height: 100.0%;&quot;&gt;Libertad&lt;/div&gt;`)[0];\n",
       "                popup_bafe6c61c7b704ab7ffc3850eb4532c0.setContent(html_287a4da183d0d29b24c47925967ee385);\n",
       "            \n",
       "        \n",
       "\n",
       "        marker_1a3e260649aaaa5a8aafefe9f22e403f.bindPopup(popup_bafe6c61c7b704ab7ffc3850eb4532c0)\n",
       "        ;\n",
       "\n",
       "        \n",
       "    \n",
       "    \n",
       "            var marker_f11d4a7184365afc39e9cc736347e945 = L.marker(\n",
       "                [-2.8974, -79.0045],\n",
       "                {}\n",
       "            ).addTo(map_dc9d16926369863c012a8eae76921049);\n",
       "        \n",
       "    \n",
       "            var icon_872df0c2df72d9896ece924fe9fed81c = L.AwesomeMarkers.icon(\n",
       "                {&quot;extraClasses&quot;: &quot;fa-rotate-0&quot;, &quot;icon&quot;: &quot;leaf&quot;, &quot;iconColor&quot;: &quot;white&quot;, &quot;markerColor&quot;: &quot;blue&quot;, &quot;prefix&quot;: &quot;glyphicon&quot;}\n",
       "            );\n",
       "            marker_f11d4a7184365afc39e9cc736347e945.setIcon(icon_872df0c2df72d9896ece924fe9fed81c);\n",
       "        \n",
       "    \n",
       "        var popup_a97fd8ab5c630f11c694d1a697a7e023 = L.popup({&quot;maxWidth&quot;: &quot;100%&quot;});\n",
       "\n",
       "        \n",
       "            \n",
       "                var html_cc3cf98ef7399de645ee9903b79ab48d = $(`&lt;div id=&quot;html_cc3cf98ef7399de645ee9903b79ab48d&quot; style=&quot;width: 100.0%; height: 100.0%;&quot;&gt;Cuenca&lt;/div&gt;`)[0];\n",
       "                popup_a97fd8ab5c630f11c694d1a697a7e023.setContent(html_cc3cf98ef7399de645ee9903b79ab48d);\n",
       "            \n",
       "        \n",
       "\n",
       "        marker_f11d4a7184365afc39e9cc736347e945.bindPopup(popup_a97fd8ab5c630f11c694d1a697a7e023)\n",
       "        ;\n",
       "\n",
       "        \n",
       "    \n",
       "    \n",
       "            var marker_73d9161ec485fb7011189063ea236125 = L.marker(\n",
       "                [-3.9833, -79.2],\n",
       "                {}\n",
       "            ).addTo(map_dc9d16926369863c012a8eae76921049);\n",
       "        \n",
       "    \n",
       "            var icon_0bbee1fd28827f32b0c07b1c97627619 = L.AwesomeMarkers.icon(\n",
       "                {&quot;extraClasses&quot;: &quot;fa-rotate-0&quot;, &quot;icon&quot;: &quot;leaf&quot;, &quot;iconColor&quot;: &quot;white&quot;, &quot;markerColor&quot;: &quot;blue&quot;, &quot;prefix&quot;: &quot;glyphicon&quot;}\n",
       "            );\n",
       "            marker_73d9161ec485fb7011189063ea236125.setIcon(icon_0bbee1fd28827f32b0c07b1c97627619);\n",
       "        \n",
       "    \n",
       "        var popup_d2bc6f1ebc8b49bc09fde5dc032f682b = L.popup({&quot;maxWidth&quot;: &quot;100%&quot;});\n",
       "\n",
       "        \n",
       "            \n",
       "                var html_26a889a66746375ed01f349b5274944b = $(`&lt;div id=&quot;html_26a889a66746375ed01f349b5274944b&quot; style=&quot;width: 100.0%; height: 100.0%;&quot;&gt;Loja&lt;/div&gt;`)[0];\n",
       "                popup_d2bc6f1ebc8b49bc09fde5dc032f682b.setContent(html_26a889a66746375ed01f349b5274944b);\n",
       "            \n",
       "        \n",
       "\n",
       "        marker_73d9161ec485fb7011189063ea236125.bindPopup(popup_d2bc6f1ebc8b49bc09fde5dc032f682b)\n",
       "        ;\n",
       "\n",
       "        \n",
       "    \n",
       "    \n",
       "            var marker_78f121500739eb8ce4430a385e43b790 = L.marker(\n",
       "                [-2.8974, -79.0045],\n",
       "                {}\n",
       "            ).addTo(map_dc9d16926369863c012a8eae76921049);\n",
       "        \n",
       "    \n",
       "            var icon_5bf5e13669614fb78c0a63092d35a40b = L.AwesomeMarkers.icon(\n",
       "                {&quot;extraClasses&quot;: &quot;fa-rotate-0&quot;, &quot;icon&quot;: &quot;leaf&quot;, &quot;iconColor&quot;: &quot;white&quot;, &quot;markerColor&quot;: &quot;blue&quot;, &quot;prefix&quot;: &quot;glyphicon&quot;}\n",
       "            );\n",
       "            marker_78f121500739eb8ce4430a385e43b790.setIcon(icon_5bf5e13669614fb78c0a63092d35a40b);\n",
       "        \n",
       "    \n",
       "        var popup_12681f04a50c362711baa01d0ffa2863 = L.popup({&quot;maxWidth&quot;: &quot;100%&quot;});\n",
       "\n",
       "        \n",
       "            \n",
       "                var html_88f4a3f5c5080c0987364688659e303f = $(`&lt;div id=&quot;html_88f4a3f5c5080c0987364688659e303f&quot; style=&quot;width: 100.0%; height: 100.0%;&quot;&gt;Cuenca&lt;/div&gt;`)[0];\n",
       "                popup_12681f04a50c362711baa01d0ffa2863.setContent(html_88f4a3f5c5080c0987364688659e303f);\n",
       "            \n",
       "        \n",
       "\n",
       "        marker_78f121500739eb8ce4430a385e43b790.bindPopup(popup_12681f04a50c362711baa01d0ffa2863)\n",
       "        ;\n",
       "\n",
       "        \n",
       "    \n",
       "    \n",
       "            var marker_aef7e7ed35894c965ac14b45a58d1ab7 = L.marker(\n",
       "                [-3.2667, -79.9667],\n",
       "                {}\n",
       "            ).addTo(map_dc9d16926369863c012a8eae76921049);\n",
       "        \n",
       "    \n",
       "            var icon_3020ea1269f4b4c594afd3e22c67bc4d = L.AwesomeMarkers.icon(\n",
       "                {&quot;extraClasses&quot;: &quot;fa-rotate-0&quot;, &quot;icon&quot;: &quot;leaf&quot;, &quot;iconColor&quot;: &quot;white&quot;, &quot;markerColor&quot;: &quot;blue&quot;, &quot;prefix&quot;: &quot;glyphicon&quot;}\n",
       "            );\n",
       "            marker_aef7e7ed35894c965ac14b45a58d1ab7.setIcon(icon_3020ea1269f4b4c594afd3e22c67bc4d);\n",
       "        \n",
       "    \n",
       "        var popup_bdbd79633f203ae6e1c8a1aab53a07ed = L.popup({&quot;maxWidth&quot;: &quot;100%&quot;});\n",
       "\n",
       "        \n",
       "            \n",
       "                var html_250601b757825ec55ba80a67a0107205 = $(`&lt;div id=&quot;html_250601b757825ec55ba80a67a0107205&quot; style=&quot;width: 100.0%; height: 100.0%;&quot;&gt;Machala&lt;/div&gt;`)[0];\n",
       "                popup_bdbd79633f203ae6e1c8a1aab53a07ed.setContent(html_250601b757825ec55ba80a67a0107205);\n",
       "            \n",
       "        \n",
       "\n",
       "        marker_aef7e7ed35894c965ac14b45a58d1ab7.bindPopup(popup_bdbd79633f203ae6e1c8a1aab53a07ed)\n",
       "        ;\n",
       "\n",
       "        \n",
       "    \n",
       "    \n",
       "            var marker_8482f231db3f728a43702c830f093b77 = L.marker(\n",
       "                [-3.2667, -79.9667],\n",
       "                {}\n",
       "            ).addTo(map_dc9d16926369863c012a8eae76921049);\n",
       "        \n",
       "    \n",
       "            var icon_c0c3bd517dc6b316eea373d4b909b350 = L.AwesomeMarkers.icon(\n",
       "                {&quot;extraClasses&quot;: &quot;fa-rotate-0&quot;, &quot;icon&quot;: &quot;leaf&quot;, &quot;iconColor&quot;: &quot;white&quot;, &quot;markerColor&quot;: &quot;blue&quot;, &quot;prefix&quot;: &quot;glyphicon&quot;}\n",
       "            );\n",
       "            marker_8482f231db3f728a43702c830f093b77.setIcon(icon_c0c3bd517dc6b316eea373d4b909b350);\n",
       "        \n",
       "    \n",
       "        var popup_70f01c3f3775d1f7e4cb0b48253480ea = L.popup({&quot;maxWidth&quot;: &quot;100%&quot;});\n",
       "\n",
       "        \n",
       "            \n",
       "                var html_ebd4409de06d769914918105bfc815ed = $(`&lt;div id=&quot;html_ebd4409de06d769914918105bfc815ed&quot; style=&quot;width: 100.0%; height: 100.0%;&quot;&gt;Machala&lt;/div&gt;`)[0];\n",
       "                popup_70f01c3f3775d1f7e4cb0b48253480ea.setContent(html_ebd4409de06d769914918105bfc815ed);\n",
       "            \n",
       "        \n",
       "\n",
       "        marker_8482f231db3f728a43702c830f093b77.bindPopup(popup_70f01c3f3775d1f7e4cb0b48253480ea)\n",
       "        ;\n",
       "\n",
       "        \n",
       "    \n",
       "    \n",
       "            var marker_f8a621d19142f633741e2debef9f6583 = L.marker(\n",
       "                [-2.8974, -79.0045],\n",
       "                {}\n",
       "            ).addTo(map_dc9d16926369863c012a8eae76921049);\n",
       "        \n",
       "    \n",
       "            var icon_fefe9814f01781a3380f3454688c3b3a = L.AwesomeMarkers.icon(\n",
       "                {&quot;extraClasses&quot;: &quot;fa-rotate-0&quot;, &quot;icon&quot;: &quot;leaf&quot;, &quot;iconColor&quot;: &quot;white&quot;, &quot;markerColor&quot;: &quot;blue&quot;, &quot;prefix&quot;: &quot;glyphicon&quot;}\n",
       "            );\n",
       "            marker_f8a621d19142f633741e2debef9f6583.setIcon(icon_fefe9814f01781a3380f3454688c3b3a);\n",
       "        \n",
       "    \n",
       "        var popup_134d44a04adc6716f36e6974cc38514d = L.popup({&quot;maxWidth&quot;: &quot;100%&quot;});\n",
       "\n",
       "        \n",
       "            \n",
       "                var html_2525cfbb0c8463d7c6b17b2593b42295 = $(`&lt;div id=&quot;html_2525cfbb0c8463d7c6b17b2593b42295&quot; style=&quot;width: 100.0%; height: 100.0%;&quot;&gt;Cuenca&lt;/div&gt;`)[0];\n",
       "                popup_134d44a04adc6716f36e6974cc38514d.setContent(html_2525cfbb0c8463d7c6b17b2593b42295);\n",
       "            \n",
       "        \n",
       "\n",
       "        marker_f8a621d19142f633741e2debef9f6583.bindPopup(popup_134d44a04adc6716f36e6974cc38514d)\n",
       "        ;\n",
       "\n",
       "        \n",
       "    \n",
       "    \n",
       "            var marker_26d9e6160331f4ea403d3fd2b2a1f47c = L.marker(\n",
       "                [0.9667, -79.6528],\n",
       "                {}\n",
       "            ).addTo(map_dc9d16926369863c012a8eae76921049);\n",
       "        \n",
       "    \n",
       "            var icon_a40470b7c51f9ba5b93bc318fb19147f = L.AwesomeMarkers.icon(\n",
       "                {&quot;extraClasses&quot;: &quot;fa-rotate-0&quot;, &quot;icon&quot;: &quot;leaf&quot;, &quot;iconColor&quot;: &quot;white&quot;, &quot;markerColor&quot;: &quot;blue&quot;, &quot;prefix&quot;: &quot;glyphicon&quot;}\n",
       "            );\n",
       "            marker_26d9e6160331f4ea403d3fd2b2a1f47c.setIcon(icon_a40470b7c51f9ba5b93bc318fb19147f);\n",
       "        \n",
       "    \n",
       "        var popup_37d13555697375f459bd8ed999e3d54f = L.popup({&quot;maxWidth&quot;: &quot;100%&quot;});\n",
       "\n",
       "        \n",
       "            \n",
       "                var html_fe568b0f4f5dba3c2cdee8490fbf7bed = $(`&lt;div id=&quot;html_fe568b0f4f5dba3c2cdee8490fbf7bed&quot; style=&quot;width: 100.0%; height: 100.0%;&quot;&gt;Esmeraldas&lt;/div&gt;`)[0];\n",
       "                popup_37d13555697375f459bd8ed999e3d54f.setContent(html_fe568b0f4f5dba3c2cdee8490fbf7bed);\n",
       "            \n",
       "        \n",
       "\n",
       "        marker_26d9e6160331f4ea403d3fd2b2a1f47c.bindPopup(popup_37d13555697375f459bd8ed999e3d54f)\n",
       "        ;\n",
       "\n",
       "        \n",
       "    \n",
       "    \n",
       "            var marker_60b054d7bbb32c2bfbe5aad27a3a926b = L.marker(\n",
       "                [-0.22, -78.5125],\n",
       "                {}\n",
       "            ).addTo(map_dc9d16926369863c012a8eae76921049);\n",
       "        \n",
       "    \n",
       "            var icon_fec6ece0def4535f2aa24cb43dcd6082 = L.AwesomeMarkers.icon(\n",
       "                {&quot;extraClasses&quot;: &quot;fa-rotate-0&quot;, &quot;icon&quot;: &quot;leaf&quot;, &quot;iconColor&quot;: &quot;white&quot;, &quot;markerColor&quot;: &quot;blue&quot;, &quot;prefix&quot;: &quot;glyphicon&quot;}\n",
       "            );\n",
       "            marker_60b054d7bbb32c2bfbe5aad27a3a926b.setIcon(icon_fec6ece0def4535f2aa24cb43dcd6082);\n",
       "        \n",
       "    \n",
       "        var popup_186cc37d046da7980b87c53af364fc93 = L.popup({&quot;maxWidth&quot;: &quot;100%&quot;});\n",
       "\n",
       "        \n",
       "            \n",
       "                var html_d78bc72dcffa416c3251415dd0cda0e2 = $(`&lt;div id=&quot;html_d78bc72dcffa416c3251415dd0cda0e2&quot; style=&quot;width: 100.0%; height: 100.0%;&quot;&gt;Quito&lt;/div&gt;`)[0];\n",
       "                popup_186cc37d046da7980b87c53af364fc93.setContent(html_d78bc72dcffa416c3251415dd0cda0e2);\n",
       "            \n",
       "        \n",
       "\n",
       "        marker_60b054d7bbb32c2bfbe5aad27a3a926b.bindPopup(popup_186cc37d046da7980b87c53af364fc93)\n",
       "        ;\n",
       "\n",
       "        \n",
       "    \n",
       "    \n",
       "            var marker_03eb9c63ee048c44fa650cb78c2672a6 = L.marker(\n",
       "                [-0.22, -78.5125],\n",
       "                {}\n",
       "            ).addTo(map_dc9d16926369863c012a8eae76921049);\n",
       "        \n",
       "    \n",
       "            var icon_eebabb217c7124b1db9565dd30cb4971 = L.AwesomeMarkers.icon(\n",
       "                {&quot;extraClasses&quot;: &quot;fa-rotate-0&quot;, &quot;icon&quot;: &quot;leaf&quot;, &quot;iconColor&quot;: &quot;white&quot;, &quot;markerColor&quot;: &quot;blue&quot;, &quot;prefix&quot;: &quot;glyphicon&quot;}\n",
       "            );\n",
       "            marker_03eb9c63ee048c44fa650cb78c2672a6.setIcon(icon_eebabb217c7124b1db9565dd30cb4971);\n",
       "        \n",
       "    \n",
       "        var popup_8c5b579b3a44fb612b57fbfcfb7e1dcd = L.popup({&quot;maxWidth&quot;: &quot;100%&quot;});\n",
       "\n",
       "        \n",
       "            \n",
       "                var html_414068cfb383dfc81e1361a7af470549 = $(`&lt;div id=&quot;html_414068cfb383dfc81e1361a7af470549&quot; style=&quot;width: 100.0%; height: 100.0%;&quot;&gt;Quito&lt;/div&gt;`)[0];\n",
       "                popup_8c5b579b3a44fb612b57fbfcfb7e1dcd.setContent(html_414068cfb383dfc81e1361a7af470549);\n",
       "            \n",
       "        \n",
       "\n",
       "        marker_03eb9c63ee048c44fa650cb78c2672a6.bindPopup(popup_8c5b579b3a44fb612b57fbfcfb7e1dcd)\n",
       "        ;\n",
       "\n",
       "        \n",
       "    \n",
       "    \n",
       "            var marker_adf1bb73ad45bc869487c117df65ef73 = L.marker(\n",
       "                [-0.22, -78.5125],\n",
       "                {}\n",
       "            ).addTo(map_dc9d16926369863c012a8eae76921049);\n",
       "        \n",
       "    \n",
       "            var icon_4ac64a32f117b3aac2006f95b6ba35b0 = L.AwesomeMarkers.icon(\n",
       "                {&quot;extraClasses&quot;: &quot;fa-rotate-0&quot;, &quot;icon&quot;: &quot;leaf&quot;, &quot;iconColor&quot;: &quot;white&quot;, &quot;markerColor&quot;: &quot;blue&quot;, &quot;prefix&quot;: &quot;glyphicon&quot;}\n",
       "            );\n",
       "            marker_adf1bb73ad45bc869487c117df65ef73.setIcon(icon_4ac64a32f117b3aac2006f95b6ba35b0);\n",
       "        \n",
       "    \n",
       "        var popup_976a033f29d751935a7dbbb20d05e081 = L.popup({&quot;maxWidth&quot;: &quot;100%&quot;});\n",
       "\n",
       "        \n",
       "            \n",
       "                var html_f435cc8ee9fc22c83d86791a8e55ee03 = $(`&lt;div id=&quot;html_f435cc8ee9fc22c83d86791a8e55ee03&quot; style=&quot;width: 100.0%; height: 100.0%;&quot;&gt;Quito&lt;/div&gt;`)[0];\n",
       "                popup_976a033f29d751935a7dbbb20d05e081.setContent(html_f435cc8ee9fc22c83d86791a8e55ee03);\n",
       "            \n",
       "        \n",
       "\n",
       "        marker_adf1bb73ad45bc869487c117df65ef73.bindPopup(popup_976a033f29d751935a7dbbb20d05e081)\n",
       "        ;\n",
       "\n",
       "        \n",
       "    \n",
       "    \n",
       "            var marker_ce1f84434332dbea93aa64e6b981734d = L.marker(\n",
       "                [-0.22, -78.5125],\n",
       "                {}\n",
       "            ).addTo(map_dc9d16926369863c012a8eae76921049);\n",
       "        \n",
       "    \n",
       "            var icon_0ddc832fbcfbc0c7dac6c317977a6034 = L.AwesomeMarkers.icon(\n",
       "                {&quot;extraClasses&quot;: &quot;fa-rotate-0&quot;, &quot;icon&quot;: &quot;leaf&quot;, &quot;iconColor&quot;: &quot;white&quot;, &quot;markerColor&quot;: &quot;blue&quot;, &quot;prefix&quot;: &quot;glyphicon&quot;}\n",
       "            );\n",
       "            marker_ce1f84434332dbea93aa64e6b981734d.setIcon(icon_0ddc832fbcfbc0c7dac6c317977a6034);\n",
       "        \n",
       "    \n",
       "        var popup_e68f16cdafbaac9fde81841546df2e47 = L.popup({&quot;maxWidth&quot;: &quot;100%&quot;});\n",
       "\n",
       "        \n",
       "            \n",
       "                var html_05105a71bad74aa752e27cfadf1d333d = $(`&lt;div id=&quot;html_05105a71bad74aa752e27cfadf1d333d&quot; style=&quot;width: 100.0%; height: 100.0%;&quot;&gt;Quito&lt;/div&gt;`)[0];\n",
       "                popup_e68f16cdafbaac9fde81841546df2e47.setContent(html_05105a71bad74aa752e27cfadf1d333d);\n",
       "            \n",
       "        \n",
       "\n",
       "        marker_ce1f84434332dbea93aa64e6b981734d.bindPopup(popup_e68f16cdafbaac9fde81841546df2e47)\n",
       "        ;\n",
       "\n",
       "        \n",
       "    \n",
       "    \n",
       "            var marker_4a39e25bf335a3cef980b819b7744fb0 = L.marker(\n",
       "                [-0.22, -78.5125],\n",
       "                {}\n",
       "            ).addTo(map_dc9d16926369863c012a8eae76921049);\n",
       "        \n",
       "    \n",
       "            var icon_cafee3817f382a3dd0f36f9dcb83577c = L.AwesomeMarkers.icon(\n",
       "                {&quot;extraClasses&quot;: &quot;fa-rotate-0&quot;, &quot;icon&quot;: &quot;leaf&quot;, &quot;iconColor&quot;: &quot;white&quot;, &quot;markerColor&quot;: &quot;blue&quot;, &quot;prefix&quot;: &quot;glyphicon&quot;}\n",
       "            );\n",
       "            marker_4a39e25bf335a3cef980b819b7744fb0.setIcon(icon_cafee3817f382a3dd0f36f9dcb83577c);\n",
       "        \n",
       "    \n",
       "        var popup_adeba0cc247d8d0fb532305b5e1d937b = L.popup({&quot;maxWidth&quot;: &quot;100%&quot;});\n",
       "\n",
       "        \n",
       "            \n",
       "                var html_47916d7a224b32ab801cb66d7b22f9ac = $(`&lt;div id=&quot;html_47916d7a224b32ab801cb66d7b22f9ac&quot; style=&quot;width: 100.0%; height: 100.0%;&quot;&gt;Quito&lt;/div&gt;`)[0];\n",
       "                popup_adeba0cc247d8d0fb532305b5e1d937b.setContent(html_47916d7a224b32ab801cb66d7b22f9ac);\n",
       "            \n",
       "        \n",
       "\n",
       "        marker_4a39e25bf335a3cef980b819b7744fb0.bindPopup(popup_adeba0cc247d8d0fb532305b5e1d937b)\n",
       "        ;\n",
       "\n",
       "        \n",
       "    \n",
       "    \n",
       "            var marker_c12095ea61211a86b8d5478fd548b753 = L.marker(\n",
       "                [-0.22, -78.5125],\n",
       "                {}\n",
       "            ).addTo(map_dc9d16926369863c012a8eae76921049);\n",
       "        \n",
       "    \n",
       "            var icon_436168b8e437a5d881345b22bc90305e = L.AwesomeMarkers.icon(\n",
       "                {&quot;extraClasses&quot;: &quot;fa-rotate-0&quot;, &quot;icon&quot;: &quot;leaf&quot;, &quot;iconColor&quot;: &quot;white&quot;, &quot;markerColor&quot;: &quot;blue&quot;, &quot;prefix&quot;: &quot;glyphicon&quot;}\n",
       "            );\n",
       "            marker_c12095ea61211a86b8d5478fd548b753.setIcon(icon_436168b8e437a5d881345b22bc90305e);\n",
       "        \n",
       "    \n",
       "        var popup_1d86f59b92a98d8c48002529c7d0bc6a = L.popup({&quot;maxWidth&quot;: &quot;100%&quot;});\n",
       "\n",
       "        \n",
       "            \n",
       "                var html_d26ca89f08708f611bb648eebc380783 = $(`&lt;div id=&quot;html_d26ca89f08708f611bb648eebc380783&quot; style=&quot;width: 100.0%; height: 100.0%;&quot;&gt;Quito&lt;/div&gt;`)[0];\n",
       "                popup_1d86f59b92a98d8c48002529c7d0bc6a.setContent(html_d26ca89f08708f611bb648eebc380783);\n",
       "            \n",
       "        \n",
       "\n",
       "        marker_c12095ea61211a86b8d5478fd548b753.bindPopup(popup_1d86f59b92a98d8c48002529c7d0bc6a)\n",
       "        ;\n",
       "\n",
       "        \n",
       "    \n",
       "    \n",
       "            var marker_37c34b66d70460055ff6fe36c5a979d7 = L.marker(\n",
       "                [-1.2417, -78.6197],\n",
       "                {}\n",
       "            ).addTo(map_dc9d16926369863c012a8eae76921049);\n",
       "        \n",
       "    \n",
       "            var icon_425618171725d9b5fa9d414e9bc41940 = L.AwesomeMarkers.icon(\n",
       "                {&quot;extraClasses&quot;: &quot;fa-rotate-0&quot;, &quot;icon&quot;: &quot;leaf&quot;, &quot;iconColor&quot;: &quot;white&quot;, &quot;markerColor&quot;: &quot;blue&quot;, &quot;prefix&quot;: &quot;glyphicon&quot;}\n",
       "            );\n",
       "            marker_37c34b66d70460055ff6fe36c5a979d7.setIcon(icon_425618171725d9b5fa9d414e9bc41940);\n",
       "        \n",
       "    \n",
       "        var popup_85bd894d081e0120f4f23f587190e20d = L.popup({&quot;maxWidth&quot;: &quot;100%&quot;});\n",
       "\n",
       "        \n",
       "            \n",
       "                var html_fa35285d7bef011f72af595856e3a71a = $(`&lt;div id=&quot;html_fa35285d7bef011f72af595856e3a71a&quot; style=&quot;width: 100.0%; height: 100.0%;&quot;&gt;Ambato&lt;/div&gt;`)[0];\n",
       "                popup_85bd894d081e0120f4f23f587190e20d.setContent(html_fa35285d7bef011f72af595856e3a71a);\n",
       "            \n",
       "        \n",
       "\n",
       "        marker_37c34b66d70460055ff6fe36c5a979d7.bindPopup(popup_85bd894d081e0120f4f23f587190e20d)\n",
       "        ;\n",
       "\n",
       "        \n",
       "    \n",
       "    \n",
       "            var marker_478110c4351374f4f61402d33daab41c = L.marker(\n",
       "                [-2.19, -79.8875],\n",
       "                {}\n",
       "            ).addTo(map_dc9d16926369863c012a8eae76921049);\n",
       "        \n",
       "    \n",
       "            var icon_efe216e5d1626e48e253cf8a16663a15 = L.AwesomeMarkers.icon(\n",
       "                {&quot;extraClasses&quot;: &quot;fa-rotate-0&quot;, &quot;icon&quot;: &quot;leaf&quot;, &quot;iconColor&quot;: &quot;white&quot;, &quot;markerColor&quot;: &quot;blue&quot;, &quot;prefix&quot;: &quot;glyphicon&quot;}\n",
       "            );\n",
       "            marker_478110c4351374f4f61402d33daab41c.setIcon(icon_efe216e5d1626e48e253cf8a16663a15);\n",
       "        \n",
       "    \n",
       "        var popup_8673fdfe8e4175d4ebdb69d80c7cba3a = L.popup({&quot;maxWidth&quot;: &quot;100%&quot;});\n",
       "\n",
       "        \n",
       "            \n",
       "                var html_5c33930550fe126458f28ae6f7ef84ae = $(`&lt;div id=&quot;html_5c33930550fe126458f28ae6f7ef84ae&quot; style=&quot;width: 100.0%; height: 100.0%;&quot;&gt;Guayaquil&lt;/div&gt;`)[0];\n",
       "                popup_8673fdfe8e4175d4ebdb69d80c7cba3a.setContent(html_5c33930550fe126458f28ae6f7ef84ae);\n",
       "            \n",
       "        \n",
       "\n",
       "        marker_478110c4351374f4f61402d33daab41c.bindPopup(popup_8673fdfe8e4175d4ebdb69d80c7cba3a)\n",
       "        ;\n",
       "\n",
       "        \n",
       "    \n",
       "    \n",
       "            var marker_e9ee33d35b0c03f18af9e4f41f488beb = L.marker(\n",
       "                [-0.95, -80.7162],\n",
       "                {}\n",
       "            ).addTo(map_dc9d16926369863c012a8eae76921049);\n",
       "        \n",
       "    \n",
       "            var icon_f98be9eff1716f507d2a40092ddd26ac = L.AwesomeMarkers.icon(\n",
       "                {&quot;extraClasses&quot;: &quot;fa-rotate-0&quot;, &quot;icon&quot;: &quot;leaf&quot;, &quot;iconColor&quot;: &quot;white&quot;, &quot;markerColor&quot;: &quot;blue&quot;, &quot;prefix&quot;: &quot;glyphicon&quot;}\n",
       "            );\n",
       "            marker_e9ee33d35b0c03f18af9e4f41f488beb.setIcon(icon_f98be9eff1716f507d2a40092ddd26ac);\n",
       "        \n",
       "    \n",
       "        var popup_2a60cd0c291f5de3376d223e5d9c4247 = L.popup({&quot;maxWidth&quot;: &quot;100%&quot;});\n",
       "\n",
       "        \n",
       "            \n",
       "                var html_3784f5cbedf28c0553aeca9a86653816 = $(`&lt;div id=&quot;html_3784f5cbedf28c0553aeca9a86653816&quot; style=&quot;width: 100.0%; height: 100.0%;&quot;&gt;Manta&lt;/div&gt;`)[0];\n",
       "                popup_2a60cd0c291f5de3376d223e5d9c4247.setContent(html_3784f5cbedf28c0553aeca9a86653816);\n",
       "            \n",
       "        \n",
       "\n",
       "        marker_e9ee33d35b0c03f18af9e4f41f488beb.bindPopup(popup_2a60cd0c291f5de3376d223e5d9c4247)\n",
       "        ;\n",
       "\n",
       "        \n",
       "    \n",
       "    \n",
       "            var marker_3eec901564a16854f4ae4fbcdde6ac1d = L.marker(\n",
       "                [-0.95, -80.7162],\n",
       "                {}\n",
       "            ).addTo(map_dc9d16926369863c012a8eae76921049);\n",
       "        \n",
       "    \n",
       "            var icon_b910e5916ad81d4db3cc217104ed3aab = L.AwesomeMarkers.icon(\n",
       "                {&quot;extraClasses&quot;: &quot;fa-rotate-0&quot;, &quot;icon&quot;: &quot;leaf&quot;, &quot;iconColor&quot;: &quot;white&quot;, &quot;markerColor&quot;: &quot;blue&quot;, &quot;prefix&quot;: &quot;glyphicon&quot;}\n",
       "            );\n",
       "            marker_3eec901564a16854f4ae4fbcdde6ac1d.setIcon(icon_b910e5916ad81d4db3cc217104ed3aab);\n",
       "        \n",
       "    \n",
       "        var popup_9a6ed68aabf5325a59a748dddb7cf7c4 = L.popup({&quot;maxWidth&quot;: &quot;100%&quot;});\n",
       "\n",
       "        \n",
       "            \n",
       "                var html_f37e58915cb991ccb5f8c1b227607fd6 = $(`&lt;div id=&quot;html_f37e58915cb991ccb5f8c1b227607fd6&quot; style=&quot;width: 100.0%; height: 100.0%;&quot;&gt;Manta&lt;/div&gt;`)[0];\n",
       "                popup_9a6ed68aabf5325a59a748dddb7cf7c4.setContent(html_f37e58915cb991ccb5f8c1b227607fd6);\n",
       "            \n",
       "        \n",
       "\n",
       "        marker_3eec901564a16854f4ae4fbcdde6ac1d.bindPopup(popup_9a6ed68aabf5325a59a748dddb7cf7c4)\n",
       "        ;\n",
       "\n",
       "        \n",
       "    \n",
       "&lt;/script&gt;\n",
       "&lt;/html&gt;\" style=\"position:absolute;width:100%;height:100%;left:0;top:0;border:none !important;\" allowfullscreen webkitallowfullscreen mozallowfullscreen></iframe></div></div>"
      ],
      "text/plain": [
       "<folium.folium.Map at 0x16570e98b50>"
      ]
     },
     "execution_count": 491,
     "metadata": {},
     "output_type": "execute_result"
    }
   ],
   "source": [
    "import folium\n",
    "\n",
    "# Create a map centered around Ecuador\n",
    "map_ecuador = folium.Map(location=[-1.8312, -78.1834], zoom_start=7)\n",
    "\n",
    "# Add markers for each coordinate\n",
    "# The for loop iterates over the rows of the DataFrame\n",
    "# The iterrows() method returns an iterator that yields pairs of index and row data as Series\n",
    "# The row data is a Series that contains the data of the row\n",
    "# The index is the index of the row\n",
    "for index, row in merged_df.iterrows():\n",
    "    folium.Marker([row['lat'], row['lng']], icon = folium.Icon(icon='leaf'), popup=row['city']).add_to(map_ecuador)\n",
    "\n",
    "\n",
    "# Display the map\n",
    "map_ecuador\n",
    "\n",
    "#plotlib\n"
   ]
  },
  {
   "cell_type": "code",
   "execution_count": 482,
   "metadata": {},
   "outputs": [],
   "source": [
    "#Altair\n",
    "#Plotlib"
   ]
  },
  {
   "cell_type": "code",
   "execution_count": null,
   "metadata": {},
   "outputs": [],
   "source": []
  },
  {
   "cell_type": "code",
   "execution_count": 486,
   "metadata": {},
   "outputs": [
    {
     "data": {
      "text/html": [
       "<div style=\"width:100%;\"><div style=\"position:relative;width:100%;height:0;padding-bottom:60%;\"><span style=\"color:#565656\">Make this Notebook Trusted to load map: File -> Trust Notebook</span><iframe srcdoc=\"&lt;!DOCTYPE html&gt;\n",
       "&lt;html&gt;\n",
       "&lt;head&gt;\n",
       "    \n",
       "    &lt;meta http-equiv=&quot;content-type&quot; content=&quot;text/html; charset=UTF-8&quot; /&gt;\n",
       "    \n",
       "        &lt;script&gt;\n",
       "            L_NO_TOUCH = false;\n",
       "            L_DISABLE_3D = false;\n",
       "        &lt;/script&gt;\n",
       "    \n",
       "    &lt;style&gt;html, body {width: 100%;height: 100%;margin: 0;padding: 0;}&lt;/style&gt;\n",
       "    &lt;style&gt;#map {position:absolute;top:0;bottom:0;right:0;left:0;}&lt;/style&gt;\n",
       "    &lt;script src=&quot;https://cdn.jsdelivr.net/npm/leaflet@1.9.3/dist/leaflet.js&quot;&gt;&lt;/script&gt;\n",
       "    &lt;script src=&quot;https://code.jquery.com/jquery-3.7.1.min.js&quot;&gt;&lt;/script&gt;\n",
       "    &lt;script src=&quot;https://cdn.jsdelivr.net/npm/bootstrap@5.2.2/dist/js/bootstrap.bundle.min.js&quot;&gt;&lt;/script&gt;\n",
       "    &lt;script src=&quot;https://cdnjs.cloudflare.com/ajax/libs/Leaflet.awesome-markers/2.0.2/leaflet.awesome-markers.js&quot;&gt;&lt;/script&gt;\n",
       "    &lt;link rel=&quot;stylesheet&quot; href=&quot;https://cdn.jsdelivr.net/npm/leaflet@1.9.3/dist/leaflet.css&quot;/&gt;\n",
       "    &lt;link rel=&quot;stylesheet&quot; href=&quot;https://cdn.jsdelivr.net/npm/bootstrap@5.2.2/dist/css/bootstrap.min.css&quot;/&gt;\n",
       "    &lt;link rel=&quot;stylesheet&quot; href=&quot;https://netdna.bootstrapcdn.com/bootstrap/3.0.0/css/bootstrap.min.css&quot;/&gt;\n",
       "    &lt;link rel=&quot;stylesheet&quot; href=&quot;https://cdn.jsdelivr.net/npm/@fortawesome/fontawesome-free@6.2.0/css/all.min.css&quot;/&gt;\n",
       "    &lt;link rel=&quot;stylesheet&quot; href=&quot;https://cdnjs.cloudflare.com/ajax/libs/Leaflet.awesome-markers/2.0.2/leaflet.awesome-markers.css&quot;/&gt;\n",
       "    &lt;link rel=&quot;stylesheet&quot; href=&quot;https://cdn.jsdelivr.net/gh/python-visualization/folium/folium/templates/leaflet.awesome.rotate.min.css&quot;/&gt;\n",
       "    \n",
       "            &lt;meta name=&quot;viewport&quot; content=&quot;width=device-width,\n",
       "                initial-scale=1.0, maximum-scale=1.0, user-scalable=no&quot; /&gt;\n",
       "            &lt;style&gt;\n",
       "                #map_72739c6edade3626012d7d834ee9da67 {\n",
       "                    position: relative;\n",
       "                    width: 100.0%;\n",
       "                    height: 100.0%;\n",
       "                    left: 0.0%;\n",
       "                    top: 0.0%;\n",
       "                }\n",
       "                .leaflet-container { font-size: 1rem; }\n",
       "            &lt;/style&gt;\n",
       "        \n",
       "&lt;/head&gt;\n",
       "&lt;body&gt;\n",
       "    \n",
       "    \n",
       "            &lt;div class=&quot;folium-map&quot; id=&quot;map_72739c6edade3626012d7d834ee9da67&quot; &gt;&lt;/div&gt;\n",
       "        \n",
       "&lt;/body&gt;\n",
       "&lt;script&gt;\n",
       "    \n",
       "    \n",
       "            var map_72739c6edade3626012d7d834ee9da67 = L.map(\n",
       "                &quot;map_72739c6edade3626012d7d834ee9da67&quot;,\n",
       "                {\n",
       "                    center: [-1.8312, -78.1834],\n",
       "                    crs: L.CRS.EPSG3857,\n",
       "                    zoom: 7,\n",
       "                    zoomControl: true,\n",
       "                    preferCanvas: false,\n",
       "                }\n",
       "            );\n",
       "\n",
       "            \n",
       "\n",
       "        \n",
       "    \n",
       "            var tile_layer_3c572d9e4f8943618f5b9e695f0d1f85 = L.tileLayer(\n",
       "                &quot;https://tile.openstreetmap.org/{z}/{x}/{y}.png&quot;,\n",
       "                {&quot;attribution&quot;: &quot;\\u0026copy; \\u003ca href=\\&quot;https://www.openstreetmap.org/copyright\\&quot;\\u003eOpenStreetMap\\u003c/a\\u003e contributors&quot;, &quot;detectRetina&quot;: false, &quot;maxNativeZoom&quot;: 19, &quot;maxZoom&quot;: 19, &quot;minZoom&quot;: 0, &quot;noWrap&quot;: false, &quot;opacity&quot;: 1, &quot;subdomains&quot;: &quot;abc&quot;, &quot;tms&quot;: false}\n",
       "            );\n",
       "        \n",
       "    \n",
       "            tile_layer_3c572d9e4f8943618f5b9e695f0d1f85.addTo(map_72739c6edade3626012d7d834ee9da67);\n",
       "        \n",
       "    \n",
       "            var marker_6da5fbe9da56e31fb6fb30564371bb7c = L.marker(\n",
       "                [-0.22, -78.5125],\n",
       "                {}\n",
       "            ).addTo(map_72739c6edade3626012d7d834ee9da67);\n",
       "        \n",
       "    \n",
       "        var popup_01142abbc9dd8a3c6a9faa1d72bc5219 = L.popup({&quot;maxWidth&quot;: &quot;100%&quot;});\n",
       "\n",
       "        \n",
       "            \n",
       "                var html_5fbd43258dc7acbf0a1a26d5b4eed762 = $(`&lt;div id=&quot;html_5fbd43258dc7acbf0a1a26d5b4eed762&quot; style=&quot;width: 100.0%; height: 100.0%;&quot;&gt;Quito&lt;/div&gt;`)[0];\n",
       "                popup_01142abbc9dd8a3c6a9faa1d72bc5219.setContent(html_5fbd43258dc7acbf0a1a26d5b4eed762);\n",
       "            \n",
       "        \n",
       "\n",
       "        marker_6da5fbe9da56e31fb6fb30564371bb7c.bindPopup(popup_01142abbc9dd8a3c6a9faa1d72bc5219)\n",
       "        ;\n",
       "\n",
       "        \n",
       "    \n",
       "    \n",
       "            var marker_d9dfc7faa06e21273a7d002349f43532 = L.marker(\n",
       "                [-0.22, -78.5125],\n",
       "                {}\n",
       "            ).addTo(map_72739c6edade3626012d7d834ee9da67);\n",
       "        \n",
       "    \n",
       "        var popup_852f06bb2bcc51c72d5eb29b1362b3f6 = L.popup({&quot;maxWidth&quot;: &quot;100%&quot;});\n",
       "\n",
       "        \n",
       "            \n",
       "                var html_4f318aa3f8cea3f817c248141ca13c0f = $(`&lt;div id=&quot;html_4f318aa3f8cea3f817c248141ca13c0f&quot; style=&quot;width: 100.0%; height: 100.0%;&quot;&gt;Quito&lt;/div&gt;`)[0];\n",
       "                popup_852f06bb2bcc51c72d5eb29b1362b3f6.setContent(html_4f318aa3f8cea3f817c248141ca13c0f);\n",
       "            \n",
       "        \n",
       "\n",
       "        marker_d9dfc7faa06e21273a7d002349f43532.bindPopup(popup_852f06bb2bcc51c72d5eb29b1362b3f6)\n",
       "        ;\n",
       "\n",
       "        \n",
       "    \n",
       "    \n",
       "            var marker_4cc57e5070b78065bdd51a32431f0e3b = L.marker(\n",
       "                [-0.22, -78.5125],\n",
       "                {}\n",
       "            ).addTo(map_72739c6edade3626012d7d834ee9da67);\n",
       "        \n",
       "    \n",
       "        var popup_50faf16b3f70b8433d2dbfba80b850d5 = L.popup({&quot;maxWidth&quot;: &quot;100%&quot;});\n",
       "\n",
       "        \n",
       "            \n",
       "                var html_45bdc4757b3b9a78addeb281b1d84802 = $(`&lt;div id=&quot;html_45bdc4757b3b9a78addeb281b1d84802&quot; style=&quot;width: 100.0%; height: 100.0%;&quot;&gt;Quito&lt;/div&gt;`)[0];\n",
       "                popup_50faf16b3f70b8433d2dbfba80b850d5.setContent(html_45bdc4757b3b9a78addeb281b1d84802);\n",
       "            \n",
       "        \n",
       "\n",
       "        marker_4cc57e5070b78065bdd51a32431f0e3b.bindPopup(popup_50faf16b3f70b8433d2dbfba80b850d5)\n",
       "        ;\n",
       "\n",
       "        \n",
       "    \n",
       "    \n",
       "            var marker_27f9af1fa3049a7f15c4611d89bb1b4e = L.marker(\n",
       "                [-0.22, -78.5125],\n",
       "                {}\n",
       "            ).addTo(map_72739c6edade3626012d7d834ee9da67);\n",
       "        \n",
       "    \n",
       "        var popup_aafac367bac86a03608f44328a8f7171 = L.popup({&quot;maxWidth&quot;: &quot;100%&quot;});\n",
       "\n",
       "        \n",
       "            \n",
       "                var html_37a48f0f7a629983b814fcd9db626d01 = $(`&lt;div id=&quot;html_37a48f0f7a629983b814fcd9db626d01&quot; style=&quot;width: 100.0%; height: 100.0%;&quot;&gt;Quito&lt;/div&gt;`)[0];\n",
       "                popup_aafac367bac86a03608f44328a8f7171.setContent(html_37a48f0f7a629983b814fcd9db626d01);\n",
       "            \n",
       "        \n",
       "\n",
       "        marker_27f9af1fa3049a7f15c4611d89bb1b4e.bindPopup(popup_aafac367bac86a03608f44328a8f7171)\n",
       "        ;\n",
       "\n",
       "        \n",
       "    \n",
       "    \n",
       "            var marker_ea42fa3b9784440dee4b8d32caa1e19a = L.marker(\n",
       "                [-0.2542, -79.1719],\n",
       "                {}\n",
       "            ).addTo(map_72739c6edade3626012d7d834ee9da67);\n",
       "        \n",
       "    \n",
       "        var popup_eef1d73772ce1d80a15a9e2f46b73228 = L.popup({&quot;maxWidth&quot;: &quot;100%&quot;});\n",
       "\n",
       "        \n",
       "            \n",
       "                var html_9ec03ccbf9812836c9d9301b1aeef118 = $(`&lt;div id=&quot;html_9ec03ccbf9812836c9d9301b1aeef118&quot; style=&quot;width: 100.0%; height: 100.0%;&quot;&gt;Santo Domingo&lt;/div&gt;`)[0];\n",
       "                popup_eef1d73772ce1d80a15a9e2f46b73228.setContent(html_9ec03ccbf9812836c9d9301b1aeef118);\n",
       "            \n",
       "        \n",
       "\n",
       "        marker_ea42fa3b9784440dee4b8d32caa1e19a.bindPopup(popup_eef1d73772ce1d80a15a9e2f46b73228)\n",
       "        ;\n",
       "\n",
       "        \n",
       "    \n",
       "    \n",
       "            var marker_e2085bc8d703030e3392b14b3691c752 = L.marker(\n",
       "                [-0.22, -78.5125],\n",
       "                {}\n",
       "            ).addTo(map_72739c6edade3626012d7d834ee9da67);\n",
       "        \n",
       "    \n",
       "        var popup_fb58bdc632bd459583d4e1e06742acd9 = L.popup({&quot;maxWidth&quot;: &quot;100%&quot;});\n",
       "\n",
       "        \n",
       "            \n",
       "                var html_a82770a6633f4bd90965936c26f20294 = $(`&lt;div id=&quot;html_a82770a6633f4bd90965936c26f20294&quot; style=&quot;width: 100.0%; height: 100.0%;&quot;&gt;Quito&lt;/div&gt;`)[0];\n",
       "                popup_fb58bdc632bd459583d4e1e06742acd9.setContent(html_a82770a6633f4bd90965936c26f20294);\n",
       "            \n",
       "        \n",
       "\n",
       "        marker_e2085bc8d703030e3392b14b3691c752.bindPopup(popup_fb58bdc632bd459583d4e1e06742acd9)\n",
       "        ;\n",
       "\n",
       "        \n",
       "    \n",
       "    \n",
       "            var marker_44a55d15b6e6c2bbd4db39deb9006039 = L.marker(\n",
       "                [-0.22, -78.5125],\n",
       "                {}\n",
       "            ).addTo(map_72739c6edade3626012d7d834ee9da67);\n",
       "        \n",
       "    \n",
       "        var popup_4f6554d4cc2f67cbd70fd6895797794a = L.popup({&quot;maxWidth&quot;: &quot;100%&quot;});\n",
       "\n",
       "        \n",
       "            \n",
       "                var html_62957233cfac54a6912d1d0697bb3200 = $(`&lt;div id=&quot;html_62957233cfac54a6912d1d0697bb3200&quot; style=&quot;width: 100.0%; height: 100.0%;&quot;&gt;Quito&lt;/div&gt;`)[0];\n",
       "                popup_4f6554d4cc2f67cbd70fd6895797794a.setContent(html_62957233cfac54a6912d1d0697bb3200);\n",
       "            \n",
       "        \n",
       "\n",
       "        marker_44a55d15b6e6c2bbd4db39deb9006039.bindPopup(popup_4f6554d4cc2f67cbd70fd6895797794a)\n",
       "        ;\n",
       "\n",
       "        \n",
       "    \n",
       "    \n",
       "            var marker_12e6b77804c74570dbac2ebc35dd30c9 = L.marker(\n",
       "                [-0.22, -78.5125],\n",
       "                {}\n",
       "            ).addTo(map_72739c6edade3626012d7d834ee9da67);\n",
       "        \n",
       "    \n",
       "        var popup_3bcaabbac55e7b1ca2621009ac3ded27 = L.popup({&quot;maxWidth&quot;: &quot;100%&quot;});\n",
       "\n",
       "        \n",
       "            \n",
       "                var html_9f80b516f674a111f7c5f1a15f575604 = $(`&lt;div id=&quot;html_9f80b516f674a111f7c5f1a15f575604&quot; style=&quot;width: 100.0%; height: 100.0%;&quot;&gt;Quito&lt;/div&gt;`)[0];\n",
       "                popup_3bcaabbac55e7b1ca2621009ac3ded27.setContent(html_9f80b516f674a111f7c5f1a15f575604);\n",
       "            \n",
       "        \n",
       "\n",
       "        marker_12e6b77804c74570dbac2ebc35dd30c9.bindPopup(popup_3bcaabbac55e7b1ca2621009ac3ded27)\n",
       "        ;\n",
       "\n",
       "        \n",
       "    \n",
       "    \n",
       "            var marker_bfa0c01835c5678cdde0fea3fcd946e2 = L.marker(\n",
       "                [-0.22, -78.5125],\n",
       "                {}\n",
       "            ).addTo(map_72739c6edade3626012d7d834ee9da67);\n",
       "        \n",
       "    \n",
       "        var popup_cf729bbbd047f5c93b43af8197bfe062 = L.popup({&quot;maxWidth&quot;: &quot;100%&quot;});\n",
       "\n",
       "        \n",
       "            \n",
       "                var html_329a54e4254937afae6dc5a2f93b0c56 = $(`&lt;div id=&quot;html_329a54e4254937afae6dc5a2f93b0c56&quot; style=&quot;width: 100.0%; height: 100.0%;&quot;&gt;Quito&lt;/div&gt;`)[0];\n",
       "                popup_cf729bbbd047f5c93b43af8197bfe062.setContent(html_329a54e4254937afae6dc5a2f93b0c56);\n",
       "            \n",
       "        \n",
       "\n",
       "        marker_bfa0c01835c5678cdde0fea3fcd946e2.bindPopup(popup_cf729bbbd047f5c93b43af8197bfe062)\n",
       "        ;\n",
       "\n",
       "        \n",
       "    \n",
       "    \n",
       "            var marker_55274cabf5a4b07e6b9699bab13d0463 = L.marker(\n",
       "                [-0.22, -78.5125],\n",
       "                {}\n",
       "            ).addTo(map_72739c6edade3626012d7d834ee9da67);\n",
       "        \n",
       "    \n",
       "        var popup_0c8395d38ffb4686c420ddcddb46b393 = L.popup({&quot;maxWidth&quot;: &quot;100%&quot;});\n",
       "\n",
       "        \n",
       "            \n",
       "                var html_245e8631a569c3f97ad6e4f0aab46cde = $(`&lt;div id=&quot;html_245e8631a569c3f97ad6e4f0aab46cde&quot; style=&quot;width: 100.0%; height: 100.0%;&quot;&gt;Quito&lt;/div&gt;`)[0];\n",
       "                popup_0c8395d38ffb4686c420ddcddb46b393.setContent(html_245e8631a569c3f97ad6e4f0aab46cde);\n",
       "            \n",
       "        \n",
       "\n",
       "        marker_55274cabf5a4b07e6b9699bab13d0463.bindPopup(popup_0c8395d38ffb4686c420ddcddb46b393)\n",
       "        ;\n",
       "\n",
       "        \n",
       "    \n",
       "    \n",
       "            var marker_f8a06ed88dbff133b60bf5dbf952ec36 = L.marker(\n",
       "                [0.04084, -78.14524],\n",
       "                {}\n",
       "            ).addTo(map_72739c6edade3626012d7d834ee9da67);\n",
       "        \n",
       "    \n",
       "        var popup_7479c8dfb49b4a185489888571673d2b = L.popup({&quot;maxWidth&quot;: &quot;100%&quot;});\n",
       "\n",
       "        \n",
       "            \n",
       "                var html_02d802c333ffc6e631945a2af0a9ac57 = $(`&lt;div id=&quot;html_02d802c333ffc6e631945a2af0a9ac57&quot; style=&quot;width: 100.0%; height: 100.0%;&quot;&gt;Cayambe&lt;/div&gt;`)[0];\n",
       "                popup_7479c8dfb49b4a185489888571673d2b.setContent(html_02d802c333ffc6e631945a2af0a9ac57);\n",
       "            \n",
       "        \n",
       "\n",
       "        marker_f8a06ed88dbff133b60bf5dbf952ec36.bindPopup(popup_7479c8dfb49b4a185489888571673d2b)\n",
       "        ;\n",
       "\n",
       "        \n",
       "    \n",
       "    \n",
       "            var marker_5fcf39ebd50b9f08596a7fb5afbc008b = L.marker(\n",
       "                [-0.9319, -78.6161],\n",
       "                {}\n",
       "            ).addTo(map_72739c6edade3626012d7d834ee9da67);\n",
       "        \n",
       "    \n",
       "        var popup_3f1c070c64d30fd2e0a387c2705a73f9 = L.popup({&quot;maxWidth&quot;: &quot;100%&quot;});\n",
       "\n",
       "        \n",
       "            \n",
       "                var html_dc0f1b7327d72a69bdd3fdb5132bc0c5 = $(`&lt;div id=&quot;html_dc0f1b7327d72a69bdd3fdb5132bc0c5&quot; style=&quot;width: 100.0%; height: 100.0%;&quot;&gt;Latacunga&lt;/div&gt;`)[0];\n",
       "                popup_3f1c070c64d30fd2e0a387c2705a73f9.setContent(html_dc0f1b7327d72a69bdd3fdb5132bc0c5);\n",
       "            \n",
       "        \n",
       "\n",
       "        marker_5fcf39ebd50b9f08596a7fb5afbc008b.bindPopup(popup_3f1c070c64d30fd2e0a387c2705a73f9)\n",
       "        ;\n",
       "\n",
       "        \n",
       "    \n",
       "    \n",
       "            var marker_16010df3ca8469350404eae22492653c = L.marker(\n",
       "                [-0.9319, -78.6161],\n",
       "                {}\n",
       "            ).addTo(map_72739c6edade3626012d7d834ee9da67);\n",
       "        \n",
       "    \n",
       "        var popup_295ce3062ae42aabf5b578cdbdf76efd = L.popup({&quot;maxWidth&quot;: &quot;100%&quot;});\n",
       "\n",
       "        \n",
       "            \n",
       "                var html_9e3f70c6638f65d1bd1bb5b81e2d64a0 = $(`&lt;div id=&quot;html_9e3f70c6638f65d1bd1bb5b81e2d64a0&quot; style=&quot;width: 100.0%; height: 100.0%;&quot;&gt;Latacunga&lt;/div&gt;`)[0];\n",
       "                popup_295ce3062ae42aabf5b578cdbdf76efd.setContent(html_9e3f70c6638f65d1bd1bb5b81e2d64a0);\n",
       "            \n",
       "        \n",
       "\n",
       "        marker_16010df3ca8469350404eae22492653c.bindPopup(popup_295ce3062ae42aabf5b578cdbdf76efd)\n",
       "        ;\n",
       "\n",
       "        \n",
       "    \n",
       "    \n",
       "            var marker_c46bd9369f0d278981e23679ece44673 = L.marker(\n",
       "                [-1.6731, -78.6483],\n",
       "                {}\n",
       "            ).addTo(map_72739c6edade3626012d7d834ee9da67);\n",
       "        \n",
       "    \n",
       "        var popup_029c5cd48ad72a6ecf808a1b4fea723f = L.popup({&quot;maxWidth&quot;: &quot;100%&quot;});\n",
       "\n",
       "        \n",
       "            \n",
       "                var html_0e2c0a3cd24ca1ee25c6186aa8ff9801 = $(`&lt;div id=&quot;html_0e2c0a3cd24ca1ee25c6186aa8ff9801&quot; style=&quot;width: 100.0%; height: 100.0%;&quot;&gt;Riobamba&lt;/div&gt;`)[0];\n",
       "                popup_029c5cd48ad72a6ecf808a1b4fea723f.setContent(html_0e2c0a3cd24ca1ee25c6186aa8ff9801);\n",
       "            \n",
       "        \n",
       "\n",
       "        marker_c46bd9369f0d278981e23679ece44673.bindPopup(popup_029c5cd48ad72a6ecf808a1b4fea723f)\n",
       "        ;\n",
       "\n",
       "        \n",
       "    \n",
       "    \n",
       "            var marker_efcdf315b45ac1cfa8ed0855ecbb001a = L.marker(\n",
       "                [0.3627, -78.1307],\n",
       "                {}\n",
       "            ).addTo(map_72739c6edade3626012d7d834ee9da67);\n",
       "        \n",
       "    \n",
       "        var popup_27ecd3810251f224bcb606c5230e417c = L.popup({&quot;maxWidth&quot;: &quot;100%&quot;});\n",
       "\n",
       "        \n",
       "            \n",
       "                var html_1233333c57bbee46d8af25385785d60c = $(`&lt;div id=&quot;html_1233333c57bbee46d8af25385785d60c&quot; style=&quot;width: 100.0%; height: 100.0%;&quot;&gt;Ibarra&lt;/div&gt;`)[0];\n",
       "                popup_27ecd3810251f224bcb606c5230e417c.setContent(html_1233333c57bbee46d8af25385785d60c);\n",
       "            \n",
       "        \n",
       "\n",
       "        marker_efcdf315b45ac1cfa8ed0855ecbb001a.bindPopup(popup_27ecd3810251f224bcb606c5230e417c)\n",
       "        ;\n",
       "\n",
       "        \n",
       "    \n",
       "    \n",
       "            var marker_357082cd572ea98a1ebc0b18b3eefc48 = L.marker(\n",
       "                [-0.2542, -79.1719],\n",
       "                {}\n",
       "            ).addTo(map_72739c6edade3626012d7d834ee9da67);\n",
       "        \n",
       "    \n",
       "        var popup_a068fe9df9d24705c3cb2e4726d470ef = L.popup({&quot;maxWidth&quot;: &quot;100%&quot;});\n",
       "\n",
       "        \n",
       "            \n",
       "                var html_3c0075209970a4738ae9be4783b9af29 = $(`&lt;div id=&quot;html_3c0075209970a4738ae9be4783b9af29&quot; style=&quot;width: 100.0%; height: 100.0%;&quot;&gt;Santo Domingo&lt;/div&gt;`)[0];\n",
       "                popup_a068fe9df9d24705c3cb2e4726d470ef.setContent(html_3c0075209970a4738ae9be4783b9af29);\n",
       "            \n",
       "        \n",
       "\n",
       "        marker_357082cd572ea98a1ebc0b18b3eefc48.bindPopup(popup_a068fe9df9d24705c3cb2e4726d470ef)\n",
       "        ;\n",
       "\n",
       "        \n",
       "    \n",
       "    \n",
       "            var marker_feccae01d47c8da338fddd49f5f28705 = L.marker(\n",
       "                [-0.22, -78.5125],\n",
       "                {}\n",
       "            ).addTo(map_72739c6edade3626012d7d834ee9da67);\n",
       "        \n",
       "    \n",
       "        var popup_86220167a3a748b731b73108b61d75ea = L.popup({&quot;maxWidth&quot;: &quot;100%&quot;});\n",
       "\n",
       "        \n",
       "            \n",
       "                var html_e55dabdd0cf3341bd75e561879929127 = $(`&lt;div id=&quot;html_e55dabdd0cf3341bd75e561879929127&quot; style=&quot;width: 100.0%; height: 100.0%;&quot;&gt;Quito&lt;/div&gt;`)[0];\n",
       "                popup_86220167a3a748b731b73108b61d75ea.setContent(html_e55dabdd0cf3341bd75e561879929127);\n",
       "            \n",
       "        \n",
       "\n",
       "        marker_feccae01d47c8da338fddd49f5f28705.bindPopup(popup_86220167a3a748b731b73108b61d75ea)\n",
       "        ;\n",
       "\n",
       "        \n",
       "    \n",
       "    \n",
       "            var marker_028916e4cea13c169fe958fa1a4d06f3 = L.marker(\n",
       "                [-0.22, -78.5125],\n",
       "                {}\n",
       "            ).addTo(map_72739c6edade3626012d7d834ee9da67);\n",
       "        \n",
       "    \n",
       "        var popup_d758062ca37f9649aa640eabec7f4abc = L.popup({&quot;maxWidth&quot;: &quot;100%&quot;});\n",
       "\n",
       "        \n",
       "            \n",
       "                var html_00fe467ba1077b681ccc1467b151e557 = $(`&lt;div id=&quot;html_00fe467ba1077b681ccc1467b151e557&quot; style=&quot;width: 100.0%; height: 100.0%;&quot;&gt;Quito&lt;/div&gt;`)[0];\n",
       "                popup_d758062ca37f9649aa640eabec7f4abc.setContent(html_00fe467ba1077b681ccc1467b151e557);\n",
       "            \n",
       "        \n",
       "\n",
       "        marker_028916e4cea13c169fe958fa1a4d06f3.bindPopup(popup_d758062ca37f9649aa640eabec7f4abc)\n",
       "        ;\n",
       "\n",
       "        \n",
       "    \n",
       "    \n",
       "            var marker_b879114a1341806895603c86ab5d6b45 = L.marker(\n",
       "                [-1.6, -79.0],\n",
       "                {}\n",
       "            ).addTo(map_72739c6edade3626012d7d834ee9da67);\n",
       "        \n",
       "    \n",
       "        var popup_2f396f27ff50d9eb6f1790ca382c180d = L.popup({&quot;maxWidth&quot;: &quot;100%&quot;});\n",
       "\n",
       "        \n",
       "            \n",
       "                var html_3d4e7a46af5b0af5ac7376433ddacfc4 = $(`&lt;div id=&quot;html_3d4e7a46af5b0af5ac7376433ddacfc4&quot; style=&quot;width: 100.0%; height: 100.0%;&quot;&gt;Guaranda&lt;/div&gt;`)[0];\n",
       "                popup_2f396f27ff50d9eb6f1790ca382c180d.setContent(html_3d4e7a46af5b0af5ac7376433ddacfc4);\n",
       "            \n",
       "        \n",
       "\n",
       "        marker_b879114a1341806895603c86ab5d6b45.bindPopup(popup_2f396f27ff50d9eb6f1790ca382c180d)\n",
       "        ;\n",
       "\n",
       "        \n",
       "    \n",
       "    \n",
       "            var marker_7458500e06656b4788df5c34c0c020ae = L.marker(\n",
       "                [-0.22, -78.5125],\n",
       "                {}\n",
       "            ).addTo(map_72739c6edade3626012d7d834ee9da67);\n",
       "        \n",
       "    \n",
       "        var popup_38f8502d89e6632be231dea1e5b03c87 = L.popup({&quot;maxWidth&quot;: &quot;100%&quot;});\n",
       "\n",
       "        \n",
       "            \n",
       "                var html_b9f1fa18589aba88136f5cbe2c874db4 = $(`&lt;div id=&quot;html_b9f1fa18589aba88136f5cbe2c874db4&quot; style=&quot;width: 100.0%; height: 100.0%;&quot;&gt;Quito&lt;/div&gt;`)[0];\n",
       "                popup_38f8502d89e6632be231dea1e5b03c87.setContent(html_b9f1fa18589aba88136f5cbe2c874db4);\n",
       "            \n",
       "        \n",
       "\n",
       "        marker_7458500e06656b4788df5c34c0c020ae.bindPopup(popup_38f8502d89e6632be231dea1e5b03c87)\n",
       "        ;\n",
       "\n",
       "        \n",
       "    \n",
       "    \n",
       "            var marker_51aad726ef946d3f81030ae4141251b3 = L.marker(\n",
       "                [-0.2542, -79.1719],\n",
       "                {}\n",
       "            ).addTo(map_72739c6edade3626012d7d834ee9da67);\n",
       "        \n",
       "    \n",
       "        var popup_09c4ad59f87d95802b2afc3f98814b13 = L.popup({&quot;maxWidth&quot;: &quot;100%&quot;});\n",
       "\n",
       "        \n",
       "            \n",
       "                var html_f50df9981a89bc9f77a667152e5ec499 = $(`&lt;div id=&quot;html_f50df9981a89bc9f77a667152e5ec499&quot; style=&quot;width: 100.0%; height: 100.0%;&quot;&gt;Santo Domingo&lt;/div&gt;`)[0];\n",
       "                popup_09c4ad59f87d95802b2afc3f98814b13.setContent(html_f50df9981a89bc9f77a667152e5ec499);\n",
       "            \n",
       "        \n",
       "\n",
       "        marker_51aad726ef946d3f81030ae4141251b3.bindPopup(popup_09c4ad59f87d95802b2afc3f98814b13)\n",
       "        ;\n",
       "\n",
       "        \n",
       "    \n",
       "    \n",
       "            var marker_f782b6dcde9a74cb0f7c15fdac657cc3 = L.marker(\n",
       "                [-1.4861, -78.0028],\n",
       "                {}\n",
       "            ).addTo(map_72739c6edade3626012d7d834ee9da67);\n",
       "        \n",
       "    \n",
       "        var popup_6bae8cfa909e74e9314b744fde9a9771 = L.popup({&quot;maxWidth&quot;: &quot;100%&quot;});\n",
       "\n",
       "        \n",
       "            \n",
       "                var html_86c38a3573916ad1a51264fcf9e7d764 = $(`&lt;div id=&quot;html_86c38a3573916ad1a51264fcf9e7d764&quot; style=&quot;width: 100.0%; height: 100.0%;&quot;&gt;Puyo&lt;/div&gt;`)[0];\n",
       "                popup_6bae8cfa909e74e9314b744fde9a9771.setContent(html_86c38a3573916ad1a51264fcf9e7d764);\n",
       "            \n",
       "        \n",
       "\n",
       "        marker_f782b6dcde9a74cb0f7c15fdac657cc3.bindPopup(popup_6bae8cfa909e74e9314b744fde9a9771)\n",
       "        ;\n",
       "\n",
       "        \n",
       "    \n",
       "    \n",
       "            var marker_95784db22a4c681764f32ae1a0772b6e = L.marker(\n",
       "                [-1.2417, -78.6197],\n",
       "                {}\n",
       "            ).addTo(map_72739c6edade3626012d7d834ee9da67);\n",
       "        \n",
       "    \n",
       "        var popup_58f23fff60a8b618eadbe5412329b36c = L.popup({&quot;maxWidth&quot;: &quot;100%&quot;});\n",
       "\n",
       "        \n",
       "            \n",
       "                var html_2fc9d98ee45d9d2e2ab1783cb6c37bb3 = $(`&lt;div id=&quot;html_2fc9d98ee45d9d2e2ab1783cb6c37bb3&quot; style=&quot;width: 100.0%; height: 100.0%;&quot;&gt;Ambato&lt;/div&gt;`)[0];\n",
       "                popup_58f23fff60a8b618eadbe5412329b36c.setContent(html_2fc9d98ee45d9d2e2ab1783cb6c37bb3);\n",
       "            \n",
       "        \n",
       "\n",
       "        marker_95784db22a4c681764f32ae1a0772b6e.bindPopup(popup_58f23fff60a8b618eadbe5412329b36c)\n",
       "        ;\n",
       "\n",
       "        \n",
       "    \n",
       "    \n",
       "            var marker_831139828b76310e815682db18a43674 = L.marker(\n",
       "                [-2.19, -79.8875],\n",
       "                {}\n",
       "            ).addTo(map_72739c6edade3626012d7d834ee9da67);\n",
       "        \n",
       "    \n",
       "        var popup_ea6b698af39250f2b05d87d800a733c4 = L.popup({&quot;maxWidth&quot;: &quot;100%&quot;});\n",
       "\n",
       "        \n",
       "            \n",
       "                var html_52a5a4035f23185658ae6fd9e51c622a = $(`&lt;div id=&quot;html_52a5a4035f23185658ae6fd9e51c622a&quot; style=&quot;width: 100.0%; height: 100.0%;&quot;&gt;Guayaquil&lt;/div&gt;`)[0];\n",
       "                popup_ea6b698af39250f2b05d87d800a733c4.setContent(html_52a5a4035f23185658ae6fd9e51c622a);\n",
       "            \n",
       "        \n",
       "\n",
       "        marker_831139828b76310e815682db18a43674.bindPopup(popup_ea6b698af39250f2b05d87d800a733c4)\n",
       "        ;\n",
       "\n",
       "        \n",
       "    \n",
       "    \n",
       "            var marker_07141f2dfef2445153aac95e440571f4 = L.marker(\n",
       "                [-2.2167, -80.9501],\n",
       "                {}\n",
       "            ).addTo(map_72739c6edade3626012d7d834ee9da67);\n",
       "        \n",
       "    \n",
       "        var popup_c9c99da9d28d0086e62dbf5c562ffec8 = L.popup({&quot;maxWidth&quot;: &quot;100%&quot;});\n",
       "\n",
       "        \n",
       "            \n",
       "                var html_e2dce7729573f30d1d537ba073a14b21 = $(`&lt;div id=&quot;html_e2dce7729573f30d1d537ba073a14b21&quot; style=&quot;width: 100.0%; height: 100.0%;&quot;&gt;Salinas&lt;/div&gt;`)[0];\n",
       "                popup_c9c99da9d28d0086e62dbf5c562ffec8.setContent(html_e2dce7729573f30d1d537ba073a14b21);\n",
       "            \n",
       "        \n",
       "\n",
       "        marker_07141f2dfef2445153aac95e440571f4.bindPopup(popup_c9c99da9d28d0086e62dbf5c562ffec8)\n",
       "        ;\n",
       "\n",
       "        \n",
       "    \n",
       "    \n",
       "            var marker_85f63565ddfd3771f0980f152da63b98 = L.marker(\n",
       "                [-2.19, -79.8875],\n",
       "                {}\n",
       "            ).addTo(map_72739c6edade3626012d7d834ee9da67);\n",
       "        \n",
       "    \n",
       "        var popup_291d2028c03b09a7b9dc61c625e5f30c = L.popup({&quot;maxWidth&quot;: &quot;100%&quot;});\n",
       "\n",
       "        \n",
       "            \n",
       "                var html_d47650fa984862ae07427b3b3c6ca172 = $(`&lt;div id=&quot;html_d47650fa984862ae07427b3b3c6ca172&quot; style=&quot;width: 100.0%; height: 100.0%;&quot;&gt;Guayaquil&lt;/div&gt;`)[0];\n",
       "                popup_291d2028c03b09a7b9dc61c625e5f30c.setContent(html_d47650fa984862ae07427b3b3c6ca172);\n",
       "            \n",
       "        \n",
       "\n",
       "        marker_85f63565ddfd3771f0980f152da63b98.bindPopup(popup_291d2028c03b09a7b9dc61c625e5f30c)\n",
       "        ;\n",
       "\n",
       "        \n",
       "    \n",
       "    \n",
       "            var marker_0c735e6bacd61793bc426d197a85bc72 = L.marker(\n",
       "                [-1.8667, -79.9833],\n",
       "                {}\n",
       "            ).addTo(map_72739c6edade3626012d7d834ee9da67);\n",
       "        \n",
       "    \n",
       "        var popup_3cec4f799a5c389e1620c09dab9d0ce2 = L.popup({&quot;maxWidth&quot;: &quot;100%&quot;});\n",
       "\n",
       "        \n",
       "            \n",
       "                var html_4b2d351d15a7fa1c525e73803e5e19b7 = $(`&lt;div id=&quot;html_4b2d351d15a7fa1c525e73803e5e19b7&quot; style=&quot;width: 100.0%; height: 100.0%;&quot;&gt;Daule&lt;/div&gt;`)[0];\n",
       "                popup_3cec4f799a5c389e1620c09dab9d0ce2.setContent(html_4b2d351d15a7fa1c525e73803e5e19b7);\n",
       "            \n",
       "        \n",
       "\n",
       "        marker_0c735e6bacd61793bc426d197a85bc72.bindPopup(popup_3cec4f799a5c389e1620c09dab9d0ce2)\n",
       "        ;\n",
       "\n",
       "        \n",
       "    \n",
       "    \n",
       "            var marker_534fda1b1da21d4ec4bc7f0c9f2ac14e = L.marker(\n",
       "                [-2.19, -79.8875],\n",
       "                {}\n",
       "            ).addTo(map_72739c6edade3626012d7d834ee9da67);\n",
       "        \n",
       "    \n",
       "        var popup_9379bb9032e19852d8204dec5e070b54 = L.popup({&quot;maxWidth&quot;: &quot;100%&quot;});\n",
       "\n",
       "        \n",
       "            \n",
       "                var html_901c4b2b12c1b66bc4c7ec0b6f393d96 = $(`&lt;div id=&quot;html_901c4b2b12c1b66bc4c7ec0b6f393d96&quot; style=&quot;width: 100.0%; height: 100.0%;&quot;&gt;Guayaquil&lt;/div&gt;`)[0];\n",
       "                popup_9379bb9032e19852d8204dec5e070b54.setContent(html_901c4b2b12c1b66bc4c7ec0b6f393d96);\n",
       "            \n",
       "        \n",
       "\n",
       "        marker_534fda1b1da21d4ec4bc7f0c9f2ac14e.bindPopup(popup_9379bb9032e19852d8204dec5e070b54)\n",
       "        ;\n",
       "\n",
       "        \n",
       "    \n",
       "    \n",
       "            var marker_03be61c17f2d07d3c5b65a9864149f55 = L.marker(\n",
       "                [-2.19, -79.8875],\n",
       "                {}\n",
       "            ).addTo(map_72739c6edade3626012d7d834ee9da67);\n",
       "        \n",
       "    \n",
       "        var popup_d502d917091b9d4c6d8a009ea83c74e4 = L.popup({&quot;maxWidth&quot;: &quot;100%&quot;});\n",
       "\n",
       "        \n",
       "            \n",
       "                var html_65c69368cc1dd95c580a0adfed1d2c23 = $(`&lt;div id=&quot;html_65c69368cc1dd95c580a0adfed1d2c23&quot; style=&quot;width: 100.0%; height: 100.0%;&quot;&gt;Guayaquil&lt;/div&gt;`)[0];\n",
       "                popup_d502d917091b9d4c6d8a009ea83c74e4.setContent(html_65c69368cc1dd95c580a0adfed1d2c23);\n",
       "            \n",
       "        \n",
       "\n",
       "        marker_03be61c17f2d07d3c5b65a9864149f55.bindPopup(popup_d502d917091b9d4c6d8a009ea83c74e4)\n",
       "        ;\n",
       "\n",
       "        \n",
       "    \n",
       "    \n",
       "            var marker_9db233dce04e2c027395e5f2ab58c481 = L.marker(\n",
       "                [-2.19, -79.8875],\n",
       "                {}\n",
       "            ).addTo(map_72739c6edade3626012d7d834ee9da67);\n",
       "        \n",
       "    \n",
       "        var popup_292c4e95c99b599a11bcc0df6e459073 = L.popup({&quot;maxWidth&quot;: &quot;100%&quot;});\n",
       "\n",
       "        \n",
       "            \n",
       "                var html_81146c23453506f108a6ebae9c9d6371 = $(`&lt;div id=&quot;html_81146c23453506f108a6ebae9c9d6371&quot; style=&quot;width: 100.0%; height: 100.0%;&quot;&gt;Guayaquil&lt;/div&gt;`)[0];\n",
       "                popup_292c4e95c99b599a11bcc0df6e459073.setContent(html_81146c23453506f108a6ebae9c9d6371);\n",
       "            \n",
       "        \n",
       "\n",
       "        marker_9db233dce04e2c027395e5f2ab58c481.bindPopup(popup_292c4e95c99b599a11bcc0df6e459073)\n",
       "        ;\n",
       "\n",
       "        \n",
       "    \n",
       "    \n",
       "            var marker_c8ca0644d493790078f2e86fd4c46085 = L.marker(\n",
       "                [-1.8167, -79.5167],\n",
       "                {}\n",
       "            ).addTo(map_72739c6edade3626012d7d834ee9da67);\n",
       "        \n",
       "    \n",
       "        var popup_f950b329b6321205841c89475a620fe6 = L.popup({&quot;maxWidth&quot;: &quot;100%&quot;});\n",
       "\n",
       "        \n",
       "            \n",
       "                var html_704dbac6b7e05670b4d0525f12cfc491 = $(`&lt;div id=&quot;html_704dbac6b7e05670b4d0525f12cfc491&quot; style=&quot;width: 100.0%; height: 100.0%;&quot;&gt;Babahoyo&lt;/div&gt;`)[0];\n",
       "                popup_f950b329b6321205841c89475a620fe6.setContent(html_704dbac6b7e05670b4d0525f12cfc491);\n",
       "            \n",
       "        \n",
       "\n",
       "        marker_c8ca0644d493790078f2e86fd4c46085.bindPopup(popup_f950b329b6321205841c89475a620fe6)\n",
       "        ;\n",
       "\n",
       "        \n",
       "    \n",
       "    \n",
       "            var marker_79a5f601b81cf6f69b6457e0fce58fb2 = L.marker(\n",
       "                [-2.19, -79.8875],\n",
       "                {}\n",
       "            ).addTo(map_72739c6edade3626012d7d834ee9da67);\n",
       "        \n",
       "    \n",
       "        var popup_00a4db99cb299a994a9f08ac49604d34 = L.popup({&quot;maxWidth&quot;: &quot;100%&quot;});\n",
       "\n",
       "        \n",
       "            \n",
       "                var html_9c1365f262be1139d98999c9f9dfd5ba = $(`&lt;div id=&quot;html_9c1365f262be1139d98999c9f9dfd5ba&quot; style=&quot;width: 100.0%; height: 100.0%;&quot;&gt;Guayaquil&lt;/div&gt;`)[0];\n",
       "                popup_00a4db99cb299a994a9f08ac49604d34.setContent(html_9c1365f262be1139d98999c9f9dfd5ba);\n",
       "            \n",
       "        \n",
       "\n",
       "        marker_79a5f601b81cf6f69b6457e0fce58fb2.bindPopup(popup_00a4db99cb299a994a9f08ac49604d34)\n",
       "        ;\n",
       "\n",
       "        \n",
       "    \n",
       "    \n",
       "            var marker_99bed25b48ae297b5fbac1720a01fdd8 = L.marker(\n",
       "                [-1.0333, -79.45],\n",
       "                {}\n",
       "            ).addTo(map_72739c6edade3626012d7d834ee9da67);\n",
       "        \n",
       "    \n",
       "        var popup_67095de1e94b2130d4fc16256716fd78 = L.popup({&quot;maxWidth&quot;: &quot;100%&quot;});\n",
       "\n",
       "        \n",
       "            \n",
       "                var html_ba892618e06e88da85c7e591aacadfb5 = $(`&lt;div id=&quot;html_ba892618e06e88da85c7e591aacadfb5&quot; style=&quot;width: 100.0%; height: 100.0%;&quot;&gt;Quevedo&lt;/div&gt;`)[0];\n",
       "                popup_67095de1e94b2130d4fc16256716fd78.setContent(html_ba892618e06e88da85c7e591aacadfb5);\n",
       "            \n",
       "        \n",
       "\n",
       "        marker_99bed25b48ae297b5fbac1720a01fdd8.bindPopup(popup_67095de1e94b2130d4fc16256716fd78)\n",
       "        ;\n",
       "\n",
       "        \n",
       "    \n",
       "    \n",
       "            var marker_bc2ccbfb932736f564c6894040d2cc5a = L.marker(\n",
       "                [-2.19, -79.8875],\n",
       "                {}\n",
       "            ).addTo(map_72739c6edade3626012d7d834ee9da67);\n",
       "        \n",
       "    \n",
       "        var popup_d0fa3df87eee6831f0c00cf909702322 = L.popup({&quot;maxWidth&quot;: &quot;100%&quot;});\n",
       "\n",
       "        \n",
       "            \n",
       "                var html_42fd4eba880b250f188a53de65ce686f = $(`&lt;div id=&quot;html_42fd4eba880b250f188a53de65ce686f&quot; style=&quot;width: 100.0%; height: 100.0%;&quot;&gt;Guayaquil&lt;/div&gt;`)[0];\n",
       "                popup_d0fa3df87eee6831f0c00cf909702322.setContent(html_42fd4eba880b250f188a53de65ce686f);\n",
       "            \n",
       "        \n",
       "\n",
       "        marker_bc2ccbfb932736f564c6894040d2cc5a.bindPopup(popup_d0fa3df87eee6831f0c00cf909702322)\n",
       "        ;\n",
       "\n",
       "        \n",
       "    \n",
       "    \n",
       "            var marker_0a57e13d97dc911dbe1cdb53ea3475ce = L.marker(\n",
       "                [-2.63199, -80.38808],\n",
       "                {}\n",
       "            ).addTo(map_72739c6edade3626012d7d834ee9da67);\n",
       "        \n",
       "    \n",
       "        var popup_2cda96ae8bc4f51fb46802edcca0a417 = L.popup({&quot;maxWidth&quot;: &quot;100%&quot;});\n",
       "\n",
       "        \n",
       "            \n",
       "                var html_eb703a93fc4abebeb419abf2d534b253 = $(`&lt;div id=&quot;html_eb703a93fc4abebeb419abf2d534b253&quot; style=&quot;width: 100.0%; height: 100.0%;&quot;&gt;Playas&lt;/div&gt;`)[0];\n",
       "                popup_2cda96ae8bc4f51fb46802edcca0a417.setContent(html_eb703a93fc4abebeb419abf2d534b253);\n",
       "            \n",
       "        \n",
       "\n",
       "        marker_0a57e13d97dc911dbe1cdb53ea3475ce.bindPopup(popup_2cda96ae8bc4f51fb46802edcca0a417)\n",
       "        ;\n",
       "\n",
       "        \n",
       "    \n",
       "    \n",
       "            var marker_de16fb01d21562170a770f95feaf3314 = L.marker(\n",
       "                [-2.2333, -80.91039],\n",
       "                {}\n",
       "            ).addTo(map_72739c6edade3626012d7d834ee9da67);\n",
       "        \n",
       "    \n",
       "        var popup_5798b0cd3089b68e0775f7e027641e4c = L.popup({&quot;maxWidth&quot;: &quot;100%&quot;});\n",
       "\n",
       "        \n",
       "            \n",
       "                var html_3ea041755c3dfb1cb3f31251c13fbd8b = $(`&lt;div id=&quot;html_3ea041755c3dfb1cb3f31251c13fbd8b&quot; style=&quot;width: 100.0%; height: 100.0%;&quot;&gt;Libertad&lt;/div&gt;`)[0];\n",
       "                popup_5798b0cd3089b68e0775f7e027641e4c.setContent(html_3ea041755c3dfb1cb3f31251c13fbd8b);\n",
       "            \n",
       "        \n",
       "\n",
       "        marker_de16fb01d21562170a770f95feaf3314.bindPopup(popup_5798b0cd3089b68e0775f7e027641e4c)\n",
       "        ;\n",
       "\n",
       "        \n",
       "    \n",
       "    \n",
       "            var marker_d661ad3c644d24a508cc99e4df3f7630 = L.marker(\n",
       "                [-2.8974, -79.0045],\n",
       "                {}\n",
       "            ).addTo(map_72739c6edade3626012d7d834ee9da67);\n",
       "        \n",
       "    \n",
       "        var popup_660a420e786088d87c8b232c4fec0b3e = L.popup({&quot;maxWidth&quot;: &quot;100%&quot;});\n",
       "\n",
       "        \n",
       "            \n",
       "                var html_927be5e76561d6950b85c61b26f4277d = $(`&lt;div id=&quot;html_927be5e76561d6950b85c61b26f4277d&quot; style=&quot;width: 100.0%; height: 100.0%;&quot;&gt;Cuenca&lt;/div&gt;`)[0];\n",
       "                popup_660a420e786088d87c8b232c4fec0b3e.setContent(html_927be5e76561d6950b85c61b26f4277d);\n",
       "            \n",
       "        \n",
       "\n",
       "        marker_d661ad3c644d24a508cc99e4df3f7630.bindPopup(popup_660a420e786088d87c8b232c4fec0b3e)\n",
       "        ;\n",
       "\n",
       "        \n",
       "    \n",
       "    \n",
       "            var marker_2dc931ac81b248ce6d9aa3aed6a6d87f = L.marker(\n",
       "                [-3.9833, -79.2],\n",
       "                {}\n",
       "            ).addTo(map_72739c6edade3626012d7d834ee9da67);\n",
       "        \n",
       "    \n",
       "        var popup_781dc11ab0441c374af348993efca79e = L.popup({&quot;maxWidth&quot;: &quot;100%&quot;});\n",
       "\n",
       "        \n",
       "            \n",
       "                var html_b97f2cbd74746c488ec5ca85ff279031 = $(`&lt;div id=&quot;html_b97f2cbd74746c488ec5ca85ff279031&quot; style=&quot;width: 100.0%; height: 100.0%;&quot;&gt;Loja&lt;/div&gt;`)[0];\n",
       "                popup_781dc11ab0441c374af348993efca79e.setContent(html_b97f2cbd74746c488ec5ca85ff279031);\n",
       "            \n",
       "        \n",
       "\n",
       "        marker_2dc931ac81b248ce6d9aa3aed6a6d87f.bindPopup(popup_781dc11ab0441c374af348993efca79e)\n",
       "        ;\n",
       "\n",
       "        \n",
       "    \n",
       "    \n",
       "            var marker_d31392f459dcb56da699b290318acf8f = L.marker(\n",
       "                [-2.8974, -79.0045],\n",
       "                {}\n",
       "            ).addTo(map_72739c6edade3626012d7d834ee9da67);\n",
       "        \n",
       "    \n",
       "        var popup_498f03e10e179639a1797dffc0773e05 = L.popup({&quot;maxWidth&quot;: &quot;100%&quot;});\n",
       "\n",
       "        \n",
       "            \n",
       "                var html_8a27f7a4c43b0db477026b99400b6282 = $(`&lt;div id=&quot;html_8a27f7a4c43b0db477026b99400b6282&quot; style=&quot;width: 100.0%; height: 100.0%;&quot;&gt;Cuenca&lt;/div&gt;`)[0];\n",
       "                popup_498f03e10e179639a1797dffc0773e05.setContent(html_8a27f7a4c43b0db477026b99400b6282);\n",
       "            \n",
       "        \n",
       "\n",
       "        marker_d31392f459dcb56da699b290318acf8f.bindPopup(popup_498f03e10e179639a1797dffc0773e05)\n",
       "        ;\n",
       "\n",
       "        \n",
       "    \n",
       "    \n",
       "            var marker_5a55de83d1fd200d9cefdb87ac60eaeb = L.marker(\n",
       "                [-3.2667, -79.9667],\n",
       "                {}\n",
       "            ).addTo(map_72739c6edade3626012d7d834ee9da67);\n",
       "        \n",
       "    \n",
       "        var popup_7a9a001b11dd39520a17f4dea0581fe3 = L.popup({&quot;maxWidth&quot;: &quot;100%&quot;});\n",
       "\n",
       "        \n",
       "            \n",
       "                var html_4eb9784813135368480911ae03d8b95d = $(`&lt;div id=&quot;html_4eb9784813135368480911ae03d8b95d&quot; style=&quot;width: 100.0%; height: 100.0%;&quot;&gt;Machala&lt;/div&gt;`)[0];\n",
       "                popup_7a9a001b11dd39520a17f4dea0581fe3.setContent(html_4eb9784813135368480911ae03d8b95d);\n",
       "            \n",
       "        \n",
       "\n",
       "        marker_5a55de83d1fd200d9cefdb87ac60eaeb.bindPopup(popup_7a9a001b11dd39520a17f4dea0581fe3)\n",
       "        ;\n",
       "\n",
       "        \n",
       "    \n",
       "    \n",
       "            var marker_653073a3e1d48d124718cc191e61b607 = L.marker(\n",
       "                [-3.2667, -79.9667],\n",
       "                {}\n",
       "            ).addTo(map_72739c6edade3626012d7d834ee9da67);\n",
       "        \n",
       "    \n",
       "        var popup_4399e58eaae95a1c49ca46f577f2a009 = L.popup({&quot;maxWidth&quot;: &quot;100%&quot;});\n",
       "\n",
       "        \n",
       "            \n",
       "                var html_efcccabb3c1d1a64cf88ff9788e49b76 = $(`&lt;div id=&quot;html_efcccabb3c1d1a64cf88ff9788e49b76&quot; style=&quot;width: 100.0%; height: 100.0%;&quot;&gt;Machala&lt;/div&gt;`)[0];\n",
       "                popup_4399e58eaae95a1c49ca46f577f2a009.setContent(html_efcccabb3c1d1a64cf88ff9788e49b76);\n",
       "            \n",
       "        \n",
       "\n",
       "        marker_653073a3e1d48d124718cc191e61b607.bindPopup(popup_4399e58eaae95a1c49ca46f577f2a009)\n",
       "        ;\n",
       "\n",
       "        \n",
       "    \n",
       "    \n",
       "            var marker_18870cfe049a6e50d580b91c3c28d5fc = L.marker(\n",
       "                [-2.8974, -79.0045],\n",
       "                {}\n",
       "            ).addTo(map_72739c6edade3626012d7d834ee9da67);\n",
       "        \n",
       "    \n",
       "        var popup_6e080e6bdb8a0d692302ad82e2383fca = L.popup({&quot;maxWidth&quot;: &quot;100%&quot;});\n",
       "\n",
       "        \n",
       "            \n",
       "                var html_07eb17983b81e09aebb74e3803834484 = $(`&lt;div id=&quot;html_07eb17983b81e09aebb74e3803834484&quot; style=&quot;width: 100.0%; height: 100.0%;&quot;&gt;Cuenca&lt;/div&gt;`)[0];\n",
       "                popup_6e080e6bdb8a0d692302ad82e2383fca.setContent(html_07eb17983b81e09aebb74e3803834484);\n",
       "            \n",
       "        \n",
       "\n",
       "        marker_18870cfe049a6e50d580b91c3c28d5fc.bindPopup(popup_6e080e6bdb8a0d692302ad82e2383fca)\n",
       "        ;\n",
       "\n",
       "        \n",
       "    \n",
       "    \n",
       "            var marker_5b3022ddc748df615e70f1c38df09fe9 = L.marker(\n",
       "                [0.9667, -79.6528],\n",
       "                {}\n",
       "            ).addTo(map_72739c6edade3626012d7d834ee9da67);\n",
       "        \n",
       "    \n",
       "        var popup_db409c4985a397508aa3c06427506ddf = L.popup({&quot;maxWidth&quot;: &quot;100%&quot;});\n",
       "\n",
       "        \n",
       "            \n",
       "                var html_bc266bb2e9423c5a1927d430585bee68 = $(`&lt;div id=&quot;html_bc266bb2e9423c5a1927d430585bee68&quot; style=&quot;width: 100.0%; height: 100.0%;&quot;&gt;Esmeraldas&lt;/div&gt;`)[0];\n",
       "                popup_db409c4985a397508aa3c06427506ddf.setContent(html_bc266bb2e9423c5a1927d430585bee68);\n",
       "            \n",
       "        \n",
       "\n",
       "        marker_5b3022ddc748df615e70f1c38df09fe9.bindPopup(popup_db409c4985a397508aa3c06427506ddf)\n",
       "        ;\n",
       "\n",
       "        \n",
       "    \n",
       "    \n",
       "            var marker_1a0d9a2499c4c5c35feeda380f287e53 = L.marker(\n",
       "                [-0.22, -78.5125],\n",
       "                {}\n",
       "            ).addTo(map_72739c6edade3626012d7d834ee9da67);\n",
       "        \n",
       "    \n",
       "        var popup_67ab559edcd4dca51df88fed50f392cc = L.popup({&quot;maxWidth&quot;: &quot;100%&quot;});\n",
       "\n",
       "        \n",
       "            \n",
       "                var html_b208b372cf335ae7a674aa80dd3d6999 = $(`&lt;div id=&quot;html_b208b372cf335ae7a674aa80dd3d6999&quot; style=&quot;width: 100.0%; height: 100.0%;&quot;&gt;Quito&lt;/div&gt;`)[0];\n",
       "                popup_67ab559edcd4dca51df88fed50f392cc.setContent(html_b208b372cf335ae7a674aa80dd3d6999);\n",
       "            \n",
       "        \n",
       "\n",
       "        marker_1a0d9a2499c4c5c35feeda380f287e53.bindPopup(popup_67ab559edcd4dca51df88fed50f392cc)\n",
       "        ;\n",
       "\n",
       "        \n",
       "    \n",
       "    \n",
       "            var marker_5b6080e4832c65072e98e7e6f7f0882b = L.marker(\n",
       "                [-0.22, -78.5125],\n",
       "                {}\n",
       "            ).addTo(map_72739c6edade3626012d7d834ee9da67);\n",
       "        \n",
       "    \n",
       "        var popup_c46552a46b58fd20f1b9de77246befdd = L.popup({&quot;maxWidth&quot;: &quot;100%&quot;});\n",
       "\n",
       "        \n",
       "            \n",
       "                var html_11cbbfadd50d77e65578716edf60d9ab = $(`&lt;div id=&quot;html_11cbbfadd50d77e65578716edf60d9ab&quot; style=&quot;width: 100.0%; height: 100.0%;&quot;&gt;Quito&lt;/div&gt;`)[0];\n",
       "                popup_c46552a46b58fd20f1b9de77246befdd.setContent(html_11cbbfadd50d77e65578716edf60d9ab);\n",
       "            \n",
       "        \n",
       "\n",
       "        marker_5b6080e4832c65072e98e7e6f7f0882b.bindPopup(popup_c46552a46b58fd20f1b9de77246befdd)\n",
       "        ;\n",
       "\n",
       "        \n",
       "    \n",
       "    \n",
       "            var marker_a8113117a0a7eaecf9b7f75028b66263 = L.marker(\n",
       "                [-0.22, -78.5125],\n",
       "                {}\n",
       "            ).addTo(map_72739c6edade3626012d7d834ee9da67);\n",
       "        \n",
       "    \n",
       "        var popup_f9b72e3fe1d25fcc84e1a0e1d347a89d = L.popup({&quot;maxWidth&quot;: &quot;100%&quot;});\n",
       "\n",
       "        \n",
       "            \n",
       "                var html_16f41f555bb73e689b18ac1acaadbef3 = $(`&lt;div id=&quot;html_16f41f555bb73e689b18ac1acaadbef3&quot; style=&quot;width: 100.0%; height: 100.0%;&quot;&gt;Quito&lt;/div&gt;`)[0];\n",
       "                popup_f9b72e3fe1d25fcc84e1a0e1d347a89d.setContent(html_16f41f555bb73e689b18ac1acaadbef3);\n",
       "            \n",
       "        \n",
       "\n",
       "        marker_a8113117a0a7eaecf9b7f75028b66263.bindPopup(popup_f9b72e3fe1d25fcc84e1a0e1d347a89d)\n",
       "        ;\n",
       "\n",
       "        \n",
       "    \n",
       "    \n",
       "            var marker_33bc18ed7bf83e09eb01f470643753da = L.marker(\n",
       "                [-0.22, -78.5125],\n",
       "                {}\n",
       "            ).addTo(map_72739c6edade3626012d7d834ee9da67);\n",
       "        \n",
       "    \n",
       "        var popup_5eeb1b63fe5ddb3d6719de97452836bf = L.popup({&quot;maxWidth&quot;: &quot;100%&quot;});\n",
       "\n",
       "        \n",
       "            \n",
       "                var html_544dc573d42f47714774db063615444a = $(`&lt;div id=&quot;html_544dc573d42f47714774db063615444a&quot; style=&quot;width: 100.0%; height: 100.0%;&quot;&gt;Quito&lt;/div&gt;`)[0];\n",
       "                popup_5eeb1b63fe5ddb3d6719de97452836bf.setContent(html_544dc573d42f47714774db063615444a);\n",
       "            \n",
       "        \n",
       "\n",
       "        marker_33bc18ed7bf83e09eb01f470643753da.bindPopup(popup_5eeb1b63fe5ddb3d6719de97452836bf)\n",
       "        ;\n",
       "\n",
       "        \n",
       "    \n",
       "    \n",
       "            var marker_0a08b824fb4c91f972ad1501842d49d6 = L.marker(\n",
       "                [-0.22, -78.5125],\n",
       "                {}\n",
       "            ).addTo(map_72739c6edade3626012d7d834ee9da67);\n",
       "        \n",
       "    \n",
       "        var popup_32e4f53a15c6e5a3d862c2a6667266a9 = L.popup({&quot;maxWidth&quot;: &quot;100%&quot;});\n",
       "\n",
       "        \n",
       "            \n",
       "                var html_52ce87ee99a6acd543312f1f5941ebe5 = $(`&lt;div id=&quot;html_52ce87ee99a6acd543312f1f5941ebe5&quot; style=&quot;width: 100.0%; height: 100.0%;&quot;&gt;Quito&lt;/div&gt;`)[0];\n",
       "                popup_32e4f53a15c6e5a3d862c2a6667266a9.setContent(html_52ce87ee99a6acd543312f1f5941ebe5);\n",
       "            \n",
       "        \n",
       "\n",
       "        marker_0a08b824fb4c91f972ad1501842d49d6.bindPopup(popup_32e4f53a15c6e5a3d862c2a6667266a9)\n",
       "        ;\n",
       "\n",
       "        \n",
       "    \n",
       "    \n",
       "            var marker_e1eb0689108e53200cceb1aede9490ad = L.marker(\n",
       "                [-0.22, -78.5125],\n",
       "                {}\n",
       "            ).addTo(map_72739c6edade3626012d7d834ee9da67);\n",
       "        \n",
       "    \n",
       "        var popup_1ade560e7d699a9f8cba2203144d8ba7 = L.popup({&quot;maxWidth&quot;: &quot;100%&quot;});\n",
       "\n",
       "        \n",
       "            \n",
       "                var html_4f7de29bbab5431960ec4417733e6c89 = $(`&lt;div id=&quot;html_4f7de29bbab5431960ec4417733e6c89&quot; style=&quot;width: 100.0%; height: 100.0%;&quot;&gt;Quito&lt;/div&gt;`)[0];\n",
       "                popup_1ade560e7d699a9f8cba2203144d8ba7.setContent(html_4f7de29bbab5431960ec4417733e6c89);\n",
       "            \n",
       "        \n",
       "\n",
       "        marker_e1eb0689108e53200cceb1aede9490ad.bindPopup(popup_1ade560e7d699a9f8cba2203144d8ba7)\n",
       "        ;\n",
       "\n",
       "        \n",
       "    \n",
       "    \n",
       "            var marker_02efdb9febe46b3ab9a496b0b4ff26a9 = L.marker(\n",
       "                [-1.2417, -78.6197],\n",
       "                {}\n",
       "            ).addTo(map_72739c6edade3626012d7d834ee9da67);\n",
       "        \n",
       "    \n",
       "        var popup_90783862dfda46cd955729d76c2970c3 = L.popup({&quot;maxWidth&quot;: &quot;100%&quot;});\n",
       "\n",
       "        \n",
       "            \n",
       "                var html_2e42f28095a2daea5521f1091f344e74 = $(`&lt;div id=&quot;html_2e42f28095a2daea5521f1091f344e74&quot; style=&quot;width: 100.0%; height: 100.0%;&quot;&gt;Ambato&lt;/div&gt;`)[0];\n",
       "                popup_90783862dfda46cd955729d76c2970c3.setContent(html_2e42f28095a2daea5521f1091f344e74);\n",
       "            \n",
       "        \n",
       "\n",
       "        marker_02efdb9febe46b3ab9a496b0b4ff26a9.bindPopup(popup_90783862dfda46cd955729d76c2970c3)\n",
       "        ;\n",
       "\n",
       "        \n",
       "    \n",
       "    \n",
       "            var marker_ca7ff79e889e4b3abc2fc05c6846deb5 = L.marker(\n",
       "                [-2.19, -79.8875],\n",
       "                {}\n",
       "            ).addTo(map_72739c6edade3626012d7d834ee9da67);\n",
       "        \n",
       "    \n",
       "        var popup_7310159c16edebd5eccd62027844ed46 = L.popup({&quot;maxWidth&quot;: &quot;100%&quot;});\n",
       "\n",
       "        \n",
       "            \n",
       "                var html_bdf5825c08ba549fc2476ee806c03af8 = $(`&lt;div id=&quot;html_bdf5825c08ba549fc2476ee806c03af8&quot; style=&quot;width: 100.0%; height: 100.0%;&quot;&gt;Guayaquil&lt;/div&gt;`)[0];\n",
       "                popup_7310159c16edebd5eccd62027844ed46.setContent(html_bdf5825c08ba549fc2476ee806c03af8);\n",
       "            \n",
       "        \n",
       "\n",
       "        marker_ca7ff79e889e4b3abc2fc05c6846deb5.bindPopup(popup_7310159c16edebd5eccd62027844ed46)\n",
       "        ;\n",
       "\n",
       "        \n",
       "    \n",
       "    \n",
       "            var marker_31b9643d389f90e2e3e461e67e6186ba = L.marker(\n",
       "                [-0.95, -80.7162],\n",
       "                {}\n",
       "            ).addTo(map_72739c6edade3626012d7d834ee9da67);\n",
       "        \n",
       "    \n",
       "        var popup_ec3fb246153bac800dcb428340d68d24 = L.popup({&quot;maxWidth&quot;: &quot;100%&quot;});\n",
       "\n",
       "        \n",
       "            \n",
       "                var html_4f19f943aed56afedd4ec5bf964cad7a = $(`&lt;div id=&quot;html_4f19f943aed56afedd4ec5bf964cad7a&quot; style=&quot;width: 100.0%; height: 100.0%;&quot;&gt;Manta&lt;/div&gt;`)[0];\n",
       "                popup_ec3fb246153bac800dcb428340d68d24.setContent(html_4f19f943aed56afedd4ec5bf964cad7a);\n",
       "            \n",
       "        \n",
       "\n",
       "        marker_31b9643d389f90e2e3e461e67e6186ba.bindPopup(popup_ec3fb246153bac800dcb428340d68d24)\n",
       "        ;\n",
       "\n",
       "        \n",
       "    \n",
       "    \n",
       "            var marker_a63028a0aa5ff5a7d252a793ad328f7e = L.marker(\n",
       "                [-0.95, -80.7162],\n",
       "                {}\n",
       "            ).addTo(map_72739c6edade3626012d7d834ee9da67);\n",
       "        \n",
       "    \n",
       "        var popup_54262ce1e145d4263882832d5367ad63 = L.popup({&quot;maxWidth&quot;: &quot;100%&quot;});\n",
       "\n",
       "        \n",
       "            \n",
       "                var html_924c0c9b2bfabe6cde2a55bf0618a715 = $(`&lt;div id=&quot;html_924c0c9b2bfabe6cde2a55bf0618a715&quot; style=&quot;width: 100.0%; height: 100.0%;&quot;&gt;Manta&lt;/div&gt;`)[0];\n",
       "                popup_54262ce1e145d4263882832d5367ad63.setContent(html_924c0c9b2bfabe6cde2a55bf0618a715);\n",
       "            \n",
       "        \n",
       "\n",
       "        marker_a63028a0aa5ff5a7d252a793ad328f7e.bindPopup(popup_54262ce1e145d4263882832d5367ad63)\n",
       "        ;\n",
       "\n",
       "        \n",
       "    \n",
       "&lt;/script&gt;\n",
       "&lt;/html&gt;\" style=\"position:absolute;width:100%;height:100%;left:0;top:0;border:none !important;\" allowfullscreen webkitallowfullscreen mozallowfullscreen></iframe></div></div>"
      ],
      "text/plain": [
       "<folium.folium.Map at 0x16570c22aa0>"
      ]
     },
     "execution_count": 486,
     "metadata": {},
     "output_type": "execute_result"
    }
   ],
   "source": [
    "import folium\n",
    "\n",
    "# Create a map centered around Ecuador\n",
    "map_ecuador = folium.Map(location=[-1.8312, -78.1834], zoom_start=7)\n",
    "\n",
    "# Add markers for each coordinate\n",
    "# The for loop iterates over the rows of the DataFrame\n",
    "# The iterrows() method returns an iterator that yields pairs of index and row data as Series\n",
    "# The row data is a Series that contains the data of the row\n",
    "# The index is the index of the row\n",
    "for index, row in merged_df.iterrows():\n",
    "    folium.Marker(\n",
    "        [row['lat'], row['lng']], \n",
    "        popup=row['city']\n",
    "        ).add_to(map_ecuador)\n",
    "\n",
    "\n",
    "# Display the map\n",
    "map_ecuador"
   ]
  }
 ],
 "metadata": {
  "kernelspec": {
   "display_name": ".venv",
   "language": "python",
   "name": "python3"
  },
  "language_info": {
   "codemirror_mode": {
    "name": "ipython",
    "version": 3
   },
   "file_extension": ".py",
   "mimetype": "text/x-python",
   "name": "python",
   "nbconvert_exporter": "python",
   "pygments_lexer": "ipython3",
   "version": "3.10.11"
  }
 },
 "nbformat": 4,
 "nbformat_minor": 2
}
