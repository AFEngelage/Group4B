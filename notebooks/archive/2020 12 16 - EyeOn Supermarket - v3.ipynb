{
 "cells": [
  {
   "cell_type": "markdown",
   "metadata": {
    "id": "PpLWCBFNuons"
   },
   "source": [
    "# EyeOn Supermarket data science case study"
   ]
  },
  {
   "cell_type": "code",
   "execution_count": 13,
   "metadata": {
    "executionInfo": {
     "elapsed": 698,
     "status": "ok",
     "timestamp": 1608147217503,
     "user": {
      "displayName": "pi1234",
      "photoUrl": "",
      "userId": "00485952581093036663"
     },
     "user_tz": -60
    },
    "id": "r_EATkKHugiZ"
   },
   "outputs": [],
   "source": [
    "#pip install --user pyarrow\n",
    "\n",
    "# Requirement already satisfied: pyarrow in /usr/local/lib/python3.6/dist-packages (0.14.1)\n",
    "# Requirement already satisfied: numpy>=1.14 in /usr/local/lib/python3.6/dist-packages (from pyarrow) (1.18.5)\n",
    "# Requirement already satisfied: six>=1.0.0 in /usr/local/lib/python3.6/dist-packages (from pyarrow) (1.15.0)"
   ]
  },
  {
   "cell_type": "markdown",
   "metadata": {
    "id": "PPQo8za16cQT"
   },
   "source": [
    "### Importing packages"
   ]
  },
  {
   "cell_type": "code",
   "execution_count": 14,
   "metadata": {
    "executionInfo": {
     "elapsed": 696,
     "status": "ok",
     "timestamp": 1608147217504,
     "user": {
      "displayName": "pi1234",
      "photoUrl": "",
      "userId": "00485952581093036663"
     },
     "user_tz": -60
    },
    "id": "OlwScieYRTmf"
   },
   "outputs": [],
   "source": [
    "import pandas as pd\n",
    "import sys\n",
    "import matplotlib.pyplot as plt"
   ]
  },
  {
   "cell_type": "markdown",
   "metadata": {
    "id": "Dm7aDtim6guo"
   },
   "source": [
    "### Functions"
   ]
  },
  {
   "cell_type": "code",
   "execution_count": 15,
   "metadata": {
    "executionInfo": {
     "elapsed": 695,
     "status": "ok",
     "timestamp": 1608147217505,
     "user": {
      "displayName": "pi1234",
      "photoUrl": "",
      "userId": "00485952581093036663"
     },
     "user_tz": -60
    },
    "id": "f1PDhgg8ZBbf"
   },
   "outputs": [],
   "source": [
    "def f_concat(l_input):\n",
    "\n",
    "    # Initialize.\n",
    "    dummy = \"\"\n",
    "    n_len = len(l_input)\n",
    "    \n",
    "    if n_len == 1:\n",
    "        return l_input[0]\n",
    "\n",
    "    # Loop through text elements.\n",
    "    for i in range(n_len-1):\n",
    "        dummy = dummy + l_input[i] + \", \"\n",
    "\n",
    "    # Append last element.\n",
    "    dummy = dummy + \"and \" + l_input[n_len-1]\n",
    "\n",
    "    # Return result.\n",
    "    return dummy"
   ]
  },
  {
   "cell_type": "code",
   "execution_count": 16,
   "metadata": {
    "executionInfo": {
     "elapsed": 765,
     "status": "ok",
     "timestamp": 1608147219439,
     "user": {
      "displayName": "pi1234",
      "photoUrl": "",
      "userId": "00485952581093036663"
     },
     "user_tz": -60
    },
    "id": "hp-PONLQV4Rp"
   },
   "outputs": [],
   "source": [
    "def f_info(df_input, c_feature, n_top =  10):\n",
    "\n",
    "    # Testing!\n",
    "    #df_input  = df_historyPerYear\n",
    "    #c_feature = \"year\"\n",
    "    #n_top     = 3\n",
    "\n",
    "    # Do not calculate the frequency table in case the feature has unique values.\n",
    "    if(df_input[c_feature].is_unique):\n",
    "        print(\"Feature '\" + c_feature + \"' is unique.\")\n",
    "        return\n",
    "\n",
    "\n",
    "    # Load package.\n",
    "    from collections import Counter\n",
    "\n",
    "    # Bereken frequenties.\n",
    "    c = Counter(df_input[c_feature])\n",
    "\n",
    "    # Converteer naar data frame.\n",
    "    df_output         = pd.DataFrame(list(c.items()))\n",
    "\n",
    "    # Hernoem kolomnamen.\n",
    "    df_output.columns = [\"level\", \"n\"]\n",
    "\n",
    "    # Bereken percentage.\n",
    "    df_output[\"perc\"] = round(100 * df_output[\"n\"] / df_input.shape[0], 1).astype(str) + \"%\"\n",
    "\n",
    "    # Sorteer data frame op frequentie.\n",
    "    df_output         = df_output.sort_values(by = \"n\", ascending = False)\n",
    "\n",
    "    # Reset index en verwijder index kolom die daardoor ontstaat.\n",
    "    df_output         = df_output.reset_index().drop(columns=['index'])\n",
    "\n",
    "    # Display tabel zonder index.\n",
    "    # https://stackoverflow.com/questions/61363712/how-to-print-a-pandas-io-formats-style-styler-object\n",
    "    if(df_output.shape[0] <= n_top):\n",
    "        c.message = \"we tonen alle \" + str(df_output.shape[0]) + \" levels:\"\n",
    "        \n",
    "    else:\n",
    "        c.message = \"we tonen de Top-\" + str(n_top) + \" van de \" + str(df_output.shape[0]) + \" levels:\"\n",
    "\n",
    "        \n",
    "    # Print header\n",
    "    print(\"Frequentietabel voor '\" + c_feature + \"', \" + c.message + \"\\n\")\n",
    "        \n",
    "    print(f\"'None': {c[None]} ({round(100 * c[None] / df_input.shape[0], 1)}%)\")\n",
    "\n",
    "    print(f\"'NA':   {df_input[c_feature].isna().sum()} ({round(100 * df_input[c_feature].isna().sum() / df_input.shape[0], 1)}%)\")\n",
    "            \n",
    "    display(df_output.head(n_top).style.hide_index())\n",
    "    \n",
    "    #plt.hist(df[\"year\"], bins=10, orientation='horizontal') #plt.show()\n",
    "\n",
    "    # Plot frequency if count is smaller than 20.\n",
    "    v_data_to_plot = df[c_feature].value_counts(sort = True)[0:n_top]\n",
    "    \n",
    "    # https://stackoverflow.com/questions/36367986/how-to-make-inline-plots-in-jupyter-notebook-larger\n",
    "    plt.rcParams['figure.figsize'] = [15, 5]\n",
    "    \n",
    "    fig, ax = plt.subplots()\n",
    "    v_data_to_plot.plot(kind='bar', ax=ax)  \n",
    "    plt.show()\n",
    "    "
   ]
  },
  {
   "cell_type": "code",
   "execution_count": 17,
   "metadata": {},
   "outputs": [],
   "source": [
    "#df['transactions'].value_counts(sort = True)[0:10]"
   ]
  },
  {
   "cell_type": "code",
   "execution_count": 18,
   "metadata": {},
   "outputs": [],
   "source": [
    "#f_info(df, \"month\", 15)"
   ]
  },
  {
   "cell_type": "code",
   "execution_count": 19,
   "metadata": {},
   "outputs": [],
   "source": [
    "def f_describe(df_input, n_top = 10):\n",
    "    \n",
    "    print(\"First \" + str(n_top) + \" rows in de data:\")\n",
    "    display(df_input.head(n_top))\n",
    "     \n",
    "    \n",
    "    df_numeric = df_input.select_dtypes(include = ['uint8', 'uint16', 'uint32', 'uint64', 'int8', 'int16', 'int32', 'int64', 'float16', 'float32', 'float64'])\n",
    "\n",
    "    if len(df_numeric.columns):\n",
    "        print(\"Numerical data:\")\n",
    "        display(df_numeric.describe())\n",
    "\n",
    "        \n",
    "    df_textual = df_input.select_dtypes(include = ['category', 'object', 'bool'])\n",
    "\n",
    "    if len(df_textual.columns):\n",
    "        print(\"Textual data:\")\n",
    "        display(df_textual.describe())\n",
    "        \n",
    "        \n",
    "    v_na = [col + \" (\" + str(df[col].isna().sum()) + \", \" + str(round(100 * df[col].isna().sum() / df.shape[0], 1)) + \"%)\" for col in df.columns if df[col].isna().sum() > 0]\n",
    "\n",
    "    if len(v_na) > 0:\n",
    "        print(\"Features and their number of missing values:\")\n",
    "        display(f_concat(v_na))\n"
   ]
  },
  {
   "cell_type": "code",
   "execution_count": 22,
   "metadata": {
    "id": "XaDlRA_wRK0U"
   },
   "outputs": [],
   "source": [
    "def f_get_data(i=0):\n",
    "\n",
    "    #c_path = \"drive/MyDrive/Colab Notebooks/2021 01 - Execute/EyeOn/Data/\"\n",
    "\n",
    "    # Define path.\n",
    "    c_path = \"/Users/home/OneDrive - IWD/Clients/PE/2021 01 - Execute - EyeOn/Data/\"\n",
    "\n",
    "    # Identify file.\n",
    "    v_file = (\"history-per-year\",   # 0\n",
    "              \"history_aggregated\", # 1\n",
    "              \"holidays_events\",    # 2\n",
    "              \"items\",              # 3\n",
    "              \"oil\",                # 4\n",
    "              \"stores\",             # 5\n",
    "              \"transactions\")       # 6\n",
    "\n",
    "    # Load data.\n",
    "    df     = pd.read_parquet(c_path + v_file[i] + \".parquet\")\n",
    "    \n",
    "    # Return data.\n",
    "    return df"
   ]
  },
  {
   "cell_type": "code",
   "execution_count": 23,
   "metadata": {},
   "outputs": [],
   "source": [
    "#f_describe(df)"
   ]
  },
  {
   "cell_type": "code",
   "execution_count": 24,
   "metadata": {},
   "outputs": [],
   "source": [
    "#f_describe(df)"
   ]
  },
  {
   "cell_type": "markdown",
   "metadata": {
    "id": "-zXWuFInRee5"
   },
   "source": [
    "### Importing data\n",
    "Importing the parquet files took a bit of fidling. Googling on this topic, I came across a few URLs, which I included for reference ([unable-to-read-a-parquet-file](\"https://stackoverflow.com/questions/55147424/unable-to-read-a-parquet-file\"),   [google-colab-dealing-with-files](\"https://neptune.ai/blog/google-colab-dealing-with-files\")). Though in the end, I simply downloaded the data to the local disk of my computer, and updated the path the to data. Alternatively, you can connect your Google Drive to your Colab session, and update the path accordingly, see example above, 'drive/MyDrive/Colab Notebooks/..'"
   ]
  },
  {
   "cell_type": "code",
   "execution_count": 25,
   "metadata": {},
   "outputs": [],
   "source": [
    "df = f_get_data(0)"
   ]
  },
  {
   "cell_type": "markdown",
   "metadata": {},
   "source": [
    "### Downcast data as needed"
   ]
  },
  {
   "cell_type": "code",
   "execution_count": 346,
   "metadata": {},
   "outputs": [
    {
     "name": "stdout",
     "output_type": "stream",
     "text": [
      "The data:\n",
      "\n",
      "-> has size of 0.1 GB.\n",
      "\n",
      "<class 'pandas.core.frame.DataFrame'>\n",
      "RangeIndex: 948220 entries, 0 to 948219\n",
      "Data columns (total 9 columns):\n",
      " #   Column          Non-Null Count   Dtype              \n",
      "---  ------          --------------   -----              \n",
      " 0   onpromotion     948220 non-null  bool               \n",
      " 1   item_nbr        948220 non-null  int64              \n",
      " 2   week            948220 non-null  int64              \n",
      " 3   date            948220 non-null  datetime64[ns, UTC]\n",
      " 4   unit_sales_sum  948220 non-null  float64            \n",
      " 5   count           948220 non-null  int64              \n",
      " 6   family          948220 non-null  category           \n",
      " 7   class           948220 non-null  int64              \n",
      " 8   perishable      948220 non-null  int64              \n",
      "dtypes: bool(1), category(1), datetime64[ns, UTC](1), float64(1), int64(5)\n",
      "memory usage: 52.5 MB\n"
     ]
    }
   ],
   "source": [
    "# A few basic statistics on df_historyPerYear.\n",
    "print(\"The data:\\n\")\n",
    "print(f\"-> has size of {round(sys.getsizeof(df)/1024/1024/1024, 1)} GB.\")\n",
    "print(\"\")\n",
    "\n",
    "df.info()"
   ]
  },
  {
   "cell_type": "code",
   "execution_count": 347,
   "metadata": {},
   "outputs": [
    {
     "name": "stdout",
     "output_type": "stream",
     "text": [
      "change: integer --> unsigned\n",
      "change: float --> float\n"
     ]
    }
   ],
   "source": [
    "# Update formatting of features\n",
    "if(i == 0):\n",
    "    print(\"Change: Month and year to integer\")\n",
    "    df = df.astype({\"month\": int, \"year\": int})\n",
    "\n",
    "# objects to categorical - Not applicable here because there are no 'object' features\n",
    "# df[df.select_dtypes(include='object').columns] = df.select_dtypes(include='object').astype('category')\n",
    "\n",
    "# convert integers to smallest unsigned integer and floats to smallest\n",
    "for old, new in [('integer', 'unsigned'), ('float', 'float')]:\n",
    "    \n",
    "    print(\"change: \" + old + \" --> \" + new)\n",
    "    \n",
    "    for col in df.select_dtypes(include=old).columns:\n",
    "        \n",
    "        df[col] = pd.to_numeric(df[col], downcast=new)"
   ]
  },
  {
   "cell_type": "code",
   "execution_count": 348,
   "metadata": {},
   "outputs": [
    {
     "name": "stdout",
     "output_type": "stream",
     "text": [
      "<class 'pandas.core.frame.DataFrame'>\n",
      "RangeIndex: 948220 entries, 0 to 948219\n",
      "Data columns (total 9 columns):\n",
      " #   Column          Non-Null Count   Dtype              \n",
      "---  ------          --------------   -----              \n",
      " 0   onpromotion     948220 non-null  bool               \n",
      " 1   item_nbr        948220 non-null  uint32             \n",
      " 2   week            948220 non-null  uint32             \n",
      " 3   date            948220 non-null  datetime64[ns, UTC]\n",
      " 4   unit_sales_sum  948220 non-null  float32            \n",
      " 5   count           948220 non-null  uint16             \n",
      " 6   family          948220 non-null  category           \n",
      " 7   class           948220 non-null  uint16             \n",
      " 8   perishable      948220 non-null  uint8              \n",
      "dtypes: bool(1), category(1), datetime64[ns, UTC](1), float32(1), uint16(2), uint32(2), uint8(1)\n",
      "memory usage: 24.4 MB\n"
     ]
    }
   ],
   "source": [
    "df.info()"
   ]
  },
  {
   "cell_type": "markdown",
   "metadata": {
    "id": "JRjToxz4Rb3h"
   },
   "source": [
    "### Some Statistics:"
   ]
  },
  {
   "cell_type": "code",
   "execution_count": 349,
   "metadata": {
    "colab": {
     "base_uri": "https://localhost:8080/"
    },
    "executionInfo": {
     "elapsed": 11505,
     "status": "ok",
     "timestamp": 1608136751408,
     "user": {
      "displayName": "pi1234",
      "photoUrl": "",
      "userId": "00485952581093036663"
     },
     "user_tz": -60
    },
    "id": "HV1Ee1SwSefa",
    "outputId": "d77a35c0-17b1-4328-f216-9a9d85c81220"
   },
   "outputs": [
    {
     "name": "stdout",
     "output_type": "stream",
     "text": [
      "The data:\n",
      "\n",
      "-> contain 0.9 million observations and 9 features.\n",
      "\n",
      "-> contain 948220 observations and 9 features.\n",
      "\n",
      "-> have feature names: onpromotion, item_nbr, week, date, unit_sales_sum, count, family, class, and perishable.\n",
      "\n",
      "-> has size of 0.0 GB.\n"
     ]
    }
   ],
   "source": [
    "print(\"The data:\\n\")\n",
    "print(f\"-> contain {round(df.shape[0]/1e6, 1)} million observations and {df.shape[1]} features.\\n\")\n",
    "print(f\"-> contain {df.shape[0]} observations and {df.shape[1]} features.\\n\")\n",
    "print(f\"-> have feature names: {f_concat(df.columns)}.\\n\")\n",
    "print(f\"-> has size of {round(sys.getsizeof(df)/1024/1024/1024, 1)} GB.\")"
   ]
  },
  {
   "cell_type": "code",
   "execution_count": 350,
   "metadata": {},
   "outputs": [
    {
     "name": "stdout",
     "output_type": "stream",
     "text": [
      "First 10 rows in de data:\n"
     ]
    },
    {
     "data": {
      "text/html": [
       "<div>\n",
       "<style scoped>\n",
       "    .dataframe tbody tr th:only-of-type {\n",
       "        vertical-align: middle;\n",
       "    }\n",
       "\n",
       "    .dataframe tbody tr th {\n",
       "        vertical-align: top;\n",
       "    }\n",
       "\n",
       "    .dataframe thead th {\n",
       "        text-align: right;\n",
       "    }\n",
       "</style>\n",
       "<table border=\"1\" class=\"dataframe\">\n",
       "  <thead>\n",
       "    <tr style=\"text-align: right;\">\n",
       "      <th></th>\n",
       "      <th>onpromotion</th>\n",
       "      <th>item_nbr</th>\n",
       "      <th>week</th>\n",
       "      <th>date</th>\n",
       "      <th>unit_sales_sum</th>\n",
       "      <th>count</th>\n",
       "      <th>family</th>\n",
       "      <th>class</th>\n",
       "      <th>perishable</th>\n",
       "    </tr>\n",
       "  </thead>\n",
       "  <tbody>\n",
       "    <tr>\n",
       "      <th>0</th>\n",
       "      <td>False</td>\n",
       "      <td>764438</td>\n",
       "      <td>201323</td>\n",
       "      <td>2013-06-04 00:00:00+00:00</td>\n",
       "      <td>1925.0</td>\n",
       "      <td>180</td>\n",
       "      <td>GROCERY I</td>\n",
       "      <td>1072</td>\n",
       "      <td>0</td>\n",
       "    </tr>\n",
       "    <tr>\n",
       "      <th>1</th>\n",
       "      <td>False</td>\n",
       "      <td>764438</td>\n",
       "      <td>201324</td>\n",
       "      <td>2013-06-11 00:00:00+00:00</td>\n",
       "      <td>1516.0</td>\n",
       "      <td>164</td>\n",
       "      <td>GROCERY I</td>\n",
       "      <td>1072</td>\n",
       "      <td>0</td>\n",
       "    </tr>\n",
       "    <tr>\n",
       "      <th>2</th>\n",
       "      <td>False</td>\n",
       "      <td>764438</td>\n",
       "      <td>201325</td>\n",
       "      <td>2013-06-18 00:00:00+00:00</td>\n",
       "      <td>1656.0</td>\n",
       "      <td>176</td>\n",
       "      <td>GROCERY I</td>\n",
       "      <td>1072</td>\n",
       "      <td>0</td>\n",
       "    </tr>\n",
       "    <tr>\n",
       "      <th>3</th>\n",
       "      <td>False</td>\n",
       "      <td>764438</td>\n",
       "      <td>201326</td>\n",
       "      <td>2013-06-25 00:00:00+00:00</td>\n",
       "      <td>1610.0</td>\n",
       "      <td>177</td>\n",
       "      <td>GROCERY I</td>\n",
       "      <td>1072</td>\n",
       "      <td>0</td>\n",
       "    </tr>\n",
       "    <tr>\n",
       "      <th>4</th>\n",
       "      <td>False</td>\n",
       "      <td>764438</td>\n",
       "      <td>201327</td>\n",
       "      <td>2013-07-02 00:00:00+00:00</td>\n",
       "      <td>1987.0</td>\n",
       "      <td>182</td>\n",
       "      <td>GROCERY I</td>\n",
       "      <td>1072</td>\n",
       "      <td>0</td>\n",
       "    </tr>\n",
       "    <tr>\n",
       "      <th>5</th>\n",
       "      <td>False</td>\n",
       "      <td>764438</td>\n",
       "      <td>201328</td>\n",
       "      <td>2013-07-09 00:00:00+00:00</td>\n",
       "      <td>1588.0</td>\n",
       "      <td>169</td>\n",
       "      <td>GROCERY I</td>\n",
       "      <td>1072</td>\n",
       "      <td>0</td>\n",
       "    </tr>\n",
       "    <tr>\n",
       "      <th>6</th>\n",
       "      <td>False</td>\n",
       "      <td>764438</td>\n",
       "      <td>201329</td>\n",
       "      <td>2013-07-16 00:00:00+00:00</td>\n",
       "      <td>1688.0</td>\n",
       "      <td>171</td>\n",
       "      <td>GROCERY I</td>\n",
       "      <td>1072</td>\n",
       "      <td>0</td>\n",
       "    </tr>\n",
       "    <tr>\n",
       "      <th>7</th>\n",
       "      <td>False</td>\n",
       "      <td>764438</td>\n",
       "      <td>201330</td>\n",
       "      <td>2013-07-23 00:00:00+00:00</td>\n",
       "      <td>1572.0</td>\n",
       "      <td>165</td>\n",
       "      <td>GROCERY I</td>\n",
       "      <td>1072</td>\n",
       "      <td>0</td>\n",
       "    </tr>\n",
       "    <tr>\n",
       "      <th>8</th>\n",
       "      <td>False</td>\n",
       "      <td>764438</td>\n",
       "      <td>201331</td>\n",
       "      <td>2013-07-30 00:00:00+00:00</td>\n",
       "      <td>1755.0</td>\n",
       "      <td>176</td>\n",
       "      <td>GROCERY I</td>\n",
       "      <td>1072</td>\n",
       "      <td>0</td>\n",
       "    </tr>\n",
       "    <tr>\n",
       "      <th>9</th>\n",
       "      <td>False</td>\n",
       "      <td>764438</td>\n",
       "      <td>201332</td>\n",
       "      <td>2013-08-06 00:00:00+00:00</td>\n",
       "      <td>1780.0</td>\n",
       "      <td>178</td>\n",
       "      <td>GROCERY I</td>\n",
       "      <td>1072</td>\n",
       "      <td>0</td>\n",
       "    </tr>\n",
       "  </tbody>\n",
       "</table>\n",
       "</div>"
      ],
      "text/plain": [
       "   onpromotion  item_nbr    week                      date  unit_sales_sum  \\\n",
       "0        False    764438  201323 2013-06-04 00:00:00+00:00          1925.0   \n",
       "1        False    764438  201324 2013-06-11 00:00:00+00:00          1516.0   \n",
       "2        False    764438  201325 2013-06-18 00:00:00+00:00          1656.0   \n",
       "3        False    764438  201326 2013-06-25 00:00:00+00:00          1610.0   \n",
       "4        False    764438  201327 2013-07-02 00:00:00+00:00          1987.0   \n",
       "5        False    764438  201328 2013-07-09 00:00:00+00:00          1588.0   \n",
       "6        False    764438  201329 2013-07-16 00:00:00+00:00          1688.0   \n",
       "7        False    764438  201330 2013-07-23 00:00:00+00:00          1572.0   \n",
       "8        False    764438  201331 2013-07-30 00:00:00+00:00          1755.0   \n",
       "9        False    764438  201332 2013-08-06 00:00:00+00:00          1780.0   \n",
       "\n",
       "   count     family  class  perishable  \n",
       "0    180  GROCERY I   1072           0  \n",
       "1    164  GROCERY I   1072           0  \n",
       "2    176  GROCERY I   1072           0  \n",
       "3    177  GROCERY I   1072           0  \n",
       "4    182  GROCERY I   1072           0  \n",
       "5    169  GROCERY I   1072           0  \n",
       "6    171  GROCERY I   1072           0  \n",
       "7    165  GROCERY I   1072           0  \n",
       "8    176  GROCERY I   1072           0  \n",
       "9    178  GROCERY I   1072           0  "
      ]
     },
     "metadata": {},
     "output_type": "display_data"
    },
    {
     "name": "stdout",
     "output_type": "stream",
     "text": [
      "Numerical data:\n"
     ]
    },
    {
     "data": {
      "text/html": [
       "<div>\n",
       "<style scoped>\n",
       "    .dataframe tbody tr th:only-of-type {\n",
       "        vertical-align: middle;\n",
       "    }\n",
       "\n",
       "    .dataframe tbody tr th {\n",
       "        vertical-align: top;\n",
       "    }\n",
       "\n",
       "    .dataframe thead th {\n",
       "        text-align: right;\n",
       "    }\n",
       "</style>\n",
       "<table border=\"1\" class=\"dataframe\">\n",
       "  <thead>\n",
       "    <tr style=\"text-align: right;\">\n",
       "      <th></th>\n",
       "      <th>item_nbr</th>\n",
       "      <th>week</th>\n",
       "      <th>unit_sales_sum</th>\n",
       "      <th>count</th>\n",
       "      <th>class</th>\n",
       "      <th>perishable</th>\n",
       "    </tr>\n",
       "  </thead>\n",
       "  <tbody>\n",
       "    <tr>\n",
       "      <th>count</th>\n",
       "      <td>9.482200e+05</td>\n",
       "      <td>948220.000000</td>\n",
       "      <td>948220.000000</td>\n",
       "      <td>948220.000000</td>\n",
       "      <td>948220.000000</td>\n",
       "      <td>948220.000000</td>\n",
       "    </tr>\n",
       "    <tr>\n",
       "      <th>mean</th>\n",
       "      <td>1.033259e+06</td>\n",
       "      <td>201558.380135</td>\n",
       "      <td>1131.572754</td>\n",
       "      <td>132.350130</td>\n",
       "      <td>2152.235304</td>\n",
       "      <td>0.320138</td>\n",
       "    </tr>\n",
       "    <tr>\n",
       "      <th>std</th>\n",
       "      <td>5.244086e+05</td>\n",
       "      <td>121.625703</td>\n",
       "      <td>2019.575439</td>\n",
       "      <td>103.404191</td>\n",
       "      <td>1337.917574</td>\n",
       "      <td>0.466530</td>\n",
       "    </tr>\n",
       "    <tr>\n",
       "      <th>min</th>\n",
       "      <td>9.699500e+04</td>\n",
       "      <td>201301.000000</td>\n",
       "      <td>-9757.000000</td>\n",
       "      <td>1.000000</td>\n",
       "      <td>1002.000000</td>\n",
       "      <td>0.000000</td>\n",
       "    </tr>\n",
       "    <tr>\n",
       "      <th>25%</th>\n",
       "      <td>5.841250e+05</td>\n",
       "      <td>201447.000000</td>\n",
       "      <td>137.000000</td>\n",
       "      <td>27.000000</td>\n",
       "      <td>1072.000000</td>\n",
       "      <td>0.000000</td>\n",
       "    </tr>\n",
       "    <tr>\n",
       "      <th>50%</th>\n",
       "      <td>1.047756e+06</td>\n",
       "      <td>201552.000000</td>\n",
       "      <td>627.000000</td>\n",
       "      <td>131.000000</td>\n",
       "      <td>2022.000000</td>\n",
       "      <td>0.000000</td>\n",
       "    </tr>\n",
       "    <tr>\n",
       "      <th>75%</th>\n",
       "      <td>1.456935e+06</td>\n",
       "      <td>201644.000000</td>\n",
       "      <td>1290.000000</td>\n",
       "      <td>213.000000</td>\n",
       "      <td>2718.000000</td>\n",
       "      <td>1.000000</td>\n",
       "    </tr>\n",
       "    <tr>\n",
       "      <th>max</th>\n",
       "      <td>2.127114e+06</td>\n",
       "      <td>201733.000000</td>\n",
       "      <td>120981.757812</td>\n",
       "      <td>378.000000</td>\n",
       "      <td>7780.000000</td>\n",
       "      <td>1.000000</td>\n",
       "    </tr>\n",
       "  </tbody>\n",
       "</table>\n",
       "</div>"
      ],
      "text/plain": [
       "           item_nbr           week  unit_sales_sum          count  \\\n",
       "count  9.482200e+05  948220.000000   948220.000000  948220.000000   \n",
       "mean   1.033259e+06  201558.380135     1131.572754     132.350130   \n",
       "std    5.244086e+05     121.625703     2019.575439     103.404191   \n",
       "min    9.699500e+04  201301.000000    -9757.000000       1.000000   \n",
       "25%    5.841250e+05  201447.000000      137.000000      27.000000   \n",
       "50%    1.047756e+06  201552.000000      627.000000     131.000000   \n",
       "75%    1.456935e+06  201644.000000     1290.000000     213.000000   \n",
       "max    2.127114e+06  201733.000000   120981.757812     378.000000   \n",
       "\n",
       "               class     perishable  \n",
       "count  948220.000000  948220.000000  \n",
       "mean     2152.235304       0.320138  \n",
       "std      1337.917574       0.466530  \n",
       "min      1002.000000       0.000000  \n",
       "25%      1072.000000       0.000000  \n",
       "50%      2022.000000       0.000000  \n",
       "75%      2718.000000       1.000000  \n",
       "max      7780.000000       1.000000  "
      ]
     },
     "metadata": {},
     "output_type": "display_data"
    },
    {
     "name": "stdout",
     "output_type": "stream",
     "text": [
      "Textual data:\n"
     ]
    },
    {
     "data": {
      "text/html": [
       "<div>\n",
       "<style scoped>\n",
       "    .dataframe tbody tr th:only-of-type {\n",
       "        vertical-align: middle;\n",
       "    }\n",
       "\n",
       "    .dataframe tbody tr th {\n",
       "        vertical-align: top;\n",
       "    }\n",
       "\n",
       "    .dataframe thead th {\n",
       "        text-align: right;\n",
       "    }\n",
       "</style>\n",
       "<table border=\"1\" class=\"dataframe\">\n",
       "  <thead>\n",
       "    <tr style=\"text-align: right;\">\n",
       "      <th></th>\n",
       "      <th>onpromotion</th>\n",
       "      <th>family</th>\n",
       "    </tr>\n",
       "  </thead>\n",
       "  <tbody>\n",
       "    <tr>\n",
       "      <th>count</th>\n",
       "      <td>948220</td>\n",
       "      <td>948220</td>\n",
       "    </tr>\n",
       "    <tr>\n",
       "      <th>unique</th>\n",
       "      <td>2</td>\n",
       "      <td>33</td>\n",
       "    </tr>\n",
       "    <tr>\n",
       "      <th>top</th>\n",
       "      <td>False</td>\n",
       "      <td>GROCERY I</td>\n",
       "    </tr>\n",
       "    <tr>\n",
       "      <th>freq</th>\n",
       "      <td>676666</td>\n",
       "      <td>292938</td>\n",
       "    </tr>\n",
       "  </tbody>\n",
       "</table>\n",
       "</div>"
      ],
      "text/plain": [
       "       onpromotion     family\n",
       "count       948220     948220\n",
       "unique           2         33\n",
       "top          False  GROCERY I\n",
       "freq        676666     292938"
      ]
     },
     "metadata": {},
     "output_type": "display_data"
    }
   ],
   "source": [
    "f_describe(df)"
   ]
  },
  {
   "cell_type": "code",
   "execution_count": 351,
   "metadata": {
    "colab": {
     "base_uri": "https://localhost:8080/",
     "height": 297
    },
    "executionInfo": {
     "elapsed": 29137,
     "status": "ok",
     "timestamp": 1608136587803,
     "user": {
      "displayName": "pi1234",
      "photoUrl": "",
      "userId": "00485952581093036663"
     },
     "user_tz": -60
    },
    "id": "BdzdN9Qi9hjw",
    "outputId": "33222be8-68da-4d56-ffe4-00c6175740fc"
   },
   "outputs": [],
   "source": [
    "#f_info(df, \"date\")"
   ]
  },
  {
   "cell_type": "code",
   "execution_count": null,
   "metadata": {},
   "outputs": [],
   "source": [
    "# item_nbr: 764438 // count: 180 // week: 201323 // unit_sales_sum: 1925 // onpromotion: false //\n",
    "# family: grocery I // class: 1072\n",
    "\n",
    "# df[(df['item_nbr'] == 103665)]"
   ]
  },
  {
   "cell_type": "code",
   "execution_count": 386,
   "metadata": {},
   "outputs": [],
   "source": [
    "df = f_get_data(0)"
   ]
  },
  {
   "cell_type": "code",
   "execution_count": 388,
   "metadata": {},
   "outputs": [
    {
     "data": {
      "text/plain": [
       "205"
      ]
     },
     "execution_count": 388,
     "metadata": {},
     "output_type": "execute_result"
    }
   ],
   "source": [
    "# history_per_year:\n",
    "df[(df['item_nbr'] == 103665) & (df['day'].isin([6,7,8,9,10,11,12])) & (df['month'] == 1) & (df['year'] == 2014)].shape[0]\n",
    "# --> 205 rows"
   ]
  },
  {
   "cell_type": "code",
   "execution_count": 379,
   "metadata": {},
   "outputs": [
    {
     "data": {
      "text/plain": [
       "952.0"
      ]
     },
     "execution_count": 379,
     "metadata": {},
     "output_type": "execute_result"
    }
   ],
   "source": [
    "# history_per_year:\n",
    "df[(df['item_nbr'] == 103665) & (df['day'].isin([6,7,8,9,10,11,12])) & (df['month'] == 1) & (df['year'] == 2014)].unit_sales.sum()\n",
    "# --> 952.0"
   ]
  },
  {
   "cell_type": "code",
   "execution_count": 383,
   "metadata": {},
   "outputs": [],
   "source": [
    "df = f_get_data(1)"
   ]
  },
  {
   "cell_type": "code",
   "execution_count": 384,
   "metadata": {},
   "outputs": [
    {
     "data": {
      "text/html": [
       "<div>\n",
       "<style scoped>\n",
       "    .dataframe tbody tr th:only-of-type {\n",
       "        vertical-align: middle;\n",
       "    }\n",
       "\n",
       "    .dataframe tbody tr th {\n",
       "        vertical-align: top;\n",
       "    }\n",
       "\n",
       "    .dataframe thead th {\n",
       "        text-align: right;\n",
       "    }\n",
       "</style>\n",
       "<table border=\"1\" class=\"dataframe\">\n",
       "  <thead>\n",
       "    <tr style=\"text-align: right;\">\n",
       "      <th></th>\n",
       "      <th>onpromotion</th>\n",
       "      <th>item_nbr</th>\n",
       "      <th>week</th>\n",
       "      <th>date</th>\n",
       "      <th>unit_sales_sum</th>\n",
       "      <th>count</th>\n",
       "      <th>family</th>\n",
       "      <th>class</th>\n",
       "      <th>perishable</th>\n",
       "    </tr>\n",
       "  </thead>\n",
       "  <tbody>\n",
       "    <tr>\n",
       "      <th>726055</th>\n",
       "      <td>False</td>\n",
       "      <td>103665</td>\n",
       "      <td>201402</td>\n",
       "      <td>2014-01-08 00:00:00+00:00</td>\n",
       "      <td>966.0</td>\n",
       "      <td>202</td>\n",
       "      <td>BREAD/BAKERY</td>\n",
       "      <td>2712</td>\n",
       "      <td>1</td>\n",
       "    </tr>\n",
       "  </tbody>\n",
       "</table>\n",
       "</div>"
      ],
      "text/plain": [
       "        onpromotion  item_nbr    week                      date  \\\n",
       "726055        False    103665  201402 2014-01-08 00:00:00+00:00   \n",
       "\n",
       "        unit_sales_sum  count        family  class  perishable  \n",
       "726055           966.0    202  BREAD/BAKERY   2712           1  "
      ]
     },
     "execution_count": 384,
     "metadata": {},
     "output_type": "execute_result"
    }
   ],
   "source": [
    "# history_aggregated\n",
    "df[(df['item_nbr'] == 103665) & (df['week'] == 201402)]\n",
    "# --> onpromotion = False; count = 202; unit_sales_sum = 966.0"
   ]
  },
  {
   "cell_type": "code",
   "execution_count": 254,
   "metadata": {
    "colab": {
     "base_uri": "https://localhost:8080/"
    },
    "executionInfo": {
     "elapsed": 242013,
     "status": "ok",
     "timestamp": 1608121648343,
     "user": {
      "displayName": "pi1234",
      "photoUrl": "",
      "userId": "00485952581093036663"
     },
     "user_tz": -60
    },
    "id": "_W_bEdmgT093",
    "outputId": "f7b73944-1683-4428-ff33-e62ba542b0b1"
   },
   "outputs": [],
   "source": [
    "# transactions:\n",
    "# store_nbr: 25 // date: 2013-01-01 // transactions: 770\n",
    "\n",
    "# history_per_year:\n",
    "# df[(df['store_nbr'] == 25) & (df['day'] == 1) & (df['month'] == 1) & (df['year'] == 2013)].shape[0] --> 578\n",
    "\n",
    "# Number of rows in history_per_year does not correspond with transactions. This is because shopping baskets\n",
    "# (transactions) have different compositions per shopper."
   ]
  },
  {
   "cell_type": "code",
   "execution_count": 282,
   "metadata": {
    "id": "PSJGo0u2ArSH"
   },
   "outputs": [],
   "source": [
    "# transactions\n",
    "#df[(df['description'] == 'Independencia de Guayaquil')]"
   ]
  },
  {
   "cell_type": "code",
   "execution_count": 281,
   "metadata": {},
   "outputs": [],
   "source": [
    "#df[(df['type'] == 'Transfer')]"
   ]
  },
  {
   "cell_type": "code",
   "execution_count": 279,
   "metadata": {},
   "outputs": [],
   "source": [
    "#df[(df['type'] == 'Bridge')]"
   ]
  },
  {
   "cell_type": "code",
   "execution_count": 280,
   "metadata": {},
   "outputs": [],
   "source": [
    "#df[(df['type'] == 'Work Day')]"
   ]
  },
  {
   "cell_type": "code",
   "execution_count": null,
   "metadata": {},
   "outputs": [],
   "source": []
  }
 ],
 "metadata": {
  "colab": {
   "authorship_tag": "ABX9TyP1XEh6OeJMgPK4tWBSiOU8",
   "collapsed_sections": [],
   "mount_file_id": "1tas4gpn15avV6RH91pDuPfl4mfnjqven",
   "name": "Copy of 2020 12 13 - EyeOn Supermarket - v1.ipynb",
   "provenance": [
    {
     "file_id": "1tas4gpn15avV6RH91pDuPfl4mfnjqven",
     "timestamp": 1608148229653
    }
   ],
   "toc_visible": true
  },
  "kernelspec": {
   "display_name": "Python 3",
   "language": "python",
   "name": "python3"
  },
  "language_info": {
   "codemirror_mode": {
    "name": "ipython",
    "version": 3
   },
   "file_extension": ".py",
   "mimetype": "text/x-python",
   "name": "python",
   "nbconvert_exporter": "python",
   "pygments_lexer": "ipython3",
   "version": "3.7.6"
  }
 },
 "nbformat": 4,
 "nbformat_minor": 1
}
