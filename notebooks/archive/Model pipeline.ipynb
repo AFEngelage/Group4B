{
 "cells": [
  {
   "cell_type": "markdown",
   "metadata": {},
   "source": [
    "# Building models\n",
    "\n",
    "https://ml-course.github.io/master/notebooks/Tutorial%203%20-%20Machine%20Learning%20in%20Python.html\n",
    "\n",
    "https://ml-course.github.io/master/labs/Lab%204%20-%20Tutorial.html\n",
    "\n",
    "https://developers.redhat.com/articles/2021/05/21/introduction-machine-learning-jupyter-notebooks#using_a_jupyter_notebook_for_machine_learning\n",
    "\n",
    "https://ml-course.github.io/master/notebooks/Tutorial%204%20-%20Decision%20Trees.html\n",
    "\n",
    "https://ml-course.github.io/master/notebooks/Tutorial%203%20-%20Machine%20Learning%20in%20Python.html#evaluate\n",
    "\n",
    "https://github.com/jakevdp/PythonDataScienceHandbook/blob/master/notebooks_v1/05.03-Hyperparameters-and-Model-Validation.ipynb\n",
    "\n",
    "\n",
    "\n",
    "\n"
   ]
  },
  {
   "cell_type": "markdown",
   "metadata": {},
   "source": [
    "Examples:\n",
    "\n",
    "https://www.kaggle.com/code/muhammadfaizan65/store-sales-forecasting-eda-modeling\n",
    "\n",
    "https://www.kaggle.com/code/ebraimcarvalho/titanic-a-complete-approach-to-top-7-rank-learn#Feature-Engineering\n",
    "\n",
    "https://github.com/abhinav-bhardwaj/Walmart-Sales-Time-Series-Forecasting-Using-Machine-Learning/blob/master/Walmart_Time_Series_Forecast.ipynb\n",
    "\n",
    "https://github.com/juniorcl/rossman-store-sales/blob/main/notebooks/cicle1_sales_prediction.ipynb\n"
   ]
  },
  {
   "cell_type": "code",
   "execution_count": null,
   "metadata": {},
   "outputs": [],
   "source": [
    "class SupervisedEstimator(...):\n",
    "    def __init__(self, hyperparam, ...):\n",
    "\n",
    "    def fit(self, X, y):   # Fit/model the training data\n",
    "        ...                # given data X and targets y\n",
    "        return self\n",
    "     \n",
    "    def predict(self, X):  # Make predictions\n",
    "        ...                # on unseen data X  \n",
    "        return y_pred\n",
    "    \n",
    "    def score(self, X, y): # Predict and compare to true\n",
    "        ...                # labels y                \n",
    "        return score"
   ]
  },
  {
   "cell_type": "markdown",
   "metadata": {},
   "source": [
    "https://www.kaggle.com/code/lucasbenazzicestari/store-sales-time-series-prediction\n",
    "\n",
    "Individual Store models class"
   ]
  },
  {
   "cell_type": "code",
   "execution_count": null,
   "metadata": {},
   "outputs": [],
   "source": [
    "    def train_test_split(self, store_nbr, number_of_days = 15):\n",
    "        \"\"\"Creates a train test split based on a given number\n",
    "        of days, which specifies the number of days used for\n",
    "        testing. The split isn't randomized and the test data\n",
    "        is always after the training data.\n",
    "        \n",
    "        Args:\n",
    "            store_nbr (int): Unique id of the store.\n",
    "            number_of_days (int): Number of days to be use for the\n",
    "                test data.\n",
    "        \n",
    "        \"\"\"\n",
    "        \n",
    "        train_start_date = self.get_first_day_sold(store_nbr)\n",
    "        train_end_date = df_train['date'].max() - np.timedelta64(number_of_days, 'D')\n",
    "        \n",
    "        X_train, y_train = self.prepare_test_inputs(store_nbr, train_start_date, train_end_date)\n",
    "        X_train = self.add_information(X_train)\n",
    "        \n",
    "        val_start_date = train_end_date + np.timedelta64(1, 'D')\n",
    "        val_end_date = df_train['date'].max()\n",
    "    \n",
    "        X_test, y_test = self.prepare_test_inputs(store_nbr, val_start_date, val_end_date)\n",
    "        X_test = self.add_information(X_test)\n",
    "\n",
    "        print('Training Min Date: {}'.format(X_train['date'].min()))\n",
    "        print('Training Max Date: {}'.format(X_train['date'].max()))\n",
    "\n",
    "        print('\\nTest Min Date: {}'.format(X_test['date'].min()))\n",
    "        print('Test Max Date: {}'.format(X_test['date'].max())) \n",
    "        \n",
    "        return X_train, y_train, X_test, y_test"
   ]
  },
  {
   "cell_type": "markdown",
   "metadata": {},
   "source": []
  },
  {
   "cell_type": "code",
   "execution_count": null,
   "metadata": {},
   "outputs": [],
   "source": [
    "x_train = X_train[cols_selected_boruta]\n",
    "x_test = X_test[cols_selected_boruta]\n",
    "\n",
    "# Time Series Data Preparation\n",
    "x_training = X_train[cols_selected_boruta_full]"
   ]
  },
  {
   "cell_type": "code",
   "execution_count": null,
   "metadata": {},
   "outputs": [],
   "source": []
  }
 ],
 "metadata": {
  "language_info": {
   "name": "python"
  }
 },
 "nbformat": 4,
 "nbformat_minor": 2
}
