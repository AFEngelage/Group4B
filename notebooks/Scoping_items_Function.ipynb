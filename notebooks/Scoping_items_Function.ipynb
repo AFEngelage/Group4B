{
 "cells": [
  {
   "cell_type": "markdown",
   "metadata": {
    "id": "PpLWCBFNuons"
   },
   "source": [
    "### Data Scopring function for Items with Irregular Patterns\n"
   ]
  },
  {
   "cell_type": "markdown",
   "metadata": {
    "id": "PPQo8za16cQT"
   },
   "source": [
    "### Importing packages"
   ]
  },
  {
   "cell_type": "code",
   "execution_count": 6,
   "metadata": {
    "executionInfo": {
     "elapsed": 696,
     "status": "ok",
     "timestamp": 1608147217504,
     "user": {
      "displayName": "pi1234",
      "photoUrl": "",
      "userId": "00485952581093036663"
     },
     "user_tz": -60
    },
    "id": "OlwScieYRTmf",
    "notebookRunGroups": {
     "groupValue": "1"
    }
   },
   "outputs": [],
   "source": [
    "import pandas as pd\n",
    "import sys\n",
    "import matplotlib.pyplot as plt\n",
    "import altair as alt\n",
    "import vegafusion as vf\n",
    "import sklearn\n",
    "import vega_datasets\n",
    "from sklearn.pipeline import Pipeline, make_pipeline\n",
    "import seaborn as sns\n",
    "from matplotlib.patches import Patch\n"
   ]
  },
  {
   "cell_type": "markdown",
   "metadata": {
    "id": "Dm7aDtim6guo"
   },
   "source": [
    "### Functions related to importing and data preparations"
   ]
  },
  {
   "cell_type": "code",
   "execution_count": 7,
   "metadata": {
    "executionInfo": {
     "elapsed": 695,
     "status": "ok",
     "timestamp": 1608147217505,
     "user": {
      "displayName": "pi1234",
      "photoUrl": "",
      "userId": "00485952581093036663"
     },
     "user_tz": -60
    },
    "id": "f1PDhgg8ZBbf",
    "notebookRunGroups": {
     "groupValue": "1"
    }
   },
   "outputs": [],
   "source": [
    "def f_concat(l_input):\n",
    "\n",
    "    # Initialize.\n",
    "    dummy = \"\"\n",
    "    n_len = len(l_input)\n",
    "\n",
    "    if n_len == 1:\n",
    "        return l_input[0]\n",
    "\n",
    "    # Loop through text elements.\n",
    "    for i in range(n_len - 1):\n",
    "        dummy = dummy + l_input[i] + \", \"\n",
    "\n",
    "    # Append last element.\n",
    "    dummy = dummy + \"and \" + l_input[n_len - 1]\n",
    "\n",
    "    # Return result.\n",
    "    return dummy"
   ]
  },
  {
   "cell_type": "code",
   "execution_count": 8,
   "metadata": {
    "notebookRunGroups": {
     "groupValue": "1"
    }
   },
   "outputs": [],
   "source": [
    "def f_describe(df_input, n_top=10):\n",
    "\n",
    "    print(\"First \" + str(n_top) + \" rows in de data:\")\n",
    "    display(df_input.head(n_top))\n",
    "\n",
    "    df_numeric = df_input.select_dtypes(\n",
    "        include=[\n",
    "            \"uint8\",\n",
    "            \"uint16\",\n",
    "            \"uint32\",\n",
    "            \"uint64\",\n",
    "            \"int8\",\n",
    "            \"int16\",\n",
    "            \"int32\",\n",
    "            \"int64\",\n",
    "            \"float16\",\n",
    "            \"float32\",\n",
    "            \"float64\",\n",
    "        ]\n",
    "    )\n",
    "\n",
    "    if len(df_numeric.columns):\n",
    "        print(\"Numerical data:\")\n",
    "        display(df_numeric.describe())\n",
    "\n",
    "    df_textual = df_input.select_dtypes(include=[\"category\", \"object\", \"bool\"])\n",
    "\n",
    "    if len(df_textual.columns):\n",
    "        print(\"Textual data:\")\n",
    "        display(df_textual.describe())\n",
    "\n",
    "    v_na = [\n",
    "        col\n",
    "        + \" (\"\n",
    "        + str(df[col].isna().sum())\n",
    "        + \", \"\n",
    "        + str(round(100 * df[col].isna().sum() / df.shape[0], 1))\n",
    "        + \"%)\"\n",
    "        for col in df.columns\n",
    "        if df[col].isna().sum() > 0\n",
    "    ]\n",
    "\n",
    "    if len(v_na) > 0:\n",
    "        print(\"Features and their number of missing values:\")\n",
    "        display(f_concat(v_na))"
   ]
  },
  {
   "cell_type": "code",
   "execution_count": 9,
   "metadata": {},
   "outputs": [],
   "source": [
    "def standardize_column_names(s):\n",
    "    return s.replace(\" \", \"\")\n",
    "\n",
    "\n",
    "def optimize_memory(df):\n",
    "    # Change: Objects to Categorical.                                               #WHEN needed to transform Objects to Categorical?\n",
    "    # object_cols = df.select_dtypes(include=\"object\").columns\n",
    "    # if not object_cols.empty:\n",
    "    #     print(\"Change: Objects to Categorical\")\n",
    "    #     df[object_cols] = df[object_cols].astype(\"category\")\n",
    "\n",
    "    # Change: Convert integers to smallest unsigned integer and floats to smallest.\n",
    "    for old, new in [(\"integer\", \"unsigned\"), (\"float\", \"float\")]:\n",
    "        print(\"Change: \" + old + \" --> \" + new)\n",
    "        for col in df.select_dtypes(include=old).columns:\n",
    "            df[col] = pd.to_numeric(df[col], downcast=new)\n",
    "\n",
    "    return df\n",
    "\n",
    "\n",
    "def month_year_to_int(df, i):\n",
    "    # Change: Month and Year to integer\n",
    "    if i == 0:\n",
    "        print(\"Change: Month and Year to integer\")\n",
    "        df = df.astype({\"month\": int, \"year\": int})\n",
    "\n",
    "    return df"
   ]
  },
  {
   "cell_type": "code",
   "execution_count": 10,
   "metadata": {},
   "outputs": [],
   "source": [
    "# Convert datasets to time series\n",
    "def transform_date_to_datetime(df, i):\n",
    "    if i == 0:\n",
    "        print(\"Change: Transformed 'year', 'month', 'day' columns to Datetime feature\")\n",
    "        df[\"date\"] = pd.to_datetime(df[[\"year\", \"month\", \"day\"]], unit=\"us\")\n",
    "\n",
    "        print(\n",
    "            \"Change: Dropped 'year', 'month', 'day' columns and transformed to Datetime64[us] feature\"\n",
    "        )\n",
    "        df.drop(columns=[\"day\", \"month\", \"year\"], inplace=True)\n",
    "\n",
    "    else:\n",
    "        if \"date\" in df.columns:\n",
    "            print(\"Change: Transformed 'date' column to Datetime Dtype\")\n",
    "            df[\"date\"] = pd.to_datetime(df[\"date\"]).dt.tz_localize(None)\n",
    "\n",
    "    return df"
   ]
  },
  {
   "cell_type": "code",
   "execution_count": 11,
   "metadata": {
    "id": "XaDlRA_wRK0U",
    "notebookRunGroups": {
     "groupValue": "1"
    }
   },
   "outputs": [],
   "source": [
    "def f_get_data(i=0):\n",
    "\n",
    "    # Define path.\n",
    "    c_path = \"/Users/Georgi/Documents/EAISI/EASI_4B_Supermarket/Group4B/data/raw/\"\n",
    "    # Identify file.\n",
    "    v_file = (\n",
    "        \"history-per-year\",  # 0\n",
    "        \"history_aggregated\",  # 1\n",
    "        \"holidays_events\",  # 2\n",
    "        \"items\",  # 3\n",
    "        \"oil\",  # 4\n",
    "        \"stores\",  # 5\n",
    "        \"transactions\",\n",
    "    )  # 6\n",
    "\n",
    "    # Load data.\n",
    "    df = (\n",
    "        pd.read_parquet(c_path + v_file[i] + \".parquet\")\n",
    "        .rename(columns=standardize_column_names)\n",
    "        .pipe(optimize_memory)\n",
    "        .pipe(month_year_to_int, i)\n",
    "        .pipe(transform_date_to_datetime, i)\n",
    "    )\n",
    "\n",
    "    # Return data.\n",
    "    return df"
   ]
  },
  {
   "cell_type": "markdown",
   "metadata": {
    "id": "-zXWuFInRee5"
   },
   "source": [
    "### Importing data: Here I import the sales and items data. "
   ]
  },
  {
   "cell_type": "code",
   "execution_count": 12,
   "metadata": {
    "notebookRunGroups": {
     "groupValue": "1"
    }
   },
   "outputs": [
    {
     "name": "stdout",
     "output_type": "stream",
     "text": [
      "Change: integer --> unsigned\n",
      "Change: float --> float\n",
      "Change: Month and Year to integer\n",
      "Change: Transformed 'year', 'month', 'day' columns to Datetime feature\n",
      "Change: Dropped 'year', 'month', 'day' columns and transformed to Datetime64[us] feature\n",
      "Change: integer --> unsigned\n",
      "Change: float --> float\n"
     ]
    }
   ],
   "source": [
    "df_sales= f_get_data(0)\n",
    "df_items =f_get_data(3)"
   ]
  },
  {
   "cell_type": "markdown",
   "metadata": {},
   "source": [
    "3.1.4. Function List - Returns a list of all items the belong to families with demand pattern of poor data quality: 'BEVERAGES', 'PRODUCE', 'CELEBRATION', 'HOME AND KITCHEN I', 'HOME AND KITCHEN II','HOME CARE','LADIESWARE','PETS SUPPLIES','PLAYERS AND ELECTRONICS','SCHOOL AND OFFICE SUPPLIES'"
   ]
  },
  {
   "cell_type": "code",
   "execution_count": 13,
   "metadata": {},
   "outputs": [],
   "source": [
    "def items_exclude_family(df_items, families=['BEVERAGES', 'PRODUCE', 'CELEBRATION', 'HOME AND KITCHEN I', 'HOME AND KITCHEN II','HOME CARE','LADIESWARE','PETS SUPPLIES','PLAYERS AND ELECTRONICS','SCHOOL AND OFFICE SUPPLIES']):\n",
    "    \n",
    "\n",
    "    # Get the list of item numbers that belong to the specified families\n",
    "    list_items_in_families = df_items[df_items[\"family\"].isin(families)][\"item_nbr\"].tolist()\n",
    "\n",
    "    return list_items_in_families\n"
   ]
  },
  {
   "cell_type": "markdown",
   "metadata": {},
   "source": [
    "3.1.5. Function Drop Items on List - Excludes items sales data with from the list  \"list_items_in_families\" "
   ]
  },
  {
   "cell_type": "code",
   "execution_count": 14,
   "metadata": {},
   "outputs": [],
   "source": [
    "def df_sales_cleaned_items(df_sales, list_items_in_families):\n",
    " \n",
    "    # Drop observations from df_sales where item_nbr is in list_items_in_families\n",
    "    df_sales_cleaned = df_sales[~df_sales[\"item_nbr\"].isin(list_items_in_families)]\n",
    "\n",
    "    return df_sales_cleaned"
   ]
  },
  {
   "cell_type": "markdown",
   "metadata": {},
   "source": [
    "3.1.5A Call the function df_sales_cleaned_items and items_esxcluse_items to reduce the dataset"
   ]
  },
  {
   "cell_type": "code",
   "execution_count": 15,
   "metadata": {},
   "outputs": [],
   "source": [
    "\n",
    "list_items_to_exclude = items_exclude_family(df_items)  # Step 1: Get items to exclude\n",
    "cleaned_df_sales = df_sales_cleaned_items(df_sales, list_items_to_exclude)  # Step 2: Clean df_sales\n",
    "\n"
   ]
  },
  {
   "cell_type": "markdown",
   "metadata": {},
   "source": [
    "Check the results: before and after "
   ]
  },
  {
   "cell_type": "code",
   "execution_count": 16,
   "metadata": {},
   "outputs": [
    {
     "name": "stdout",
     "output_type": "stream",
     "text": [
      "Total observations before cleaning: 125497040, after cleaning: 96180971, rows removed: 29316069\n"
     ]
    }
   ],
   "source": [
    "# Get the length of df_sales before and after cleaning\n",
    "total_observations_len_prior = len(df_sales)\n",
    "total_observations_len_post = len(cleaned_df_sales)\n",
    "rows_removed = total_observations_len_prior - total_observations_len_post\n",
    "\n",
    "# Print the results in a single line with formatted output\n",
    "print(f\"Total observations before cleaning: {total_observations_len_prior}, after cleaning: {total_observations_len_post}, rows removed: {rows_removed}\")\n"
   ]
  },
  {
   "cell_type": "markdown",
   "metadata": {},
   "source": [
    "Visualize the changes"
   ]
  },
  {
   "cell_type": "code",
   "execution_count": 17,
   "metadata": {},
   "outputs": [
    {
     "name": "stderr",
     "output_type": "stream",
     "text": [
      "/Users/Georgi/Documents/Group4B/venv_case_project/lib/python3.10/site-packages/seaborn/_oldcore.py:1765: FutureWarning: unique with argument that is not not a Series, Index, ExtensionArray, or np.ndarray is deprecated and will raise in a future version.\n",
      "  order = pd.unique(vector)\n"
     ]
    },
    {
     "data": {
      "image/png": "[encoded data removed]",
      "text/plain": [
       "<Figure size 800x600 with 1 Axes>"
      ]
     },
     "metadata": {},
     "output_type": "display_data"
    }
   ],
   "source": [
    "#Source: ChatGPT\n",
    "# Step 1: Calculate the total number of observations\n",
    "total_observations_len_prior = len(df_sales)\n",
    "total_observations_len_post = len(cleaned_df_sales)\n",
    "rows_removed = total_observations_len_prior - total_observations_len_post\n",
    "\n",
    "# Step 2: Calculate percentages\n",
    "percent_remaining = (total_observations_len_post / total_observations_len_prior) * 100\n",
    "percent_removed = (rows_removed / total_observations_len_prior) * 100\n",
    "\n",
    "# Step 3: Prepare data for visualization\n",
    "data = {\n",
    "    'Group': ['Before', 'After'],\n",
    "    'Observations': [total_observations_len_prior, total_observations_len_post],\n",
    "    'Percentage': [100, percent_remaining]\n",
    "}\n",
    "\n",
    "# Step 4: Create a bar plot with a \"girly\" color palette (pinks and purples)\n",
    "plt.figure(figsize=(8, 6))\n",
    "bars = sns.barplot(x='Group', y='Observations', data=data, palette=['#ff99cc', '#ff66b2'])  # Soft pink shades\n",
    "\n",
    "# Step 5: Add the percentages inside the bars\n",
    "for i, percentage in enumerate(data['Percentage']):\n",
    "    bars.text(i, data['Observations'][i] / 2,  # Positioning in the middle of the bar\n",
    "              f'{percentage:.2f}%', ha='center', va='center', fontsize=12, color='white')\n",
    "\n",
    "# Step 6: Customize the plot\n",
    "plt.title('Total Observations Before and After Cleaning', fontsize=16)\n",
    "plt.ylabel('Number of Observations', fontsize=12)\n",
    "\n",
    "# Show the plot\n",
    "plt.tight_layout()\n",
    "plt.show()\n",
    "\n",
    "\n",
    "\n"
   ]
  }
 ],
 "metadata": {
  "colab": {
   "authorship_tag": "ABX9TyP1XEh6OeJMgPK4tWBSiOU8",
   "collapsed_sections": [],
   "mount_file_id": "1tas4gpn15avV6RH91pDuPfl4mfnjqven",
   "name": "Copy of 2020 12 13 - EyeOn Supermarket - v1.ipynb",
   "provenance": [
    {
     "file_id": "1tas4gpn15avV6RH91pDuPfl4mfnjqven",
     "timestamp": 1608148229653
    }
   ],
   "toc_visible": true
  },
  "kernelspec": {
   "display_name": "venv_case_project",
   "language": "python",
   "name": "python3"
  },
  "language_info": {
   "codemirror_mode": {
    "name": "ipython",
    "version": 3
   },
   "file_extension": ".py",
   "mimetype": "text/x-python",
   "name": "python",
   "nbconvert_exporter": "python",
   "pygments_lexer": "ipython3",
   "version": "3.10.13"
  }
 },
 "nbformat": 4,
 "nbformat_minor": 1
}
