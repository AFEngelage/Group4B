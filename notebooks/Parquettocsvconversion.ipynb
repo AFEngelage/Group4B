{
 "cells": [
  {
   "cell_type": "code",
   "execution_count": 10,
   "metadata": {},
   "outputs": [],
   "source": [
    "import pandas as pd\n",
    "\n",
    "\n",
    "file_path_joineddata = r'C:\\Users\\sebas\\OneDrive\\Documenten\\GitHub\\Supermarketcasegroupproject\\Group4B\\data\\interim\\df_035_join.parquet'\n",
    "df_joinedsales = pd.read_parquet(file_path_joineddata)\n",
    "\n",
    "df_joinedsales['date'] = pd.to_datetime(df_joinedsales[['month', 'year']].assign(DAY=1))\n",
    "\n",
    "df_joinedsales\n",
    "\n",
    "output_file_path = r'C:\\Users\\sebas\\OneDrive\\Documenten\\GitHub\\Supermarketcasegroupproject\\Group4B\\data\\interim\\df_035_join.csv'\n",
    "df_joinedsales.to_csv(output_file_path,sep =\";\",decimal=\",\", index=False)"
   ]
  }
 ],
 "metadata": {
  "kernelspec": {
   "display_name": ".venv",
   "language": "python",
   "name": "python3"
  },
  "language_info": {
   "codemirror_mode": {
    "name": "ipython",
    "version": 3
   },
   "file_extension": ".py",
   "mimetype": "text/x-python",
   "name": "python",
   "nbconvert_exporter": "python",
   "pygments_lexer": "ipython3",
   "version": "3.10.11"
  }
 },
 "nbformat": 4,
 "nbformat_minor": 2
}
