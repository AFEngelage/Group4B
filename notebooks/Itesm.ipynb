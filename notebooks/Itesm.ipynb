{
 "cells": [
  {
   "cell_type": "markdown",
   "metadata": {
    "id": "PpLWCBFNuons"
   },
   "source": [
    "### Supermarket data science case study - Exploring first data\n"
   ]
  },
  {
   "cell_type": "markdown",
   "metadata": {
    "id": "PPQo8za16cQT"
   },
   "source": [
    "### Importing packages"
   ]
  },
  {
   "cell_type": "code",
   "execution_count": 1,
   "metadata": {
    "executionInfo": {
     "elapsed": 696,
     "status": "ok",
     "timestamp": 1608147217504,
     "user": {
      "displayName": "pi1234",
      "photoUrl": "",
      "userId": "00485952581093036663"
     },
     "user_tz": -60
    },
    "id": "OlwScieYRTmf",
    "notebookRunGroups": {
     "groupValue": "1"
    }
   },
   "outputs": [],
   "source": [
    "import pandas as pd\n",
    "import sys\n",
    "import matplotlib.pyplot as plt\n",
    "import altair as alt\n",
    "import vegafusion as vf\n",
    "import sklearn\n",
    "import vega_datasets\n",
    "from sklearn.pipeline import Pipeline, make_pipeline\n",
    "import seaborn as sns"
   ]
  },
  {
   "cell_type": "markdown",
   "metadata": {
    "id": "Dm7aDtim6guo"
   },
   "source": [
    "### Functions"
   ]
  },
  {
   "cell_type": "code",
   "execution_count": 2,
   "metadata": {
    "executionInfo": {
     "elapsed": 695,
     "status": "ok",
     "timestamp": 1608147217505,
     "user": {
      "displayName": "pi1234",
      "photoUrl": "",
      "userId": "00485952581093036663"
     },
     "user_tz": -60
    },
    "id": "f1PDhgg8ZBbf",
    "notebookRunGroups": {
     "groupValue": "1"
    }
   },
   "outputs": [],
   "source": [
    "def f_concat(l_input):\n",
    "\n",
    "    # Initialize.\n",
    "    dummy = \"\"\n",
    "    n_len = len(l_input)\n",
    "\n",
    "    if n_len == 1:\n",
    "        return l_input[0]\n",
    "\n",
    "    # Loop through text elements.\n",
    "    for i in range(n_len - 1):\n",
    "        dummy = dummy + l_input[i] + \", \"\n",
    "\n",
    "    # Append last element.\n",
    "    dummy = dummy + \"and \" + l_input[n_len - 1]\n",
    "\n",
    "    # Return result.\n",
    "    return dummy"
   ]
  },
  {
   "cell_type": "code",
   "execution_count": 3,
   "metadata": {
    "notebookRunGroups": {
     "groupValue": "1"
    }
   },
   "outputs": [],
   "source": [
    "def f_describe(df_input, n_top=10):\n",
    "\n",
    "    print(\"First \" + str(n_top) + \" rows in de data:\")\n",
    "    display(df_input.head(n_top))\n",
    "\n",
    "    df_numeric = df_input.select_dtypes(\n",
    "        include=[\n",
    "            \"uint8\",\n",
    "            \"uint16\",\n",
    "            \"uint32\",\n",
    "            \"uint64\",\n",
    "            \"int8\",\n",
    "            \"int16\",\n",
    "            \"int32\",\n",
    "            \"int64\",\n",
    "            \"float16\",\n",
    "            \"float32\",\n",
    "            \"float64\",\n",
    "        ]\n",
    "    )\n",
    "\n",
    "    if len(df_numeric.columns):\n",
    "        print(\"Numerical data:\")\n",
    "        display(df_numeric.describe())\n",
    "\n",
    "    df_textual = df_input.select_dtypes(include=[\"category\", \"object\", \"bool\"])\n",
    "\n",
    "    if len(df_textual.columns):\n",
    "        print(\"Textual data:\")\n",
    "        display(df_textual.describe())\n",
    "\n",
    "    v_na = [\n",
    "        col\n",
    "        + \" (\"\n",
    "        + str(df[col].isna().sum())\n",
    "        + \", \"\n",
    "        + str(round(100 * df[col].isna().sum() / df.shape[0], 1))\n",
    "        + \"%)\"\n",
    "        for col in df.columns\n",
    "        if df[col].isna().sum() > 0\n",
    "    ]\n",
    "\n",
    "    if len(v_na) > 0:\n",
    "        print(\"Features and their number of missing values:\")\n",
    "        display(f_concat(v_na))"
   ]
  },
  {
   "cell_type": "markdown",
   "metadata": {},
   "source": [
    "### Downcast and transform data\n",
    "Update formatting of features to optimize memory and standardize column names."
   ]
  },
  {
   "cell_type": "code",
   "execution_count": 4,
   "metadata": {
    "notebookRunGroups": {
     "groupValue": "1"
    }
   },
   "outputs": [],
   "source": [
    "def standardize_column_names(s):\n",
    "    return s.replace(\" \", \"\")\n",
    "\n",
    "\n",
    "def optimize_memory(df):\n",
    "    # Change: Objects to Categorical.                                               #WHEN needed to transform Objects to Categorical?\n",
    "    # object_cols = df.select_dtypes(include=\"object\").columns\n",
    "    # if not object_cols.empty:\n",
    "    #     print(\"Change: Objects to Categorical\")\n",
    "    #     df[object_cols] = df[object_cols].astype(\"category\")\n",
    "\n",
    "    # Change: Convert integers to smallest unsigned integer and floats to smallest.\n",
    "    for old, new in [(\"integer\", \"unsigned\"), (\"float\", \"float\")]:\n",
    "        print(\"Change: \" + old + \" --> \" + new)\n",
    "        for col in df.select_dtypes(include=old).columns:\n",
    "            df[col] = pd.to_numeric(df[col], downcast=new)\n",
    "\n",
    "    return df\n",
    "\n",
    "\n",
    "def month_year_to_int(df, i):\n",
    "    # Change: Month and Year to integer\n",
    "    if i == 0:\n",
    "        print(\"Change: Month and Year to integer\")\n",
    "        df = df.astype({\"month\": int, \"year\": int})\n",
    "\n",
    "    return df"
   ]
  },
  {
   "cell_type": "markdown",
   "metadata": {},
   "source": [
    "### Transform date-related columns to datetime format."
   ]
  },
  {
   "cell_type": "code",
   "execution_count": 21,
   "metadata": {
    "notebookRunGroups": {
     "groupValue": "1"
    }
   },
   "outputs": [],
   "source": [
    "# Convert datasets to time series\n",
    "def transform_date_to_datetime(df, i):\n",
    "    if i == 0:\n",
    "        print(\"Change: Transformed 'year', 'month', 'day' columns to Datetime feature\")\n",
    "        df[\"date\"] = pd.to_datetime(df[[\"year\", \"month\", \"day\"]], unit=\"us\")\n",
    "\n",
    "       # print(\n",
    "       #     \"Change: Dropped 'year', 'month', 'day' columns and transformed to Datetime64[us] feature\"\n",
    "       # )\n",
    "        #df.drop(columns=[\"day\", \"month\", \"year\"], inplace=True)\n",
    "\n",
    "    else:\n",
    "        if \"date\" in df.columns:\n",
    "            print(\"Change: Transformed 'date' column to Datetime Dtype\")\n",
    "            df[\"date\"] = pd.to_datetime(df[\"date\"]).dt.tz_localize(None)\n",
    "\n",
    "    return df"
   ]
  },
  {
   "cell_type": "markdown",
   "metadata": {},
   "source": [
    "### Import data from local PATH\n",
    "Import data trough pipeline to downcast the data and transformations"
   ]
  },
  {
   "cell_type": "code",
   "execution_count": 6,
   "metadata": {
    "id": "XaDlRA_wRK0U",
    "notebookRunGroups": {
     "groupValue": "1"
    }
   },
   "outputs": [],
   "source": [
    "def f_get_data(i=0):\n",
    "\n",
    "    # Define path.\n",
    "    c_path = \"/Users/Georgi/Documents/EAISI/EASI_4B_Supermarket/Group4B/data/raw/\"\n",
    "    # Identify file.\n",
    "    v_file = (\n",
    "        \"history-per-year\",  # 0\n",
    "        \"history_aggregated\",  # 1\n",
    "        \"holidays_events\",  # 2\n",
    "        \"items\",  # 3\n",
    "        \"oil\",  # 4\n",
    "        \"stores\",  # 5\n",
    "        \"transactions\",\n",
    "    )  # 6\n",
    "\n",
    "    # Load data.\n",
    "    df = (\n",
    "        pd.read_parquet(c_path + v_file[i] + \".parquet\")\n",
    "        .rename(columns=standardize_column_names)\n",
    "        .pipe(optimize_memory)\n",
    "        .pipe(month_year_to_int, i)\n",
    "        .pipe(transform_date_to_datetime, i)\n",
    "    )\n",
    "\n",
    "    # Return data.\n",
    "    return df"
   ]
  },
  {
   "cell_type": "markdown",
   "metadata": {
    "id": "-zXWuFInRee5"
   },
   "source": [
    "### Importing data"
   ]
  },
  {
   "cell_type": "code",
   "execution_count": 7,
   "metadata": {
    "notebookRunGroups": {
     "groupValue": "1"
    }
   },
   "outputs": [
    {
     "name": "stdout",
     "output_type": "stream",
     "text": [
      "Change: integer --> unsigned\n",
      "Change: float --> float\n",
      "Change: Month and Year to integer\n",
      "Change: Transformed 'year', 'month', 'day' columns to Datetime feature\n",
      "Change: Dropped 'year', 'month', 'day' columns and transformed to Datetime64[us] feature\n"
     ]
    }
   ],
   "source": [
    "df = f_get_data(0)"
   ]
  },
  {
   "cell_type": "code",
   "execution_count": 8,
   "metadata": {
    "notebookRunGroups": {
     "groupValue": "1"
    }
   },
   "outputs": [
    {
     "name": "stdout",
     "output_type": "stream",
     "text": [
      "First 10 rows in de data:\n"
     ]
    },
    {
     "data": {
      "text/html": [
       "<div>\n",
       "<style scoped>\n",
       "    .dataframe tbody tr th:only-of-type {\n",
       "        vertical-align: middle;\n",
       "    }\n",
       "\n",
       "    .dataframe tbody tr th {\n",
       "        vertical-align: top;\n",
       "    }\n",
       "\n",
       "    .dataframe thead th {\n",
       "        text-align: right;\n",
       "    }\n",
       "</style>\n",
       "<table border=\"1\" class=\"dataframe\">\n",
       "  <thead>\n",
       "    <tr style=\"text-align: right;\">\n",
       "      <th></th>\n",
       "      <th>id</th>\n",
       "      <th>store_nbr</th>\n",
       "      <th>item_nbr</th>\n",
       "      <th>unit_sales</th>\n",
       "      <th>onpromotion</th>\n",
       "      <th>date</th>\n",
       "    </tr>\n",
       "  </thead>\n",
       "  <tbody>\n",
       "    <tr>\n",
       "      <th>0</th>\n",
       "      <td>0</td>\n",
       "      <td>25</td>\n",
       "      <td>103665</td>\n",
       "      <td>7.0</td>\n",
       "      <td>&lt;NA&gt;</td>\n",
       "      <td>2013-01-01</td>\n",
       "    </tr>\n",
       "    <tr>\n",
       "      <th>1</th>\n",
       "      <td>1</td>\n",
       "      <td>25</td>\n",
       "      <td>105574</td>\n",
       "      <td>1.0</td>\n",
       "      <td>&lt;NA&gt;</td>\n",
       "      <td>2013-01-01</td>\n",
       "    </tr>\n",
       "    <tr>\n",
       "      <th>2</th>\n",
       "      <td>2</td>\n",
       "      <td>25</td>\n",
       "      <td>105575</td>\n",
       "      <td>2.0</td>\n",
       "      <td>&lt;NA&gt;</td>\n",
       "      <td>2013-01-01</td>\n",
       "    </tr>\n",
       "    <tr>\n",
       "      <th>3</th>\n",
       "      <td>3</td>\n",
       "      <td>25</td>\n",
       "      <td>108079</td>\n",
       "      <td>1.0</td>\n",
       "      <td>&lt;NA&gt;</td>\n",
       "      <td>2013-01-01</td>\n",
       "    </tr>\n",
       "    <tr>\n",
       "      <th>4</th>\n",
       "      <td>4</td>\n",
       "      <td>25</td>\n",
       "      <td>108701</td>\n",
       "      <td>1.0</td>\n",
       "      <td>&lt;NA&gt;</td>\n",
       "      <td>2013-01-01</td>\n",
       "    </tr>\n",
       "    <tr>\n",
       "      <th>5</th>\n",
       "      <td>5</td>\n",
       "      <td>25</td>\n",
       "      <td>108786</td>\n",
       "      <td>3.0</td>\n",
       "      <td>&lt;NA&gt;</td>\n",
       "      <td>2013-01-01</td>\n",
       "    </tr>\n",
       "    <tr>\n",
       "      <th>6</th>\n",
       "      <td>6</td>\n",
       "      <td>25</td>\n",
       "      <td>108797</td>\n",
       "      <td>1.0</td>\n",
       "      <td>&lt;NA&gt;</td>\n",
       "      <td>2013-01-01</td>\n",
       "    </tr>\n",
       "    <tr>\n",
       "      <th>7</th>\n",
       "      <td>7</td>\n",
       "      <td>25</td>\n",
       "      <td>108952</td>\n",
       "      <td>1.0</td>\n",
       "      <td>&lt;NA&gt;</td>\n",
       "      <td>2013-01-01</td>\n",
       "    </tr>\n",
       "    <tr>\n",
       "      <th>8</th>\n",
       "      <td>8</td>\n",
       "      <td>25</td>\n",
       "      <td>111397</td>\n",
       "      <td>13.0</td>\n",
       "      <td>&lt;NA&gt;</td>\n",
       "      <td>2013-01-01</td>\n",
       "    </tr>\n",
       "    <tr>\n",
       "      <th>9</th>\n",
       "      <td>9</td>\n",
       "      <td>25</td>\n",
       "      <td>114790</td>\n",
       "      <td>3.0</td>\n",
       "      <td>&lt;NA&gt;</td>\n",
       "      <td>2013-01-01</td>\n",
       "    </tr>\n",
       "  </tbody>\n",
       "</table>\n",
       "</div>"
      ],
      "text/plain": [
       "   id  store_nbr  item_nbr  unit_sales  onpromotion       date\n",
       "0   0         25    103665         7.0         <NA> 2013-01-01\n",
       "1   1         25    105574         1.0         <NA> 2013-01-01\n",
       "2   2         25    105575         2.0         <NA> 2013-01-01\n",
       "3   3         25    108079         1.0         <NA> 2013-01-01\n",
       "4   4         25    108701         1.0         <NA> 2013-01-01\n",
       "5   5         25    108786         3.0         <NA> 2013-01-01\n",
       "6   6         25    108797         1.0         <NA> 2013-01-01\n",
       "7   7         25    108952         1.0         <NA> 2013-01-01\n",
       "8   8         25    111397        13.0         <NA> 2013-01-01\n",
       "9   9         25    114790         3.0         <NA> 2013-01-01"
      ]
     },
     "metadata": {},
     "output_type": "display_data"
    },
    {
     "name": "stdout",
     "output_type": "stream",
     "text": [
      "Numerical data:\n"
     ]
    },
    {
     "data": {
      "text/html": [
       "<div>\n",
       "<style scoped>\n",
       "    .dataframe tbody tr th:only-of-type {\n",
       "        vertical-align: middle;\n",
       "    }\n",
       "\n",
       "    .dataframe tbody tr th {\n",
       "        vertical-align: top;\n",
       "    }\n",
       "\n",
       "    .dataframe thead th {\n",
       "        text-align: right;\n",
       "    }\n",
       "</style>\n",
       "<table border=\"1\" class=\"dataframe\">\n",
       "  <thead>\n",
       "    <tr style=\"text-align: right;\">\n",
       "      <th></th>\n",
       "      <th>id</th>\n",
       "      <th>store_nbr</th>\n",
       "      <th>item_nbr</th>\n",
       "      <th>unit_sales</th>\n",
       "    </tr>\n",
       "  </thead>\n",
       "  <tbody>\n",
       "    <tr>\n",
       "      <th>count</th>\n",
       "      <td>1.254970e+08</td>\n",
       "      <td>1.254970e+08</td>\n",
       "      <td>1.254970e+08</td>\n",
       "      <td>1.254970e+08</td>\n",
       "    </tr>\n",
       "    <tr>\n",
       "      <th>mean</th>\n",
       "      <td>6.274852e+07</td>\n",
       "      <td>2.746458e+01</td>\n",
       "      <td>9.727692e+05</td>\n",
       "      <td>8.554879e+00</td>\n",
       "    </tr>\n",
       "    <tr>\n",
       "      <th>std</th>\n",
       "      <td>3.622788e+07</td>\n",
       "      <td>1.633051e+01</td>\n",
       "      <td>5.205336e+05</td>\n",
       "      <td>2.360515e+01</td>\n",
       "    </tr>\n",
       "    <tr>\n",
       "      <th>min</th>\n",
       "      <td>0.000000e+00</td>\n",
       "      <td>1.000000e+00</td>\n",
       "      <td>9.699500e+04</td>\n",
       "      <td>-1.537200e+04</td>\n",
       "    </tr>\n",
       "    <tr>\n",
       "      <th>25%</th>\n",
       "      <td>3.137426e+07</td>\n",
       "      <td>1.200000e+01</td>\n",
       "      <td>5.223830e+05</td>\n",
       "      <td>2.000000e+00</td>\n",
       "    </tr>\n",
       "    <tr>\n",
       "      <th>50%</th>\n",
       "      <td>6.274852e+07</td>\n",
       "      <td>2.800000e+01</td>\n",
       "      <td>9.595000e+05</td>\n",
       "      <td>4.000000e+00</td>\n",
       "    </tr>\n",
       "    <tr>\n",
       "      <th>75%</th>\n",
       "      <td>9.412278e+07</td>\n",
       "      <td>4.300000e+01</td>\n",
       "      <td>1.354380e+06</td>\n",
       "      <td>9.000000e+00</td>\n",
       "    </tr>\n",
       "    <tr>\n",
       "      <th>max</th>\n",
       "      <td>1.254970e+08</td>\n",
       "      <td>5.400000e+01</td>\n",
       "      <td>2.127114e+06</td>\n",
       "      <td>8.944000e+04</td>\n",
       "    </tr>\n",
       "  </tbody>\n",
       "</table>\n",
       "</div>"
      ],
      "text/plain": [
       "                 id     store_nbr      item_nbr    unit_sales\n",
       "count  1.254970e+08  1.254970e+08  1.254970e+08  1.254970e+08\n",
       "mean   6.274852e+07  2.746458e+01  9.727692e+05  8.554879e+00\n",
       "std    3.622788e+07  1.633051e+01  5.205336e+05  2.360515e+01\n",
       "min    0.000000e+00  1.000000e+00  9.699500e+04 -1.537200e+04\n",
       "25%    3.137426e+07  1.200000e+01  5.223830e+05  2.000000e+00\n",
       "50%    6.274852e+07  2.800000e+01  9.595000e+05  4.000000e+00\n",
       "75%    9.412278e+07  4.300000e+01  1.354380e+06  9.000000e+00\n",
       "max    1.254970e+08  5.400000e+01  2.127114e+06  8.944000e+04"
      ]
     },
     "metadata": {},
     "output_type": "display_data"
    },
    {
     "name": "stdout",
     "output_type": "stream",
     "text": [
      "Textual data:\n"
     ]
    },
    {
     "data": {
      "text/html": [
       "<div>\n",
       "<style scoped>\n",
       "    .dataframe tbody tr th:only-of-type {\n",
       "        vertical-align: middle;\n",
       "    }\n",
       "\n",
       "    .dataframe tbody tr th {\n",
       "        vertical-align: top;\n",
       "    }\n",
       "\n",
       "    .dataframe thead th {\n",
       "        text-align: right;\n",
       "    }\n",
       "</style>\n",
       "<table border=\"1\" class=\"dataframe\">\n",
       "  <thead>\n",
       "    <tr style=\"text-align: right;\">\n",
       "      <th></th>\n",
       "      <th>onpromotion</th>\n",
       "    </tr>\n",
       "  </thead>\n",
       "  <tbody>\n",
       "    <tr>\n",
       "      <th>count</th>\n",
       "      <td>103839389</td>\n",
       "    </tr>\n",
       "    <tr>\n",
       "      <th>unique</th>\n",
       "      <td>2</td>\n",
       "    </tr>\n",
       "    <tr>\n",
       "      <th>top</th>\n",
       "      <td>False</td>\n",
       "    </tr>\n",
       "    <tr>\n",
       "      <th>freq</th>\n",
       "      <td>96028767</td>\n",
       "    </tr>\n",
       "  </tbody>\n",
       "</table>\n",
       "</div>"
      ],
      "text/plain": [
       "       onpromotion\n",
       "count    103839389\n",
       "unique           2\n",
       "top          False\n",
       "freq      96028767"
      ]
     },
     "metadata": {},
     "output_type": "display_data"
    },
    {
     "name": "stdout",
     "output_type": "stream",
     "text": [
      "Features and their number of missing values:\n"
     ]
    },
    {
     "data": {
      "text/plain": [
       "'onpromotion (21657651, 17.3%)'"
      ]
     },
     "metadata": {},
     "output_type": "display_data"
    }
   ],
   "source": [
    "f_describe(df)"
   ]
  },
  {
   "cell_type": "code",
   "execution_count": 9,
   "metadata": {
    "notebookRunGroups": {
     "groupValue": "1"
    }
   },
   "outputs": [
    {
     "name": "stdout",
     "output_type": "stream",
     "text": [
      "<class 'pandas.core.frame.DataFrame'>\n",
      "RangeIndex: 125497040 entries, 0 to 125497039\n",
      "Data columns (total 6 columns):\n",
      " #   Column       Dtype         \n",
      "---  ------       -----         \n",
      " 0   id           uint32        \n",
      " 1   store_nbr    uint8         \n",
      " 2   item_nbr     uint32        \n",
      " 3   unit_sales   float32       \n",
      " 4   onpromotion  boolean       \n",
      " 5   date         datetime64[ns]\n",
      "dtypes: boolean(1), datetime64[ns](1), float32(1), uint32(2), uint8(1)\n",
      "memory usage: 2.7 GB\n"
     ]
    }
   ],
   "source": [
    "df.info()"
   ]
  },
  {
   "cell_type": "markdown",
   "metadata": {
    "id": "JRjToxz4Rb3h"
   },
   "source": [
    "### Some Statistics:"
   ]
  },
  {
   "cell_type": "code",
   "execution_count": 10,
   "metadata": {
    "colab": {
     "base_uri": "https://localhost:8080/"
    },
    "executionInfo": {
     "elapsed": 11505,
     "status": "ok",
     "timestamp": 1608136751408,
     "user": {
      "displayName": "pi1234",
      "photoUrl": "",
      "userId": "00485952581093036663"
     },
     "user_tz": -60
    },
    "id": "HV1Ee1SwSefa",
    "notebookRunGroups": {
     "groupValue": "1"
    },
    "outputId": "d77a35c0-17b1-4328-f216-9a9d85c81220"
   },
   "outputs": [
    {
     "name": "stdout",
     "output_type": "stream",
     "text": [
      "The data\n",
      "\n",
      "-> Contains:                125.5 million observations and 6 features.\n",
      "\n",
      "-> Contains:                125497040 observations and 6 features.\n",
      "\n",
      "-> Have feature names:      id, store_nbr, item_nbr, unit_sales, onpromotion, and date.\n",
      "\n",
      "-> Has optimized size of    2.69 GB.\n"
     ]
    }
   ],
   "source": [
    "print(\"The data\\n\")\n",
    "print(\n",
    "    f\"-> Contains:                {round(df.shape[0]/1e6, 1)} million observations and {df.shape[1]} features.\\n\"\n",
    ")\n",
    "print(\n",
    "    f\"-> Contains:                {df.shape[0]} observations and {df.shape[1]} features.\\n\"\n",
    ")\n",
    "print(f\"-> Have feature names:      {f_concat(df.columns)}.\\n\")\n",
    "print(f\"-> Has optimized size of    {round(sys.getsizeof(df)/1024/1024/1024, 2)} GB.\")"
   ]
  },
  {
   "cell_type": "code",
   "execution_count": 11,
   "metadata": {},
   "outputs": [
    {
     "data": {
      "text/html": [
       "<div>\n",
       "<style scoped>\n",
       "    .dataframe tbody tr th:only-of-type {\n",
       "        vertical-align: middle;\n",
       "    }\n",
       "\n",
       "    .dataframe tbody tr th {\n",
       "        vertical-align: top;\n",
       "    }\n",
       "\n",
       "    .dataframe thead th {\n",
       "        text-align: right;\n",
       "    }\n",
       "</style>\n",
       "<table border=\"1\" class=\"dataframe\">\n",
       "  <thead>\n",
       "    <tr style=\"text-align: right;\">\n",
       "      <th></th>\n",
       "      <th>id</th>\n",
       "      <th>store_nbr</th>\n",
       "      <th>item_nbr</th>\n",
       "      <th>unit_sales</th>\n",
       "      <th>onpromotion</th>\n",
       "      <th>date</th>\n",
       "    </tr>\n",
       "  </thead>\n",
       "  <tbody>\n",
       "    <tr>\n",
       "      <th>53531964</th>\n",
       "      <td>45050244</td>\n",
       "      <td>37</td>\n",
       "      <td>679603</td>\n",
       "      <td>5.0</td>\n",
       "      <td>False</td>\n",
       "      <td>2015-04-18</td>\n",
       "    </tr>\n",
       "    <tr>\n",
       "      <th>58682064</th>\n",
       "      <td>50200344</td>\n",
       "      <td>3</td>\n",
       "      <td>562568</td>\n",
       "      <td>3.0</td>\n",
       "      <td>False</td>\n",
       "      <td>2015-06-30</td>\n",
       "    </tr>\n",
       "    <tr>\n",
       "      <th>108415436</th>\n",
       "      <td>108415436</td>\n",
       "      <td>3</td>\n",
       "      <td>1146800</td>\n",
       "      <td>14.0</td>\n",
       "      <td>False</td>\n",
       "      <td>2017-03-07</td>\n",
       "    </tr>\n",
       "    <tr>\n",
       "      <th>51091474</th>\n",
       "      <td>42609754</td>\n",
       "      <td>8</td>\n",
       "      <td>368260</td>\n",
       "      <td>5.0</td>\n",
       "      <td>False</td>\n",
       "      <td>2015-03-10</td>\n",
       "    </tr>\n",
       "    <tr>\n",
       "      <th>74581807</th>\n",
       "      <td>97824487</td>\n",
       "      <td>54</td>\n",
       "      <td>1154749</td>\n",
       "      <td>4.0</td>\n",
       "      <td>False</td>\n",
       "      <td>2016-11-23</td>\n",
       "    </tr>\n",
       "    <tr>\n",
       "      <th>90750688</th>\n",
       "      <td>81587182</td>\n",
       "      <td>47</td>\n",
       "      <td>2010959</td>\n",
       "      <td>7.0</td>\n",
       "      <td>False</td>\n",
       "      <td>2016-06-08</td>\n",
       "    </tr>\n",
       "    <tr>\n",
       "      <th>63389484</th>\n",
       "      <td>54907764</td>\n",
       "      <td>19</td>\n",
       "      <td>1354711</td>\n",
       "      <td>5.0</td>\n",
       "      <td>False</td>\n",
       "      <td>2015-08-26</td>\n",
       "    </tr>\n",
       "    <tr>\n",
       "      <th>72217458</th>\n",
       "      <td>95460138</td>\n",
       "      <td>5</td>\n",
       "      <td>1959817</td>\n",
       "      <td>5.0</td>\n",
       "      <td>False</td>\n",
       "      <td>2016-10-31</td>\n",
       "    </tr>\n",
       "    <tr>\n",
       "      <th>102362315</th>\n",
       "      <td>102362315</td>\n",
       "      <td>11</td>\n",
       "      <td>1464070</td>\n",
       "      <td>4.0</td>\n",
       "      <td>False</td>\n",
       "      <td>2017-01-08</td>\n",
       "    </tr>\n",
       "    <tr>\n",
       "      <th>55874663</th>\n",
       "      <td>47392943</td>\n",
       "      <td>47</td>\n",
       "      <td>510057</td>\n",
       "      <td>11.0</td>\n",
       "      <td>False</td>\n",
       "      <td>2015-05-24</td>\n",
       "    </tr>\n",
       "    <tr>\n",
       "      <th>19390830</th>\n",
       "      <td>33207735</td>\n",
       "      <td>5</td>\n",
       "      <td>939130</td>\n",
       "      <td>2.0</td>\n",
       "      <td>False</td>\n",
       "      <td>2014-10-17</td>\n",
       "    </tr>\n",
       "    <tr>\n",
       "      <th>72475427</th>\n",
       "      <td>95718107</td>\n",
       "      <td>39</td>\n",
       "      <td>1489890</td>\n",
       "      <td>25.0</td>\n",
       "      <td>False</td>\n",
       "      <td>2016-11-02</td>\n",
       "    </tr>\n",
       "    <tr>\n",
       "      <th>102214906</th>\n",
       "      <td>102214906</td>\n",
       "      <td>48</td>\n",
       "      <td>1909699</td>\n",
       "      <td>20.0</td>\n",
       "      <td>False</td>\n",
       "      <td>2017-01-06</td>\n",
       "    </tr>\n",
       "    <tr>\n",
       "      <th>115131857</th>\n",
       "      <td>115131857</td>\n",
       "      <td>46</td>\n",
       "      <td>1501520</td>\n",
       "      <td>1.0</td>\n",
       "      <td>False</td>\n",
       "      <td>2017-05-09</td>\n",
       "    </tr>\n",
       "    <tr>\n",
       "      <th>18761405</th>\n",
       "      <td>32578310</td>\n",
       "      <td>3</td>\n",
       "      <td>315180</td>\n",
       "      <td>20.0</td>\n",
       "      <td>False</td>\n",
       "      <td>2014-10-08</td>\n",
       "    </tr>\n",
       "    <tr>\n",
       "      <th>75104034</th>\n",
       "      <td>98346714</td>\n",
       "      <td>16</td>\n",
       "      <td>851982</td>\n",
       "      <td>1.0</td>\n",
       "      <td>False</td>\n",
       "      <td>2016-11-29</td>\n",
       "    </tr>\n",
       "    <tr>\n",
       "      <th>115017886</th>\n",
       "      <td>115017886</td>\n",
       "      <td>41</td>\n",
       "      <td>2053874</td>\n",
       "      <td>6.0</td>\n",
       "      <td>False</td>\n",
       "      <td>2017-05-08</td>\n",
       "    </tr>\n",
       "    <tr>\n",
       "      <th>25046203</th>\n",
       "      <td>18525350</td>\n",
       "      <td>8</td>\n",
       "      <td>517615</td>\n",
       "      <td>1.0</td>\n",
       "      <td>&lt;NA&gt;</td>\n",
       "      <td>2014-02-06</td>\n",
       "    </tr>\n",
       "    <tr>\n",
       "      <th>59441445</th>\n",
       "      <td>50959725</td>\n",
       "      <td>16</td>\n",
       "      <td>1109390</td>\n",
       "      <td>6.0</td>\n",
       "      <td>False</td>\n",
       "      <td>2015-07-09</td>\n",
       "    </tr>\n",
       "    <tr>\n",
       "      <th>17075796</th>\n",
       "      <td>17075796</td>\n",
       "      <td>30</td>\n",
       "      <td>765520</td>\n",
       "      <td>1.0</td>\n",
       "      <td>&lt;NA&gt;</td>\n",
       "      <td>2014-01-13</td>\n",
       "    </tr>\n",
       "  </tbody>\n",
       "</table>\n",
       "</div>"
      ],
      "text/plain": [
       "                  id  store_nbr  item_nbr  unit_sales  onpromotion       date\n",
       "53531964    45050244         37    679603         5.0        False 2015-04-18\n",
       "58682064    50200344          3    562568         3.0        False 2015-06-30\n",
       "108415436  108415436          3   1146800        14.0        False 2017-03-07\n",
       "51091474    42609754          8    368260         5.0        False 2015-03-10\n",
       "74581807    97824487         54   1154749         4.0        False 2016-11-23\n",
       "90750688    81587182         47   2010959         7.0        False 2016-06-08\n",
       "63389484    54907764         19   1354711         5.0        False 2015-08-26\n",
       "72217458    95460138          5   1959817         5.0        False 2016-10-31\n",
       "102362315  102362315         11   1464070         4.0        False 2017-01-08\n",
       "55874663    47392943         47    510057        11.0        False 2015-05-24\n",
       "19390830    33207735          5    939130         2.0        False 2014-10-17\n",
       "72475427    95718107         39   1489890        25.0        False 2016-11-02\n",
       "102214906  102214906         48   1909699        20.0        False 2017-01-06\n",
       "115131857  115131857         46   1501520         1.0        False 2017-05-09\n",
       "18761405    32578310          3    315180        20.0        False 2014-10-08\n",
       "75104034    98346714         16    851982         1.0        False 2016-11-29\n",
       "115017886  115017886         41   2053874         6.0        False 2017-05-08\n",
       "25046203    18525350          8    517615         1.0         <NA> 2014-02-06\n",
       "59441445    50959725         16   1109390         6.0        False 2015-07-09\n",
       "17075796    17075796         30    765520         1.0         <NA> 2014-01-13"
      ]
     },
     "execution_count": 11,
     "metadata": {},
     "output_type": "execute_result"
    }
   ],
   "source": [
    "# df = f_get_data(0)\n",
    "# f_describe(df)\n",
    "\n",
    "# df.head()\n",
    "# df.tail(10)\n",
    "df.sample(20)\n",
    "# df.info()\n",
    "# df.describe()\n",
    "# df.nunique"
   ]
  },
  {
   "cell_type": "code",
   "execution_count": 12,
   "metadata": {
    "notebookRunGroups": {
     "groupValue": "2"
    }
   },
   "outputs": [
    {
     "name": "stdout",
     "output_type": "stream",
     "text": [
      "Change: integer --> unsigned\n",
      "Change: float --> float\n",
      "First 10 rows in de data:\n"
     ]
    },
    {
     "data": {
      "text/html": [
       "<div>\n",
       "<style scoped>\n",
       "    .dataframe tbody tr th:only-of-type {\n",
       "        vertical-align: middle;\n",
       "    }\n",
       "\n",
       "    .dataframe tbody tr th {\n",
       "        vertical-align: top;\n",
       "    }\n",
       "\n",
       "    .dataframe thead th {\n",
       "        text-align: right;\n",
       "    }\n",
       "</style>\n",
       "<table border=\"1\" class=\"dataframe\">\n",
       "  <thead>\n",
       "    <tr style=\"text-align: right;\">\n",
       "      <th></th>\n",
       "      <th>item_nbr</th>\n",
       "      <th>family</th>\n",
       "      <th>class</th>\n",
       "      <th>perishable</th>\n",
       "    </tr>\n",
       "  </thead>\n",
       "  <tbody>\n",
       "    <tr>\n",
       "      <th>0</th>\n",
       "      <td>96995</td>\n",
       "      <td>GROCERY I</td>\n",
       "      <td>1093</td>\n",
       "      <td>0</td>\n",
       "    </tr>\n",
       "    <tr>\n",
       "      <th>1</th>\n",
       "      <td>99197</td>\n",
       "      <td>GROCERY I</td>\n",
       "      <td>1067</td>\n",
       "      <td>0</td>\n",
       "    </tr>\n",
       "    <tr>\n",
       "      <th>2</th>\n",
       "      <td>103501</td>\n",
       "      <td>CLEANING</td>\n",
       "      <td>3008</td>\n",
       "      <td>0</td>\n",
       "    </tr>\n",
       "    <tr>\n",
       "      <th>3</th>\n",
       "      <td>103520</td>\n",
       "      <td>GROCERY I</td>\n",
       "      <td>1028</td>\n",
       "      <td>0</td>\n",
       "    </tr>\n",
       "    <tr>\n",
       "      <th>4</th>\n",
       "      <td>103665</td>\n",
       "      <td>BREAD/BAKERY</td>\n",
       "      <td>2712</td>\n",
       "      <td>1</td>\n",
       "    </tr>\n",
       "    <tr>\n",
       "      <th>5</th>\n",
       "      <td>105574</td>\n",
       "      <td>GROCERY I</td>\n",
       "      <td>1045</td>\n",
       "      <td>0</td>\n",
       "    </tr>\n",
       "    <tr>\n",
       "      <th>6</th>\n",
       "      <td>105575</td>\n",
       "      <td>GROCERY I</td>\n",
       "      <td>1045</td>\n",
       "      <td>0</td>\n",
       "    </tr>\n",
       "    <tr>\n",
       "      <th>7</th>\n",
       "      <td>105576</td>\n",
       "      <td>GROCERY I</td>\n",
       "      <td>1045</td>\n",
       "      <td>0</td>\n",
       "    </tr>\n",
       "    <tr>\n",
       "      <th>8</th>\n",
       "      <td>105577</td>\n",
       "      <td>GROCERY I</td>\n",
       "      <td>1045</td>\n",
       "      <td>0</td>\n",
       "    </tr>\n",
       "    <tr>\n",
       "      <th>9</th>\n",
       "      <td>105693</td>\n",
       "      <td>GROCERY I</td>\n",
       "      <td>1034</td>\n",
       "      <td>0</td>\n",
       "    </tr>\n",
       "  </tbody>\n",
       "</table>\n",
       "</div>"
      ],
      "text/plain": [
       "   item_nbr        family  class  perishable\n",
       "0     96995     GROCERY I   1093           0\n",
       "1     99197     GROCERY I   1067           0\n",
       "2    103501      CLEANING   3008           0\n",
       "3    103520     GROCERY I   1028           0\n",
       "4    103665  BREAD/BAKERY   2712           1\n",
       "5    105574     GROCERY I   1045           0\n",
       "6    105575     GROCERY I   1045           0\n",
       "7    105576     GROCERY I   1045           0\n",
       "8    105577     GROCERY I   1045           0\n",
       "9    105693     GROCERY I   1034           0"
      ]
     },
     "metadata": {},
     "output_type": "display_data"
    },
    {
     "name": "stdout",
     "output_type": "stream",
     "text": [
      "Numerical data:\n"
     ]
    },
    {
     "data": {
      "text/html": [
       "<div>\n",
       "<style scoped>\n",
       "    .dataframe tbody tr th:only-of-type {\n",
       "        vertical-align: middle;\n",
       "    }\n",
       "\n",
       "    .dataframe tbody tr th {\n",
       "        vertical-align: top;\n",
       "    }\n",
       "\n",
       "    .dataframe thead th {\n",
       "        text-align: right;\n",
       "    }\n",
       "</style>\n",
       "<table border=\"1\" class=\"dataframe\">\n",
       "  <thead>\n",
       "    <tr style=\"text-align: right;\">\n",
       "      <th></th>\n",
       "      <th>item_nbr</th>\n",
       "      <th>class</th>\n",
       "      <th>perishable</th>\n",
       "    </tr>\n",
       "  </thead>\n",
       "  <tbody>\n",
       "    <tr>\n",
       "      <th>count</th>\n",
       "      <td>4.100000e+03</td>\n",
       "      <td>4100.0000</td>\n",
       "      <td>4100.000000</td>\n",
       "    </tr>\n",
       "    <tr>\n",
       "      <th>mean</th>\n",
       "      <td>1.251436e+06</td>\n",
       "      <td>2169.6500</td>\n",
       "      <td>0.240488</td>\n",
       "    </tr>\n",
       "    <tr>\n",
       "      <th>std</th>\n",
       "      <td>5.876872e+05</td>\n",
       "      <td>1484.9109</td>\n",
       "      <td>0.427432</td>\n",
       "    </tr>\n",
       "    <tr>\n",
       "      <th>min</th>\n",
       "      <td>9.699500e+04</td>\n",
       "      <td>1002.0000</td>\n",
       "      <td>0.000000</td>\n",
       "    </tr>\n",
       "    <tr>\n",
       "      <th>25%</th>\n",
       "      <td>8.181108e+05</td>\n",
       "      <td>1068.0000</td>\n",
       "      <td>0.000000</td>\n",
       "    </tr>\n",
       "    <tr>\n",
       "      <th>50%</th>\n",
       "      <td>1.306198e+06</td>\n",
       "      <td>2004.0000</td>\n",
       "      <td>0.000000</td>\n",
       "    </tr>\n",
       "    <tr>\n",
       "      <th>75%</th>\n",
       "      <td>1.904918e+06</td>\n",
       "      <td>2990.5000</td>\n",
       "      <td>0.000000</td>\n",
       "    </tr>\n",
       "    <tr>\n",
       "      <th>max</th>\n",
       "      <td>2.134244e+06</td>\n",
       "      <td>7780.0000</td>\n",
       "      <td>1.000000</td>\n",
       "    </tr>\n",
       "  </tbody>\n",
       "</table>\n",
       "</div>"
      ],
      "text/plain": [
       "           item_nbr      class   perishable\n",
       "count  4.100000e+03  4100.0000  4100.000000\n",
       "mean   1.251436e+06  2169.6500     0.240488\n",
       "std    5.876872e+05  1484.9109     0.427432\n",
       "min    9.699500e+04  1002.0000     0.000000\n",
       "25%    8.181108e+05  1068.0000     0.000000\n",
       "50%    1.306198e+06  2004.0000     0.000000\n",
       "75%    1.904918e+06  2990.5000     0.000000\n",
       "max    2.134244e+06  7780.0000     1.000000"
      ]
     },
     "metadata": {},
     "output_type": "display_data"
    },
    {
     "name": "stdout",
     "output_type": "stream",
     "text": [
      "Textual data:\n"
     ]
    },
    {
     "data": {
      "text/html": [
       "<div>\n",
       "<style scoped>\n",
       "    .dataframe tbody tr th:only-of-type {\n",
       "        vertical-align: middle;\n",
       "    }\n",
       "\n",
       "    .dataframe tbody tr th {\n",
       "        vertical-align: top;\n",
       "    }\n",
       "\n",
       "    .dataframe thead th {\n",
       "        text-align: right;\n",
       "    }\n",
       "</style>\n",
       "<table border=\"1\" class=\"dataframe\">\n",
       "  <thead>\n",
       "    <tr style=\"text-align: right;\">\n",
       "      <th></th>\n",
       "      <th>family</th>\n",
       "    </tr>\n",
       "  </thead>\n",
       "  <tbody>\n",
       "    <tr>\n",
       "      <th>count</th>\n",
       "      <td>4100</td>\n",
       "    </tr>\n",
       "    <tr>\n",
       "      <th>unique</th>\n",
       "      <td>33</td>\n",
       "    </tr>\n",
       "    <tr>\n",
       "      <th>top</th>\n",
       "      <td>GROCERY I</td>\n",
       "    </tr>\n",
       "    <tr>\n",
       "      <th>freq</th>\n",
       "      <td>1334</td>\n",
       "    </tr>\n",
       "  </tbody>\n",
       "</table>\n",
       "</div>"
      ],
      "text/plain": [
       "           family\n",
       "count        4100\n",
       "unique         33\n",
       "top     GROCERY I\n",
       "freq         1334"
      ]
     },
     "metadata": {},
     "output_type": "display_data"
    },
    {
     "name": "stdout",
     "output_type": "stream",
     "text": [
      "<class 'pandas.core.frame.DataFrame'>\n",
      "RangeIndex: 4100 entries, 0 to 4099\n",
      "Data columns (total 4 columns):\n",
      " #   Column      Non-Null Count  Dtype \n",
      "---  ------      --------------  ----- \n",
      " 0   item_nbr    4100 non-null   uint32\n",
      " 1   family      4100 non-null   object\n",
      " 2   class       4100 non-null   uint16\n",
      " 3   perishable  4100 non-null   uint8 \n",
      "dtypes: object(1), uint16(1), uint32(1), uint8(1)\n",
      "memory usage: 60.2+ KB\n"
     ]
    },
    {
     "data": {
      "image/png": "[encoded data removed]",
      "text/plain": [
       "<Figure size 1000x800 with 1 Axes>"
      ]
     },
     "metadata": {},
     "output_type": "display_data"
    }
   ],
   "source": [
    "df = f_get_data(3)\n",
    "f_describe(df)\n",
    "df.info()\n",
    "\n",
    "# Count the number of unique classes per family and sort them in descending order\n",
    "class_counts = df.groupby('family')['class'].nunique().reset_index().sort_values(by='class', ascending=False)\n",
    "\n",
    "# Plotting the data\n",
    "plt.figure(figsize=(10, 8))  # Make the plot taller to accommodate vertical bars\n",
    "sns.barplot(y='family', x='class', data=class_counts, palette='viridis')\n",
    "\n",
    "# Adding titles and labels\n",
    "plt.title('Number of Unique Classes per Family')\n",
    "plt.xlabel('Number of Unique Classes')\n",
    "plt.ylabel('Family')\n",
    "plt.show()"
   ]
  },
  {
   "cell_type": "code",
   "execution_count": 13,
   "metadata": {},
   "outputs": [
    {
     "name": "stdout",
     "output_type": "stream",
     "text": [
      "Empty DataFrame\n",
      "Columns: [class, family]\n",
      "Index: []\n"
     ]
    }
   ],
   "source": [
    "# Group by class and count the number of unique families for each class\n",
    "class_family_counts = df.groupby('class')['family'].nunique().reset_index()\n",
    "\n",
    "# Filter to find classes that belong to multiple families\n",
    "classes_in_multiple_families = class_family_counts[class_family_counts['family'] > 1]\n",
    "\n",
    "print(classes_in_multiple_families)"
   ]
  },
  {
   "cell_type": "code",
   "execution_count": 14,
   "metadata": {},
   "outputs": [
    {
     "name": "stdout",
     "output_type": "stream",
     "text": [
      "There are 337 distinct classes.\n",
      "The distinct classes are: [1093 1067 3008 1028 2712 1045 1034 1044 1092 1032 1030 1075 2636 2644\n",
      " 3044 1004 2416 2502 1062 3024 1072 1016 4126 3034 1014 1040 1084 7034\n",
      " 1056 3090 3026 1042 1122 6810 2124 3020 2114 1026 2112 1096 2704 2708\n",
      " 1013 3038 1048 2116 3032 1124 1066 2718 1236 1080 3004 1058 6824 1136\n",
      " 3016 1006 2302 1010 2632 2226 2412 1078 1074 1036 3046 3022 3018 1035\n",
      " 2104 1086 1039 6155 2806 1120 1002 2218 2220 1060 2986 2720 3014 6806\n",
      " 4114 1087 3015 2702 3006 2752 2652 2630 2640 3010 3012 1024 1038 2716\n",
      " 1076 2966 1386 2102 7016 2980 2962 3030 1079 1012 2690 1070 2662 3005\n",
      " 2142 2960 1054 4122 2850 4222 1033 2306 1336 2756 1330 2664 4214 2956\n",
      " 3028 1338 2802 4254 2722 1027 2642 2854 2222 1005 2228 2238 3060 1318\n",
      " 3040 1320 2214 6706 2304 1025 2128 6920 2130 1008 3029 3035 2750 1088\n",
      " 2784 1302 2646 6918 2108 1094 1064 4252 2904 2372 7002 1314 1126 2210\n",
      " 1022 2714 2156 1138 1003 1364 1380 1029 2504 1132 2242 2654 2122 2246\n",
      " 2070 1077 1312 6954 4118 4176 4104 4138 4162 4140 4130 4141 2174 2152\n",
      " 2164 2162 2166 2170 2420 2172 2864 4250 2506 2786 1326 2782 2103 2650\n",
      " 6329 6338 6257 6212 6330 6267 6269 6238 6352 6223 6246 6206 6260 6232\n",
      " 6322 6350 6328 6258 6262 6266 6301 6253 1046 1387 6344 6353 4139 2340\n",
      " 5224 1152 1153 3106 3110 3108 3102 3104 1310 1116 1118 1114 1190 1148\n",
      " 1146 1144 1115 2970 6516 6517 2006 2028 2008 2010 2032 2034 2012 2014\n",
      " 2004 2016 2002 2020 2018 2022 6022 6482 5446 5322 5324 2030 6404 6448\n",
      " 7780 2026 6412 2954 5308 6414 5325 6808 6426 6392 6230 6222 6393 4210\n",
      " 2024 4255 4212 5222 1018 1142 2074 4228 2178 6848 2168 6242 1089 1150\n",
      " 3116 6248 6241 6233 5250 5244 1052 1082 1050 1068 1083 1063 1154 1073\n",
      " 2208 5192 4198 1041 6922 6936 6924 6960 1316 2906 1156 1334 1370 1306\n",
      " 1328]\n"
     ]
    }
   ],
   "source": [
    "distinct_classes = df['class'].unique()\n",
    "\n",
    "# Count the number of distinct classes\n",
    "num_distinct_classes = len(distinct_classes)\n",
    "\n",
    "print(f'There are {num_distinct_classes} distinct classes.')\n",
    "print('The distinct classes are:', distinct_classes)"
   ]
  },
  {
   "cell_type": "code",
   "execution_count": 15,
   "metadata": {},
   "outputs": [
    {
     "data": {
      "image/png": "[encoded data removed]",
      "text/plain": [
       "<Figure size 800x600 with 1 Axes>"
      ]
     },
     "metadata": {},
     "output_type": "display_data"
    }
   ],
   "source": [
    "# Group by family and calculate the average perishable value (0 or 1)\n",
    "family_perishable = df.groupby('family')['perishable'].mean().reset_index()\n",
    "\n",
    "# Sort by perishable feature\n",
    "family_perishable_sorted = family_perishable.sort_values(by='perishable', ascending=False)\n",
    "\n",
    "# Plotting the data\n",
    "plt.figure(figsize=(8, 6))  # Adjust the size as needed\n",
    "sns.barplot(x='perishable', y='family', data=family_perishable_sorted, palette='Set2')\n",
    "\n",
    "# Adding titles and labels\n",
    "plt.title('Perishability of Families')\n",
    "plt.xlabel('Perishable Proportion')\n",
    "plt.ylabel('Family')\n",
    "plt.show()"
   ]
  },
  {
   "cell_type": "code",
   "execution_count": 22,
   "metadata": {},
   "outputs": [
    {
     "name": "stdout",
     "output_type": "stream",
     "text": [
      "Change: integer --> unsigned\n",
      "Change: float --> float\n",
      "Change: Month and Year to integer\n",
      "Change: Transformed 'year', 'month', 'day' columns to Datetime feature\n"
     ]
    },
    {
     "data": {
      "text/html": [
       "\n",
       "<style>\n",
       "  #altair-viz-1f0860499fa2459281d16695bd0e57ed.vega-embed {\n",
       "    width: 100%;\n",
       "    display: flex;\n",
       "  }\n",
       "\n",
       "  #altair-viz-1f0860499fa2459281d16695bd0e57ed.vega-embed details,\n",
       "  #altair-viz-1f0860499fa2459281d16695bd0e57ed.vega-embed details summary {\n",
       "    position: relative;\n",
       "  }\n",
       "</style>\n",
       "<div id=\"altair-viz-1f0860499fa2459281d16695bd0e57ed\"></div>\n",
       "<script type=\"text/javascript\">\n",
       "  var VEGA_DEBUG = (typeof VEGA_DEBUG == \"undefined\") ? {} : VEGA_DEBUG;\n",
       "  (function(spec, embedOpt){\n",
       "    let outputDiv = document.currentScript.previousElementSibling;\n",
       "    if (outputDiv.id !== \"altair-viz-1f0860499fa2459281d16695bd0e57ed\") {\n",
       "      outputDiv = document.getElementById(\"altair-viz-1f0860499fa2459281d16695bd0e57ed\");\n",
       "    }\n",
       "    const paths = {\n",
       "      \"vega\": \"https://cdn.jsdelivr.net/npm/vega@5?noext\",\n",
       "      \"vega-lib\": \"https://cdn.jsdelivr.net/npm/vega-lib?noext\",\n",
       "      \"vega-lite\": \"https://cdn.jsdelivr.net/npm/vega-lite@5.17.0?noext\",\n",
       "      \"vega-embed\": \"https://cdn.jsdelivr.net/npm/vega-embed@6?noext\",\n",
       "    };\n",
       "\n",
       "    function maybeLoadScript(lib, version) {\n",
       "      var key = `${lib.replace(\"-\", \"\")}_version`;\n",
       "      return (VEGA_DEBUG[key] == version) ?\n",
       "        Promise.resolve(paths[lib]) :\n",
       "        new Promise(function(resolve, reject) {\n",
       "          var s = document.createElement('script');\n",
       "          document.getElementsByTagName(\"head\")[0].appendChild(s);\n",
       "          s.async = true;\n",
       "          s.onload = () => {\n",
       "            VEGA_DEBUG[key] = version;\n",
       "            return resolve(paths[lib]);\n",
       "          };\n",
       "          s.onerror = () => reject(`Error loading script: ${paths[lib]}`);\n",
       "          s.src = paths[lib];\n",
       "        });\n",
       "    }\n",
       "\n",
       "    function showError(err) {\n",
       "      outputDiv.innerHTML = `<div class=\"error\" style=\"color:red;\">${err}</div>`;\n",
       "      throw err;\n",
       "    }\n",
       "\n",
       "    function displayChart(vegaEmbed) {\n",
       "      vegaEmbed(outputDiv, spec, embedOpt)\n",
       "        .catch(err => showError(`Javascript Error: ${err.message}<br>This usually means there's a typo in your chart specification. See the javascript console for the full traceback.`));\n",
       "    }\n",
       "\n",
       "    if(typeof define === \"function\" && define.amd) {\n",
       "      requirejs.config({paths});\n",
       "      require([\"vega-embed\"], displayChart, err => showError(`Error loading script: ${err.message}`));\n",
       "    } else {\n",
       "      maybeLoadScript(\"vega\", \"5\")\n",
       "        .then(() => maybeLoadScript(\"vega-lite\", \"5.17.0\"))\n",
       "        .then(() => maybeLoadScript(\"vega-embed\", \"6\"))\n",
       "        .catch(showError)\n",
       "        .then(() => displayChart(vegaEmbed));\n",
       "    }\n",
       "  })({\"config\": {\"view\": {\"continuousWidth\": 300, \"continuousHeight\": 300}}, \"data\": {\"name\": \"data-b625cf5f0d75ac98a836e86a28b61a9f\"}, \"mark\": {\"type\": \"line\"}, \"encoding\": {\"color\": {\"field\": \"store_nbr\", \"type\": \"nominal\"}, \"tooltip\": [{\"field\": \"month\", \"type\": \"quantitative\"}, {\"field\": \"store_nbr\", \"type\": \"quantitative\"}, {\"field\": \"unit_sales\", \"type\": \"quantitative\"}], \"x\": {\"field\": \"month\", \"type\": \"ordinal\"}, \"y\": {\"field\": \"unit_sales\", \"type\": \"quantitative\"}}, \"height\": 600, \"params\": [{\"name\": \"param_1\", \"select\": {\"type\": \"interval\", \"encodings\": [\"x\", \"y\"]}, \"bind\": \"scales\"}], \"title\": \"Average Sales by Date and Store number\", \"width\": 1200, \"$schema\": \"https://vega.github.io/schema/vega-lite/v5.17.0.json\", \"datasets\": {\"data-b625cf5f0d75ac98a836e86a28b61a9f\": [{\"month\": 1, \"store_nbr\": 1, \"unit_sales\": 5.685444355010986}, {\"month\": 1, \"store_nbr\": 2, \"unit_sales\": 7.379318714141846}, {\"month\": 1, \"store_nbr\": 3, \"unit_sales\": 15.479948997497559}, {\"month\": 1, \"store_nbr\": 4, \"unit_sales\": 7.034542083740234}, {\"month\": 1, \"store_nbr\": 5, \"unit_sales\": 5.975852966308594}, {\"month\": 1, \"store_nbr\": 6, \"unit_sales\": 8.58772087097168}, {\"month\": 1, \"store_nbr\": 7, \"unit_sales\": 9.616996765136719}, {\"month\": 1, \"store_nbr\": 8, \"unit_sales\": 9.72231388092041}, {\"month\": 1, \"store_nbr\": 9, \"unit_sales\": 9.391793251037598}, {\"month\": 1, \"store_nbr\": 10, \"unit_sales\": 5.473718643188477}, {\"month\": 1, \"store_nbr\": 11, \"unit_sales\": 10.71176528930664}, {\"month\": 1, \"store_nbr\": 12, \"unit_sales\": 5.824463367462158}, {\"month\": 1, \"store_nbr\": 13, \"unit_sales\": 5.990881443023682}, {\"month\": 1, \"store_nbr\": 14, \"unit_sales\": 6.400193691253662}, {\"month\": 1, \"store_nbr\": 15, \"unit_sales\": 5.870798110961914}, {\"month\": 1, \"store_nbr\": 16, \"unit_sales\": 5.991281032562256}, {\"month\": 1, \"store_nbr\": 17, \"unit_sales\": 8.250534057617188}, {\"month\": 1, \"store_nbr\": 18, \"unit_sales\": 6.065139293670654}, {\"month\": 1, \"store_nbr\": 19, \"unit_sales\": 6.845424175262451}, {\"month\": 1, \"store_nbr\": 20, \"unit_sales\": 7.488568305969238}, {\"month\": 1, \"store_nbr\": 21, \"unit_sales\": 6.5236358642578125}, {\"month\": 1, \"store_nbr\": 22, \"unit_sales\": 4.248414516448975}, {\"month\": 1, \"store_nbr\": 23, \"unit_sales\": 5.1269659996032715}, {\"month\": 1, \"store_nbr\": 24, \"unit_sales\": 8.701786041259766}, {\"month\": 1, \"store_nbr\": 25, \"unit_sales\": 5.612356185913086}, {\"month\": 1, \"store_nbr\": 26, \"unit_sales\": 4.332620620727539}, {\"month\": 1, \"store_nbr\": 27, \"unit_sales\": 7.3523969650268555}, {\"month\": 1, \"store_nbr\": 28, \"unit_sales\": 7.249800682067871}, {\"month\": 1, \"store_nbr\": 29, \"unit_sales\": 6.304293632507324}, {\"month\": 1, \"store_nbr\": 30, \"unit_sales\": 4.48256254196167}, {\"month\": 1, \"store_nbr\": 31, \"unit_sales\": 7.369019985198975}, {\"month\": 1, \"store_nbr\": 32, \"unit_sales\": 4.091116905212402}, {\"month\": 1, \"store_nbr\": 33, \"unit_sales\": 7.304723262786865}, {\"month\": 1, \"store_nbr\": 34, \"unit_sales\": 7.103209972381592}, {\"month\": 1, \"store_nbr\": 35, \"unit_sales\": 5.370951175689697}, {\"month\": 1, \"store_nbr\": 36, \"unit_sales\": 6.804939270019531}, {\"month\": 1, \"store_nbr\": 37, \"unit_sales\": 7.391188621520996}, {\"month\": 1, \"store_nbr\": 38, \"unit_sales\": 7.204334735870361}, {\"month\": 1, \"store_nbr\": 39, \"unit_sales\": 7.739989280700684}, {\"month\": 1, \"store_nbr\": 40, \"unit_sales\": 8.349425315856934}, {\"month\": 1, \"store_nbr\": 41, \"unit_sales\": 5.894075870513916}, {\"month\": 1, \"store_nbr\": 42, \"unit_sales\": 6.38923454284668}, {\"month\": 1, \"store_nbr\": 43, \"unit_sales\": 8.241850852966309}, {\"month\": 1, \"store_nbr\": 44, \"unit_sales\": 18.423290252685547}, {\"month\": 1, \"store_nbr\": 45, \"unit_sales\": 16.287288665771484}, {\"month\": 1, \"store_nbr\": 46, \"unit_sales\": 12.95790958404541}, {\"month\": 1, \"store_nbr\": 47, \"unit_sales\": 15.596761703491211}, {\"month\": 1, \"store_nbr\": 48, \"unit_sales\": 11.590039253234863}, {\"month\": 1, \"store_nbr\": 49, \"unit_sales\": 13.334118843078613}, {\"month\": 1, \"store_nbr\": 50, \"unit_sales\": 9.208752632141113}, {\"month\": 1, \"store_nbr\": 51, \"unit_sales\": 11.414920806884766}, {\"month\": 1, \"store_nbr\": 53, \"unit_sales\": 5.319841384887695}, {\"month\": 1, \"store_nbr\": 54, \"unit_sales\": 6.441650867462158}, {\"month\": 2, \"store_nbr\": 1, \"unit_sales\": 5.198521614074707}, {\"month\": 2, \"store_nbr\": 2, \"unit_sales\": 6.720526218414307}, {\"month\": 2, \"store_nbr\": 3, \"unit_sales\": 13.793646812438965}, {\"month\": 2, \"store_nbr\": 4, \"unit_sales\": 6.364238739013672}, {\"month\": 2, \"store_nbr\": 5, \"unit_sales\": 5.596214294433594}, {\"month\": 2, \"store_nbr\": 6, \"unit_sales\": 7.755618572235107}, {\"month\": 2, \"store_nbr\": 7, \"unit_sales\": 8.709216117858887}, {\"month\": 2, \"store_nbr\": 8, \"unit_sales\": 8.682862281799316}, {\"month\": 2, \"store_nbr\": 9, \"unit_sales\": 9.144009590148926}, {\"month\": 2, \"store_nbr\": 10, \"unit_sales\": 5.309070587158203}, {\"month\": 2, \"store_nbr\": 11, \"unit_sales\": 11.147854804992676}, {\"month\": 2, \"store_nbr\": 12, \"unit_sales\": 5.61869478225708}, {\"month\": 2, \"store_nbr\": 13, \"unit_sales\": 5.780292510986328}, {\"month\": 2, \"store_nbr\": 14, \"unit_sales\": 6.140960216522217}, {\"month\": 2, \"store_nbr\": 15, \"unit_sales\": 5.598862171173096}, {\"month\": 2, \"store_nbr\": 16, \"unit_sales\": 5.709677219390869}, {\"month\": 2, \"store_nbr\": 17, \"unit_sales\": 7.935074806213379}, {\"month\": 2, \"store_nbr\": 18, \"unit_sales\": 5.512021541595459}, {\"month\": 2, \"store_nbr\": 19, \"unit_sales\": 7.325780391693115}, {\"month\": 2, \"store_nbr\": 20, \"unit_sales\": 7.724832057952881}, {\"month\": 2, \"store_nbr\": 21, \"unit_sales\": 6.276169776916504}, {\"month\": 2, \"store_nbr\": 22, \"unit_sales\": 4.085002422332764}, {\"month\": 2, \"store_nbr\": 23, \"unit_sales\": 4.855128765106201}, {\"month\": 2, \"store_nbr\": 24, \"unit_sales\": 8.078787803649902}, {\"month\": 2, \"store_nbr\": 25, \"unit_sales\": 6.881282329559326}, {\"month\": 2, \"store_nbr\": 26, \"unit_sales\": 4.004748821258545}, {\"month\": 2, \"store_nbr\": 27, \"unit_sales\": 6.850349426269531}, {\"month\": 2, \"store_nbr\": 28, \"unit_sales\": 7.005912780761719}, {\"month\": 2, \"store_nbr\": 29, \"unit_sales\": 6.124276638031006}, {\"month\": 2, \"store_nbr\": 30, \"unit_sales\": 4.342236518859863}, {\"month\": 2, \"store_nbr\": 31, \"unit_sales\": 6.977291107177734}, {\"month\": 2, \"store_nbr\": 32, \"unit_sales\": 4.245145797729492}, {\"month\": 2, \"store_nbr\": 33, \"unit_sales\": 6.745944976806641}, {\"month\": 2, \"store_nbr\": 34, \"unit_sales\": 7.35466194152832}, {\"month\": 2, \"store_nbr\": 35, \"unit_sales\": 5.722178936004639}, {\"month\": 2, \"store_nbr\": 36, \"unit_sales\": 6.975205898284912}, {\"month\": 2, \"store_nbr\": 37, \"unit_sales\": 6.774180889129639}, {\"month\": 2, \"store_nbr\": 38, \"unit_sales\": 6.4057936668396}, {\"month\": 2, \"store_nbr\": 39, \"unit_sales\": 7.272129058837891}, {\"month\": 2, \"store_nbr\": 40, \"unit_sales\": 8.207453727722168}, {\"month\": 2, \"store_nbr\": 41, \"unit_sales\": 5.51754903793335}, {\"month\": 2, \"store_nbr\": 42, \"unit_sales\": 5.9933037757873535}, {\"month\": 2, \"store_nbr\": 43, \"unit_sales\": 8.13243579864502}, {\"month\": 2, \"store_nbr\": 44, \"unit_sales\": 16.29339027404785}, {\"month\": 2, \"store_nbr\": 45, \"unit_sales\": 14.77431583404541}, {\"month\": 2, \"store_nbr\": 46, \"unit_sales\": 11.912038803100586}, {\"month\": 2, \"store_nbr\": 47, \"unit_sales\": 13.896533012390137}, {\"month\": 2, \"store_nbr\": 48, \"unit_sales\": 10.636631965637207}, {\"month\": 2, \"store_nbr\": 49, \"unit_sales\": 12.041299819946289}, {\"month\": 2, \"store_nbr\": 50, \"unit_sales\": 8.682764053344727}, {\"month\": 2, \"store_nbr\": 51, \"unit_sales\": 10.166766166687012}, {\"month\": 2, \"store_nbr\": 53, \"unit_sales\": 5.241580009460449}, {\"month\": 2, \"store_nbr\": 54, \"unit_sales\": 6.266127586364746}, {\"month\": 3, \"store_nbr\": 1, \"unit_sales\": 5.513057708740234}, {\"month\": 3, \"store_nbr\": 2, \"unit_sales\": 7.133007526397705}, {\"month\": 3, \"store_nbr\": 3, \"unit_sales\": 14.886094093322754}, {\"month\": 3, \"store_nbr\": 4, \"unit_sales\": 6.776846408843994}, {\"month\": 3, \"store_nbr\": 5, \"unit_sales\": 5.834088325500488}, {\"month\": 3, \"store_nbr\": 6, \"unit_sales\": 8.314239501953125}, {\"month\": 3, \"store_nbr\": 7, \"unit_sales\": 9.279597282409668}, {\"month\": 3, \"store_nbr\": 8, \"unit_sales\": 9.374095916748047}, {\"month\": 3, \"store_nbr\": 9, \"unit_sales\": 9.520572662353516}, {\"month\": 3, \"store_nbr\": 10, \"unit_sales\": 5.453362464904785}, {\"month\": 3, \"store_nbr\": 11, \"unit_sales\": 10.966506958007812}, {\"month\": 3, \"store_nbr\": 12, \"unit_sales\": 5.787274360656738}, {\"month\": 3, \"store_nbr\": 13, \"unit_sales\": 5.963388919830322}, {\"month\": 3, \"store_nbr\": 14, \"unit_sales\": 6.273852825164795}, {\"month\": 3, \"store_nbr\": 15, \"unit_sales\": 5.757686614990234}, {\"month\": 3, \"store_nbr\": 16, \"unit_sales\": 5.926700592041016}, {\"month\": 3, \"store_nbr\": 17, \"unit_sales\": 8.336587905883789}, {\"month\": 3, \"store_nbr\": 18, \"unit_sales\": 6.073369026184082}, {\"month\": 3, \"store_nbr\": 19, \"unit_sales\": 6.762122631072998}, {\"month\": 3, \"store_nbr\": 20, \"unit_sales\": 7.4261627197265625}, {\"month\": 3, \"store_nbr\": 21, \"unit_sales\": 6.184075355529785}, {\"month\": 3, \"store_nbr\": 22, \"unit_sales\": 4.282695770263672}, {\"month\": 3, \"store_nbr\": 23, \"unit_sales\": 4.982243537902832}, {\"month\": 3, \"store_nbr\": 24, \"unit_sales\": 8.446562767028809}, {\"month\": 3, \"store_nbr\": 25, \"unit_sales\": 6.722667217254639}, {\"month\": 3, \"store_nbr\": 26, \"unit_sales\": 4.211706161499023}, {\"month\": 3, \"store_nbr\": 27, \"unit_sales\": 6.9871344566345215}, {\"month\": 3, \"store_nbr\": 28, \"unit_sales\": 7.256715774536133}, {\"month\": 3, \"store_nbr\": 29, \"unit_sales\": 6.369024753570557}, {\"month\": 3, \"store_nbr\": 30, \"unit_sales\": 4.342779636383057}, {\"month\": 3, \"store_nbr\": 31, \"unit_sales\": 7.30338716506958}, {\"month\": 3, \"store_nbr\": 32, \"unit_sales\": 4.500151634216309}, {\"month\": 3, \"store_nbr\": 33, \"unit_sales\": 6.989668369293213}, {\"month\": 3, \"store_nbr\": 34, \"unit_sales\": 7.667330265045166}, {\"month\": 3, \"store_nbr\": 35, \"unit_sales\": 5.629230499267578}, {\"month\": 3, \"store_nbr\": 36, \"unit_sales\": 7.009244441986084}, {\"month\": 3, \"store_nbr\": 37, \"unit_sales\": 7.190256118774414}, {\"month\": 3, \"store_nbr\": 38, \"unit_sales\": 6.987974166870117}, {\"month\": 3, \"store_nbr\": 39, \"unit_sales\": 7.5915422439575195}, {\"month\": 3, \"store_nbr\": 40, \"unit_sales\": 8.509888648986816}, {\"month\": 3, \"store_nbr\": 41, \"unit_sales\": 5.785501003265381}, {\"month\": 3, \"store_nbr\": 42, \"unit_sales\": 6.154690265655518}, {\"month\": 3, \"store_nbr\": 43, \"unit_sales\": 8.048759460449219}, {\"month\": 3, \"store_nbr\": 44, \"unit_sales\": 17.639413833618164}, {\"month\": 3, \"store_nbr\": 45, \"unit_sales\": 15.646145820617676}, {\"month\": 3, \"store_nbr\": 46, \"unit_sales\": 12.608872413635254}, {\"month\": 3, \"store_nbr\": 47, \"unit_sales\": 15.01160717010498}, {\"month\": 3, \"store_nbr\": 48, \"unit_sales\": 11.123550415039062}, {\"month\": 3, \"store_nbr\": 49, \"unit_sales\": 12.888227462768555}, {\"month\": 3, \"store_nbr\": 50, \"unit_sales\": 9.04291820526123}, {\"month\": 3, \"store_nbr\": 51, \"unit_sales\": 10.431879997253418}, {\"month\": 3, \"store_nbr\": 53, \"unit_sales\": 5.071413040161133}, {\"month\": 3, \"store_nbr\": 54, \"unit_sales\": 6.249502658843994}, {\"month\": 4, \"store_nbr\": 1, \"unit_sales\": 5.434797763824463}, {\"month\": 4, \"store_nbr\": 2, \"unit_sales\": 7.394070148468018}, {\"month\": 4, \"store_nbr\": 3, \"unit_sales\": 14.355122566223145}, {\"month\": 4, \"store_nbr\": 4, \"unit_sales\": 6.474226474761963}, {\"month\": 4, \"store_nbr\": 5, \"unit_sales\": 5.446322917938232}, {\"month\": 4, \"store_nbr\": 6, \"unit_sales\": 8.149703979492188}, {\"month\": 4, \"store_nbr\": 7, \"unit_sales\": 8.97624397277832}, {\"month\": 4, \"store_nbr\": 8, \"unit_sales\": 9.198915481567383}, {\"month\": 4, \"store_nbr\": 9, \"unit_sales\": 10.067486763000488}, {\"month\": 4, \"store_nbr\": 10, \"unit_sales\": 5.739410877227783}, {\"month\": 4, \"store_nbr\": 11, \"unit_sales\": 11.266789436340332}, {\"month\": 4, \"store_nbr\": 12, \"unit_sales\": 5.953608512878418}, {\"month\": 4, \"store_nbr\": 13, \"unit_sales\": 6.583076477050781}, {\"month\": 4, \"store_nbr\": 14, \"unit_sales\": 6.399891376495361}, {\"month\": 4, \"store_nbr\": 15, \"unit_sales\": 6.067859172821045}, {\"month\": 4, \"store_nbr\": 16, \"unit_sales\": 6.014882564544678}, {\"month\": 4, \"store_nbr\": 17, \"unit_sales\": 8.711956024169922}, {\"month\": 4, \"store_nbr\": 18, \"unit_sales\": 6.453952312469482}, {\"month\": 4, \"store_nbr\": 19, \"unit_sales\": 7.012247562408447}, {\"month\": 4, \"store_nbr\": 20, \"unit_sales\": 8.939837455749512}, {\"month\": 4, \"store_nbr\": 21, \"unit_sales\": 6.982327938079834}, {\"month\": 4, \"store_nbr\": 22, \"unit_sales\": 4.6936936378479}, {\"month\": 4, \"store_nbr\": 23, \"unit_sales\": 4.859472274780273}, {\"month\": 4, \"store_nbr\": 24, \"unit_sales\": 8.122428894042969}, {\"month\": 4, \"store_nbr\": 25, \"unit_sales\": 5.909875392913818}, {\"month\": 4, \"store_nbr\": 26, \"unit_sales\": 3.931227445602417}, {\"month\": 4, \"store_nbr\": 27, \"unit_sales\": 7.009395599365234}, {\"month\": 4, \"store_nbr\": 28, \"unit_sales\": 7.5893235206604}, {\"month\": 4, \"store_nbr\": 29, \"unit_sales\": 6.7133941650390625}, {\"month\": 4, \"store_nbr\": 30, \"unit_sales\": 4.4487223625183105}, {\"month\": 4, \"store_nbr\": 31, \"unit_sales\": 7.166167736053467}, {\"month\": 4, \"store_nbr\": 32, \"unit_sales\": 4.718211650848389}, {\"month\": 4, \"store_nbr\": 33, \"unit_sales\": 6.791726112365723}, {\"month\": 4, \"store_nbr\": 34, \"unit_sales\": 7.5670318603515625}, {\"month\": 4, \"store_nbr\": 35, \"unit_sales\": 5.53319787979126}, {\"month\": 4, \"store_nbr\": 36, \"unit_sales\": 7.045070171356201}, {\"month\": 4, \"store_nbr\": 37, \"unit_sales\": 6.697241306304932}, {\"month\": 4, \"store_nbr\": 38, \"unit_sales\": 6.555472373962402}, {\"month\": 4, \"store_nbr\": 39, \"unit_sales\": 8.044002532958984}, {\"month\": 4, \"store_nbr\": 40, \"unit_sales\": 8.668639183044434}, {\"month\": 4, \"store_nbr\": 41, \"unit_sales\": 5.5160627365112305}, {\"month\": 4, \"store_nbr\": 42, \"unit_sales\": 6.166223049163818}, {\"month\": 4, \"store_nbr\": 43, \"unit_sales\": 8.206687927246094}, {\"month\": 4, \"store_nbr\": 44, \"unit_sales\": 17.11343765258789}, {\"month\": 4, \"store_nbr\": 45, \"unit_sales\": 15.495999336242676}, {\"month\": 4, \"store_nbr\": 46, \"unit_sales\": 12.521592140197754}, {\"month\": 4, \"store_nbr\": 47, \"unit_sales\": 14.515325546264648}, {\"month\": 4, \"store_nbr\": 48, \"unit_sales\": 11.086332321166992}, {\"month\": 4, \"store_nbr\": 49, \"unit_sales\": 12.531874656677246}, {\"month\": 4, \"store_nbr\": 50, \"unit_sales\": 8.902121543884277}, {\"month\": 4, \"store_nbr\": 51, \"unit_sales\": 10.352385520935059}, {\"month\": 4, \"store_nbr\": 52, \"unit_sales\": 10.353638648986816}, {\"month\": 4, \"store_nbr\": 53, \"unit_sales\": 5.613728046417236}, {\"month\": 4, \"store_nbr\": 54, \"unit_sales\": 6.4240031242370605}, {\"month\": 5, \"store_nbr\": 1, \"unit_sales\": 5.2568817138671875}, {\"month\": 5, \"store_nbr\": 2, \"unit_sales\": 7.297316074371338}, {\"month\": 5, \"store_nbr\": 3, \"unit_sales\": 13.986471176147461}, {\"month\": 5, \"store_nbr\": 4, \"unit_sales\": 6.3639044761657715}, {\"month\": 5, \"store_nbr\": 5, \"unit_sales\": 5.691596984863281}, {\"month\": 5, \"store_nbr\": 6, \"unit_sales\": 7.932986736297607}, {\"month\": 5, \"store_nbr\": 7, \"unit_sales\": 8.786421775817871}, {\"month\": 5, \"store_nbr\": 8, \"unit_sales\": 8.908998489379883}, {\"month\": 5, \"store_nbr\": 9, \"unit_sales\": 9.376060485839844}, {\"month\": 5, \"store_nbr\": 10, \"unit_sales\": 5.5418381690979}, {\"month\": 5, \"store_nbr\": 11, \"unit_sales\": 11.011283874511719}, {\"month\": 5, \"store_nbr\": 12, \"unit_sales\": 6.004035472869873}, {\"month\": 5, \"store_nbr\": 13, \"unit_sales\": 6.406018257141113}, {\"month\": 5, \"store_nbr\": 14, \"unit_sales\": 6.37928581237793}, {\"month\": 5, \"store_nbr\": 15, \"unit_sales\": 5.928848743438721}, {\"month\": 5, \"store_nbr\": 16, \"unit_sales\": 6.13739013671875}, {\"month\": 5, \"store_nbr\": 17, \"unit_sales\": 8.371049880981445}, {\"month\": 5, \"store_nbr\": 18, \"unit_sales\": 5.957474708557129}, {\"month\": 5, \"store_nbr\": 19, \"unit_sales\": 6.847030162811279}, {\"month\": 5, \"store_nbr\": 20, \"unit_sales\": 7.868232250213623}, {\"month\": 5, \"store_nbr\": 21, \"unit_sales\": 6.660340785980225}, {\"month\": 5, \"store_nbr\": 22, \"unit_sales\": 4.501325607299805}, {\"month\": 5, \"store_nbr\": 23, \"unit_sales\": 4.794368743896484}, {\"month\": 5, \"store_nbr\": 24, \"unit_sales\": 8.327335357666016}, {\"month\": 5, \"store_nbr\": 25, \"unit_sales\": 4.587507247924805}, {\"month\": 5, \"store_nbr\": 26, \"unit_sales\": 4.075983047485352}, {\"month\": 5, \"store_nbr\": 27, \"unit_sales\": 7.398341178894043}, {\"month\": 5, \"store_nbr\": 28, \"unit_sales\": 7.7510199546813965}, {\"month\": 5, \"store_nbr\": 29, \"unit_sales\": 6.490997314453125}, {\"month\": 5, \"store_nbr\": 30, \"unit_sales\": 4.769397735595703}, {\"month\": 5, \"store_nbr\": 31, \"unit_sales\": 7.444791793823242}, {\"month\": 5, \"store_nbr\": 32, \"unit_sales\": 4.6220479011535645}, {\"month\": 5, \"store_nbr\": 33, \"unit_sales\": 6.89814567565918}, {\"month\": 5, \"store_nbr\": 34, \"unit_sales\": 7.1330246925354}, {\"month\": 5, \"store_nbr\": 35, \"unit_sales\": 5.393057346343994}, {\"month\": 5, \"store_nbr\": 36, \"unit_sales\": 6.849757194519043}, {\"month\": 5, \"store_nbr\": 37, \"unit_sales\": 6.695212364196777}, {\"month\": 5, \"store_nbr\": 38, \"unit_sales\": 6.524285316467285}, {\"month\": 5, \"store_nbr\": 39, \"unit_sales\": 7.718960762023926}, {\"month\": 5, \"store_nbr\": 40, \"unit_sales\": 8.8665132522583}, {\"month\": 5, \"store_nbr\": 41, \"unit_sales\": 6.006711959838867}, {\"month\": 5, \"store_nbr\": 42, \"unit_sales\": 6.10323429107666}, {\"month\": 5, \"store_nbr\": 43, \"unit_sales\": 8.306818962097168}, {\"month\": 5, \"store_nbr\": 44, \"unit_sales\": 16.567752838134766}, {\"month\": 5, \"store_nbr\": 45, \"unit_sales\": 14.989001274108887}, {\"month\": 5, \"store_nbr\": 46, \"unit_sales\": 12.392248153686523}, {\"month\": 5, \"store_nbr\": 47, \"unit_sales\": 14.138840675354004}, {\"month\": 5, \"store_nbr\": 48, \"unit_sales\": 10.967757225036621}, {\"month\": 5, \"store_nbr\": 49, \"unit_sales\": 12.459065437316895}, {\"month\": 5, \"store_nbr\": 50, \"unit_sales\": 8.728043556213379}, {\"month\": 5, \"store_nbr\": 51, \"unit_sales\": 11.061704635620117}, {\"month\": 5, \"store_nbr\": 52, \"unit_sales\": 9.306151390075684}, {\"month\": 5, \"store_nbr\": 53, \"unit_sales\": 6.840230464935303}, {\"month\": 5, \"store_nbr\": 54, \"unit_sales\": 7.088351726531982}, {\"month\": 6, \"store_nbr\": 1, \"unit_sales\": 5.557592868804932}, {\"month\": 6, \"store_nbr\": 2, \"unit_sales\": 7.067226409912109}, {\"month\": 6, \"store_nbr\": 3, \"unit_sales\": 14.641514778137207}, {\"month\": 6, \"store_nbr\": 4, \"unit_sales\": 6.5698699951171875}, {\"month\": 6, \"store_nbr\": 5, \"unit_sales\": 5.767971992492676}, {\"month\": 6, \"store_nbr\": 6, \"unit_sales\": 8.115215301513672}, {\"month\": 6, \"store_nbr\": 7, \"unit_sales\": 9.326123237609863}, {\"month\": 6, \"store_nbr\": 8, \"unit_sales\": 9.15205192565918}, {\"month\": 6, \"store_nbr\": 9, \"unit_sales\": 9.164216995239258}, {\"month\": 6, \"store_nbr\": 10, \"unit_sales\": 5.42236852645874}, {\"month\": 6, \"store_nbr\": 11, \"unit_sales\": 10.64301872253418}, {\"month\": 6, \"store_nbr\": 12, \"unit_sales\": 5.70659065246582}, {\"month\": 6, \"store_nbr\": 13, \"unit_sales\": 5.838960647583008}, {\"month\": 6, \"store_nbr\": 14, \"unit_sales\": 6.150200366973877}, {\"month\": 6, \"store_nbr\": 15, \"unit_sales\": 5.939748764038086}, {\"month\": 6, \"store_nbr\": 16, \"unit_sales\": 6.213788986206055}, {\"month\": 6, \"store_nbr\": 17, \"unit_sales\": 8.297616004943848}, {\"month\": 6, \"store_nbr\": 18, \"unit_sales\": 5.861370086669922}, {\"month\": 6, \"store_nbr\": 19, \"unit_sales\": 6.6114888191223145}, {\"month\": 6, \"store_nbr\": 20, \"unit_sales\": 8.02713680267334}, {\"month\": 6, \"store_nbr\": 21, \"unit_sales\": 6.263521194458008}, {\"month\": 6, \"store_nbr\": 22, \"unit_sales\": 4.26949405670166}, {\"month\": 6, \"store_nbr\": 23, \"unit_sales\": 4.869288921356201}, {\"month\": 6, \"store_nbr\": 24, \"unit_sales\": 8.646169662475586}, {\"month\": 6, \"store_nbr\": 25, \"unit_sales\": 4.255011081695557}, {\"month\": 6, \"store_nbr\": 26, \"unit_sales\": 4.2102179527282715}, {\"month\": 6, \"store_nbr\": 27, \"unit_sales\": 7.474191665649414}, {\"month\": 6, \"store_nbr\": 28, \"unit_sales\": 7.67242956161499}, {\"month\": 6, \"store_nbr\": 29, \"unit_sales\": 6.304357051849365}, {\"month\": 6, \"store_nbr\": 30, \"unit_sales\": 4.648693084716797}, {\"month\": 6, \"store_nbr\": 31, \"unit_sales\": 7.392168998718262}, {\"month\": 6, \"store_nbr\": 32, \"unit_sales\": 4.120086669921875}, {\"month\": 6, \"store_nbr\": 33, \"unit_sales\": 7.144563674926758}, {\"month\": 6, \"store_nbr\": 34, \"unit_sales\": 6.942322254180908}, {\"month\": 6, \"store_nbr\": 35, \"unit_sales\": 5.082679271697998}, {\"month\": 6, \"store_nbr\": 36, \"unit_sales\": 6.5780415534973145}, {\"month\": 6, \"store_nbr\": 37, \"unit_sales\": 7.042603969573975}, {\"month\": 6, \"store_nbr\": 38, \"unit_sales\": 6.739284992218018}, {\"month\": 6, \"store_nbr\": 39, \"unit_sales\": 7.61713981628418}, {\"month\": 6, \"store_nbr\": 40, \"unit_sales\": 8.857917785644531}, {\"month\": 6, \"store_nbr\": 41, \"unit_sales\": 6.132990837097168}, {\"month\": 6, \"store_nbr\": 42, \"unit_sales\": 6.057638168334961}, {\"month\": 6, \"store_nbr\": 43, \"unit_sales\": 8.307518005371094}, {\"month\": 6, \"store_nbr\": 44, \"unit_sales\": 16.865856170654297}, {\"month\": 6, \"store_nbr\": 45, \"unit_sales\": 15.319441795349121}, {\"month\": 6, \"store_nbr\": 46, \"unit_sales\": 12.169930458068848}, {\"month\": 6, \"store_nbr\": 47, \"unit_sales\": 14.311448097229004}, {\"month\": 6, \"store_nbr\": 48, \"unit_sales\": 10.530333518981934}, {\"month\": 6, \"store_nbr\": 49, \"unit_sales\": 12.767654418945312}, {\"month\": 6, \"store_nbr\": 50, \"unit_sales\": 8.656618118286133}, {\"month\": 6, \"store_nbr\": 51, \"unit_sales\": 11.388131141662598}, {\"month\": 6, \"store_nbr\": 52, \"unit_sales\": 8.660551071166992}, {\"month\": 6, \"store_nbr\": 53, \"unit_sales\": 6.422007083892822}, {\"month\": 6, \"store_nbr\": 54, \"unit_sales\": 7.013981342315674}, {\"month\": 7, \"store_nbr\": 1, \"unit_sales\": 5.537822246551514}, {\"month\": 7, \"store_nbr\": 2, \"unit_sales\": 6.996751308441162}, {\"month\": 7, \"store_nbr\": 3, \"unit_sales\": 14.610100746154785}, {\"month\": 7, \"store_nbr\": 4, \"unit_sales\": 6.438905239105225}, {\"month\": 7, \"store_nbr\": 5, \"unit_sales\": 5.933966159820557}, {\"month\": 7, \"store_nbr\": 6, \"unit_sales\": 7.870190143585205}, {\"month\": 7, \"store_nbr\": 7, \"unit_sales\": 8.939557075500488}, {\"month\": 7, \"store_nbr\": 8, \"unit_sales\": 9.18094539642334}, {\"month\": 7, \"store_nbr\": 9, \"unit_sales\": 9.023724555969238}, {\"month\": 7, \"store_nbr\": 10, \"unit_sales\": 5.257835388183594}, {\"month\": 7, \"store_nbr\": 11, \"unit_sales\": 10.60361099243164}, {\"month\": 7, \"store_nbr\": 12, \"unit_sales\": 5.464519023895264}, {\"month\": 7, \"store_nbr\": 13, \"unit_sales\": 5.684255123138428}, {\"month\": 7, \"store_nbr\": 14, \"unit_sales\": 6.136127471923828}, {\"month\": 7, \"store_nbr\": 15, \"unit_sales\": 5.753950595855713}, {\"month\": 7, \"store_nbr\": 16, \"unit_sales\": 6.166096210479736}, {\"month\": 7, \"store_nbr\": 17, \"unit_sales\": 8.159001350402832}, {\"month\": 7, \"store_nbr\": 18, \"unit_sales\": 5.674479007720947}, {\"month\": 7, \"store_nbr\": 19, \"unit_sales\": 6.503150939941406}, {\"month\": 7, \"store_nbr\": 20, \"unit_sales\": 7.811123371124268}, {\"month\": 7, \"store_nbr\": 21, \"unit_sales\": 7.193314552307129}, {\"month\": 7, \"store_nbr\": 22, \"unit_sales\": 4.49752950668335}, {\"month\": 7, \"store_nbr\": 23, \"unit_sales\": 4.767423629760742}, {\"month\": 7, \"store_nbr\": 24, \"unit_sales\": 8.476836204528809}, {\"month\": 7, \"store_nbr\": 25, \"unit_sales\": 4.764893531799316}, {\"month\": 7, \"store_nbr\": 26, \"unit_sales\": 4.148301124572754}, {\"month\": 7, \"store_nbr\": 27, \"unit_sales\": 7.57659387588501}, {\"month\": 7, \"store_nbr\": 28, \"unit_sales\": 7.7852349281311035}, {\"month\": 7, \"store_nbr\": 29, \"unit_sales\": 6.516125679016113}, {\"month\": 7, \"store_nbr\": 30, \"unit_sales\": 4.809843063354492}, {\"month\": 7, \"store_nbr\": 31, \"unit_sales\": 7.559289932250977}, {\"month\": 7, \"store_nbr\": 32, \"unit_sales\": 4.291351318359375}, {\"month\": 7, \"store_nbr\": 33, \"unit_sales\": 7.338665962219238}, {\"month\": 7, \"store_nbr\": 34, \"unit_sales\": 7.069753646850586}, {\"month\": 7, \"store_nbr\": 35, \"unit_sales\": 5.180243015289307}, {\"month\": 7, \"store_nbr\": 36, \"unit_sales\": 6.6363043785095215}, {\"month\": 7, \"store_nbr\": 37, \"unit_sales\": 7.287095069885254}, {\"month\": 7, \"store_nbr\": 38, \"unit_sales\": 6.922824382781982}, {\"month\": 7, \"store_nbr\": 39, \"unit_sales\": 7.72852897644043}, {\"month\": 7, \"store_nbr\": 40, \"unit_sales\": 9.157700538635254}, {\"month\": 7, \"store_nbr\": 41, \"unit_sales\": 6.185384273529053}, {\"month\": 7, \"store_nbr\": 42, \"unit_sales\": 6.092076778411865}, {\"month\": 7, \"store_nbr\": 43, \"unit_sales\": 8.774613380432129}, {\"month\": 7, \"store_nbr\": 44, \"unit_sales\": 17.113000869750977}, {\"month\": 7, \"store_nbr\": 45, \"unit_sales\": 15.401005744934082}, {\"month\": 7, \"store_nbr\": 46, \"unit_sales\": 11.937658309936523}, {\"month\": 7, \"store_nbr\": 47, \"unit_sales\": 14.149003982543945}, {\"month\": 7, \"store_nbr\": 48, \"unit_sales\": 10.572626113891602}, {\"month\": 7, \"store_nbr\": 49, \"unit_sales\": 12.357070922851562}, {\"month\": 7, \"store_nbr\": 50, \"unit_sales\": 8.720179557800293}, {\"month\": 7, \"store_nbr\": 51, \"unit_sales\": 11.599967956542969}, {\"month\": 7, \"store_nbr\": 52, \"unit_sales\": 9.44473648071289}, {\"month\": 7, \"store_nbr\": 53, \"unit_sales\": 6.23272180557251}, {\"month\": 7, \"store_nbr\": 54, \"unit_sales\": 6.9774017333984375}, {\"month\": 8, \"store_nbr\": 1, \"unit_sales\": 5.185756683349609}, {\"month\": 8, \"store_nbr\": 2, \"unit_sales\": 6.540773391723633}, {\"month\": 8, \"store_nbr\": 3, \"unit_sales\": 13.727039337158203}, {\"month\": 8, \"store_nbr\": 4, \"unit_sales\": 6.103862762451172}, {\"month\": 8, \"store_nbr\": 5, \"unit_sales\": 5.658796787261963}, {\"month\": 8, \"store_nbr\": 6, \"unit_sales\": 7.36287260055542}, {\"month\": 8, \"store_nbr\": 7, \"unit_sales\": 8.349085807800293}, {\"month\": 8, \"store_nbr\": 8, \"unit_sales\": 8.657210350036621}, {\"month\": 8, \"store_nbr\": 9, \"unit_sales\": 9.070380210876465}, {\"month\": 8, \"store_nbr\": 10, \"unit_sales\": 5.447136402130127}, {\"month\": 8, \"store_nbr\": 11, \"unit_sales\": 11.018064498901367}, {\"month\": 8, \"store_nbr\": 12, \"unit_sales\": 5.5393595695495605}, {\"month\": 8, \"store_nbr\": 13, \"unit_sales\": 5.84060001373291}, {\"month\": 8, \"store_nbr\": 14, \"unit_sales\": 5.924851417541504}, {\"month\": 8, \"store_nbr\": 15, \"unit_sales\": 5.881267547607422}, {\"month\": 8, \"store_nbr\": 16, \"unit_sales\": 5.872077465057373}, {\"month\": 8, \"store_nbr\": 17, \"unit_sales\": 7.964176654815674}, {\"month\": 8, \"store_nbr\": 18, \"unit_sales\": 5.54816198348999}, {\"month\": 8, \"store_nbr\": 19, \"unit_sales\": 6.638833522796631}, {\"month\": 8, \"store_nbr\": 20, \"unit_sales\": 7.309061050415039}, {\"month\": 8, \"store_nbr\": 21, \"unit_sales\": 7.467372417449951}, {\"month\": 8, \"store_nbr\": 22, \"unit_sales\": 4.391734600067139}, {\"month\": 8, \"store_nbr\": 23, \"unit_sales\": 4.5381598472595215}, {\"month\": 8, \"store_nbr\": 24, \"unit_sales\": 8.271897315979004}, {\"month\": 8, \"store_nbr\": 25, \"unit_sales\": 5.213486671447754}, {\"month\": 8, \"store_nbr\": 26, \"unit_sales\": 4.040449142456055}, {\"month\": 8, \"store_nbr\": 27, \"unit_sales\": 7.310834884643555}, {\"month\": 8, \"store_nbr\": 28, \"unit_sales\": 7.897017955780029}, {\"month\": 8, \"store_nbr\": 29, \"unit_sales\": 6.60391902923584}, {\"month\": 8, \"store_nbr\": 30, \"unit_sales\": 4.703261852264404}, {\"month\": 8, \"store_nbr\": 31, \"unit_sales\": 7.569821834564209}, {\"month\": 8, \"store_nbr\": 32, \"unit_sales\": 4.404935836791992}, {\"month\": 8, \"store_nbr\": 33, \"unit_sales\": 7.202287197113037}, {\"month\": 8, \"store_nbr\": 34, \"unit_sales\": 7.51792049407959}, {\"month\": 8, \"store_nbr\": 35, \"unit_sales\": 5.510702610015869}, {\"month\": 8, \"store_nbr\": 36, \"unit_sales\": 6.798437595367432}, {\"month\": 8, \"store_nbr\": 37, \"unit_sales\": 6.264092922210693}, {\"month\": 8, \"store_nbr\": 38, \"unit_sales\": 6.4337615966796875}, {\"month\": 8, \"store_nbr\": 39, \"unit_sales\": 7.094789505004883}, {\"month\": 8, \"store_nbr\": 40, \"unit_sales\": 9.17186164855957}, {\"month\": 8, \"store_nbr\": 41, \"unit_sales\": 5.846878528594971}, {\"month\": 8, \"store_nbr\": 42, \"unit_sales\": 5.62974739074707}, {\"month\": 8, \"store_nbr\": 43, \"unit_sales\": 8.963896751403809}, {\"month\": 8, \"store_nbr\": 44, \"unit_sales\": 16.490026473999023}, {\"month\": 8, \"store_nbr\": 45, \"unit_sales\": 14.635507583618164}, {\"month\": 8, \"store_nbr\": 46, \"unit_sales\": 11.389313697814941}, {\"month\": 8, \"store_nbr\": 47, \"unit_sales\": 13.334724426269531}, {\"month\": 8, \"store_nbr\": 48, \"unit_sales\": 10.190052032470703}, {\"month\": 8, \"store_nbr\": 49, \"unit_sales\": 11.815229415893555}, {\"month\": 8, \"store_nbr\": 50, \"unit_sales\": 8.368765830993652}, {\"month\": 8, \"store_nbr\": 51, \"unit_sales\": 10.949337005615234}, {\"month\": 8, \"store_nbr\": 52, \"unit_sales\": 9.260851860046387}, {\"month\": 8, \"store_nbr\": 53, \"unit_sales\": 5.752816677093506}, {\"month\": 8, \"store_nbr\": 54, \"unit_sales\": 7.029449462890625}, {\"month\": 9, \"store_nbr\": 1, \"unit_sales\": 5.606196880340576}, {\"month\": 9, \"store_nbr\": 2, \"unit_sales\": 7.389398574829102}, {\"month\": 9, \"store_nbr\": 3, \"unit_sales\": 15.636735916137695}, {\"month\": 9, \"store_nbr\": 4, \"unit_sales\": 6.996182918548584}, {\"month\": 9, \"store_nbr\": 5, \"unit_sales\": 5.701818466186523}, {\"month\": 9, \"store_nbr\": 6, \"unit_sales\": 8.360496520996094}, {\"month\": 9, \"store_nbr\": 7, \"unit_sales\": 9.956449508666992}, {\"month\": 9, \"store_nbr\": 8, \"unit_sales\": 9.703640937805176}, {\"month\": 9, \"store_nbr\": 9, \"unit_sales\": 9.825581550598145}, {\"month\": 9, \"store_nbr\": 10, \"unit_sales\": 5.67371940612793}, {\"month\": 9, \"store_nbr\": 11, \"unit_sales\": 10.954801559448242}, {\"month\": 9, \"store_nbr\": 12, \"unit_sales\": 5.841098308563232}, {\"month\": 9, \"store_nbr\": 13, \"unit_sales\": 6.028295516967773}, {\"month\": 9, \"store_nbr\": 14, \"unit_sales\": 6.352023124694824}, {\"month\": 9, \"store_nbr\": 15, \"unit_sales\": 6.201838493347168}, {\"month\": 9, \"store_nbr\": 16, \"unit_sales\": 6.16870641708374}, {\"month\": 9, \"store_nbr\": 17, \"unit_sales\": 8.676057815551758}, {\"month\": 9, \"store_nbr\": 18, \"unit_sales\": 6.761603832244873}, {\"month\": 9, \"store_nbr\": 19, \"unit_sales\": 6.991485595703125}, {\"month\": 9, \"store_nbr\": 20, \"unit_sales\": 7.577744960784912}, {\"month\": 9, \"store_nbr\": 21, \"unit_sales\": 6.818149566650391}, {\"month\": 9, \"store_nbr\": 22, \"unit_sales\": 4.169929027557373}, {\"month\": 9, \"store_nbr\": 23, \"unit_sales\": 4.94287633895874}, {\"month\": 9, \"store_nbr\": 24, \"unit_sales\": 8.484334945678711}, {\"month\": 9, \"store_nbr\": 25, \"unit_sales\": 4.233982563018799}, {\"month\": 9, \"store_nbr\": 26, \"unit_sales\": 3.975843906402588}, {\"month\": 9, \"store_nbr\": 27, \"unit_sales\": 7.229428291320801}, {\"month\": 9, \"store_nbr\": 28, \"unit_sales\": 7.667054653167725}, {\"month\": 9, \"store_nbr\": 29, \"unit_sales\": 6.581808567047119}, {\"month\": 9, \"store_nbr\": 30, \"unit_sales\": 4.618153095245361}, {\"month\": 9, \"store_nbr\": 31, \"unit_sales\": 7.286917686462402}, {\"month\": 9, \"store_nbr\": 32, \"unit_sales\": 4.404870510101318}, {\"month\": 9, \"store_nbr\": 33, \"unit_sales\": 7.407064437866211}, {\"month\": 9, \"store_nbr\": 34, \"unit_sales\": 7.489095211029053}, {\"month\": 9, \"store_nbr\": 35, \"unit_sales\": 5.349275588989258}, {\"month\": 9, \"store_nbr\": 36, \"unit_sales\": 7.2032647132873535}, {\"month\": 9, \"store_nbr\": 37, \"unit_sales\": 7.028964996337891}, {\"month\": 9, \"store_nbr\": 38, \"unit_sales\": 6.969526290893555}, {\"month\": 9, \"store_nbr\": 39, \"unit_sales\": 7.57161283493042}, {\"month\": 9, \"store_nbr\": 40, \"unit_sales\": 8.794219970703125}, {\"month\": 9, \"store_nbr\": 41, \"unit_sales\": 5.71998405456543}, {\"month\": 9, \"store_nbr\": 42, \"unit_sales\": 6.106851100921631}, {\"month\": 9, \"store_nbr\": 43, \"unit_sales\": 8.540214538574219}, {\"month\": 9, \"store_nbr\": 44, \"unit_sales\": 18.89430046081543}, {\"month\": 9, \"store_nbr\": 45, \"unit_sales\": 15.588589668273926}, {\"month\": 9, \"store_nbr\": 46, \"unit_sales\": 12.225168228149414}, {\"month\": 9, \"store_nbr\": 47, \"unit_sales\": 15.002081871032715}, {\"month\": 9, \"store_nbr\": 48, \"unit_sales\": 10.913613319396973}, {\"month\": 9, \"store_nbr\": 49, \"unit_sales\": 13.556307792663574}, {\"month\": 9, \"store_nbr\": 50, \"unit_sales\": 8.714378356933594}, {\"month\": 9, \"store_nbr\": 51, \"unit_sales\": 11.095587730407715}, {\"month\": 9, \"store_nbr\": 53, \"unit_sales\": 5.1102614402771}, {\"month\": 9, \"store_nbr\": 54, \"unit_sales\": 6.711531162261963}, {\"month\": 10, \"store_nbr\": 1, \"unit_sales\": 5.569385528564453}, {\"month\": 10, \"store_nbr\": 2, \"unit_sales\": 7.191519737243652}, {\"month\": 10, \"store_nbr\": 3, \"unit_sales\": 15.087569236755371}, {\"month\": 10, \"store_nbr\": 4, \"unit_sales\": 6.844964981079102}, {\"month\": 10, \"store_nbr\": 5, \"unit_sales\": 5.557827472686768}, {\"month\": 10, \"store_nbr\": 6, \"unit_sales\": 8.155655860900879}, {\"month\": 10, \"store_nbr\": 7, \"unit_sales\": 9.494843482971191}, {\"month\": 10, \"store_nbr\": 8, \"unit_sales\": 9.478519439697266}, {\"month\": 10, \"store_nbr\": 9, \"unit_sales\": 9.541315078735352}, {\"month\": 10, \"store_nbr\": 10, \"unit_sales\": 5.337278842926025}, {\"month\": 10, \"store_nbr\": 11, \"unit_sales\": 10.771525382995605}, {\"month\": 10, \"store_nbr\": 12, \"unit_sales\": 5.8526153564453125}, {\"month\": 10, \"store_nbr\": 13, \"unit_sales\": 5.904791355133057}, {\"month\": 10, \"store_nbr\": 14, \"unit_sales\": 6.212075710296631}, {\"month\": 10, \"store_nbr\": 15, \"unit_sales\": 5.908092975616455}, {\"month\": 10, \"store_nbr\": 16, \"unit_sales\": 5.8690409660339355}, {\"month\": 10, \"store_nbr\": 17, \"unit_sales\": 8.371289253234863}, {\"month\": 10, \"store_nbr\": 18, \"unit_sales\": 6.247509479522705}, {\"month\": 10, \"store_nbr\": 19, \"unit_sales\": 6.932005405426025}, {\"month\": 10, \"store_nbr\": 20, \"unit_sales\": 7.378262996673584}, {\"month\": 10, \"store_nbr\": 21, \"unit_sales\": 6.412590980529785}, {\"month\": 10, \"store_nbr\": 22, \"unit_sales\": 4.8279547691345215}, {\"month\": 10, \"store_nbr\": 23, \"unit_sales\": 4.939579486846924}, {\"month\": 10, \"store_nbr\": 24, \"unit_sales\": 8.22479248046875}, {\"month\": 10, \"store_nbr\": 25, \"unit_sales\": 5.259553909301758}, {\"month\": 10, \"store_nbr\": 26, \"unit_sales\": 3.8794655799865723}, {\"month\": 10, \"store_nbr\": 27, \"unit_sales\": 7.076315879821777}, {\"month\": 10, \"store_nbr\": 28, \"unit_sales\": 7.344363689422607}, {\"month\": 10, \"store_nbr\": 29, \"unit_sales\": 6.066755771636963}, {\"month\": 10, \"store_nbr\": 30, \"unit_sales\": 4.404585838317871}, {\"month\": 10, \"store_nbr\": 31, \"unit_sales\": 7.166119575500488}, {\"month\": 10, \"store_nbr\": 32, \"unit_sales\": 4.053798198699951}, {\"month\": 10, \"store_nbr\": 33, \"unit_sales\": 6.989593505859375}, {\"month\": 10, \"store_nbr\": 34, \"unit_sales\": 7.505839824676514}, {\"month\": 10, \"store_nbr\": 35, \"unit_sales\": 5.366641044616699}, {\"month\": 10, \"store_nbr\": 36, \"unit_sales\": 7.157596111297607}, {\"month\": 10, \"store_nbr\": 37, \"unit_sales\": 7.045989036560059}, {\"month\": 10, \"store_nbr\": 38, \"unit_sales\": 6.886150360107422}, {\"month\": 10, \"store_nbr\": 39, \"unit_sales\": 7.834316730499268}, {\"month\": 10, \"store_nbr\": 40, \"unit_sales\": 8.147329330444336}, {\"month\": 10, \"store_nbr\": 41, \"unit_sales\": 5.665326118469238}, {\"month\": 10, \"store_nbr\": 42, \"unit_sales\": 5.979226589202881}, {\"month\": 10, \"store_nbr\": 43, \"unit_sales\": 8.253490447998047}, {\"month\": 10, \"store_nbr\": 44, \"unit_sales\": 18.294830322265625}, {\"month\": 10, \"store_nbr\": 45, \"unit_sales\": 15.276111602783203}, {\"month\": 10, \"store_nbr\": 46, \"unit_sales\": 11.996917724609375}, {\"month\": 10, \"store_nbr\": 47, \"unit_sales\": 14.635514259338379}, {\"month\": 10, \"store_nbr\": 48, \"unit_sales\": 10.808300018310547}, {\"month\": 10, \"store_nbr\": 49, \"unit_sales\": 13.14758014678955}, {\"month\": 10, \"store_nbr\": 50, \"unit_sales\": 8.664653778076172}, {\"month\": 10, \"store_nbr\": 51, \"unit_sales\": 10.723822593688965}, {\"month\": 10, \"store_nbr\": 53, \"unit_sales\": 5.082768440246582}, {\"month\": 10, \"store_nbr\": 54, \"unit_sales\": 6.462381362915039}, {\"month\": 11, \"store_nbr\": 1, \"unit_sales\": 5.517735481262207}, {\"month\": 11, \"store_nbr\": 2, \"unit_sales\": 7.47092866897583}, {\"month\": 11, \"store_nbr\": 3, \"unit_sales\": 15.293638229370117}, {\"month\": 11, \"store_nbr\": 4, \"unit_sales\": 6.847301959991455}, {\"month\": 11, \"store_nbr\": 5, \"unit_sales\": 5.8009796142578125}, {\"month\": 11, \"store_nbr\": 6, \"unit_sales\": 8.279186248779297}, {\"month\": 11, \"store_nbr\": 7, \"unit_sales\": 9.601090431213379}, {\"month\": 11, \"store_nbr\": 8, \"unit_sales\": 9.595535278320312}, {\"month\": 11, \"store_nbr\": 9, \"unit_sales\": 9.457182884216309}, {\"month\": 11, \"store_nbr\": 10, \"unit_sales\": 5.354894638061523}, {\"month\": 11, \"store_nbr\": 11, \"unit_sales\": 10.82193660736084}, {\"month\": 11, \"store_nbr\": 12, \"unit_sales\": 5.819887161254883}, {\"month\": 11, \"store_nbr\": 13, \"unit_sales\": 5.959522247314453}, {\"month\": 11, \"store_nbr\": 14, \"unit_sales\": 6.2414870262146}, {\"month\": 11, \"store_nbr\": 15, \"unit_sales\": 5.763566017150879}, {\"month\": 11, \"store_nbr\": 16, \"unit_sales\": 5.8822126388549805}, {\"month\": 11, \"store_nbr\": 17, \"unit_sales\": 8.316676139831543}, {\"month\": 11, \"store_nbr\": 18, \"unit_sales\": 6.159963130950928}, {\"month\": 11, \"store_nbr\": 19, \"unit_sales\": 7.066591739654541}, {\"month\": 11, \"store_nbr\": 20, \"unit_sales\": 7.072952747344971}, {\"month\": 11, \"store_nbr\": 21, \"unit_sales\": 6.4742751121521}, {\"month\": 11, \"store_nbr\": 22, \"unit_sales\": 4.299327850341797}, {\"month\": 11, \"store_nbr\": 23, \"unit_sales\": 4.881475448608398}, {\"month\": 11, \"store_nbr\": 24, \"unit_sales\": 8.613517761230469}, {\"month\": 11, \"store_nbr\": 25, \"unit_sales\": 4.774042129516602}, {\"month\": 11, \"store_nbr\": 26, \"unit_sales\": 4.232987880706787}, {\"month\": 11, \"store_nbr\": 27, \"unit_sales\": 7.419344425201416}, {\"month\": 11, \"store_nbr\": 28, \"unit_sales\": 7.392519474029541}, {\"month\": 11, \"store_nbr\": 29, \"unit_sales\": 5.9678497314453125}, {\"month\": 11, \"store_nbr\": 30, \"unit_sales\": 4.459961414337158}, {\"month\": 11, \"store_nbr\": 31, \"unit_sales\": 7.239286422729492}, {\"month\": 11, \"store_nbr\": 32, \"unit_sales\": 4.111186981201172}, {\"month\": 11, \"store_nbr\": 33, \"unit_sales\": 7.154477119445801}, {\"month\": 11, \"store_nbr\": 34, \"unit_sales\": 7.146454811096191}, {\"month\": 11, \"store_nbr\": 35, \"unit_sales\": 5.398130893707275}, {\"month\": 11, \"store_nbr\": 36, \"unit_sales\": 6.316256523132324}, {\"month\": 11, \"store_nbr\": 37, \"unit_sales\": 7.179843425750732}, {\"month\": 11, \"store_nbr\": 38, \"unit_sales\": 7.072116374969482}, {\"month\": 11, \"store_nbr\": 39, \"unit_sales\": 7.511299133300781}, {\"month\": 11, \"store_nbr\": 40, \"unit_sales\": 8.436979293823242}, {\"month\": 11, \"store_nbr\": 41, \"unit_sales\": 6.1082234382629395}, {\"month\": 11, \"store_nbr\": 42, \"unit_sales\": 6.108221530914307}, {\"month\": 11, \"store_nbr\": 43, \"unit_sales\": 8.285589218139648}, {\"month\": 11, \"store_nbr\": 44, \"unit_sales\": 18.690147399902344}, {\"month\": 11, \"store_nbr\": 45, \"unit_sales\": 16.098831176757812}, {\"month\": 11, \"store_nbr\": 46, \"unit_sales\": 12.80296802520752}, {\"month\": 11, \"store_nbr\": 47, \"unit_sales\": 15.346409797668457}, {\"month\": 11, \"store_nbr\": 48, \"unit_sales\": 11.300963401794434}, {\"month\": 11, \"store_nbr\": 49, \"unit_sales\": 13.645267486572266}, {\"month\": 11, \"store_nbr\": 50, \"unit_sales\": 8.96475601196289}, {\"month\": 11, \"store_nbr\": 51, \"unit_sales\": 11.157936096191406}, {\"month\": 11, \"store_nbr\": 53, \"unit_sales\": 5.29949426651001}, {\"month\": 11, \"store_nbr\": 54, \"unit_sales\": 6.580361843109131}, {\"month\": 12, \"store_nbr\": 1, \"unit_sales\": 6.214060306549072}, {\"month\": 12, \"store_nbr\": 2, \"unit_sales\": 8.073936462402344}, {\"month\": 12, \"store_nbr\": 3, \"unit_sales\": 16.940370559692383}, {\"month\": 12, \"store_nbr\": 4, \"unit_sales\": 7.493821144104004}, {\"month\": 12, \"store_nbr\": 5, \"unit_sales\": 7.214626312255859}, {\"month\": 12, \"store_nbr\": 6, \"unit_sales\": 9.00959587097168}, {\"month\": 12, \"store_nbr\": 7, \"unit_sales\": 9.876784324645996}, {\"month\": 12, \"store_nbr\": 8, \"unit_sales\": 10.707353591918945}, {\"month\": 12, \"store_nbr\": 9, \"unit_sales\": 10.883891105651855}, {\"month\": 12, \"store_nbr\": 10, \"unit_sales\": 6.3281145095825195}, {\"month\": 12, \"store_nbr\": 11, \"unit_sales\": 12.5968599319458}, {\"month\": 12, \"store_nbr\": 12, \"unit_sales\": 6.387646198272705}, {\"month\": 12, \"store_nbr\": 13, \"unit_sales\": 6.750182628631592}, {\"month\": 12, \"store_nbr\": 14, \"unit_sales\": 7.049586296081543}, {\"month\": 12, \"store_nbr\": 15, \"unit_sales\": 6.28007698059082}, {\"month\": 12, \"store_nbr\": 16, \"unit_sales\": 6.450965404510498}, {\"month\": 12, \"store_nbr\": 17, \"unit_sales\": 8.66533374786377}, {\"month\": 12, \"store_nbr\": 18, \"unit_sales\": 6.449916362762451}, {\"month\": 12, \"store_nbr\": 19, \"unit_sales\": 8.01169490814209}, {\"month\": 12, \"store_nbr\": 20, \"unit_sales\": 8.012136459350586}, {\"month\": 12, \"store_nbr\": 21, \"unit_sales\": 7.302708148956299}, {\"month\": 12, \"store_nbr\": 22, \"unit_sales\": 4.742779731750488}, {\"month\": 12, \"store_nbr\": 23, \"unit_sales\": 5.59470272064209}, {\"month\": 12, \"store_nbr\": 24, \"unit_sales\": 10.573667526245117}, {\"month\": 12, \"store_nbr\": 25, \"unit_sales\": 7.484219074249268}, {\"month\": 12, \"store_nbr\": 26, \"unit_sales\": 6.74007511138916}, {\"month\": 12, \"store_nbr\": 27, \"unit_sales\": 7.771376132965088}, {\"month\": 12, \"store_nbr\": 28, \"unit_sales\": 8.58741283416748}, {\"month\": 12, \"store_nbr\": 29, \"unit_sales\": 7.131372451782227}, {\"month\": 12, \"store_nbr\": 30, \"unit_sales\": 5.397603988647461}, {\"month\": 12, \"store_nbr\": 31, \"unit_sales\": 9.713447570800781}, {\"month\": 12, \"store_nbr\": 32, \"unit_sales\": 4.785295009613037}, {\"month\": 12, \"store_nbr\": 33, \"unit_sales\": 8.791031837463379}, {\"month\": 12, \"store_nbr\": 34, \"unit_sales\": 8.840997695922852}, {\"month\": 12, \"store_nbr\": 35, \"unit_sales\": 6.939115524291992}, {\"month\": 12, \"store_nbr\": 36, \"unit_sales\": 7.880312919616699}, {\"month\": 12, \"store_nbr\": 37, \"unit_sales\": 8.027286529541016}, {\"month\": 12, \"store_nbr\": 38, \"unit_sales\": 8.366547584533691}, {\"month\": 12, \"store_nbr\": 39, \"unit_sales\": 8.376554489135742}, {\"month\": 12, \"store_nbr\": 40, \"unit_sales\": 9.726256370544434}, {\"month\": 12, \"store_nbr\": 41, \"unit_sales\": 7.439614772796631}, {\"month\": 12, \"store_nbr\": 42, \"unit_sales\": 6.616261005401611}, {\"month\": 12, \"store_nbr\": 43, \"unit_sales\": 9.372072219848633}, {\"month\": 12, \"store_nbr\": 44, \"unit_sales\": 20.310361862182617}, {\"month\": 12, \"store_nbr\": 45, \"unit_sales\": 18.396997451782227}, {\"month\": 12, \"store_nbr\": 46, \"unit_sales\": 15.157999992370605}, {\"month\": 12, \"store_nbr\": 47, \"unit_sales\": 17.188806533813477}, {\"month\": 12, \"store_nbr\": 48, \"unit_sales\": 13.71130657196045}, {\"month\": 12, \"store_nbr\": 49, \"unit_sales\": 15.736504554748535}, {\"month\": 12, \"store_nbr\": 50, \"unit_sales\": 11.161271095275879}, {\"month\": 12, \"store_nbr\": 51, \"unit_sales\": 13.065348625183105}, {\"month\": 12, \"store_nbr\": 53, \"unit_sales\": 6.704576015472412}, {\"month\": 12, \"store_nbr\": 54, \"unit_sales\": 7.180300235748291}]}}, {\"mode\": \"vega-lite\"});\n",
       "</script>"
      ],
      "text/plain": [
       "alt.Chart(...)"
      ]
     },
     "metadata": {},
     "output_type": "display_data"
    }
   ],
   "source": [
    "df_0 =f_get_data(0)\n",
    "agg = df_0.groupby([\"month\", \"store_nbr\"]).agg({\"unit_sales\": \"mean\"}).reset_index()\n",
    " \n",
    "# Set the row limit to a higher value\n",
    "alt.data_transformers.disable_max_rows()\n",
    " \n",
    "# Create the line plot\n",
    "line_chart = (\n",
    "    alt.Chart(agg)\n",
    "    .mark_line()\n",
    "    .encode(\n",
    "        x=\"month:O\",\n",
    "        y=\"unit_sales:Q\",\n",
    "        color=\"store_nbr:N\",\n",
    "        tooltip=[\"month\", \"store_nbr\", \"unit_sales\"],\n",
    "    )\n",
    "    .properties(title=\"Average Sales by Date and Store number\", width=1200, height=600)\n",
    "    .interactive()\n",
    ")\n",
    " \n",
    "# Display the plot\n",
    "line_chart.show()"
   ]
  }
 ],
 "metadata": {
  "colab": {
   "authorship_tag": "ABX9TyP1XEh6OeJMgPK4tWBSiOU8",
   "collapsed_sections": [],
   "mount_file_id": "1tas4gpn15avV6RH91pDuPfl4mfnjqven",
   "name": "Copy of 2020 12 13 - EyeOn Supermarket - v1.ipynb",
   "provenance": [
    {
     "file_id": "1tas4gpn15avV6RH91pDuPfl4mfnjqven",
     "timestamp": 1608148229653
    }
   ],
   "toc_visible": true
  },
  "kernelspec": {
   "display_name": "Python 3",
   "language": "python",
   "name": "python3"
  },
  "language_info": {
   "codemirror_mode": {
    "name": "ipython",
    "version": 3
   },
   "file_extension": ".py",
   "mimetype": "text/x-python",
   "name": "python",
   "nbconvert_exporter": "python",
   "pygments_lexer": "ipython3",
   "version": "3.10.13"
  }
 },
 "nbformat": 4,
 "nbformat_minor": 1
}
